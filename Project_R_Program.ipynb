{
  "cells": [
    {
      "cell_type": "markdown",
      "metadata": {
        "id": "view-in-github",
        "colab_type": "text"
      },
      "source": [
        "<a href=\"https://colab.research.google.com/github/ManasviSBotre/R_Project--Iris-flower-species-exploration-/blob/main/Project_R_Program.ipynb\" target=\"_parent\"><img src=\"https://colab.research.google.com/assets/colab-badge.svg\" alt=\"Open In Colab\"/></a>"
      ]
    },
    {
      "cell_type": "code",
      "execution_count": null,
      "metadata": {
        "id": "PqOcbJ0H6Q37"
      },
      "outputs": [],
      "source": [
        "#Iris flower species exploration EDA and Visualization"
      ]
    },
    {
      "cell_type": "code",
      "execution_count": null,
      "metadata": {
        "colab": {
          "base_uri": "https://localhost:8080/"
        },
        "id": "oJu88lUyXiYU",
        "outputId": "b5eede72-1321-4eda-cc67-b61eedf74366"
      },
      "outputs": [
        {
          "name": "stderr",
          "output_type": "stream",
          "text": [
            "Installing package into ‘/usr/local/lib/R/site-library’\n",
            "(as ‘lib’ is unspecified)\n",
            "\n"
          ]
        }
      ],
      "source": [
        "install.packages(\"dplyr\")"
      ]
    },
    {
      "cell_type": "code",
      "execution_count": null,
      "metadata": {
        "colab": {
          "base_uri": "https://localhost:8080/"
        },
        "id": "Os5sbTadXt95",
        "outputId": "9edb8313-6d46-4c8e-cd68-cc41257b4a7b"
      },
      "outputs": [
        {
          "name": "stderr",
          "output_type": "stream",
          "text": [
            "\n",
            "Attaching package: ‘dplyr’\n",
            "\n",
            "\n",
            "The following objects are masked from ‘package:stats’:\n",
            "\n",
            "    filter, lag\n",
            "\n",
            "\n",
            "The following objects are masked from ‘package:base’:\n",
            "\n",
            "    intersect, setdiff, setequal, union\n",
            "\n",
            "\n"
          ]
        }
      ],
      "source": [
        "library(dplyr)"
      ]
    },
    {
      "cell_type": "code",
      "execution_count": null,
      "metadata": {
        "colab": {
          "background_save": true,
          "base_uri": "https://localhost:8080/"
        },
        "id": "Wfb8ufFC9qbA",
        "outputId": "782dec3b-e32f-4e6a-d073-02c09972a462"
      },
      "outputs": [
        {
          "name": "stderr",
          "output_type": "stream",
          "text": [
            "Installing package into ‘/usr/local/lib/R/site-library’\n",
            "(as ‘lib’ is unspecified)\n",
            "\n",
            "Installing package into ‘/usr/local/lib/R/site-library’\n",
            "(as ‘lib’ is unspecified)\n",
            "\n",
            "Installing package into ‘/usr/local/lib/R/site-library’\n",
            "(as ‘lib’ is unspecified)\n",
            "\n",
            "Installing package into ‘/usr/local/lib/R/site-library’\n",
            "(as ‘lib’ is unspecified)\n",
            "\n"
          ]
        }
      ],
      "source": [
        "install.packages(\"ggplot2\")\n",
        "install.packages(\"ISLR\")\n",
        "install.packages(\"ggplot2\")\n",
        "install.packages(\"ISLR\")\n",
        "#installing All Require packages"
      ]
    },
    {
      "cell_type": "code",
      "execution_count": null,
      "metadata": {
        "colab": {
          "base_uri": "https://localhost:8080/",
          "height": 1000
        },
        "id": "deR5vNP2XuA5",
        "outputId": "985c8044-0c6c-400e-cff8-8b66f14aacab"
      },
      "outputs": [
        {
          "data": {
            "text/html": [
              "<table class=\"dataframe\">\n",
              "<caption>A data.frame: 150 × 6</caption>\n",
              "<thead>\n",
              "\t<tr><th scope=col>Id</th><th scope=col>SepalLengthCm</th><th scope=col>SepalWidthCm</th><th scope=col>PetalLengthCm</th><th scope=col>PetalWidthCm</th><th scope=col>Species</th></tr>\n",
              "\t<tr><th scope=col>&lt;int&gt;</th><th scope=col>&lt;dbl&gt;</th><th scope=col>&lt;dbl&gt;</th><th scope=col>&lt;dbl&gt;</th><th scope=col>&lt;dbl&gt;</th><th scope=col>&lt;chr&gt;</th></tr>\n",
              "</thead>\n",
              "<tbody>\n",
              "\t<tr><td> 1</td><td>5.1</td><td>3.5</td><td>1.4</td><td>0.2</td><td>Iris-setosa</td></tr>\n",
              "\t<tr><td> 2</td><td>4.9</td><td>3.0</td><td>1.4</td><td>0.2</td><td>Iris-setosa</td></tr>\n",
              "\t<tr><td> 3</td><td>4.7</td><td>3.2</td><td>1.3</td><td>0.2</td><td>Iris-setosa</td></tr>\n",
              "\t<tr><td> 4</td><td>4.6</td><td>3.1</td><td>1.5</td><td>0.2</td><td>Iris-setosa</td></tr>\n",
              "\t<tr><td> 5</td><td>5.0</td><td>3.6</td><td>1.4</td><td>0.2</td><td>Iris-setosa</td></tr>\n",
              "\t<tr><td> 6</td><td>5.4</td><td>3.9</td><td>1.7</td><td>0.4</td><td>Iris-setosa</td></tr>\n",
              "\t<tr><td> 7</td><td>4.6</td><td>3.4</td><td>1.4</td><td>0.3</td><td>Iris-setosa</td></tr>\n",
              "\t<tr><td> 8</td><td>5.0</td><td>3.4</td><td>1.5</td><td>0.2</td><td>Iris-setosa</td></tr>\n",
              "\t<tr><td> 9</td><td>4.4</td><td>2.9</td><td>1.4</td><td>0.2</td><td>Iris-setosa</td></tr>\n",
              "\t<tr><td>10</td><td>4.9</td><td>3.1</td><td>1.5</td><td>0.1</td><td>Iris-setosa</td></tr>\n",
              "\t<tr><td>11</td><td>5.4</td><td>3.7</td><td>1.5</td><td>0.2</td><td>Iris-setosa</td></tr>\n",
              "\t<tr><td>12</td><td>4.8</td><td>3.4</td><td>1.6</td><td>0.2</td><td>Iris-setosa</td></tr>\n",
              "\t<tr><td>13</td><td>4.8</td><td>3.0</td><td>1.4</td><td>0.1</td><td>Iris-setosa</td></tr>\n",
              "\t<tr><td>14</td><td>4.3</td><td>3.0</td><td>1.1</td><td>0.1</td><td>Iris-setosa</td></tr>\n",
              "\t<tr><td>15</td><td>5.8</td><td>4.0</td><td>1.2</td><td>0.2</td><td>Iris-setosa</td></tr>\n",
              "\t<tr><td>16</td><td>5.7</td><td>4.4</td><td>1.5</td><td>0.4</td><td>Iris-setosa</td></tr>\n",
              "\t<tr><td>17</td><td>5.4</td><td>3.9</td><td>1.3</td><td>0.4</td><td>Iris-setosa</td></tr>\n",
              "\t<tr><td>18</td><td>5.1</td><td>3.5</td><td>1.4</td><td>0.3</td><td>Iris-setosa</td></tr>\n",
              "\t<tr><td>19</td><td>5.7</td><td>3.8</td><td>1.7</td><td>0.3</td><td>Iris-setosa</td></tr>\n",
              "\t<tr><td>20</td><td>5.1</td><td>3.8</td><td>1.5</td><td>0.3</td><td>Iris-setosa</td></tr>\n",
              "\t<tr><td>21</td><td>5.4</td><td>3.4</td><td>1.7</td><td>0.2</td><td>Iris-setosa</td></tr>\n",
              "\t<tr><td>22</td><td>5.1</td><td>3.7</td><td>1.5</td><td>0.4</td><td>Iris-setosa</td></tr>\n",
              "\t<tr><td>23</td><td>4.6</td><td>3.6</td><td>1.0</td><td>0.2</td><td>Iris-setosa</td></tr>\n",
              "\t<tr><td>24</td><td>5.1</td><td>3.3</td><td>1.7</td><td>0.5</td><td>Iris-setosa</td></tr>\n",
              "\t<tr><td>25</td><td>4.8</td><td>3.4</td><td>1.9</td><td>0.2</td><td>Iris-setosa</td></tr>\n",
              "\t<tr><td>26</td><td>5.0</td><td>3.0</td><td>1.6</td><td>0.2</td><td>Iris-setosa</td></tr>\n",
              "\t<tr><td>27</td><td>5.0</td><td>3.4</td><td>1.6</td><td>0.4</td><td>Iris-setosa</td></tr>\n",
              "\t<tr><td>28</td><td>5.2</td><td>3.5</td><td>1.5</td><td>0.2</td><td>Iris-setosa</td></tr>\n",
              "\t<tr><td>29</td><td>5.2</td><td>3.4</td><td>1.4</td><td>0.2</td><td>Iris-setosa</td></tr>\n",
              "\t<tr><td>30</td><td>4.7</td><td>3.2</td><td>1.6</td><td>0.2</td><td>Iris-setosa</td></tr>\n",
              "\t<tr><td>⋮</td><td>⋮</td><td>⋮</td><td>⋮</td><td>⋮</td><td>⋮</td></tr>\n",
              "\t<tr><td>121</td><td>6.9</td><td>3.2</td><td>5.7</td><td>2.3</td><td>Iris-virginica</td></tr>\n",
              "\t<tr><td>122</td><td>5.6</td><td>2.8</td><td>4.9</td><td>2.0</td><td>Iris-virginica</td></tr>\n",
              "\t<tr><td>123</td><td>7.7</td><td>2.8</td><td>6.7</td><td>2.0</td><td>Iris-virginica</td></tr>\n",
              "\t<tr><td>124</td><td>6.3</td><td>2.7</td><td>4.9</td><td>1.8</td><td>Iris-virginica</td></tr>\n",
              "\t<tr><td>125</td><td>6.7</td><td>3.3</td><td>5.7</td><td>2.1</td><td>Iris-virginica</td></tr>\n",
              "\t<tr><td>126</td><td>7.2</td><td>3.2</td><td>6.0</td><td>1.8</td><td>Iris-virginica</td></tr>\n",
              "\t<tr><td>127</td><td>6.2</td><td>2.8</td><td>4.8</td><td>1.8</td><td>Iris-virginica</td></tr>\n",
              "\t<tr><td>128</td><td>6.1</td><td>3.0</td><td>4.9</td><td>1.8</td><td>Iris-virginica</td></tr>\n",
              "\t<tr><td>129</td><td>6.4</td><td>2.8</td><td>5.6</td><td>2.1</td><td>Iris-virginica</td></tr>\n",
              "\t<tr><td>130</td><td>7.2</td><td>3.0</td><td>5.8</td><td>1.6</td><td>Iris-virginica</td></tr>\n",
              "\t<tr><td>131</td><td>7.4</td><td>2.8</td><td>6.1</td><td>1.9</td><td>Iris-virginica</td></tr>\n",
              "\t<tr><td>132</td><td>7.9</td><td>3.8</td><td>6.4</td><td>2.0</td><td>Iris-virginica</td></tr>\n",
              "\t<tr><td>133</td><td>6.4</td><td>2.8</td><td>5.6</td><td>2.2</td><td>Iris-virginica</td></tr>\n",
              "\t<tr><td>134</td><td>6.3</td><td>2.8</td><td>5.1</td><td>1.5</td><td>Iris-virginica</td></tr>\n",
              "\t<tr><td>135</td><td>6.1</td><td>2.6</td><td>5.6</td><td>1.4</td><td>Iris-virginica</td></tr>\n",
              "\t<tr><td>136</td><td>7.7</td><td>3.0</td><td>6.1</td><td>2.3</td><td>Iris-virginica</td></tr>\n",
              "\t<tr><td>137</td><td>6.3</td><td>3.4</td><td>5.6</td><td>2.4</td><td>Iris-virginica</td></tr>\n",
              "\t<tr><td>138</td><td>6.4</td><td>3.1</td><td>5.5</td><td>1.8</td><td>Iris-virginica</td></tr>\n",
              "\t<tr><td>139</td><td>6.0</td><td>3.0</td><td>4.8</td><td>1.8</td><td>Iris-virginica</td></tr>\n",
              "\t<tr><td>140</td><td>6.9</td><td>3.1</td><td>5.4</td><td>2.1</td><td>Iris-virginica</td></tr>\n",
              "\t<tr><td>141</td><td>6.7</td><td>3.1</td><td>5.6</td><td>2.4</td><td>Iris-virginica</td></tr>\n",
              "\t<tr><td>142</td><td>6.9</td><td>3.1</td><td>5.1</td><td>2.3</td><td>Iris-virginica</td></tr>\n",
              "\t<tr><td>143</td><td>5.8</td><td>2.7</td><td>5.1</td><td>1.9</td><td>Iris-virginica</td></tr>\n",
              "\t<tr><td>144</td><td>6.8</td><td>3.2</td><td>5.9</td><td>2.3</td><td>Iris-virginica</td></tr>\n",
              "\t<tr><td>145</td><td>6.7</td><td>3.3</td><td>5.7</td><td>2.5</td><td>Iris-virginica</td></tr>\n",
              "\t<tr><td>146</td><td>6.7</td><td>3.0</td><td>5.2</td><td>2.3</td><td>Iris-virginica</td></tr>\n",
              "\t<tr><td>147</td><td>6.3</td><td>2.5</td><td>5.0</td><td>1.9</td><td>Iris-virginica</td></tr>\n",
              "\t<tr><td>148</td><td>6.5</td><td>3.0</td><td>5.2</td><td>2.0</td><td>Iris-virginica</td></tr>\n",
              "\t<tr><td>149</td><td>6.2</td><td>3.4</td><td>5.4</td><td>2.3</td><td>Iris-virginica</td></tr>\n",
              "\t<tr><td>150</td><td>5.9</td><td>3.0</td><td>5.1</td><td>1.8</td><td>Iris-virginica</td></tr>\n",
              "</tbody>\n",
              "</table>\n"
            ],
            "text/latex": "A data.frame: 150 × 6\n\\begin{tabular}{llllll}\n Id & SepalLengthCm & SepalWidthCm & PetalLengthCm & PetalWidthCm & Species\\\\\n <int> & <dbl> & <dbl> & <dbl> & <dbl> & <chr>\\\\\n\\hline\n\t  1 & 5.1 & 3.5 & 1.4 & 0.2 & Iris-setosa\\\\\n\t  2 & 4.9 & 3.0 & 1.4 & 0.2 & Iris-setosa\\\\\n\t  3 & 4.7 & 3.2 & 1.3 & 0.2 & Iris-setosa\\\\\n\t  4 & 4.6 & 3.1 & 1.5 & 0.2 & Iris-setosa\\\\\n\t  5 & 5.0 & 3.6 & 1.4 & 0.2 & Iris-setosa\\\\\n\t  6 & 5.4 & 3.9 & 1.7 & 0.4 & Iris-setosa\\\\\n\t  7 & 4.6 & 3.4 & 1.4 & 0.3 & Iris-setosa\\\\\n\t  8 & 5.0 & 3.4 & 1.5 & 0.2 & Iris-setosa\\\\\n\t  9 & 4.4 & 2.9 & 1.4 & 0.2 & Iris-setosa\\\\\n\t 10 & 4.9 & 3.1 & 1.5 & 0.1 & Iris-setosa\\\\\n\t 11 & 5.4 & 3.7 & 1.5 & 0.2 & Iris-setosa\\\\\n\t 12 & 4.8 & 3.4 & 1.6 & 0.2 & Iris-setosa\\\\\n\t 13 & 4.8 & 3.0 & 1.4 & 0.1 & Iris-setosa\\\\\n\t 14 & 4.3 & 3.0 & 1.1 & 0.1 & Iris-setosa\\\\\n\t 15 & 5.8 & 4.0 & 1.2 & 0.2 & Iris-setosa\\\\\n\t 16 & 5.7 & 4.4 & 1.5 & 0.4 & Iris-setosa\\\\\n\t 17 & 5.4 & 3.9 & 1.3 & 0.4 & Iris-setosa\\\\\n\t 18 & 5.1 & 3.5 & 1.4 & 0.3 & Iris-setosa\\\\\n\t 19 & 5.7 & 3.8 & 1.7 & 0.3 & Iris-setosa\\\\\n\t 20 & 5.1 & 3.8 & 1.5 & 0.3 & Iris-setosa\\\\\n\t 21 & 5.4 & 3.4 & 1.7 & 0.2 & Iris-setosa\\\\\n\t 22 & 5.1 & 3.7 & 1.5 & 0.4 & Iris-setosa\\\\\n\t 23 & 4.6 & 3.6 & 1.0 & 0.2 & Iris-setosa\\\\\n\t 24 & 5.1 & 3.3 & 1.7 & 0.5 & Iris-setosa\\\\\n\t 25 & 4.8 & 3.4 & 1.9 & 0.2 & Iris-setosa\\\\\n\t 26 & 5.0 & 3.0 & 1.6 & 0.2 & Iris-setosa\\\\\n\t 27 & 5.0 & 3.4 & 1.6 & 0.4 & Iris-setosa\\\\\n\t 28 & 5.2 & 3.5 & 1.5 & 0.2 & Iris-setosa\\\\\n\t 29 & 5.2 & 3.4 & 1.4 & 0.2 & Iris-setosa\\\\\n\t 30 & 4.7 & 3.2 & 1.6 & 0.2 & Iris-setosa\\\\\n\t ⋮ & ⋮ & ⋮ & ⋮ & ⋮ & ⋮\\\\\n\t 121 & 6.9 & 3.2 & 5.7 & 2.3 & Iris-virginica\\\\\n\t 122 & 5.6 & 2.8 & 4.9 & 2.0 & Iris-virginica\\\\\n\t 123 & 7.7 & 2.8 & 6.7 & 2.0 & Iris-virginica\\\\\n\t 124 & 6.3 & 2.7 & 4.9 & 1.8 & Iris-virginica\\\\\n\t 125 & 6.7 & 3.3 & 5.7 & 2.1 & Iris-virginica\\\\\n\t 126 & 7.2 & 3.2 & 6.0 & 1.8 & Iris-virginica\\\\\n\t 127 & 6.2 & 2.8 & 4.8 & 1.8 & Iris-virginica\\\\\n\t 128 & 6.1 & 3.0 & 4.9 & 1.8 & Iris-virginica\\\\\n\t 129 & 6.4 & 2.8 & 5.6 & 2.1 & Iris-virginica\\\\\n\t 130 & 7.2 & 3.0 & 5.8 & 1.6 & Iris-virginica\\\\\n\t 131 & 7.4 & 2.8 & 6.1 & 1.9 & Iris-virginica\\\\\n\t 132 & 7.9 & 3.8 & 6.4 & 2.0 & Iris-virginica\\\\\n\t 133 & 6.4 & 2.8 & 5.6 & 2.2 & Iris-virginica\\\\\n\t 134 & 6.3 & 2.8 & 5.1 & 1.5 & Iris-virginica\\\\\n\t 135 & 6.1 & 2.6 & 5.6 & 1.4 & Iris-virginica\\\\\n\t 136 & 7.7 & 3.0 & 6.1 & 2.3 & Iris-virginica\\\\\n\t 137 & 6.3 & 3.4 & 5.6 & 2.4 & Iris-virginica\\\\\n\t 138 & 6.4 & 3.1 & 5.5 & 1.8 & Iris-virginica\\\\\n\t 139 & 6.0 & 3.0 & 4.8 & 1.8 & Iris-virginica\\\\\n\t 140 & 6.9 & 3.1 & 5.4 & 2.1 & Iris-virginica\\\\\n\t 141 & 6.7 & 3.1 & 5.6 & 2.4 & Iris-virginica\\\\\n\t 142 & 6.9 & 3.1 & 5.1 & 2.3 & Iris-virginica\\\\\n\t 143 & 5.8 & 2.7 & 5.1 & 1.9 & Iris-virginica\\\\\n\t 144 & 6.8 & 3.2 & 5.9 & 2.3 & Iris-virginica\\\\\n\t 145 & 6.7 & 3.3 & 5.7 & 2.5 & Iris-virginica\\\\\n\t 146 & 6.7 & 3.0 & 5.2 & 2.3 & Iris-virginica\\\\\n\t 147 & 6.3 & 2.5 & 5.0 & 1.9 & Iris-virginica\\\\\n\t 148 & 6.5 & 3.0 & 5.2 & 2.0 & Iris-virginica\\\\\n\t 149 & 6.2 & 3.4 & 5.4 & 2.3 & Iris-virginica\\\\\n\t 150 & 5.9 & 3.0 & 5.1 & 1.8 & Iris-virginica\\\\\n\\end{tabular}\n",
            "text/markdown": "\nA data.frame: 150 × 6\n\n| Id &lt;int&gt; | SepalLengthCm &lt;dbl&gt; | SepalWidthCm &lt;dbl&gt; | PetalLengthCm &lt;dbl&gt; | PetalWidthCm &lt;dbl&gt; | Species &lt;chr&gt; |\n|---|---|---|---|---|---|\n|  1 | 5.1 | 3.5 | 1.4 | 0.2 | Iris-setosa |\n|  2 | 4.9 | 3.0 | 1.4 | 0.2 | Iris-setosa |\n|  3 | 4.7 | 3.2 | 1.3 | 0.2 | Iris-setosa |\n|  4 | 4.6 | 3.1 | 1.5 | 0.2 | Iris-setosa |\n|  5 | 5.0 | 3.6 | 1.4 | 0.2 | Iris-setosa |\n|  6 | 5.4 | 3.9 | 1.7 | 0.4 | Iris-setosa |\n|  7 | 4.6 | 3.4 | 1.4 | 0.3 | Iris-setosa |\n|  8 | 5.0 | 3.4 | 1.5 | 0.2 | Iris-setosa |\n|  9 | 4.4 | 2.9 | 1.4 | 0.2 | Iris-setosa |\n| 10 | 4.9 | 3.1 | 1.5 | 0.1 | Iris-setosa |\n| 11 | 5.4 | 3.7 | 1.5 | 0.2 | Iris-setosa |\n| 12 | 4.8 | 3.4 | 1.6 | 0.2 | Iris-setosa |\n| 13 | 4.8 | 3.0 | 1.4 | 0.1 | Iris-setosa |\n| 14 | 4.3 | 3.0 | 1.1 | 0.1 | Iris-setosa |\n| 15 | 5.8 | 4.0 | 1.2 | 0.2 | Iris-setosa |\n| 16 | 5.7 | 4.4 | 1.5 | 0.4 | Iris-setosa |\n| 17 | 5.4 | 3.9 | 1.3 | 0.4 | Iris-setosa |\n| 18 | 5.1 | 3.5 | 1.4 | 0.3 | Iris-setosa |\n| 19 | 5.7 | 3.8 | 1.7 | 0.3 | Iris-setosa |\n| 20 | 5.1 | 3.8 | 1.5 | 0.3 | Iris-setosa |\n| 21 | 5.4 | 3.4 | 1.7 | 0.2 | Iris-setosa |\n| 22 | 5.1 | 3.7 | 1.5 | 0.4 | Iris-setosa |\n| 23 | 4.6 | 3.6 | 1.0 | 0.2 | Iris-setosa |\n| 24 | 5.1 | 3.3 | 1.7 | 0.5 | Iris-setosa |\n| 25 | 4.8 | 3.4 | 1.9 | 0.2 | Iris-setosa |\n| 26 | 5.0 | 3.0 | 1.6 | 0.2 | Iris-setosa |\n| 27 | 5.0 | 3.4 | 1.6 | 0.4 | Iris-setosa |\n| 28 | 5.2 | 3.5 | 1.5 | 0.2 | Iris-setosa |\n| 29 | 5.2 | 3.4 | 1.4 | 0.2 | Iris-setosa |\n| 30 | 4.7 | 3.2 | 1.6 | 0.2 | Iris-setosa |\n| ⋮ | ⋮ | ⋮ | ⋮ | ⋮ | ⋮ |\n| 121 | 6.9 | 3.2 | 5.7 | 2.3 | Iris-virginica |\n| 122 | 5.6 | 2.8 | 4.9 | 2.0 | Iris-virginica |\n| 123 | 7.7 | 2.8 | 6.7 | 2.0 | Iris-virginica |\n| 124 | 6.3 | 2.7 | 4.9 | 1.8 | Iris-virginica |\n| 125 | 6.7 | 3.3 | 5.7 | 2.1 | Iris-virginica |\n| 126 | 7.2 | 3.2 | 6.0 | 1.8 | Iris-virginica |\n| 127 | 6.2 | 2.8 | 4.8 | 1.8 | Iris-virginica |\n| 128 | 6.1 | 3.0 | 4.9 | 1.8 | Iris-virginica |\n| 129 | 6.4 | 2.8 | 5.6 | 2.1 | Iris-virginica |\n| 130 | 7.2 | 3.0 | 5.8 | 1.6 | Iris-virginica |\n| 131 | 7.4 | 2.8 | 6.1 | 1.9 | Iris-virginica |\n| 132 | 7.9 | 3.8 | 6.4 | 2.0 | Iris-virginica |\n| 133 | 6.4 | 2.8 | 5.6 | 2.2 | Iris-virginica |\n| 134 | 6.3 | 2.8 | 5.1 | 1.5 | Iris-virginica |\n| 135 | 6.1 | 2.6 | 5.6 | 1.4 | Iris-virginica |\n| 136 | 7.7 | 3.0 | 6.1 | 2.3 | Iris-virginica |\n| 137 | 6.3 | 3.4 | 5.6 | 2.4 | Iris-virginica |\n| 138 | 6.4 | 3.1 | 5.5 | 1.8 | Iris-virginica |\n| 139 | 6.0 | 3.0 | 4.8 | 1.8 | Iris-virginica |\n| 140 | 6.9 | 3.1 | 5.4 | 2.1 | Iris-virginica |\n| 141 | 6.7 | 3.1 | 5.6 | 2.4 | Iris-virginica |\n| 142 | 6.9 | 3.1 | 5.1 | 2.3 | Iris-virginica |\n| 143 | 5.8 | 2.7 | 5.1 | 1.9 | Iris-virginica |\n| 144 | 6.8 | 3.2 | 5.9 | 2.3 | Iris-virginica |\n| 145 | 6.7 | 3.3 | 5.7 | 2.5 | Iris-virginica |\n| 146 | 6.7 | 3.0 | 5.2 | 2.3 | Iris-virginica |\n| 147 | 6.3 | 2.5 | 5.0 | 1.9 | Iris-virginica |\n| 148 | 6.5 | 3.0 | 5.2 | 2.0 | Iris-virginica |\n| 149 | 6.2 | 3.4 | 5.4 | 2.3 | Iris-virginica |\n| 150 | 5.9 | 3.0 | 5.1 | 1.8 | Iris-virginica |\n\n",
            "text/plain": [
              "    Id  SepalLengthCm SepalWidthCm PetalLengthCm PetalWidthCm Species       \n",
              "1    1  5.1           3.5          1.4           0.2          Iris-setosa   \n",
              "2    2  4.9           3.0          1.4           0.2          Iris-setosa   \n",
              "3    3  4.7           3.2          1.3           0.2          Iris-setosa   \n",
              "4    4  4.6           3.1          1.5           0.2          Iris-setosa   \n",
              "5    5  5.0           3.6          1.4           0.2          Iris-setosa   \n",
              "6    6  5.4           3.9          1.7           0.4          Iris-setosa   \n",
              "7    7  4.6           3.4          1.4           0.3          Iris-setosa   \n",
              "8    8  5.0           3.4          1.5           0.2          Iris-setosa   \n",
              "9    9  4.4           2.9          1.4           0.2          Iris-setosa   \n",
              "10  10  4.9           3.1          1.5           0.1          Iris-setosa   \n",
              "11  11  5.4           3.7          1.5           0.2          Iris-setosa   \n",
              "12  12  4.8           3.4          1.6           0.2          Iris-setosa   \n",
              "13  13  4.8           3.0          1.4           0.1          Iris-setosa   \n",
              "14  14  4.3           3.0          1.1           0.1          Iris-setosa   \n",
              "15  15  5.8           4.0          1.2           0.2          Iris-setosa   \n",
              "16  16  5.7           4.4          1.5           0.4          Iris-setosa   \n",
              "17  17  5.4           3.9          1.3           0.4          Iris-setosa   \n",
              "18  18  5.1           3.5          1.4           0.3          Iris-setosa   \n",
              "19  19  5.7           3.8          1.7           0.3          Iris-setosa   \n",
              "20  20  5.1           3.8          1.5           0.3          Iris-setosa   \n",
              "21  21  5.4           3.4          1.7           0.2          Iris-setosa   \n",
              "22  22  5.1           3.7          1.5           0.4          Iris-setosa   \n",
              "23  23  4.6           3.6          1.0           0.2          Iris-setosa   \n",
              "24  24  5.1           3.3          1.7           0.5          Iris-setosa   \n",
              "25  25  4.8           3.4          1.9           0.2          Iris-setosa   \n",
              "26  26  5.0           3.0          1.6           0.2          Iris-setosa   \n",
              "27  27  5.0           3.4          1.6           0.4          Iris-setosa   \n",
              "28  28  5.2           3.5          1.5           0.2          Iris-setosa   \n",
              "29  29  5.2           3.4          1.4           0.2          Iris-setosa   \n",
              "30  30  4.7           3.2          1.6           0.2          Iris-setosa   \n",
              "⋮   ⋮   ⋮             ⋮            ⋮             ⋮            ⋮             \n",
              "121 121 6.9           3.2          5.7           2.3          Iris-virginica\n",
              "122 122 5.6           2.8          4.9           2.0          Iris-virginica\n",
              "123 123 7.7           2.8          6.7           2.0          Iris-virginica\n",
              "124 124 6.3           2.7          4.9           1.8          Iris-virginica\n",
              "125 125 6.7           3.3          5.7           2.1          Iris-virginica\n",
              "126 126 7.2           3.2          6.0           1.8          Iris-virginica\n",
              "127 127 6.2           2.8          4.8           1.8          Iris-virginica\n",
              "128 128 6.1           3.0          4.9           1.8          Iris-virginica\n",
              "129 129 6.4           2.8          5.6           2.1          Iris-virginica\n",
              "130 130 7.2           3.0          5.8           1.6          Iris-virginica\n",
              "131 131 7.4           2.8          6.1           1.9          Iris-virginica\n",
              "132 132 7.9           3.8          6.4           2.0          Iris-virginica\n",
              "133 133 6.4           2.8          5.6           2.2          Iris-virginica\n",
              "134 134 6.3           2.8          5.1           1.5          Iris-virginica\n",
              "135 135 6.1           2.6          5.6           1.4          Iris-virginica\n",
              "136 136 7.7           3.0          6.1           2.3          Iris-virginica\n",
              "137 137 6.3           3.4          5.6           2.4          Iris-virginica\n",
              "138 138 6.4           3.1          5.5           1.8          Iris-virginica\n",
              "139 139 6.0           3.0          4.8           1.8          Iris-virginica\n",
              "140 140 6.9           3.1          5.4           2.1          Iris-virginica\n",
              "141 141 6.7           3.1          5.6           2.4          Iris-virginica\n",
              "142 142 6.9           3.1          5.1           2.3          Iris-virginica\n",
              "143 143 5.8           2.7          5.1           1.9          Iris-virginica\n",
              "144 144 6.8           3.2          5.9           2.3          Iris-virginica\n",
              "145 145 6.7           3.3          5.7           2.5          Iris-virginica\n",
              "146 146 6.7           3.0          5.2           2.3          Iris-virginica\n",
              "147 147 6.3           2.5          5.0           1.9          Iris-virginica\n",
              "148 148 6.5           3.0          5.2           2.0          Iris-virginica\n",
              "149 149 6.2           3.4          5.4           2.3          Iris-virginica\n",
              "150 150 5.9           3.0          5.1           1.8          Iris-virginica"
            ]
          },
          "metadata": {},
          "output_type": "display_data"
        }
      ],
      "source": [
        "df=read.csv(\"iris.csv\")\n",
        "df"
      ]
    },
    {
      "cell_type": "code",
      "execution_count": null,
      "metadata": {
        "colab": {
          "base_uri": "https://localhost:8080/",
          "height": 286
        },
        "id": "tcQW-bg6XuDx",
        "outputId": "9f3372c1-6c51-4ce5-9edc-b16710ce0e27"
      },
      "outputs": [
        {
          "data": {
            "text/html": [
              "<table class=\"dataframe\">\n",
              "<caption>A data.frame: 6 × 6</caption>\n",
              "<thead>\n",
              "\t<tr><th></th><th scope=col>Id</th><th scope=col>SepalLengthCm</th><th scope=col>SepalWidthCm</th><th scope=col>PetalLengthCm</th><th scope=col>PetalWidthCm</th><th scope=col>Species</th></tr>\n",
              "\t<tr><th></th><th scope=col>&lt;int&gt;</th><th scope=col>&lt;dbl&gt;</th><th scope=col>&lt;dbl&gt;</th><th scope=col>&lt;dbl&gt;</th><th scope=col>&lt;dbl&gt;</th><th scope=col>&lt;chr&gt;</th></tr>\n",
              "</thead>\n",
              "<tbody>\n",
              "\t<tr><th scope=row>1</th><td>1</td><td>5.1</td><td>3.5</td><td>1.4</td><td>0.2</td><td>Iris-setosa</td></tr>\n",
              "\t<tr><th scope=row>2</th><td>2</td><td>4.9</td><td>3.0</td><td>1.4</td><td>0.2</td><td>Iris-setosa</td></tr>\n",
              "\t<tr><th scope=row>3</th><td>3</td><td>4.7</td><td>3.2</td><td>1.3</td><td>0.2</td><td>Iris-setosa</td></tr>\n",
              "\t<tr><th scope=row>4</th><td>4</td><td>4.6</td><td>3.1</td><td>1.5</td><td>0.2</td><td>Iris-setosa</td></tr>\n",
              "\t<tr><th scope=row>5</th><td>5</td><td>5.0</td><td>3.6</td><td>1.4</td><td>0.2</td><td>Iris-setosa</td></tr>\n",
              "\t<tr><th scope=row>6</th><td>6</td><td>5.4</td><td>3.9</td><td>1.7</td><td>0.4</td><td>Iris-setosa</td></tr>\n",
              "</tbody>\n",
              "</table>\n"
            ],
            "text/latex": "A data.frame: 6 × 6\n\\begin{tabular}{r|llllll}\n  & Id & SepalLengthCm & SepalWidthCm & PetalLengthCm & PetalWidthCm & Species\\\\\n  & <int> & <dbl> & <dbl> & <dbl> & <dbl> & <chr>\\\\\n\\hline\n\t1 & 1 & 5.1 & 3.5 & 1.4 & 0.2 & Iris-setosa\\\\\n\t2 & 2 & 4.9 & 3.0 & 1.4 & 0.2 & Iris-setosa\\\\\n\t3 & 3 & 4.7 & 3.2 & 1.3 & 0.2 & Iris-setosa\\\\\n\t4 & 4 & 4.6 & 3.1 & 1.5 & 0.2 & Iris-setosa\\\\\n\t5 & 5 & 5.0 & 3.6 & 1.4 & 0.2 & Iris-setosa\\\\\n\t6 & 6 & 5.4 & 3.9 & 1.7 & 0.4 & Iris-setosa\\\\\n\\end{tabular}\n",
            "text/markdown": "\nA data.frame: 6 × 6\n\n| <!--/--> | Id &lt;int&gt; | SepalLengthCm &lt;dbl&gt; | SepalWidthCm &lt;dbl&gt; | PetalLengthCm &lt;dbl&gt; | PetalWidthCm &lt;dbl&gt; | Species &lt;chr&gt; |\n|---|---|---|---|---|---|---|\n| 1 | 1 | 5.1 | 3.5 | 1.4 | 0.2 | Iris-setosa |\n| 2 | 2 | 4.9 | 3.0 | 1.4 | 0.2 | Iris-setosa |\n| 3 | 3 | 4.7 | 3.2 | 1.3 | 0.2 | Iris-setosa |\n| 4 | 4 | 4.6 | 3.1 | 1.5 | 0.2 | Iris-setosa |\n| 5 | 5 | 5.0 | 3.6 | 1.4 | 0.2 | Iris-setosa |\n| 6 | 6 | 5.4 | 3.9 | 1.7 | 0.4 | Iris-setosa |\n\n",
            "text/plain": [
              "  Id SepalLengthCm SepalWidthCm PetalLengthCm PetalWidthCm Species    \n",
              "1 1  5.1           3.5          1.4           0.2          Iris-setosa\n",
              "2 2  4.9           3.0          1.4           0.2          Iris-setosa\n",
              "3 3  4.7           3.2          1.3           0.2          Iris-setosa\n",
              "4 4  4.6           3.1          1.5           0.2          Iris-setosa\n",
              "5 5  5.0           3.6          1.4           0.2          Iris-setosa\n",
              "6 6  5.4           3.9          1.7           0.4          Iris-setosa"
            ]
          },
          "metadata": {},
          "output_type": "display_data"
        }
      ],
      "source": [
        "head(df)"
      ]
    },
    {
      "cell_type": "code",
      "execution_count": null,
      "metadata": {
        "colab": {
          "base_uri": "https://localhost:8080/",
          "height": 411
        },
        "id": "XGHzg28T7JVD",
        "outputId": "850746a7-73b2-4604-c190-c647751878f9"
      },
      "outputs": [
        {
          "data": {
            "text/html": [
              "<table class=\"dataframe\">\n",
              "<caption>A data.frame: 10 × 6</caption>\n",
              "<thead>\n",
              "\t<tr><th></th><th scope=col>Id</th><th scope=col>SepalLengthCm</th><th scope=col>SepalWidthCm</th><th scope=col>PetalLengthCm</th><th scope=col>PetalWidthCm</th><th scope=col>Species</th></tr>\n",
              "\t<tr><th></th><th scope=col>&lt;int&gt;</th><th scope=col>&lt;dbl&gt;</th><th scope=col>&lt;dbl&gt;</th><th scope=col>&lt;dbl&gt;</th><th scope=col>&lt;dbl&gt;</th><th scope=col>&lt;chr&gt;</th></tr>\n",
              "</thead>\n",
              "<tbody>\n",
              "\t<tr><th scope=row>1</th><td> 1</td><td>5.1</td><td>3.5</td><td>1.4</td><td>0.2</td><td>Iris-setosa</td></tr>\n",
              "\t<tr><th scope=row>2</th><td> 2</td><td>4.9</td><td>3.0</td><td>1.4</td><td>0.2</td><td>Iris-setosa</td></tr>\n",
              "\t<tr><th scope=row>3</th><td> 3</td><td>4.7</td><td>3.2</td><td>1.3</td><td>0.2</td><td>Iris-setosa</td></tr>\n",
              "\t<tr><th scope=row>4</th><td> 4</td><td>4.6</td><td>3.1</td><td>1.5</td><td>0.2</td><td>Iris-setosa</td></tr>\n",
              "\t<tr><th scope=row>5</th><td> 5</td><td>5.0</td><td>3.6</td><td>1.4</td><td>0.2</td><td>Iris-setosa</td></tr>\n",
              "\t<tr><th scope=row>6</th><td> 6</td><td>5.4</td><td>3.9</td><td>1.7</td><td>0.4</td><td>Iris-setosa</td></tr>\n",
              "\t<tr><th scope=row>7</th><td> 7</td><td>4.6</td><td>3.4</td><td>1.4</td><td>0.3</td><td>Iris-setosa</td></tr>\n",
              "\t<tr><th scope=row>8</th><td> 8</td><td>5.0</td><td>3.4</td><td>1.5</td><td>0.2</td><td>Iris-setosa</td></tr>\n",
              "\t<tr><th scope=row>9</th><td> 9</td><td>4.4</td><td>2.9</td><td>1.4</td><td>0.2</td><td>Iris-setosa</td></tr>\n",
              "\t<tr><th scope=row>10</th><td>10</td><td>4.9</td><td>3.1</td><td>1.5</td><td>0.1</td><td>Iris-setosa</td></tr>\n",
              "</tbody>\n",
              "</table>\n"
            ],
            "text/latex": "A data.frame: 10 × 6\n\\begin{tabular}{r|llllll}\n  & Id & SepalLengthCm & SepalWidthCm & PetalLengthCm & PetalWidthCm & Species\\\\\n  & <int> & <dbl> & <dbl> & <dbl> & <dbl> & <chr>\\\\\n\\hline\n\t1 &  1 & 5.1 & 3.5 & 1.4 & 0.2 & Iris-setosa\\\\\n\t2 &  2 & 4.9 & 3.0 & 1.4 & 0.2 & Iris-setosa\\\\\n\t3 &  3 & 4.7 & 3.2 & 1.3 & 0.2 & Iris-setosa\\\\\n\t4 &  4 & 4.6 & 3.1 & 1.5 & 0.2 & Iris-setosa\\\\\n\t5 &  5 & 5.0 & 3.6 & 1.4 & 0.2 & Iris-setosa\\\\\n\t6 &  6 & 5.4 & 3.9 & 1.7 & 0.4 & Iris-setosa\\\\\n\t7 &  7 & 4.6 & 3.4 & 1.4 & 0.3 & Iris-setosa\\\\\n\t8 &  8 & 5.0 & 3.4 & 1.5 & 0.2 & Iris-setosa\\\\\n\t9 &  9 & 4.4 & 2.9 & 1.4 & 0.2 & Iris-setosa\\\\\n\t10 & 10 & 4.9 & 3.1 & 1.5 & 0.1 & Iris-setosa\\\\\n\\end{tabular}\n",
            "text/markdown": "\nA data.frame: 10 × 6\n\n| <!--/--> | Id &lt;int&gt; | SepalLengthCm &lt;dbl&gt; | SepalWidthCm &lt;dbl&gt; | PetalLengthCm &lt;dbl&gt; | PetalWidthCm &lt;dbl&gt; | Species &lt;chr&gt; |\n|---|---|---|---|---|---|---|\n| 1 |  1 | 5.1 | 3.5 | 1.4 | 0.2 | Iris-setosa |\n| 2 |  2 | 4.9 | 3.0 | 1.4 | 0.2 | Iris-setosa |\n| 3 |  3 | 4.7 | 3.2 | 1.3 | 0.2 | Iris-setosa |\n| 4 |  4 | 4.6 | 3.1 | 1.5 | 0.2 | Iris-setosa |\n| 5 |  5 | 5.0 | 3.6 | 1.4 | 0.2 | Iris-setosa |\n| 6 |  6 | 5.4 | 3.9 | 1.7 | 0.4 | Iris-setosa |\n| 7 |  7 | 4.6 | 3.4 | 1.4 | 0.3 | Iris-setosa |\n| 8 |  8 | 5.0 | 3.4 | 1.5 | 0.2 | Iris-setosa |\n| 9 |  9 | 4.4 | 2.9 | 1.4 | 0.2 | Iris-setosa |\n| 10 | 10 | 4.9 | 3.1 | 1.5 | 0.1 | Iris-setosa |\n\n",
            "text/plain": [
              "   Id SepalLengthCm SepalWidthCm PetalLengthCm PetalWidthCm Species    \n",
              "1   1 5.1           3.5          1.4           0.2          Iris-setosa\n",
              "2   2 4.9           3.0          1.4           0.2          Iris-setosa\n",
              "3   3 4.7           3.2          1.3           0.2          Iris-setosa\n",
              "4   4 4.6           3.1          1.5           0.2          Iris-setosa\n",
              "5   5 5.0           3.6          1.4           0.2          Iris-setosa\n",
              "6   6 5.4           3.9          1.7           0.4          Iris-setosa\n",
              "7   7 4.6           3.4          1.4           0.3          Iris-setosa\n",
              "8   8 5.0           3.4          1.5           0.2          Iris-setosa\n",
              "9   9 4.4           2.9          1.4           0.2          Iris-setosa\n",
              "10 10 4.9           3.1          1.5           0.1          Iris-setosa"
            ]
          },
          "metadata": {},
          "output_type": "display_data"
        }
      ],
      "source": [
        "head(df,n=10)         #to print first 10 rows of the data"
      ]
    },
    {
      "cell_type": "code",
      "execution_count": null,
      "metadata": {
        "colab": {
          "base_uri": "https://localhost:8080/",
          "height": 286
        },
        "id": "K8N31t3_XuGl",
        "outputId": "5c694da5-f16b-4cec-a596-c1151c712ea0"
      },
      "outputs": [
        {
          "data": {
            "text/html": [
              "<table class=\"dataframe\">\n",
              "<caption>A data.frame: 6 × 6</caption>\n",
              "<thead>\n",
              "\t<tr><th></th><th scope=col>Id</th><th scope=col>SepalLengthCm</th><th scope=col>SepalWidthCm</th><th scope=col>PetalLengthCm</th><th scope=col>PetalWidthCm</th><th scope=col>Species</th></tr>\n",
              "\t<tr><th></th><th scope=col>&lt;int&gt;</th><th scope=col>&lt;dbl&gt;</th><th scope=col>&lt;dbl&gt;</th><th scope=col>&lt;dbl&gt;</th><th scope=col>&lt;dbl&gt;</th><th scope=col>&lt;chr&gt;</th></tr>\n",
              "</thead>\n",
              "<tbody>\n",
              "\t<tr><th scope=row>145</th><td>145</td><td>6.7</td><td>3.3</td><td>5.7</td><td>2.5</td><td>Iris-virginica</td></tr>\n",
              "\t<tr><th scope=row>146</th><td>146</td><td>6.7</td><td>3.0</td><td>5.2</td><td>2.3</td><td>Iris-virginica</td></tr>\n",
              "\t<tr><th scope=row>147</th><td>147</td><td>6.3</td><td>2.5</td><td>5.0</td><td>1.9</td><td>Iris-virginica</td></tr>\n",
              "\t<tr><th scope=row>148</th><td>148</td><td>6.5</td><td>3.0</td><td>5.2</td><td>2.0</td><td>Iris-virginica</td></tr>\n",
              "\t<tr><th scope=row>149</th><td>149</td><td>6.2</td><td>3.4</td><td>5.4</td><td>2.3</td><td>Iris-virginica</td></tr>\n",
              "\t<tr><th scope=row>150</th><td>150</td><td>5.9</td><td>3.0</td><td>5.1</td><td>1.8</td><td>Iris-virginica</td></tr>\n",
              "</tbody>\n",
              "</table>\n"
            ],
            "text/latex": "A data.frame: 6 × 6\n\\begin{tabular}{r|llllll}\n  & Id & SepalLengthCm & SepalWidthCm & PetalLengthCm & PetalWidthCm & Species\\\\\n  & <int> & <dbl> & <dbl> & <dbl> & <dbl> & <chr>\\\\\n\\hline\n\t145 & 145 & 6.7 & 3.3 & 5.7 & 2.5 & Iris-virginica\\\\\n\t146 & 146 & 6.7 & 3.0 & 5.2 & 2.3 & Iris-virginica\\\\\n\t147 & 147 & 6.3 & 2.5 & 5.0 & 1.9 & Iris-virginica\\\\\n\t148 & 148 & 6.5 & 3.0 & 5.2 & 2.0 & Iris-virginica\\\\\n\t149 & 149 & 6.2 & 3.4 & 5.4 & 2.3 & Iris-virginica\\\\\n\t150 & 150 & 5.9 & 3.0 & 5.1 & 1.8 & Iris-virginica\\\\\n\\end{tabular}\n",
            "text/markdown": "\nA data.frame: 6 × 6\n\n| <!--/--> | Id &lt;int&gt; | SepalLengthCm &lt;dbl&gt; | SepalWidthCm &lt;dbl&gt; | PetalLengthCm &lt;dbl&gt; | PetalWidthCm &lt;dbl&gt; | Species &lt;chr&gt; |\n|---|---|---|---|---|---|---|\n| 145 | 145 | 6.7 | 3.3 | 5.7 | 2.5 | Iris-virginica |\n| 146 | 146 | 6.7 | 3.0 | 5.2 | 2.3 | Iris-virginica |\n| 147 | 147 | 6.3 | 2.5 | 5.0 | 1.9 | Iris-virginica |\n| 148 | 148 | 6.5 | 3.0 | 5.2 | 2.0 | Iris-virginica |\n| 149 | 149 | 6.2 | 3.4 | 5.4 | 2.3 | Iris-virginica |\n| 150 | 150 | 5.9 | 3.0 | 5.1 | 1.8 | Iris-virginica |\n\n",
            "text/plain": [
              "    Id  SepalLengthCm SepalWidthCm PetalLengthCm PetalWidthCm Species       \n",
              "145 145 6.7           3.3          5.7           2.5          Iris-virginica\n",
              "146 146 6.7           3.0          5.2           2.3          Iris-virginica\n",
              "147 147 6.3           2.5          5.0           1.9          Iris-virginica\n",
              "148 148 6.5           3.0          5.2           2.0          Iris-virginica\n",
              "149 149 6.2           3.4          5.4           2.3          Iris-virginica\n",
              "150 150 5.9           3.0          5.1           1.8          Iris-virginica"
            ]
          },
          "metadata": {},
          "output_type": "display_data"
        }
      ],
      "source": [
        "tail(df)    # to print last rows of the data"
      ]
    },
    {
      "cell_type": "code",
      "execution_count": null,
      "metadata": {
        "colab": {
          "base_uri": "https://localhost:8080/",
          "height": 34
        },
        "id": "KQ4XMkH37fWk",
        "outputId": "71bd5713-d127-4631-94aa-9797409ef26f"
      },
      "outputs": [
        {
          "data": {
            "text/html": [
              "'data.frame'"
            ],
            "text/latex": "'data.frame'",
            "text/markdown": "'data.frame'",
            "text/plain": [
              "[1] \"data.frame\""
            ]
          },
          "metadata": {},
          "output_type": "display_data"
        }
      ],
      "source": [
        " class(df)            #class of an object(numeric, matrix, dataframe etc.)"
      ]
    },
    {
      "cell_type": "code",
      "execution_count": null,
      "metadata": {
        "colab": {
          "base_uri": "https://localhost:8080/",
          "height": 34
        },
        "id": "cxTGX4gl7ubB",
        "outputId": "a827cc25-91d2-492d-e2df-da47d73083ef"
      },
      "outputs": [
        {
          "data": {
            "text/html": [
              "<style>\n",
              ".list-inline {list-style: none; margin:0; padding: 0}\n",
              ".list-inline>li {display: inline-block}\n",
              ".list-inline>li:not(:last-child)::after {content: \"\\00b7\"; padding: 0 .5ex}\n",
              "</style>\n",
              "<ol class=list-inline><li>150</li><li>6</li></ol>\n"
            ],
            "text/latex": "\\begin{enumerate*}\n\\item 150\n\\item 6\n\\end{enumerate*}\n",
            "text/markdown": "1. 150\n2. 6\n\n\n",
            "text/plain": [
              "[1] 150   6"
            ]
          },
          "metadata": {},
          "output_type": "display_data"
        }
      ],
      "source": [
        "dim(df)                 # to find dimension  ie no of rows and cols"
      ]
    },
    {
      "cell_type": "code",
      "execution_count": null,
      "metadata": {
        "colab": {
          "base_uri": "https://localhost:8080/",
          "height": 34
        },
        "id": "pdXyZpeD7uXc",
        "outputId": "bc7b6908-e75d-4f5e-dc37-1a087323c196"
      },
      "outputs": [
        {
          "data": {
            "text/html": [
              "6"
            ],
            "text/latex": "6",
            "text/markdown": "6",
            "text/plain": [
              "[1] 6"
            ]
          },
          "metadata": {},
          "output_type": "display_data"
        }
      ],
      "source": [
        "length(df)   no of cols"
      ]
    },
    {
      "cell_type": "code",
      "execution_count": null,
      "metadata": {
        "colab": {
          "base_uri": "https://localhost:8080/",
          "height": 1000
        },
        "id": "6JZcqUaT8Yii",
        "outputId": "4e16a614-4453-4bc7-9536-2cfafd2e629b"
      },
      "outputs": [
        {
          "data": {
            "text/html": [
              "<table class=\"dataframe\">\n",
              "<caption>A data.frame: 61 × 6</caption>\n",
              "<thead>\n",
              "\t<tr><th></th><th scope=col>Id</th><th scope=col>SepalLengthCm</th><th scope=col>SepalWidthCm</th><th scope=col>PetalLengthCm</th><th scope=col>PetalWidthCm</th><th scope=col>Species</th></tr>\n",
              "\t<tr><th></th><th scope=col>&lt;int&gt;</th><th scope=col>&lt;dbl&gt;</th><th scope=col>&lt;dbl&gt;</th><th scope=col>&lt;dbl&gt;</th><th scope=col>&lt;dbl&gt;</th><th scope=col>&lt;chr&gt;</th></tr>\n",
              "</thead>\n",
              "<tbody>\n",
              "\t<tr><th scope=row>51</th><td> 51</td><td>7.0</td><td>3.2</td><td>4.7</td><td>1.4</td><td>Iris-versicolor</td></tr>\n",
              "\t<tr><th scope=row>52</th><td> 52</td><td>6.4</td><td>3.2</td><td>4.5</td><td>1.5</td><td>Iris-versicolor</td></tr>\n",
              "\t<tr><th scope=row>53</th><td> 53</td><td>6.9</td><td>3.1</td><td>4.9</td><td>1.5</td><td>Iris-versicolor</td></tr>\n",
              "\t<tr><th scope=row>55</th><td> 55</td><td>6.5</td><td>2.8</td><td>4.6</td><td>1.5</td><td>Iris-versicolor</td></tr>\n",
              "\t<tr><th scope=row>57</th><td> 57</td><td>6.3</td><td>3.3</td><td>4.7</td><td>1.6</td><td>Iris-versicolor</td></tr>\n",
              "\t<tr><th scope=row>59</th><td> 59</td><td>6.6</td><td>2.9</td><td>4.6</td><td>1.3</td><td>Iris-versicolor</td></tr>\n",
              "\t<tr><th scope=row>64</th><td> 64</td><td>6.1</td><td>2.9</td><td>4.7</td><td>1.4</td><td>Iris-versicolor</td></tr>\n",
              "\t<tr><th scope=row>66</th><td> 66</td><td>6.7</td><td>3.1</td><td>4.4</td><td>1.4</td><td>Iris-versicolor</td></tr>\n",
              "\t<tr><th scope=row>69</th><td> 69</td><td>6.2</td><td>2.2</td><td>4.5</td><td>1.5</td><td>Iris-versicolor</td></tr>\n",
              "\t<tr><th scope=row>72</th><td> 72</td><td>6.1</td><td>2.8</td><td>4.0</td><td>1.3</td><td>Iris-versicolor</td></tr>\n",
              "\t<tr><th scope=row>73</th><td> 73</td><td>6.3</td><td>2.5</td><td>4.9</td><td>1.5</td><td>Iris-versicolor</td></tr>\n",
              "\t<tr><th scope=row>74</th><td> 74</td><td>6.1</td><td>2.8</td><td>4.7</td><td>1.2</td><td>Iris-versicolor</td></tr>\n",
              "\t<tr><th scope=row>75</th><td> 75</td><td>6.4</td><td>2.9</td><td>4.3</td><td>1.3</td><td>Iris-versicolor</td></tr>\n",
              "\t<tr><th scope=row>76</th><td> 76</td><td>6.6</td><td>3.0</td><td>4.4</td><td>1.4</td><td>Iris-versicolor</td></tr>\n",
              "\t<tr><th scope=row>77</th><td> 77</td><td>6.8</td><td>2.8</td><td>4.8</td><td>1.4</td><td>Iris-versicolor</td></tr>\n",
              "\t<tr><th scope=row>78</th><td> 78</td><td>6.7</td><td>3.0</td><td>5.0</td><td>1.7</td><td>Iris-versicolor</td></tr>\n",
              "\t<tr><th scope=row>87</th><td> 87</td><td>6.7</td><td>3.1</td><td>4.7</td><td>1.5</td><td>Iris-versicolor</td></tr>\n",
              "\t<tr><th scope=row>88</th><td> 88</td><td>6.3</td><td>2.3</td><td>4.4</td><td>1.3</td><td>Iris-versicolor</td></tr>\n",
              "\t<tr><th scope=row>92</th><td> 92</td><td>6.1</td><td>3.0</td><td>4.6</td><td>1.4</td><td>Iris-versicolor</td></tr>\n",
              "\t<tr><th scope=row>98</th><td> 98</td><td>6.2</td><td>2.9</td><td>4.3</td><td>1.3</td><td>Iris-versicolor</td></tr>\n",
              "\t<tr><th scope=row>101</th><td>101</td><td>6.3</td><td>3.3</td><td>6.0</td><td>2.5</td><td>Iris-virginica </td></tr>\n",
              "\t<tr><th scope=row>103</th><td>103</td><td>7.1</td><td>3.0</td><td>5.9</td><td>2.1</td><td>Iris-virginica </td></tr>\n",
              "\t<tr><th scope=row>104</th><td>104</td><td>6.3</td><td>2.9</td><td>5.6</td><td>1.8</td><td>Iris-virginica </td></tr>\n",
              "\t<tr><th scope=row>105</th><td>105</td><td>6.5</td><td>3.0</td><td>5.8</td><td>2.2</td><td>Iris-virginica </td></tr>\n",
              "\t<tr><th scope=row>106</th><td>106</td><td>7.6</td><td>3.0</td><td>6.6</td><td>2.1</td><td>Iris-virginica </td></tr>\n",
              "\t<tr><th scope=row>108</th><td>108</td><td>7.3</td><td>2.9</td><td>6.3</td><td>1.8</td><td>Iris-virginica </td></tr>\n",
              "\t<tr><th scope=row>109</th><td>109</td><td>6.7</td><td>2.5</td><td>5.8</td><td>1.8</td><td>Iris-virginica </td></tr>\n",
              "\t<tr><th scope=row>110</th><td>110</td><td>7.2</td><td>3.6</td><td>6.1</td><td>2.5</td><td>Iris-virginica </td></tr>\n",
              "\t<tr><th scope=row>111</th><td>111</td><td>6.5</td><td>3.2</td><td>5.1</td><td>2.0</td><td>Iris-virginica </td></tr>\n",
              "\t<tr><th scope=row>112</th><td>112</td><td>6.4</td><td>2.7</td><td>5.3</td><td>1.9</td><td>Iris-virginica </td></tr>\n",
              "\t<tr><th scope=row>⋮</th><td>⋮</td><td>⋮</td><td>⋮</td><td>⋮</td><td>⋮</td><td>⋮</td></tr>\n",
              "\t<tr><th scope=row>116</th><td>116</td><td>6.4</td><td>3.2</td><td>5.3</td><td>2.3</td><td>Iris-virginica</td></tr>\n",
              "\t<tr><th scope=row>117</th><td>117</td><td>6.5</td><td>3.0</td><td>5.5</td><td>1.8</td><td>Iris-virginica</td></tr>\n",
              "\t<tr><th scope=row>118</th><td>118</td><td>7.7</td><td>3.8</td><td>6.7</td><td>2.2</td><td>Iris-virginica</td></tr>\n",
              "\t<tr><th scope=row>119</th><td>119</td><td>7.7</td><td>2.6</td><td>6.9</td><td>2.3</td><td>Iris-virginica</td></tr>\n",
              "\t<tr><th scope=row>121</th><td>121</td><td>6.9</td><td>3.2</td><td>5.7</td><td>2.3</td><td>Iris-virginica</td></tr>\n",
              "\t<tr><th scope=row>123</th><td>123</td><td>7.7</td><td>2.8</td><td>6.7</td><td>2.0</td><td>Iris-virginica</td></tr>\n",
              "\t<tr><th scope=row>124</th><td>124</td><td>6.3</td><td>2.7</td><td>4.9</td><td>1.8</td><td>Iris-virginica</td></tr>\n",
              "\t<tr><th scope=row>125</th><td>125</td><td>6.7</td><td>3.3</td><td>5.7</td><td>2.1</td><td>Iris-virginica</td></tr>\n",
              "\t<tr><th scope=row>126</th><td>126</td><td>7.2</td><td>3.2</td><td>6.0</td><td>1.8</td><td>Iris-virginica</td></tr>\n",
              "\t<tr><th scope=row>127</th><td>127</td><td>6.2</td><td>2.8</td><td>4.8</td><td>1.8</td><td>Iris-virginica</td></tr>\n",
              "\t<tr><th scope=row>128</th><td>128</td><td>6.1</td><td>3.0</td><td>4.9</td><td>1.8</td><td>Iris-virginica</td></tr>\n",
              "\t<tr><th scope=row>129</th><td>129</td><td>6.4</td><td>2.8</td><td>5.6</td><td>2.1</td><td>Iris-virginica</td></tr>\n",
              "\t<tr><th scope=row>130</th><td>130</td><td>7.2</td><td>3.0</td><td>5.8</td><td>1.6</td><td>Iris-virginica</td></tr>\n",
              "\t<tr><th scope=row>131</th><td>131</td><td>7.4</td><td>2.8</td><td>6.1</td><td>1.9</td><td>Iris-virginica</td></tr>\n",
              "\t<tr><th scope=row>132</th><td>132</td><td>7.9</td><td>3.8</td><td>6.4</td><td>2.0</td><td>Iris-virginica</td></tr>\n",
              "\t<tr><th scope=row>133</th><td>133</td><td>6.4</td><td>2.8</td><td>5.6</td><td>2.2</td><td>Iris-virginica</td></tr>\n",
              "\t<tr><th scope=row>134</th><td>134</td><td>6.3</td><td>2.8</td><td>5.1</td><td>1.5</td><td>Iris-virginica</td></tr>\n",
              "\t<tr><th scope=row>135</th><td>135</td><td>6.1</td><td>2.6</td><td>5.6</td><td>1.4</td><td>Iris-virginica</td></tr>\n",
              "\t<tr><th scope=row>136</th><td>136</td><td>7.7</td><td>3.0</td><td>6.1</td><td>2.3</td><td>Iris-virginica</td></tr>\n",
              "\t<tr><th scope=row>137</th><td>137</td><td>6.3</td><td>3.4</td><td>5.6</td><td>2.4</td><td>Iris-virginica</td></tr>\n",
              "\t<tr><th scope=row>138</th><td>138</td><td>6.4</td><td>3.1</td><td>5.5</td><td>1.8</td><td>Iris-virginica</td></tr>\n",
              "\t<tr><th scope=row>140</th><td>140</td><td>6.9</td><td>3.1</td><td>5.4</td><td>2.1</td><td>Iris-virginica</td></tr>\n",
              "\t<tr><th scope=row>141</th><td>141</td><td>6.7</td><td>3.1</td><td>5.6</td><td>2.4</td><td>Iris-virginica</td></tr>\n",
              "\t<tr><th scope=row>142</th><td>142</td><td>6.9</td><td>3.1</td><td>5.1</td><td>2.3</td><td>Iris-virginica</td></tr>\n",
              "\t<tr><th scope=row>144</th><td>144</td><td>6.8</td><td>3.2</td><td>5.9</td><td>2.3</td><td>Iris-virginica</td></tr>\n",
              "\t<tr><th scope=row>145</th><td>145</td><td>6.7</td><td>3.3</td><td>5.7</td><td>2.5</td><td>Iris-virginica</td></tr>\n",
              "\t<tr><th scope=row>146</th><td>146</td><td>6.7</td><td>3.0</td><td>5.2</td><td>2.3</td><td>Iris-virginica</td></tr>\n",
              "\t<tr><th scope=row>147</th><td>147</td><td>6.3</td><td>2.5</td><td>5.0</td><td>1.9</td><td>Iris-virginica</td></tr>\n",
              "\t<tr><th scope=row>148</th><td>148</td><td>6.5</td><td>3.0</td><td>5.2</td><td>2.0</td><td>Iris-virginica</td></tr>\n",
              "\t<tr><th scope=row>149</th><td>149</td><td>6.2</td><td>3.4</td><td>5.4</td><td>2.3</td><td>Iris-virginica</td></tr>\n",
              "</tbody>\n",
              "</table>\n"
            ],
            "text/latex": "A data.frame: 61 × 6\n\\begin{tabular}{r|llllll}\n  & Id & SepalLengthCm & SepalWidthCm & PetalLengthCm & PetalWidthCm & Species\\\\\n  & <int> & <dbl> & <dbl> & <dbl> & <dbl> & <chr>\\\\\n\\hline\n\t51 &  51 & 7.0 & 3.2 & 4.7 & 1.4 & Iris-versicolor\\\\\n\t52 &  52 & 6.4 & 3.2 & 4.5 & 1.5 & Iris-versicolor\\\\\n\t53 &  53 & 6.9 & 3.1 & 4.9 & 1.5 & Iris-versicolor\\\\\n\t55 &  55 & 6.5 & 2.8 & 4.6 & 1.5 & Iris-versicolor\\\\\n\t57 &  57 & 6.3 & 3.3 & 4.7 & 1.6 & Iris-versicolor\\\\\n\t59 &  59 & 6.6 & 2.9 & 4.6 & 1.3 & Iris-versicolor\\\\\n\t64 &  64 & 6.1 & 2.9 & 4.7 & 1.4 & Iris-versicolor\\\\\n\t66 &  66 & 6.7 & 3.1 & 4.4 & 1.4 & Iris-versicolor\\\\\n\t69 &  69 & 6.2 & 2.2 & 4.5 & 1.5 & Iris-versicolor\\\\\n\t72 &  72 & 6.1 & 2.8 & 4.0 & 1.3 & Iris-versicolor\\\\\n\t73 &  73 & 6.3 & 2.5 & 4.9 & 1.5 & Iris-versicolor\\\\\n\t74 &  74 & 6.1 & 2.8 & 4.7 & 1.2 & Iris-versicolor\\\\\n\t75 &  75 & 6.4 & 2.9 & 4.3 & 1.3 & Iris-versicolor\\\\\n\t76 &  76 & 6.6 & 3.0 & 4.4 & 1.4 & Iris-versicolor\\\\\n\t77 &  77 & 6.8 & 2.8 & 4.8 & 1.4 & Iris-versicolor\\\\\n\t78 &  78 & 6.7 & 3.0 & 5.0 & 1.7 & Iris-versicolor\\\\\n\t87 &  87 & 6.7 & 3.1 & 4.7 & 1.5 & Iris-versicolor\\\\\n\t88 &  88 & 6.3 & 2.3 & 4.4 & 1.3 & Iris-versicolor\\\\\n\t92 &  92 & 6.1 & 3.0 & 4.6 & 1.4 & Iris-versicolor\\\\\n\t98 &  98 & 6.2 & 2.9 & 4.3 & 1.3 & Iris-versicolor\\\\\n\t101 & 101 & 6.3 & 3.3 & 6.0 & 2.5 & Iris-virginica \\\\\n\t103 & 103 & 7.1 & 3.0 & 5.9 & 2.1 & Iris-virginica \\\\\n\t104 & 104 & 6.3 & 2.9 & 5.6 & 1.8 & Iris-virginica \\\\\n\t105 & 105 & 6.5 & 3.0 & 5.8 & 2.2 & Iris-virginica \\\\\n\t106 & 106 & 7.6 & 3.0 & 6.6 & 2.1 & Iris-virginica \\\\\n\t108 & 108 & 7.3 & 2.9 & 6.3 & 1.8 & Iris-virginica \\\\\n\t109 & 109 & 6.7 & 2.5 & 5.8 & 1.8 & Iris-virginica \\\\\n\t110 & 110 & 7.2 & 3.6 & 6.1 & 2.5 & Iris-virginica \\\\\n\t111 & 111 & 6.5 & 3.2 & 5.1 & 2.0 & Iris-virginica \\\\\n\t112 & 112 & 6.4 & 2.7 & 5.3 & 1.9 & Iris-virginica \\\\\n\t⋮ & ⋮ & ⋮ & ⋮ & ⋮ & ⋮ & ⋮\\\\\n\t116 & 116 & 6.4 & 3.2 & 5.3 & 2.3 & Iris-virginica\\\\\n\t117 & 117 & 6.5 & 3.0 & 5.5 & 1.8 & Iris-virginica\\\\\n\t118 & 118 & 7.7 & 3.8 & 6.7 & 2.2 & Iris-virginica\\\\\n\t119 & 119 & 7.7 & 2.6 & 6.9 & 2.3 & Iris-virginica\\\\\n\t121 & 121 & 6.9 & 3.2 & 5.7 & 2.3 & Iris-virginica\\\\\n\t123 & 123 & 7.7 & 2.8 & 6.7 & 2.0 & Iris-virginica\\\\\n\t124 & 124 & 6.3 & 2.7 & 4.9 & 1.8 & Iris-virginica\\\\\n\t125 & 125 & 6.7 & 3.3 & 5.7 & 2.1 & Iris-virginica\\\\\n\t126 & 126 & 7.2 & 3.2 & 6.0 & 1.8 & Iris-virginica\\\\\n\t127 & 127 & 6.2 & 2.8 & 4.8 & 1.8 & Iris-virginica\\\\\n\t128 & 128 & 6.1 & 3.0 & 4.9 & 1.8 & Iris-virginica\\\\\n\t129 & 129 & 6.4 & 2.8 & 5.6 & 2.1 & Iris-virginica\\\\\n\t130 & 130 & 7.2 & 3.0 & 5.8 & 1.6 & Iris-virginica\\\\\n\t131 & 131 & 7.4 & 2.8 & 6.1 & 1.9 & Iris-virginica\\\\\n\t132 & 132 & 7.9 & 3.8 & 6.4 & 2.0 & Iris-virginica\\\\\n\t133 & 133 & 6.4 & 2.8 & 5.6 & 2.2 & Iris-virginica\\\\\n\t134 & 134 & 6.3 & 2.8 & 5.1 & 1.5 & Iris-virginica\\\\\n\t135 & 135 & 6.1 & 2.6 & 5.6 & 1.4 & Iris-virginica\\\\\n\t136 & 136 & 7.7 & 3.0 & 6.1 & 2.3 & Iris-virginica\\\\\n\t137 & 137 & 6.3 & 3.4 & 5.6 & 2.4 & Iris-virginica\\\\\n\t138 & 138 & 6.4 & 3.1 & 5.5 & 1.8 & Iris-virginica\\\\\n\t140 & 140 & 6.9 & 3.1 & 5.4 & 2.1 & Iris-virginica\\\\\n\t141 & 141 & 6.7 & 3.1 & 5.6 & 2.4 & Iris-virginica\\\\\n\t142 & 142 & 6.9 & 3.1 & 5.1 & 2.3 & Iris-virginica\\\\\n\t144 & 144 & 6.8 & 3.2 & 5.9 & 2.3 & Iris-virginica\\\\\n\t145 & 145 & 6.7 & 3.3 & 5.7 & 2.5 & Iris-virginica\\\\\n\t146 & 146 & 6.7 & 3.0 & 5.2 & 2.3 & Iris-virginica\\\\\n\t147 & 147 & 6.3 & 2.5 & 5.0 & 1.9 & Iris-virginica\\\\\n\t148 & 148 & 6.5 & 3.0 & 5.2 & 2.0 & Iris-virginica\\\\\n\t149 & 149 & 6.2 & 3.4 & 5.4 & 2.3 & Iris-virginica\\\\\n\\end{tabular}\n",
            "text/markdown": "\nA data.frame: 61 × 6\n\n| <!--/--> | Id &lt;int&gt; | SepalLengthCm &lt;dbl&gt; | SepalWidthCm &lt;dbl&gt; | PetalLengthCm &lt;dbl&gt; | PetalWidthCm &lt;dbl&gt; | Species &lt;chr&gt; |\n|---|---|---|---|---|---|---|\n| 51 |  51 | 7.0 | 3.2 | 4.7 | 1.4 | Iris-versicolor |\n| 52 |  52 | 6.4 | 3.2 | 4.5 | 1.5 | Iris-versicolor |\n| 53 |  53 | 6.9 | 3.1 | 4.9 | 1.5 | Iris-versicolor |\n| 55 |  55 | 6.5 | 2.8 | 4.6 | 1.5 | Iris-versicolor |\n| 57 |  57 | 6.3 | 3.3 | 4.7 | 1.6 | Iris-versicolor |\n| 59 |  59 | 6.6 | 2.9 | 4.6 | 1.3 | Iris-versicolor |\n| 64 |  64 | 6.1 | 2.9 | 4.7 | 1.4 | Iris-versicolor |\n| 66 |  66 | 6.7 | 3.1 | 4.4 | 1.4 | Iris-versicolor |\n| 69 |  69 | 6.2 | 2.2 | 4.5 | 1.5 | Iris-versicolor |\n| 72 |  72 | 6.1 | 2.8 | 4.0 | 1.3 | Iris-versicolor |\n| 73 |  73 | 6.3 | 2.5 | 4.9 | 1.5 | Iris-versicolor |\n| 74 |  74 | 6.1 | 2.8 | 4.7 | 1.2 | Iris-versicolor |\n| 75 |  75 | 6.4 | 2.9 | 4.3 | 1.3 | Iris-versicolor |\n| 76 |  76 | 6.6 | 3.0 | 4.4 | 1.4 | Iris-versicolor |\n| 77 |  77 | 6.8 | 2.8 | 4.8 | 1.4 | Iris-versicolor |\n| 78 |  78 | 6.7 | 3.0 | 5.0 | 1.7 | Iris-versicolor |\n| 87 |  87 | 6.7 | 3.1 | 4.7 | 1.5 | Iris-versicolor |\n| 88 |  88 | 6.3 | 2.3 | 4.4 | 1.3 | Iris-versicolor |\n| 92 |  92 | 6.1 | 3.0 | 4.6 | 1.4 | Iris-versicolor |\n| 98 |  98 | 6.2 | 2.9 | 4.3 | 1.3 | Iris-versicolor |\n| 101 | 101 | 6.3 | 3.3 | 6.0 | 2.5 | Iris-virginica  |\n| 103 | 103 | 7.1 | 3.0 | 5.9 | 2.1 | Iris-virginica  |\n| 104 | 104 | 6.3 | 2.9 | 5.6 | 1.8 | Iris-virginica  |\n| 105 | 105 | 6.5 | 3.0 | 5.8 | 2.2 | Iris-virginica  |\n| 106 | 106 | 7.6 | 3.0 | 6.6 | 2.1 | Iris-virginica  |\n| 108 | 108 | 7.3 | 2.9 | 6.3 | 1.8 | Iris-virginica  |\n| 109 | 109 | 6.7 | 2.5 | 5.8 | 1.8 | Iris-virginica  |\n| 110 | 110 | 7.2 | 3.6 | 6.1 | 2.5 | Iris-virginica  |\n| 111 | 111 | 6.5 | 3.2 | 5.1 | 2.0 | Iris-virginica  |\n| 112 | 112 | 6.4 | 2.7 | 5.3 | 1.9 | Iris-virginica  |\n| ⋮ | ⋮ | ⋮ | ⋮ | ⋮ | ⋮ | ⋮ |\n| 116 | 116 | 6.4 | 3.2 | 5.3 | 2.3 | Iris-virginica |\n| 117 | 117 | 6.5 | 3.0 | 5.5 | 1.8 | Iris-virginica |\n| 118 | 118 | 7.7 | 3.8 | 6.7 | 2.2 | Iris-virginica |\n| 119 | 119 | 7.7 | 2.6 | 6.9 | 2.3 | Iris-virginica |\n| 121 | 121 | 6.9 | 3.2 | 5.7 | 2.3 | Iris-virginica |\n| 123 | 123 | 7.7 | 2.8 | 6.7 | 2.0 | Iris-virginica |\n| 124 | 124 | 6.3 | 2.7 | 4.9 | 1.8 | Iris-virginica |\n| 125 | 125 | 6.7 | 3.3 | 5.7 | 2.1 | Iris-virginica |\n| 126 | 126 | 7.2 | 3.2 | 6.0 | 1.8 | Iris-virginica |\n| 127 | 127 | 6.2 | 2.8 | 4.8 | 1.8 | Iris-virginica |\n| 128 | 128 | 6.1 | 3.0 | 4.9 | 1.8 | Iris-virginica |\n| 129 | 129 | 6.4 | 2.8 | 5.6 | 2.1 | Iris-virginica |\n| 130 | 130 | 7.2 | 3.0 | 5.8 | 1.6 | Iris-virginica |\n| 131 | 131 | 7.4 | 2.8 | 6.1 | 1.9 | Iris-virginica |\n| 132 | 132 | 7.9 | 3.8 | 6.4 | 2.0 | Iris-virginica |\n| 133 | 133 | 6.4 | 2.8 | 5.6 | 2.2 | Iris-virginica |\n| 134 | 134 | 6.3 | 2.8 | 5.1 | 1.5 | Iris-virginica |\n| 135 | 135 | 6.1 | 2.6 | 5.6 | 1.4 | Iris-virginica |\n| 136 | 136 | 7.7 | 3.0 | 6.1 | 2.3 | Iris-virginica |\n| 137 | 137 | 6.3 | 3.4 | 5.6 | 2.4 | Iris-virginica |\n| 138 | 138 | 6.4 | 3.1 | 5.5 | 1.8 | Iris-virginica |\n| 140 | 140 | 6.9 | 3.1 | 5.4 | 2.1 | Iris-virginica |\n| 141 | 141 | 6.7 | 3.1 | 5.6 | 2.4 | Iris-virginica |\n| 142 | 142 | 6.9 | 3.1 | 5.1 | 2.3 | Iris-virginica |\n| 144 | 144 | 6.8 | 3.2 | 5.9 | 2.3 | Iris-virginica |\n| 145 | 145 | 6.7 | 3.3 | 5.7 | 2.5 | Iris-virginica |\n| 146 | 146 | 6.7 | 3.0 | 5.2 | 2.3 | Iris-virginica |\n| 147 | 147 | 6.3 | 2.5 | 5.0 | 1.9 | Iris-virginica |\n| 148 | 148 | 6.5 | 3.0 | 5.2 | 2.0 | Iris-virginica |\n| 149 | 149 | 6.2 | 3.4 | 5.4 | 2.3 | Iris-virginica |\n\n",
            "text/plain": [
              "    Id  SepalLengthCm SepalWidthCm PetalLengthCm PetalWidthCm Species        \n",
              "51   51 7.0           3.2          4.7           1.4          Iris-versicolor\n",
              "52   52 6.4           3.2          4.5           1.5          Iris-versicolor\n",
              "53   53 6.9           3.1          4.9           1.5          Iris-versicolor\n",
              "55   55 6.5           2.8          4.6           1.5          Iris-versicolor\n",
              "57   57 6.3           3.3          4.7           1.6          Iris-versicolor\n",
              "59   59 6.6           2.9          4.6           1.3          Iris-versicolor\n",
              "64   64 6.1           2.9          4.7           1.4          Iris-versicolor\n",
              "66   66 6.7           3.1          4.4           1.4          Iris-versicolor\n",
              "69   69 6.2           2.2          4.5           1.5          Iris-versicolor\n",
              "72   72 6.1           2.8          4.0           1.3          Iris-versicolor\n",
              "73   73 6.3           2.5          4.9           1.5          Iris-versicolor\n",
              "74   74 6.1           2.8          4.7           1.2          Iris-versicolor\n",
              "75   75 6.4           2.9          4.3           1.3          Iris-versicolor\n",
              "76   76 6.6           3.0          4.4           1.4          Iris-versicolor\n",
              "77   77 6.8           2.8          4.8           1.4          Iris-versicolor\n",
              "78   78 6.7           3.0          5.0           1.7          Iris-versicolor\n",
              "87   87 6.7           3.1          4.7           1.5          Iris-versicolor\n",
              "88   88 6.3           2.3          4.4           1.3          Iris-versicolor\n",
              "92   92 6.1           3.0          4.6           1.4          Iris-versicolor\n",
              "98   98 6.2           2.9          4.3           1.3          Iris-versicolor\n",
              "101 101 6.3           3.3          6.0           2.5          Iris-virginica \n",
              "103 103 7.1           3.0          5.9           2.1          Iris-virginica \n",
              "104 104 6.3           2.9          5.6           1.8          Iris-virginica \n",
              "105 105 6.5           3.0          5.8           2.2          Iris-virginica \n",
              "106 106 7.6           3.0          6.6           2.1          Iris-virginica \n",
              "108 108 7.3           2.9          6.3           1.8          Iris-virginica \n",
              "109 109 6.7           2.5          5.8           1.8          Iris-virginica \n",
              "110 110 7.2           3.6          6.1           2.5          Iris-virginica \n",
              "111 111 6.5           3.2          5.1           2.0          Iris-virginica \n",
              "112 112 6.4           2.7          5.3           1.9          Iris-virginica \n",
              "⋮   ⋮   ⋮             ⋮            ⋮             ⋮            ⋮              \n",
              "116 116 6.4           3.2          5.3           2.3          Iris-virginica \n",
              "117 117 6.5           3.0          5.5           1.8          Iris-virginica \n",
              "118 118 7.7           3.8          6.7           2.2          Iris-virginica \n",
              "119 119 7.7           2.6          6.9           2.3          Iris-virginica \n",
              "121 121 6.9           3.2          5.7           2.3          Iris-virginica \n",
              "123 123 7.7           2.8          6.7           2.0          Iris-virginica \n",
              "124 124 6.3           2.7          4.9           1.8          Iris-virginica \n",
              "125 125 6.7           3.3          5.7           2.1          Iris-virginica \n",
              "126 126 7.2           3.2          6.0           1.8          Iris-virginica \n",
              "127 127 6.2           2.8          4.8           1.8          Iris-virginica \n",
              "128 128 6.1           3.0          4.9           1.8          Iris-virginica \n",
              "129 129 6.4           2.8          5.6           2.1          Iris-virginica \n",
              "130 130 7.2           3.0          5.8           1.6          Iris-virginica \n",
              "131 131 7.4           2.8          6.1           1.9          Iris-virginica \n",
              "132 132 7.9           3.8          6.4           2.0          Iris-virginica \n",
              "133 133 6.4           2.8          5.6           2.2          Iris-virginica \n",
              "134 134 6.3           2.8          5.1           1.5          Iris-virginica \n",
              "135 135 6.1           2.6          5.6           1.4          Iris-virginica \n",
              "136 136 7.7           3.0          6.1           2.3          Iris-virginica \n",
              "137 137 6.3           3.4          5.6           2.4          Iris-virginica \n",
              "138 138 6.4           3.1          5.5           1.8          Iris-virginica \n",
              "140 140 6.9           3.1          5.4           2.1          Iris-virginica \n",
              "141 141 6.7           3.1          5.6           2.4          Iris-virginica \n",
              "142 142 6.9           3.1          5.1           2.3          Iris-virginica \n",
              "144 144 6.8           3.2          5.9           2.3          Iris-virginica \n",
              "145 145 6.7           3.3          5.7           2.5          Iris-virginica \n",
              "146 146 6.7           3.0          5.2           2.3          Iris-virginica \n",
              "147 147 6.3           2.5          5.0           1.9          Iris-virginica \n",
              "148 148 6.5           3.0          5.2           2.0          Iris-virginica \n",
              "149 149 6.2           3.4          5.4           2.3          Iris-virginica "
            ]
          },
          "metadata": {},
          "output_type": "display_data"
        }
      ],
      "source": [
        "# Here we take a subset of Age greater than 20\n",
        "subset (df, subset=SepalLengthCm>6)"
      ]
    },
    {
      "cell_type": "code",
      "source": [
        "# To find specific columns from data\n",
        "select (df,2:4)                        # index starts from 1"
      ],
      "metadata": {
        "colab": {
          "base_uri": "https://localhost:8080/",
          "height": 1000
        },
        "id": "6wftYMCjGyYo",
        "outputId": "a9faf4eb-23f5-4b1a-88a8-0b3576abd9be"
      },
      "execution_count": 34,
      "outputs": [
        {
          "output_type": "display_data",
          "data": {
            "text/html": [
              "<table class=\"dataframe\">\n",
              "<caption>A data.frame: 150 × 3</caption>\n",
              "<thead>\n",
              "\t<tr><th scope=col>SepalLengthCm</th><th scope=col>SepalWidthCm</th><th scope=col>PetalLengthCm</th></tr>\n",
              "\t<tr><th scope=col>&lt;dbl&gt;</th><th scope=col>&lt;dbl&gt;</th><th scope=col>&lt;dbl&gt;</th></tr>\n",
              "</thead>\n",
              "<tbody>\n",
              "\t<tr><td>5.1</td><td>3.5</td><td>1.4</td></tr>\n",
              "\t<tr><td>4.9</td><td>3.0</td><td>1.4</td></tr>\n",
              "\t<tr><td>4.7</td><td>3.2</td><td>1.3</td></tr>\n",
              "\t<tr><td>4.6</td><td>3.1</td><td>1.5</td></tr>\n",
              "\t<tr><td>5.0</td><td>3.6</td><td>1.4</td></tr>\n",
              "\t<tr><td>5.4</td><td>3.9</td><td>1.7</td></tr>\n",
              "\t<tr><td>4.6</td><td>3.4</td><td>1.4</td></tr>\n",
              "\t<tr><td>5.0</td><td>3.4</td><td>1.5</td></tr>\n",
              "\t<tr><td>4.4</td><td>2.9</td><td>1.4</td></tr>\n",
              "\t<tr><td>4.9</td><td>3.1</td><td>1.5</td></tr>\n",
              "\t<tr><td>5.4</td><td>3.7</td><td>1.5</td></tr>\n",
              "\t<tr><td>4.8</td><td>3.4</td><td>1.6</td></tr>\n",
              "\t<tr><td>4.8</td><td>3.0</td><td>1.4</td></tr>\n",
              "\t<tr><td>4.3</td><td>3.0</td><td>1.1</td></tr>\n",
              "\t<tr><td>5.8</td><td>4.0</td><td>1.2</td></tr>\n",
              "\t<tr><td>5.7</td><td>4.4</td><td>1.5</td></tr>\n",
              "\t<tr><td>5.4</td><td>3.9</td><td>1.3</td></tr>\n",
              "\t<tr><td>5.1</td><td>3.5</td><td>1.4</td></tr>\n",
              "\t<tr><td>5.7</td><td>3.8</td><td>1.7</td></tr>\n",
              "\t<tr><td>5.1</td><td>3.8</td><td>1.5</td></tr>\n",
              "\t<tr><td>5.4</td><td>3.4</td><td>1.7</td></tr>\n",
              "\t<tr><td>5.1</td><td>3.7</td><td>1.5</td></tr>\n",
              "\t<tr><td>4.6</td><td>3.6</td><td>1.0</td></tr>\n",
              "\t<tr><td>5.1</td><td>3.3</td><td>1.7</td></tr>\n",
              "\t<tr><td>4.8</td><td>3.4</td><td>1.9</td></tr>\n",
              "\t<tr><td>5.0</td><td>3.0</td><td>1.6</td></tr>\n",
              "\t<tr><td>5.0</td><td>3.4</td><td>1.6</td></tr>\n",
              "\t<tr><td>5.2</td><td>3.5</td><td>1.5</td></tr>\n",
              "\t<tr><td>5.2</td><td>3.4</td><td>1.4</td></tr>\n",
              "\t<tr><td>4.7</td><td>3.2</td><td>1.6</td></tr>\n",
              "\t<tr><td>⋮</td><td>⋮</td><td>⋮</td></tr>\n",
              "\t<tr><td>6.9</td><td>3.2</td><td>5.7</td></tr>\n",
              "\t<tr><td>5.6</td><td>2.8</td><td>4.9</td></tr>\n",
              "\t<tr><td>7.7</td><td>2.8</td><td>6.7</td></tr>\n",
              "\t<tr><td>6.3</td><td>2.7</td><td>4.9</td></tr>\n",
              "\t<tr><td>6.7</td><td>3.3</td><td>5.7</td></tr>\n",
              "\t<tr><td>7.2</td><td>3.2</td><td>6.0</td></tr>\n",
              "\t<tr><td>6.2</td><td>2.8</td><td>4.8</td></tr>\n",
              "\t<tr><td>6.1</td><td>3.0</td><td>4.9</td></tr>\n",
              "\t<tr><td>6.4</td><td>2.8</td><td>5.6</td></tr>\n",
              "\t<tr><td>7.2</td><td>3.0</td><td>5.8</td></tr>\n",
              "\t<tr><td>7.4</td><td>2.8</td><td>6.1</td></tr>\n",
              "\t<tr><td>7.9</td><td>3.8</td><td>6.4</td></tr>\n",
              "\t<tr><td>6.4</td><td>2.8</td><td>5.6</td></tr>\n",
              "\t<tr><td>6.3</td><td>2.8</td><td>5.1</td></tr>\n",
              "\t<tr><td>6.1</td><td>2.6</td><td>5.6</td></tr>\n",
              "\t<tr><td>7.7</td><td>3.0</td><td>6.1</td></tr>\n",
              "\t<tr><td>6.3</td><td>3.4</td><td>5.6</td></tr>\n",
              "\t<tr><td>6.4</td><td>3.1</td><td>5.5</td></tr>\n",
              "\t<tr><td>6.0</td><td>3.0</td><td>4.8</td></tr>\n",
              "\t<tr><td>6.9</td><td>3.1</td><td>5.4</td></tr>\n",
              "\t<tr><td>6.7</td><td>3.1</td><td>5.6</td></tr>\n",
              "\t<tr><td>6.9</td><td>3.1</td><td>5.1</td></tr>\n",
              "\t<tr><td>5.8</td><td>2.7</td><td>5.1</td></tr>\n",
              "\t<tr><td>6.8</td><td>3.2</td><td>5.9</td></tr>\n",
              "\t<tr><td>6.7</td><td>3.3</td><td>5.7</td></tr>\n",
              "\t<tr><td>6.7</td><td>3.0</td><td>5.2</td></tr>\n",
              "\t<tr><td>6.3</td><td>2.5</td><td>5.0</td></tr>\n",
              "\t<tr><td>6.5</td><td>3.0</td><td>5.2</td></tr>\n",
              "\t<tr><td>6.2</td><td>3.4</td><td>5.4</td></tr>\n",
              "\t<tr><td>5.9</td><td>3.0</td><td>5.1</td></tr>\n",
              "</tbody>\n",
              "</table>\n"
            ],
            "text/markdown": "\nA data.frame: 150 × 3\n\n| SepalLengthCm &lt;dbl&gt; | SepalWidthCm &lt;dbl&gt; | PetalLengthCm &lt;dbl&gt; |\n|---|---|---|\n| 5.1 | 3.5 | 1.4 |\n| 4.9 | 3.0 | 1.4 |\n| 4.7 | 3.2 | 1.3 |\n| 4.6 | 3.1 | 1.5 |\n| 5.0 | 3.6 | 1.4 |\n| 5.4 | 3.9 | 1.7 |\n| 4.6 | 3.4 | 1.4 |\n| 5.0 | 3.4 | 1.5 |\n| 4.4 | 2.9 | 1.4 |\n| 4.9 | 3.1 | 1.5 |\n| 5.4 | 3.7 | 1.5 |\n| 4.8 | 3.4 | 1.6 |\n| 4.8 | 3.0 | 1.4 |\n| 4.3 | 3.0 | 1.1 |\n| 5.8 | 4.0 | 1.2 |\n| 5.7 | 4.4 | 1.5 |\n| 5.4 | 3.9 | 1.3 |\n| 5.1 | 3.5 | 1.4 |\n| 5.7 | 3.8 | 1.7 |\n| 5.1 | 3.8 | 1.5 |\n| 5.4 | 3.4 | 1.7 |\n| 5.1 | 3.7 | 1.5 |\n| 4.6 | 3.6 | 1.0 |\n| 5.1 | 3.3 | 1.7 |\n| 4.8 | 3.4 | 1.9 |\n| 5.0 | 3.0 | 1.6 |\n| 5.0 | 3.4 | 1.6 |\n| 5.2 | 3.5 | 1.5 |\n| 5.2 | 3.4 | 1.4 |\n| 4.7 | 3.2 | 1.6 |\n| ⋮ | ⋮ | ⋮ |\n| 6.9 | 3.2 | 5.7 |\n| 5.6 | 2.8 | 4.9 |\n| 7.7 | 2.8 | 6.7 |\n| 6.3 | 2.7 | 4.9 |\n| 6.7 | 3.3 | 5.7 |\n| 7.2 | 3.2 | 6.0 |\n| 6.2 | 2.8 | 4.8 |\n| 6.1 | 3.0 | 4.9 |\n| 6.4 | 2.8 | 5.6 |\n| 7.2 | 3.0 | 5.8 |\n| 7.4 | 2.8 | 6.1 |\n| 7.9 | 3.8 | 6.4 |\n| 6.4 | 2.8 | 5.6 |\n| 6.3 | 2.8 | 5.1 |\n| 6.1 | 2.6 | 5.6 |\n| 7.7 | 3.0 | 6.1 |\n| 6.3 | 3.4 | 5.6 |\n| 6.4 | 3.1 | 5.5 |\n| 6.0 | 3.0 | 4.8 |\n| 6.9 | 3.1 | 5.4 |\n| 6.7 | 3.1 | 5.6 |\n| 6.9 | 3.1 | 5.1 |\n| 5.8 | 2.7 | 5.1 |\n| 6.8 | 3.2 | 5.9 |\n| 6.7 | 3.3 | 5.7 |\n| 6.7 | 3.0 | 5.2 |\n| 6.3 | 2.5 | 5.0 |\n| 6.5 | 3.0 | 5.2 |\n| 6.2 | 3.4 | 5.4 |\n| 5.9 | 3.0 | 5.1 |\n\n",
            "text/latex": "A data.frame: 150 × 3\n\\begin{tabular}{lll}\n SepalLengthCm & SepalWidthCm & PetalLengthCm\\\\\n <dbl> & <dbl> & <dbl>\\\\\n\\hline\n\t 5.1 & 3.5 & 1.4\\\\\n\t 4.9 & 3.0 & 1.4\\\\\n\t 4.7 & 3.2 & 1.3\\\\\n\t 4.6 & 3.1 & 1.5\\\\\n\t 5.0 & 3.6 & 1.4\\\\\n\t 5.4 & 3.9 & 1.7\\\\\n\t 4.6 & 3.4 & 1.4\\\\\n\t 5.0 & 3.4 & 1.5\\\\\n\t 4.4 & 2.9 & 1.4\\\\\n\t 4.9 & 3.1 & 1.5\\\\\n\t 5.4 & 3.7 & 1.5\\\\\n\t 4.8 & 3.4 & 1.6\\\\\n\t 4.8 & 3.0 & 1.4\\\\\n\t 4.3 & 3.0 & 1.1\\\\\n\t 5.8 & 4.0 & 1.2\\\\\n\t 5.7 & 4.4 & 1.5\\\\\n\t 5.4 & 3.9 & 1.3\\\\\n\t 5.1 & 3.5 & 1.4\\\\\n\t 5.7 & 3.8 & 1.7\\\\\n\t 5.1 & 3.8 & 1.5\\\\\n\t 5.4 & 3.4 & 1.7\\\\\n\t 5.1 & 3.7 & 1.5\\\\\n\t 4.6 & 3.6 & 1.0\\\\\n\t 5.1 & 3.3 & 1.7\\\\\n\t 4.8 & 3.4 & 1.9\\\\\n\t 5.0 & 3.0 & 1.6\\\\\n\t 5.0 & 3.4 & 1.6\\\\\n\t 5.2 & 3.5 & 1.5\\\\\n\t 5.2 & 3.4 & 1.4\\\\\n\t 4.7 & 3.2 & 1.6\\\\\n\t ⋮ & ⋮ & ⋮\\\\\n\t 6.9 & 3.2 & 5.7\\\\\n\t 5.6 & 2.8 & 4.9\\\\\n\t 7.7 & 2.8 & 6.7\\\\\n\t 6.3 & 2.7 & 4.9\\\\\n\t 6.7 & 3.3 & 5.7\\\\\n\t 7.2 & 3.2 & 6.0\\\\\n\t 6.2 & 2.8 & 4.8\\\\\n\t 6.1 & 3.0 & 4.9\\\\\n\t 6.4 & 2.8 & 5.6\\\\\n\t 7.2 & 3.0 & 5.8\\\\\n\t 7.4 & 2.8 & 6.1\\\\\n\t 7.9 & 3.8 & 6.4\\\\\n\t 6.4 & 2.8 & 5.6\\\\\n\t 6.3 & 2.8 & 5.1\\\\\n\t 6.1 & 2.6 & 5.6\\\\\n\t 7.7 & 3.0 & 6.1\\\\\n\t 6.3 & 3.4 & 5.6\\\\\n\t 6.4 & 3.1 & 5.5\\\\\n\t 6.0 & 3.0 & 4.8\\\\\n\t 6.9 & 3.1 & 5.4\\\\\n\t 6.7 & 3.1 & 5.6\\\\\n\t 6.9 & 3.1 & 5.1\\\\\n\t 5.8 & 2.7 & 5.1\\\\\n\t 6.8 & 3.2 & 5.9\\\\\n\t 6.7 & 3.3 & 5.7\\\\\n\t 6.7 & 3.0 & 5.2\\\\\n\t 6.3 & 2.5 & 5.0\\\\\n\t 6.5 & 3.0 & 5.2\\\\\n\t 6.2 & 3.4 & 5.4\\\\\n\t 5.9 & 3.0 & 5.1\\\\\n\\end{tabular}\n",
            "text/plain": [
              "    SepalLengthCm SepalWidthCm PetalLengthCm\n",
              "1   5.1           3.5          1.4          \n",
              "2   4.9           3.0          1.4          \n",
              "3   4.7           3.2          1.3          \n",
              "4   4.6           3.1          1.5          \n",
              "5   5.0           3.6          1.4          \n",
              "6   5.4           3.9          1.7          \n",
              "7   4.6           3.4          1.4          \n",
              "8   5.0           3.4          1.5          \n",
              "9   4.4           2.9          1.4          \n",
              "10  4.9           3.1          1.5          \n",
              "11  5.4           3.7          1.5          \n",
              "12  4.8           3.4          1.6          \n",
              "13  4.8           3.0          1.4          \n",
              "14  4.3           3.0          1.1          \n",
              "15  5.8           4.0          1.2          \n",
              "16  5.7           4.4          1.5          \n",
              "17  5.4           3.9          1.3          \n",
              "18  5.1           3.5          1.4          \n",
              "19  5.7           3.8          1.7          \n",
              "20  5.1           3.8          1.5          \n",
              "21  5.4           3.4          1.7          \n",
              "22  5.1           3.7          1.5          \n",
              "23  4.6           3.6          1.0          \n",
              "24  5.1           3.3          1.7          \n",
              "25  4.8           3.4          1.9          \n",
              "26  5.0           3.0          1.6          \n",
              "27  5.0           3.4          1.6          \n",
              "28  5.2           3.5          1.5          \n",
              "29  5.2           3.4          1.4          \n",
              "30  4.7           3.2          1.6          \n",
              "⋮   ⋮             ⋮            ⋮            \n",
              "121 6.9           3.2          5.7          \n",
              "122 5.6           2.8          4.9          \n",
              "123 7.7           2.8          6.7          \n",
              "124 6.3           2.7          4.9          \n",
              "125 6.7           3.3          5.7          \n",
              "126 7.2           3.2          6.0          \n",
              "127 6.2           2.8          4.8          \n",
              "128 6.1           3.0          4.9          \n",
              "129 6.4           2.8          5.6          \n",
              "130 7.2           3.0          5.8          \n",
              "131 7.4           2.8          6.1          \n",
              "132 7.9           3.8          6.4          \n",
              "133 6.4           2.8          5.6          \n",
              "134 6.3           2.8          5.1          \n",
              "135 6.1           2.6          5.6          \n",
              "136 7.7           3.0          6.1          \n",
              "137 6.3           3.4          5.6          \n",
              "138 6.4           3.1          5.5          \n",
              "139 6.0           3.0          4.8          \n",
              "140 6.9           3.1          5.4          \n",
              "141 6.7           3.1          5.6          \n",
              "142 6.9           3.1          5.1          \n",
              "143 5.8           2.7          5.1          \n",
              "144 6.8           3.2          5.9          \n",
              "145 6.7           3.3          5.7          \n",
              "146 6.7           3.0          5.2          \n",
              "147 6.3           2.5          5.0          \n",
              "148 6.5           3.0          5.2          \n",
              "149 6.2           3.4          5.4          \n",
              "150 5.9           3.0          5.1          "
            ]
          },
          "metadata": {}
        }
      ]
    },
    {
      "cell_type": "code",
      "source": [
        "#filter\n",
        "#is.na()\n",
        "#%>% pipe\n",
        "\n",
        "df %>%filter(!is.na(Species))"
      ],
      "metadata": {
        "colab": {
          "base_uri": "https://localhost:8080/",
          "height": 1000
        },
        "id": "HTiZmOtxGycv",
        "outputId": "47ffa74b-f69a-475c-af62-3f3c9520ea21"
      },
      "execution_count": 37,
      "outputs": [
        {
          "output_type": "display_data",
          "data": {
            "text/html": [
              "<table class=\"dataframe\">\n",
              "<caption>A data.frame: 150 × 6</caption>\n",
              "<thead>\n",
              "\t<tr><th scope=col>Id</th><th scope=col>SepalLengthCm</th><th scope=col>SepalWidthCm</th><th scope=col>PetalLengthCm</th><th scope=col>PetalWidthCm</th><th scope=col>Species</th></tr>\n",
              "\t<tr><th scope=col>&lt;int&gt;</th><th scope=col>&lt;dbl&gt;</th><th scope=col>&lt;dbl&gt;</th><th scope=col>&lt;dbl&gt;</th><th scope=col>&lt;dbl&gt;</th><th scope=col>&lt;chr&gt;</th></tr>\n",
              "</thead>\n",
              "<tbody>\n",
              "\t<tr><td> 1</td><td>5.1</td><td>3.5</td><td>1.4</td><td>0.2</td><td>Iris-setosa</td></tr>\n",
              "\t<tr><td> 2</td><td>4.9</td><td>3.0</td><td>1.4</td><td>0.2</td><td>Iris-setosa</td></tr>\n",
              "\t<tr><td> 3</td><td>4.7</td><td>3.2</td><td>1.3</td><td>0.2</td><td>Iris-setosa</td></tr>\n",
              "\t<tr><td> 4</td><td>4.6</td><td>3.1</td><td>1.5</td><td>0.2</td><td>Iris-setosa</td></tr>\n",
              "\t<tr><td> 5</td><td>5.0</td><td>3.6</td><td>1.4</td><td>0.2</td><td>Iris-setosa</td></tr>\n",
              "\t<tr><td> 6</td><td>5.4</td><td>3.9</td><td>1.7</td><td>0.4</td><td>Iris-setosa</td></tr>\n",
              "\t<tr><td> 7</td><td>4.6</td><td>3.4</td><td>1.4</td><td>0.3</td><td>Iris-setosa</td></tr>\n",
              "\t<tr><td> 8</td><td>5.0</td><td>3.4</td><td>1.5</td><td>0.2</td><td>Iris-setosa</td></tr>\n",
              "\t<tr><td> 9</td><td>4.4</td><td>2.9</td><td>1.4</td><td>0.2</td><td>Iris-setosa</td></tr>\n",
              "\t<tr><td>10</td><td>4.9</td><td>3.1</td><td>1.5</td><td>0.1</td><td>Iris-setosa</td></tr>\n",
              "\t<tr><td>11</td><td>5.4</td><td>3.7</td><td>1.5</td><td>0.2</td><td>Iris-setosa</td></tr>\n",
              "\t<tr><td>12</td><td>4.8</td><td>3.4</td><td>1.6</td><td>0.2</td><td>Iris-setosa</td></tr>\n",
              "\t<tr><td>13</td><td>4.8</td><td>3.0</td><td>1.4</td><td>0.1</td><td>Iris-setosa</td></tr>\n",
              "\t<tr><td>14</td><td>4.3</td><td>3.0</td><td>1.1</td><td>0.1</td><td>Iris-setosa</td></tr>\n",
              "\t<tr><td>15</td><td>5.8</td><td>4.0</td><td>1.2</td><td>0.2</td><td>Iris-setosa</td></tr>\n",
              "\t<tr><td>16</td><td>5.7</td><td>4.4</td><td>1.5</td><td>0.4</td><td>Iris-setosa</td></tr>\n",
              "\t<tr><td>17</td><td>5.4</td><td>3.9</td><td>1.3</td><td>0.4</td><td>Iris-setosa</td></tr>\n",
              "\t<tr><td>18</td><td>5.1</td><td>3.5</td><td>1.4</td><td>0.3</td><td>Iris-setosa</td></tr>\n",
              "\t<tr><td>19</td><td>5.7</td><td>3.8</td><td>1.7</td><td>0.3</td><td>Iris-setosa</td></tr>\n",
              "\t<tr><td>20</td><td>5.1</td><td>3.8</td><td>1.5</td><td>0.3</td><td>Iris-setosa</td></tr>\n",
              "\t<tr><td>21</td><td>5.4</td><td>3.4</td><td>1.7</td><td>0.2</td><td>Iris-setosa</td></tr>\n",
              "\t<tr><td>22</td><td>5.1</td><td>3.7</td><td>1.5</td><td>0.4</td><td>Iris-setosa</td></tr>\n",
              "\t<tr><td>23</td><td>4.6</td><td>3.6</td><td>1.0</td><td>0.2</td><td>Iris-setosa</td></tr>\n",
              "\t<tr><td>24</td><td>5.1</td><td>3.3</td><td>1.7</td><td>0.5</td><td>Iris-setosa</td></tr>\n",
              "\t<tr><td>25</td><td>4.8</td><td>3.4</td><td>1.9</td><td>0.2</td><td>Iris-setosa</td></tr>\n",
              "\t<tr><td>26</td><td>5.0</td><td>3.0</td><td>1.6</td><td>0.2</td><td>Iris-setosa</td></tr>\n",
              "\t<tr><td>27</td><td>5.0</td><td>3.4</td><td>1.6</td><td>0.4</td><td>Iris-setosa</td></tr>\n",
              "\t<tr><td>28</td><td>5.2</td><td>3.5</td><td>1.5</td><td>0.2</td><td>Iris-setosa</td></tr>\n",
              "\t<tr><td>29</td><td>5.2</td><td>3.4</td><td>1.4</td><td>0.2</td><td>Iris-setosa</td></tr>\n",
              "\t<tr><td>30</td><td>4.7</td><td>3.2</td><td>1.6</td><td>0.2</td><td>Iris-setosa</td></tr>\n",
              "\t<tr><td>⋮</td><td>⋮</td><td>⋮</td><td>⋮</td><td>⋮</td><td>⋮</td></tr>\n",
              "\t<tr><td>121</td><td>6.9</td><td>3.2</td><td>5.7</td><td>2.3</td><td>Iris-virginica</td></tr>\n",
              "\t<tr><td>122</td><td>5.6</td><td>2.8</td><td>4.9</td><td>2.0</td><td>Iris-virginica</td></tr>\n",
              "\t<tr><td>123</td><td>7.7</td><td>2.8</td><td>6.7</td><td>2.0</td><td>Iris-virginica</td></tr>\n",
              "\t<tr><td>124</td><td>6.3</td><td>2.7</td><td>4.9</td><td>1.8</td><td>Iris-virginica</td></tr>\n",
              "\t<tr><td>125</td><td>6.7</td><td>3.3</td><td>5.7</td><td>2.1</td><td>Iris-virginica</td></tr>\n",
              "\t<tr><td>126</td><td>7.2</td><td>3.2</td><td>6.0</td><td>1.8</td><td>Iris-virginica</td></tr>\n",
              "\t<tr><td>127</td><td>6.2</td><td>2.8</td><td>4.8</td><td>1.8</td><td>Iris-virginica</td></tr>\n",
              "\t<tr><td>128</td><td>6.1</td><td>3.0</td><td>4.9</td><td>1.8</td><td>Iris-virginica</td></tr>\n",
              "\t<tr><td>129</td><td>6.4</td><td>2.8</td><td>5.6</td><td>2.1</td><td>Iris-virginica</td></tr>\n",
              "\t<tr><td>130</td><td>7.2</td><td>3.0</td><td>5.8</td><td>1.6</td><td>Iris-virginica</td></tr>\n",
              "\t<tr><td>131</td><td>7.4</td><td>2.8</td><td>6.1</td><td>1.9</td><td>Iris-virginica</td></tr>\n",
              "\t<tr><td>132</td><td>7.9</td><td>3.8</td><td>6.4</td><td>2.0</td><td>Iris-virginica</td></tr>\n",
              "\t<tr><td>133</td><td>6.4</td><td>2.8</td><td>5.6</td><td>2.2</td><td>Iris-virginica</td></tr>\n",
              "\t<tr><td>134</td><td>6.3</td><td>2.8</td><td>5.1</td><td>1.5</td><td>Iris-virginica</td></tr>\n",
              "\t<tr><td>135</td><td>6.1</td><td>2.6</td><td>5.6</td><td>1.4</td><td>Iris-virginica</td></tr>\n",
              "\t<tr><td>136</td><td>7.7</td><td>3.0</td><td>6.1</td><td>2.3</td><td>Iris-virginica</td></tr>\n",
              "\t<tr><td>137</td><td>6.3</td><td>3.4</td><td>5.6</td><td>2.4</td><td>Iris-virginica</td></tr>\n",
              "\t<tr><td>138</td><td>6.4</td><td>3.1</td><td>5.5</td><td>1.8</td><td>Iris-virginica</td></tr>\n",
              "\t<tr><td>139</td><td>6.0</td><td>3.0</td><td>4.8</td><td>1.8</td><td>Iris-virginica</td></tr>\n",
              "\t<tr><td>140</td><td>6.9</td><td>3.1</td><td>5.4</td><td>2.1</td><td>Iris-virginica</td></tr>\n",
              "\t<tr><td>141</td><td>6.7</td><td>3.1</td><td>5.6</td><td>2.4</td><td>Iris-virginica</td></tr>\n",
              "\t<tr><td>142</td><td>6.9</td><td>3.1</td><td>5.1</td><td>2.3</td><td>Iris-virginica</td></tr>\n",
              "\t<tr><td>143</td><td>5.8</td><td>2.7</td><td>5.1</td><td>1.9</td><td>Iris-virginica</td></tr>\n",
              "\t<tr><td>144</td><td>6.8</td><td>3.2</td><td>5.9</td><td>2.3</td><td>Iris-virginica</td></tr>\n",
              "\t<tr><td>145</td><td>6.7</td><td>3.3</td><td>5.7</td><td>2.5</td><td>Iris-virginica</td></tr>\n",
              "\t<tr><td>146</td><td>6.7</td><td>3.0</td><td>5.2</td><td>2.3</td><td>Iris-virginica</td></tr>\n",
              "\t<tr><td>147</td><td>6.3</td><td>2.5</td><td>5.0</td><td>1.9</td><td>Iris-virginica</td></tr>\n",
              "\t<tr><td>148</td><td>6.5</td><td>3.0</td><td>5.2</td><td>2.0</td><td>Iris-virginica</td></tr>\n",
              "\t<tr><td>149</td><td>6.2</td><td>3.4</td><td>5.4</td><td>2.3</td><td>Iris-virginica</td></tr>\n",
              "\t<tr><td>150</td><td>5.9</td><td>3.0</td><td>5.1</td><td>1.8</td><td>Iris-virginica</td></tr>\n",
              "</tbody>\n",
              "</table>\n"
            ],
            "text/markdown": "\nA data.frame: 150 × 6\n\n| Id &lt;int&gt; | SepalLengthCm &lt;dbl&gt; | SepalWidthCm &lt;dbl&gt; | PetalLengthCm &lt;dbl&gt; | PetalWidthCm &lt;dbl&gt; | Species &lt;chr&gt; |\n|---|---|---|---|---|---|\n|  1 | 5.1 | 3.5 | 1.4 | 0.2 | Iris-setosa |\n|  2 | 4.9 | 3.0 | 1.4 | 0.2 | Iris-setosa |\n|  3 | 4.7 | 3.2 | 1.3 | 0.2 | Iris-setosa |\n|  4 | 4.6 | 3.1 | 1.5 | 0.2 | Iris-setosa |\n|  5 | 5.0 | 3.6 | 1.4 | 0.2 | Iris-setosa |\n|  6 | 5.4 | 3.9 | 1.7 | 0.4 | Iris-setosa |\n|  7 | 4.6 | 3.4 | 1.4 | 0.3 | Iris-setosa |\n|  8 | 5.0 | 3.4 | 1.5 | 0.2 | Iris-setosa |\n|  9 | 4.4 | 2.9 | 1.4 | 0.2 | Iris-setosa |\n| 10 | 4.9 | 3.1 | 1.5 | 0.1 | Iris-setosa |\n| 11 | 5.4 | 3.7 | 1.5 | 0.2 | Iris-setosa |\n| 12 | 4.8 | 3.4 | 1.6 | 0.2 | Iris-setosa |\n| 13 | 4.8 | 3.0 | 1.4 | 0.1 | Iris-setosa |\n| 14 | 4.3 | 3.0 | 1.1 | 0.1 | Iris-setosa |\n| 15 | 5.8 | 4.0 | 1.2 | 0.2 | Iris-setosa |\n| 16 | 5.7 | 4.4 | 1.5 | 0.4 | Iris-setosa |\n| 17 | 5.4 | 3.9 | 1.3 | 0.4 | Iris-setosa |\n| 18 | 5.1 | 3.5 | 1.4 | 0.3 | Iris-setosa |\n| 19 | 5.7 | 3.8 | 1.7 | 0.3 | Iris-setosa |\n| 20 | 5.1 | 3.8 | 1.5 | 0.3 | Iris-setosa |\n| 21 | 5.4 | 3.4 | 1.7 | 0.2 | Iris-setosa |\n| 22 | 5.1 | 3.7 | 1.5 | 0.4 | Iris-setosa |\n| 23 | 4.6 | 3.6 | 1.0 | 0.2 | Iris-setosa |\n| 24 | 5.1 | 3.3 | 1.7 | 0.5 | Iris-setosa |\n| 25 | 4.8 | 3.4 | 1.9 | 0.2 | Iris-setosa |\n| 26 | 5.0 | 3.0 | 1.6 | 0.2 | Iris-setosa |\n| 27 | 5.0 | 3.4 | 1.6 | 0.4 | Iris-setosa |\n| 28 | 5.2 | 3.5 | 1.5 | 0.2 | Iris-setosa |\n| 29 | 5.2 | 3.4 | 1.4 | 0.2 | Iris-setosa |\n| 30 | 4.7 | 3.2 | 1.6 | 0.2 | Iris-setosa |\n| ⋮ | ⋮ | ⋮ | ⋮ | ⋮ | ⋮ |\n| 121 | 6.9 | 3.2 | 5.7 | 2.3 | Iris-virginica |\n| 122 | 5.6 | 2.8 | 4.9 | 2.0 | Iris-virginica |\n| 123 | 7.7 | 2.8 | 6.7 | 2.0 | Iris-virginica |\n| 124 | 6.3 | 2.7 | 4.9 | 1.8 | Iris-virginica |\n| 125 | 6.7 | 3.3 | 5.7 | 2.1 | Iris-virginica |\n| 126 | 7.2 | 3.2 | 6.0 | 1.8 | Iris-virginica |\n| 127 | 6.2 | 2.8 | 4.8 | 1.8 | Iris-virginica |\n| 128 | 6.1 | 3.0 | 4.9 | 1.8 | Iris-virginica |\n| 129 | 6.4 | 2.8 | 5.6 | 2.1 | Iris-virginica |\n| 130 | 7.2 | 3.0 | 5.8 | 1.6 | Iris-virginica |\n| 131 | 7.4 | 2.8 | 6.1 | 1.9 | Iris-virginica |\n| 132 | 7.9 | 3.8 | 6.4 | 2.0 | Iris-virginica |\n| 133 | 6.4 | 2.8 | 5.6 | 2.2 | Iris-virginica |\n| 134 | 6.3 | 2.8 | 5.1 | 1.5 | Iris-virginica |\n| 135 | 6.1 | 2.6 | 5.6 | 1.4 | Iris-virginica |\n| 136 | 7.7 | 3.0 | 6.1 | 2.3 | Iris-virginica |\n| 137 | 6.3 | 3.4 | 5.6 | 2.4 | Iris-virginica |\n| 138 | 6.4 | 3.1 | 5.5 | 1.8 | Iris-virginica |\n| 139 | 6.0 | 3.0 | 4.8 | 1.8 | Iris-virginica |\n| 140 | 6.9 | 3.1 | 5.4 | 2.1 | Iris-virginica |\n| 141 | 6.7 | 3.1 | 5.6 | 2.4 | Iris-virginica |\n| 142 | 6.9 | 3.1 | 5.1 | 2.3 | Iris-virginica |\n| 143 | 5.8 | 2.7 | 5.1 | 1.9 | Iris-virginica |\n| 144 | 6.8 | 3.2 | 5.9 | 2.3 | Iris-virginica |\n| 145 | 6.7 | 3.3 | 5.7 | 2.5 | Iris-virginica |\n| 146 | 6.7 | 3.0 | 5.2 | 2.3 | Iris-virginica |\n| 147 | 6.3 | 2.5 | 5.0 | 1.9 | Iris-virginica |\n| 148 | 6.5 | 3.0 | 5.2 | 2.0 | Iris-virginica |\n| 149 | 6.2 | 3.4 | 5.4 | 2.3 | Iris-virginica |\n| 150 | 5.9 | 3.0 | 5.1 | 1.8 | Iris-virginica |\n\n",
            "text/latex": "A data.frame: 150 × 6\n\\begin{tabular}{llllll}\n Id & SepalLengthCm & SepalWidthCm & PetalLengthCm & PetalWidthCm & Species\\\\\n <int> & <dbl> & <dbl> & <dbl> & <dbl> & <chr>\\\\\n\\hline\n\t  1 & 5.1 & 3.5 & 1.4 & 0.2 & Iris-setosa\\\\\n\t  2 & 4.9 & 3.0 & 1.4 & 0.2 & Iris-setosa\\\\\n\t  3 & 4.7 & 3.2 & 1.3 & 0.2 & Iris-setosa\\\\\n\t  4 & 4.6 & 3.1 & 1.5 & 0.2 & Iris-setosa\\\\\n\t  5 & 5.0 & 3.6 & 1.4 & 0.2 & Iris-setosa\\\\\n\t  6 & 5.4 & 3.9 & 1.7 & 0.4 & Iris-setosa\\\\\n\t  7 & 4.6 & 3.4 & 1.4 & 0.3 & Iris-setosa\\\\\n\t  8 & 5.0 & 3.4 & 1.5 & 0.2 & Iris-setosa\\\\\n\t  9 & 4.4 & 2.9 & 1.4 & 0.2 & Iris-setosa\\\\\n\t 10 & 4.9 & 3.1 & 1.5 & 0.1 & Iris-setosa\\\\\n\t 11 & 5.4 & 3.7 & 1.5 & 0.2 & Iris-setosa\\\\\n\t 12 & 4.8 & 3.4 & 1.6 & 0.2 & Iris-setosa\\\\\n\t 13 & 4.8 & 3.0 & 1.4 & 0.1 & Iris-setosa\\\\\n\t 14 & 4.3 & 3.0 & 1.1 & 0.1 & Iris-setosa\\\\\n\t 15 & 5.8 & 4.0 & 1.2 & 0.2 & Iris-setosa\\\\\n\t 16 & 5.7 & 4.4 & 1.5 & 0.4 & Iris-setosa\\\\\n\t 17 & 5.4 & 3.9 & 1.3 & 0.4 & Iris-setosa\\\\\n\t 18 & 5.1 & 3.5 & 1.4 & 0.3 & Iris-setosa\\\\\n\t 19 & 5.7 & 3.8 & 1.7 & 0.3 & Iris-setosa\\\\\n\t 20 & 5.1 & 3.8 & 1.5 & 0.3 & Iris-setosa\\\\\n\t 21 & 5.4 & 3.4 & 1.7 & 0.2 & Iris-setosa\\\\\n\t 22 & 5.1 & 3.7 & 1.5 & 0.4 & Iris-setosa\\\\\n\t 23 & 4.6 & 3.6 & 1.0 & 0.2 & Iris-setosa\\\\\n\t 24 & 5.1 & 3.3 & 1.7 & 0.5 & Iris-setosa\\\\\n\t 25 & 4.8 & 3.4 & 1.9 & 0.2 & Iris-setosa\\\\\n\t 26 & 5.0 & 3.0 & 1.6 & 0.2 & Iris-setosa\\\\\n\t 27 & 5.0 & 3.4 & 1.6 & 0.4 & Iris-setosa\\\\\n\t 28 & 5.2 & 3.5 & 1.5 & 0.2 & Iris-setosa\\\\\n\t 29 & 5.2 & 3.4 & 1.4 & 0.2 & Iris-setosa\\\\\n\t 30 & 4.7 & 3.2 & 1.6 & 0.2 & Iris-setosa\\\\\n\t ⋮ & ⋮ & ⋮ & ⋮ & ⋮ & ⋮\\\\\n\t 121 & 6.9 & 3.2 & 5.7 & 2.3 & Iris-virginica\\\\\n\t 122 & 5.6 & 2.8 & 4.9 & 2.0 & Iris-virginica\\\\\n\t 123 & 7.7 & 2.8 & 6.7 & 2.0 & Iris-virginica\\\\\n\t 124 & 6.3 & 2.7 & 4.9 & 1.8 & Iris-virginica\\\\\n\t 125 & 6.7 & 3.3 & 5.7 & 2.1 & Iris-virginica\\\\\n\t 126 & 7.2 & 3.2 & 6.0 & 1.8 & Iris-virginica\\\\\n\t 127 & 6.2 & 2.8 & 4.8 & 1.8 & Iris-virginica\\\\\n\t 128 & 6.1 & 3.0 & 4.9 & 1.8 & Iris-virginica\\\\\n\t 129 & 6.4 & 2.8 & 5.6 & 2.1 & Iris-virginica\\\\\n\t 130 & 7.2 & 3.0 & 5.8 & 1.6 & Iris-virginica\\\\\n\t 131 & 7.4 & 2.8 & 6.1 & 1.9 & Iris-virginica\\\\\n\t 132 & 7.9 & 3.8 & 6.4 & 2.0 & Iris-virginica\\\\\n\t 133 & 6.4 & 2.8 & 5.6 & 2.2 & Iris-virginica\\\\\n\t 134 & 6.3 & 2.8 & 5.1 & 1.5 & Iris-virginica\\\\\n\t 135 & 6.1 & 2.6 & 5.6 & 1.4 & Iris-virginica\\\\\n\t 136 & 7.7 & 3.0 & 6.1 & 2.3 & Iris-virginica\\\\\n\t 137 & 6.3 & 3.4 & 5.6 & 2.4 & Iris-virginica\\\\\n\t 138 & 6.4 & 3.1 & 5.5 & 1.8 & Iris-virginica\\\\\n\t 139 & 6.0 & 3.0 & 4.8 & 1.8 & Iris-virginica\\\\\n\t 140 & 6.9 & 3.1 & 5.4 & 2.1 & Iris-virginica\\\\\n\t 141 & 6.7 & 3.1 & 5.6 & 2.4 & Iris-virginica\\\\\n\t 142 & 6.9 & 3.1 & 5.1 & 2.3 & Iris-virginica\\\\\n\t 143 & 5.8 & 2.7 & 5.1 & 1.9 & Iris-virginica\\\\\n\t 144 & 6.8 & 3.2 & 5.9 & 2.3 & Iris-virginica\\\\\n\t 145 & 6.7 & 3.3 & 5.7 & 2.5 & Iris-virginica\\\\\n\t 146 & 6.7 & 3.0 & 5.2 & 2.3 & Iris-virginica\\\\\n\t 147 & 6.3 & 2.5 & 5.0 & 1.9 & Iris-virginica\\\\\n\t 148 & 6.5 & 3.0 & 5.2 & 2.0 & Iris-virginica\\\\\n\t 149 & 6.2 & 3.4 & 5.4 & 2.3 & Iris-virginica\\\\\n\t 150 & 5.9 & 3.0 & 5.1 & 1.8 & Iris-virginica\\\\\n\\end{tabular}\n",
            "text/plain": [
              "    Id  SepalLengthCm SepalWidthCm PetalLengthCm PetalWidthCm Species       \n",
              "1    1  5.1           3.5          1.4           0.2          Iris-setosa   \n",
              "2    2  4.9           3.0          1.4           0.2          Iris-setosa   \n",
              "3    3  4.7           3.2          1.3           0.2          Iris-setosa   \n",
              "4    4  4.6           3.1          1.5           0.2          Iris-setosa   \n",
              "5    5  5.0           3.6          1.4           0.2          Iris-setosa   \n",
              "6    6  5.4           3.9          1.7           0.4          Iris-setosa   \n",
              "7    7  4.6           3.4          1.4           0.3          Iris-setosa   \n",
              "8    8  5.0           3.4          1.5           0.2          Iris-setosa   \n",
              "9    9  4.4           2.9          1.4           0.2          Iris-setosa   \n",
              "10  10  4.9           3.1          1.5           0.1          Iris-setosa   \n",
              "11  11  5.4           3.7          1.5           0.2          Iris-setosa   \n",
              "12  12  4.8           3.4          1.6           0.2          Iris-setosa   \n",
              "13  13  4.8           3.0          1.4           0.1          Iris-setosa   \n",
              "14  14  4.3           3.0          1.1           0.1          Iris-setosa   \n",
              "15  15  5.8           4.0          1.2           0.2          Iris-setosa   \n",
              "16  16  5.7           4.4          1.5           0.4          Iris-setosa   \n",
              "17  17  5.4           3.9          1.3           0.4          Iris-setosa   \n",
              "18  18  5.1           3.5          1.4           0.3          Iris-setosa   \n",
              "19  19  5.7           3.8          1.7           0.3          Iris-setosa   \n",
              "20  20  5.1           3.8          1.5           0.3          Iris-setosa   \n",
              "21  21  5.4           3.4          1.7           0.2          Iris-setosa   \n",
              "22  22  5.1           3.7          1.5           0.4          Iris-setosa   \n",
              "23  23  4.6           3.6          1.0           0.2          Iris-setosa   \n",
              "24  24  5.1           3.3          1.7           0.5          Iris-setosa   \n",
              "25  25  4.8           3.4          1.9           0.2          Iris-setosa   \n",
              "26  26  5.0           3.0          1.6           0.2          Iris-setosa   \n",
              "27  27  5.0           3.4          1.6           0.4          Iris-setosa   \n",
              "28  28  5.2           3.5          1.5           0.2          Iris-setosa   \n",
              "29  29  5.2           3.4          1.4           0.2          Iris-setosa   \n",
              "30  30  4.7           3.2          1.6           0.2          Iris-setosa   \n",
              "⋮   ⋮   ⋮             ⋮            ⋮             ⋮            ⋮             \n",
              "121 121 6.9           3.2          5.7           2.3          Iris-virginica\n",
              "122 122 5.6           2.8          4.9           2.0          Iris-virginica\n",
              "123 123 7.7           2.8          6.7           2.0          Iris-virginica\n",
              "124 124 6.3           2.7          4.9           1.8          Iris-virginica\n",
              "125 125 6.7           3.3          5.7           2.1          Iris-virginica\n",
              "126 126 7.2           3.2          6.0           1.8          Iris-virginica\n",
              "127 127 6.2           2.8          4.8           1.8          Iris-virginica\n",
              "128 128 6.1           3.0          4.9           1.8          Iris-virginica\n",
              "129 129 6.4           2.8          5.6           2.1          Iris-virginica\n",
              "130 130 7.2           3.0          5.8           1.6          Iris-virginica\n",
              "131 131 7.4           2.8          6.1           1.9          Iris-virginica\n",
              "132 132 7.9           3.8          6.4           2.0          Iris-virginica\n",
              "133 133 6.4           2.8          5.6           2.2          Iris-virginica\n",
              "134 134 6.3           2.8          5.1           1.5          Iris-virginica\n",
              "135 135 6.1           2.6          5.6           1.4          Iris-virginica\n",
              "136 136 7.7           3.0          6.1           2.3          Iris-virginica\n",
              "137 137 6.3           3.4          5.6           2.4          Iris-virginica\n",
              "138 138 6.4           3.1          5.5           1.8          Iris-virginica\n",
              "139 139 6.0           3.0          4.8           1.8          Iris-virginica\n",
              "140 140 6.9           3.1          5.4           2.1          Iris-virginica\n",
              "141 141 6.7           3.1          5.6           2.4          Iris-virginica\n",
              "142 142 6.9           3.1          5.1           2.3          Iris-virginica\n",
              "143 143 5.8           2.7          5.1           1.9          Iris-virginica\n",
              "144 144 6.8           3.2          5.9           2.3          Iris-virginica\n",
              "145 145 6.7           3.3          5.7           2.5          Iris-virginica\n",
              "146 146 6.7           3.0          5.2           2.3          Iris-virginica\n",
              "147 147 6.3           2.5          5.0           1.9          Iris-virginica\n",
              "148 148 6.5           3.0          5.2           2.0          Iris-virginica\n",
              "149 149 6.2           3.4          5.4           2.3          Iris-virginica\n",
              "150 150 5.9           3.0          5.1           1.8          Iris-virginica"
            ]
          },
          "metadata": {}
        }
      ]
    },
    {
      "cell_type": "code",
      "source": [
        "df%>%filter(is.na(SepalLengthCm))     # to find missing objects"
      ],
      "metadata": {
        "colab": {
          "base_uri": "https://localhost:8080/",
          "height": 98
        },
        "id": "FMyK2GO_G6zJ",
        "outputId": "69872054-0049-40c2-a20c-add6971d8a3e"
      },
      "execution_count": 38,
      "outputs": [
        {
          "output_type": "display_data",
          "data": {
            "text/html": [
              "<table class=\"dataframe\">\n",
              "<caption>A data.frame: 0 × 6</caption>\n",
              "<thead>\n",
              "\t<tr><th scope=col>Id</th><th scope=col>SepalLengthCm</th><th scope=col>SepalWidthCm</th><th scope=col>PetalLengthCm</th><th scope=col>PetalWidthCm</th><th scope=col>Species</th></tr>\n",
              "\t<tr><th scope=col>&lt;int&gt;</th><th scope=col>&lt;dbl&gt;</th><th scope=col>&lt;dbl&gt;</th><th scope=col>&lt;dbl&gt;</th><th scope=col>&lt;dbl&gt;</th><th scope=col>&lt;chr&gt;</th></tr>\n",
              "</thead>\n",
              "<tbody>\n",
              "</tbody>\n",
              "</table>\n"
            ],
            "text/markdown": "\nA data.frame: 0 × 6\n\n| Id &lt;int&gt; | SepalLengthCm &lt;dbl&gt; | SepalWidthCm &lt;dbl&gt; | PetalLengthCm &lt;dbl&gt; | PetalWidthCm &lt;dbl&gt; | Species &lt;chr&gt; |\n|---|---|---|---|---|---|\n\n",
            "text/latex": "A data.frame: 0 × 6\n\\begin{tabular}{llllll}\n Id & SepalLengthCm & SepalWidthCm & PetalLengthCm & PetalWidthCm & Species\\\\\n <int> & <dbl> & <dbl> & <dbl> & <dbl> & <chr>\\\\\n\\hline\n\\end{tabular}\n",
            "text/plain": [
              "     Id SepalLengthCm SepalWidthCm PetalLengthCm PetalWidthCm Species"
            ]
          },
          "metadata": {}
        }
      ]
    },
    {
      "cell_type": "code",
      "execution_count": null,
      "metadata": {
        "colab": {
          "base_uri": "https://localhost:8080/",
          "height": 34
        },
        "id": "Re011cDt_Uxo",
        "outputId": "dc2cb717-6488-4faf-beb1-b8e1462f9224"
      },
      "outputs": [
        {
          "data": {
            "text/html": [
              "0"
            ],
            "text/latex": "0",
            "text/markdown": "0",
            "text/plain": [
              "[1] 0"
            ]
          },
          "metadata": {},
          "output_type": "display_data"
        }
      ],
      "source": [
        "sum(is.na(df))         # to find the toatl sum of missing objects"
      ]
    },
    {
      "cell_type": "code",
      "source": [
        "arrange(df,SepalLengthCm)"
      ],
      "metadata": {
        "colab": {
          "base_uri": "https://localhost:8080/",
          "height": 1000
        },
        "id": "8JUVRTVwIE8F",
        "outputId": "627243e1-6899-4b19-b15f-dbf1486bdce1"
      },
      "execution_count": 39,
      "outputs": [
        {
          "output_type": "display_data",
          "data": {
            "text/html": [
              "<table class=\"dataframe\">\n",
              "<caption>A data.frame: 150 × 6</caption>\n",
              "<thead>\n",
              "\t<tr><th scope=col>Id</th><th scope=col>SepalLengthCm</th><th scope=col>SepalWidthCm</th><th scope=col>PetalLengthCm</th><th scope=col>PetalWidthCm</th><th scope=col>Species</th></tr>\n",
              "\t<tr><th scope=col>&lt;int&gt;</th><th scope=col>&lt;dbl&gt;</th><th scope=col>&lt;dbl&gt;</th><th scope=col>&lt;dbl&gt;</th><th scope=col>&lt;dbl&gt;</th><th scope=col>&lt;chr&gt;</th></tr>\n",
              "</thead>\n",
              "<tbody>\n",
              "\t<tr><td> 14</td><td>4.3</td><td>3.0</td><td>1.1</td><td>0.1</td><td>Iris-setosa    </td></tr>\n",
              "\t<tr><td>  9</td><td>4.4</td><td>2.9</td><td>1.4</td><td>0.2</td><td>Iris-setosa    </td></tr>\n",
              "\t<tr><td> 39</td><td>4.4</td><td>3.0</td><td>1.3</td><td>0.2</td><td>Iris-setosa    </td></tr>\n",
              "\t<tr><td> 43</td><td>4.4</td><td>3.2</td><td>1.3</td><td>0.2</td><td>Iris-setosa    </td></tr>\n",
              "\t<tr><td> 42</td><td>4.5</td><td>2.3</td><td>1.3</td><td>0.3</td><td>Iris-setosa    </td></tr>\n",
              "\t<tr><td>  4</td><td>4.6</td><td>3.1</td><td>1.5</td><td>0.2</td><td>Iris-setosa    </td></tr>\n",
              "\t<tr><td>  7</td><td>4.6</td><td>3.4</td><td>1.4</td><td>0.3</td><td>Iris-setosa    </td></tr>\n",
              "\t<tr><td> 23</td><td>4.6</td><td>3.6</td><td>1.0</td><td>0.2</td><td>Iris-setosa    </td></tr>\n",
              "\t<tr><td> 48</td><td>4.6</td><td>3.2</td><td>1.4</td><td>0.2</td><td>Iris-setosa    </td></tr>\n",
              "\t<tr><td>  3</td><td>4.7</td><td>3.2</td><td>1.3</td><td>0.2</td><td>Iris-setosa    </td></tr>\n",
              "\t<tr><td> 30</td><td>4.7</td><td>3.2</td><td>1.6</td><td>0.2</td><td>Iris-setosa    </td></tr>\n",
              "\t<tr><td> 12</td><td>4.8</td><td>3.4</td><td>1.6</td><td>0.2</td><td>Iris-setosa    </td></tr>\n",
              "\t<tr><td> 13</td><td>4.8</td><td>3.0</td><td>1.4</td><td>0.1</td><td>Iris-setosa    </td></tr>\n",
              "\t<tr><td> 25</td><td>4.8</td><td>3.4</td><td>1.9</td><td>0.2</td><td>Iris-setosa    </td></tr>\n",
              "\t<tr><td> 31</td><td>4.8</td><td>3.1</td><td>1.6</td><td>0.2</td><td>Iris-setosa    </td></tr>\n",
              "\t<tr><td> 46</td><td>4.8</td><td>3.0</td><td>1.4</td><td>0.3</td><td>Iris-setosa    </td></tr>\n",
              "\t<tr><td>  2</td><td>4.9</td><td>3.0</td><td>1.4</td><td>0.2</td><td>Iris-setosa    </td></tr>\n",
              "\t<tr><td> 10</td><td>4.9</td><td>3.1</td><td>1.5</td><td>0.1</td><td>Iris-setosa    </td></tr>\n",
              "\t<tr><td> 35</td><td>4.9</td><td>3.1</td><td>1.5</td><td>0.1</td><td>Iris-setosa    </td></tr>\n",
              "\t<tr><td> 38</td><td>4.9</td><td>3.1</td><td>1.5</td><td>0.1</td><td>Iris-setosa    </td></tr>\n",
              "\t<tr><td> 58</td><td>4.9</td><td>2.4</td><td>3.3</td><td>1.0</td><td>Iris-versicolor</td></tr>\n",
              "\t<tr><td>107</td><td>4.9</td><td>2.5</td><td>4.5</td><td>1.7</td><td>Iris-virginica </td></tr>\n",
              "\t<tr><td>  5</td><td>5.0</td><td>3.6</td><td>1.4</td><td>0.2</td><td>Iris-setosa    </td></tr>\n",
              "\t<tr><td>  8</td><td>5.0</td><td>3.4</td><td>1.5</td><td>0.2</td><td>Iris-setosa    </td></tr>\n",
              "\t<tr><td> 26</td><td>5.0</td><td>3.0</td><td>1.6</td><td>0.2</td><td>Iris-setosa    </td></tr>\n",
              "\t<tr><td> 27</td><td>5.0</td><td>3.4</td><td>1.6</td><td>0.4</td><td>Iris-setosa    </td></tr>\n",
              "\t<tr><td> 36</td><td>5.0</td><td>3.2</td><td>1.2</td><td>0.2</td><td>Iris-setosa    </td></tr>\n",
              "\t<tr><td> 41</td><td>5.0</td><td>3.5</td><td>1.3</td><td>0.3</td><td>Iris-setosa    </td></tr>\n",
              "\t<tr><td> 44</td><td>5.0</td><td>3.5</td><td>1.6</td><td>0.6</td><td>Iris-setosa    </td></tr>\n",
              "\t<tr><td> 50</td><td>5.0</td><td>3.3</td><td>1.4</td><td>0.2</td><td>Iris-setosa    </td></tr>\n",
              "\t<tr><td>⋮</td><td>⋮</td><td>⋮</td><td>⋮</td><td>⋮</td><td>⋮</td></tr>\n",
              "\t<tr><td> 59</td><td>6.6</td><td>2.9</td><td>4.6</td><td>1.3</td><td>Iris-versicolor</td></tr>\n",
              "\t<tr><td> 76</td><td>6.6</td><td>3.0</td><td>4.4</td><td>1.4</td><td>Iris-versicolor</td></tr>\n",
              "\t<tr><td> 66</td><td>6.7</td><td>3.1</td><td>4.4</td><td>1.4</td><td>Iris-versicolor</td></tr>\n",
              "\t<tr><td> 78</td><td>6.7</td><td>3.0</td><td>5.0</td><td>1.7</td><td>Iris-versicolor</td></tr>\n",
              "\t<tr><td> 87</td><td>6.7</td><td>3.1</td><td>4.7</td><td>1.5</td><td>Iris-versicolor</td></tr>\n",
              "\t<tr><td>109</td><td>6.7</td><td>2.5</td><td>5.8</td><td>1.8</td><td>Iris-virginica </td></tr>\n",
              "\t<tr><td>125</td><td>6.7</td><td>3.3</td><td>5.7</td><td>2.1</td><td>Iris-virginica </td></tr>\n",
              "\t<tr><td>141</td><td>6.7</td><td>3.1</td><td>5.6</td><td>2.4</td><td>Iris-virginica </td></tr>\n",
              "\t<tr><td>145</td><td>6.7</td><td>3.3</td><td>5.7</td><td>2.5</td><td>Iris-virginica </td></tr>\n",
              "\t<tr><td>146</td><td>6.7</td><td>3.0</td><td>5.2</td><td>2.3</td><td>Iris-virginica </td></tr>\n",
              "\t<tr><td> 77</td><td>6.8</td><td>2.8</td><td>4.8</td><td>1.4</td><td>Iris-versicolor</td></tr>\n",
              "\t<tr><td>113</td><td>6.8</td><td>3.0</td><td>5.5</td><td>2.1</td><td>Iris-virginica </td></tr>\n",
              "\t<tr><td>144</td><td>6.8</td><td>3.2</td><td>5.9</td><td>2.3</td><td>Iris-virginica </td></tr>\n",
              "\t<tr><td> 53</td><td>6.9</td><td>3.1</td><td>4.9</td><td>1.5</td><td>Iris-versicolor</td></tr>\n",
              "\t<tr><td>121</td><td>6.9</td><td>3.2</td><td>5.7</td><td>2.3</td><td>Iris-virginica </td></tr>\n",
              "\t<tr><td>140</td><td>6.9</td><td>3.1</td><td>5.4</td><td>2.1</td><td>Iris-virginica </td></tr>\n",
              "\t<tr><td>142</td><td>6.9</td><td>3.1</td><td>5.1</td><td>2.3</td><td>Iris-virginica </td></tr>\n",
              "\t<tr><td> 51</td><td>7.0</td><td>3.2</td><td>4.7</td><td>1.4</td><td>Iris-versicolor</td></tr>\n",
              "\t<tr><td>103</td><td>7.1</td><td>3.0</td><td>5.9</td><td>2.1</td><td>Iris-virginica </td></tr>\n",
              "\t<tr><td>110</td><td>7.2</td><td>3.6</td><td>6.1</td><td>2.5</td><td>Iris-virginica </td></tr>\n",
              "\t<tr><td>126</td><td>7.2</td><td>3.2</td><td>6.0</td><td>1.8</td><td>Iris-virginica </td></tr>\n",
              "\t<tr><td>130</td><td>7.2</td><td>3.0</td><td>5.8</td><td>1.6</td><td>Iris-virginica </td></tr>\n",
              "\t<tr><td>108</td><td>7.3</td><td>2.9</td><td>6.3</td><td>1.8</td><td>Iris-virginica </td></tr>\n",
              "\t<tr><td>131</td><td>7.4</td><td>2.8</td><td>6.1</td><td>1.9</td><td>Iris-virginica </td></tr>\n",
              "\t<tr><td>106</td><td>7.6</td><td>3.0</td><td>6.6</td><td>2.1</td><td>Iris-virginica </td></tr>\n",
              "\t<tr><td>118</td><td>7.7</td><td>3.8</td><td>6.7</td><td>2.2</td><td>Iris-virginica </td></tr>\n",
              "\t<tr><td>119</td><td>7.7</td><td>2.6</td><td>6.9</td><td>2.3</td><td>Iris-virginica </td></tr>\n",
              "\t<tr><td>123</td><td>7.7</td><td>2.8</td><td>6.7</td><td>2.0</td><td>Iris-virginica </td></tr>\n",
              "\t<tr><td>136</td><td>7.7</td><td>3.0</td><td>6.1</td><td>2.3</td><td>Iris-virginica </td></tr>\n",
              "\t<tr><td>132</td><td>7.9</td><td>3.8</td><td>6.4</td><td>2.0</td><td>Iris-virginica </td></tr>\n",
              "</tbody>\n",
              "</table>\n"
            ],
            "text/markdown": "\nA data.frame: 150 × 6\n\n| Id &lt;int&gt; | SepalLengthCm &lt;dbl&gt; | SepalWidthCm &lt;dbl&gt; | PetalLengthCm &lt;dbl&gt; | PetalWidthCm &lt;dbl&gt; | Species &lt;chr&gt; |\n|---|---|---|---|---|---|\n|  14 | 4.3 | 3.0 | 1.1 | 0.1 | Iris-setosa     |\n|   9 | 4.4 | 2.9 | 1.4 | 0.2 | Iris-setosa     |\n|  39 | 4.4 | 3.0 | 1.3 | 0.2 | Iris-setosa     |\n|  43 | 4.4 | 3.2 | 1.3 | 0.2 | Iris-setosa     |\n|  42 | 4.5 | 2.3 | 1.3 | 0.3 | Iris-setosa     |\n|   4 | 4.6 | 3.1 | 1.5 | 0.2 | Iris-setosa     |\n|   7 | 4.6 | 3.4 | 1.4 | 0.3 | Iris-setosa     |\n|  23 | 4.6 | 3.6 | 1.0 | 0.2 | Iris-setosa     |\n|  48 | 4.6 | 3.2 | 1.4 | 0.2 | Iris-setosa     |\n|   3 | 4.7 | 3.2 | 1.3 | 0.2 | Iris-setosa     |\n|  30 | 4.7 | 3.2 | 1.6 | 0.2 | Iris-setosa     |\n|  12 | 4.8 | 3.4 | 1.6 | 0.2 | Iris-setosa     |\n|  13 | 4.8 | 3.0 | 1.4 | 0.1 | Iris-setosa     |\n|  25 | 4.8 | 3.4 | 1.9 | 0.2 | Iris-setosa     |\n|  31 | 4.8 | 3.1 | 1.6 | 0.2 | Iris-setosa     |\n|  46 | 4.8 | 3.0 | 1.4 | 0.3 | Iris-setosa     |\n|   2 | 4.9 | 3.0 | 1.4 | 0.2 | Iris-setosa     |\n|  10 | 4.9 | 3.1 | 1.5 | 0.1 | Iris-setosa     |\n|  35 | 4.9 | 3.1 | 1.5 | 0.1 | Iris-setosa     |\n|  38 | 4.9 | 3.1 | 1.5 | 0.1 | Iris-setosa     |\n|  58 | 4.9 | 2.4 | 3.3 | 1.0 | Iris-versicolor |\n| 107 | 4.9 | 2.5 | 4.5 | 1.7 | Iris-virginica  |\n|   5 | 5.0 | 3.6 | 1.4 | 0.2 | Iris-setosa     |\n|   8 | 5.0 | 3.4 | 1.5 | 0.2 | Iris-setosa     |\n|  26 | 5.0 | 3.0 | 1.6 | 0.2 | Iris-setosa     |\n|  27 | 5.0 | 3.4 | 1.6 | 0.4 | Iris-setosa     |\n|  36 | 5.0 | 3.2 | 1.2 | 0.2 | Iris-setosa     |\n|  41 | 5.0 | 3.5 | 1.3 | 0.3 | Iris-setosa     |\n|  44 | 5.0 | 3.5 | 1.6 | 0.6 | Iris-setosa     |\n|  50 | 5.0 | 3.3 | 1.4 | 0.2 | Iris-setosa     |\n| ⋮ | ⋮ | ⋮ | ⋮ | ⋮ | ⋮ |\n|  59 | 6.6 | 2.9 | 4.6 | 1.3 | Iris-versicolor |\n|  76 | 6.6 | 3.0 | 4.4 | 1.4 | Iris-versicolor |\n|  66 | 6.7 | 3.1 | 4.4 | 1.4 | Iris-versicolor |\n|  78 | 6.7 | 3.0 | 5.0 | 1.7 | Iris-versicolor |\n|  87 | 6.7 | 3.1 | 4.7 | 1.5 | Iris-versicolor |\n| 109 | 6.7 | 2.5 | 5.8 | 1.8 | Iris-virginica  |\n| 125 | 6.7 | 3.3 | 5.7 | 2.1 | Iris-virginica  |\n| 141 | 6.7 | 3.1 | 5.6 | 2.4 | Iris-virginica  |\n| 145 | 6.7 | 3.3 | 5.7 | 2.5 | Iris-virginica  |\n| 146 | 6.7 | 3.0 | 5.2 | 2.3 | Iris-virginica  |\n|  77 | 6.8 | 2.8 | 4.8 | 1.4 | Iris-versicolor |\n| 113 | 6.8 | 3.0 | 5.5 | 2.1 | Iris-virginica  |\n| 144 | 6.8 | 3.2 | 5.9 | 2.3 | Iris-virginica  |\n|  53 | 6.9 | 3.1 | 4.9 | 1.5 | Iris-versicolor |\n| 121 | 6.9 | 3.2 | 5.7 | 2.3 | Iris-virginica  |\n| 140 | 6.9 | 3.1 | 5.4 | 2.1 | Iris-virginica  |\n| 142 | 6.9 | 3.1 | 5.1 | 2.3 | Iris-virginica  |\n|  51 | 7.0 | 3.2 | 4.7 | 1.4 | Iris-versicolor |\n| 103 | 7.1 | 3.0 | 5.9 | 2.1 | Iris-virginica  |\n| 110 | 7.2 | 3.6 | 6.1 | 2.5 | Iris-virginica  |\n| 126 | 7.2 | 3.2 | 6.0 | 1.8 | Iris-virginica  |\n| 130 | 7.2 | 3.0 | 5.8 | 1.6 | Iris-virginica  |\n| 108 | 7.3 | 2.9 | 6.3 | 1.8 | Iris-virginica  |\n| 131 | 7.4 | 2.8 | 6.1 | 1.9 | Iris-virginica  |\n| 106 | 7.6 | 3.0 | 6.6 | 2.1 | Iris-virginica  |\n| 118 | 7.7 | 3.8 | 6.7 | 2.2 | Iris-virginica  |\n| 119 | 7.7 | 2.6 | 6.9 | 2.3 | Iris-virginica  |\n| 123 | 7.7 | 2.8 | 6.7 | 2.0 | Iris-virginica  |\n| 136 | 7.7 | 3.0 | 6.1 | 2.3 | Iris-virginica  |\n| 132 | 7.9 | 3.8 | 6.4 | 2.0 | Iris-virginica  |\n\n",
            "text/latex": "A data.frame: 150 × 6\n\\begin{tabular}{llllll}\n Id & SepalLengthCm & SepalWidthCm & PetalLengthCm & PetalWidthCm & Species\\\\\n <int> & <dbl> & <dbl> & <dbl> & <dbl> & <chr>\\\\\n\\hline\n\t  14 & 4.3 & 3.0 & 1.1 & 0.1 & Iris-setosa    \\\\\n\t   9 & 4.4 & 2.9 & 1.4 & 0.2 & Iris-setosa    \\\\\n\t  39 & 4.4 & 3.0 & 1.3 & 0.2 & Iris-setosa    \\\\\n\t  43 & 4.4 & 3.2 & 1.3 & 0.2 & Iris-setosa    \\\\\n\t  42 & 4.5 & 2.3 & 1.3 & 0.3 & Iris-setosa    \\\\\n\t   4 & 4.6 & 3.1 & 1.5 & 0.2 & Iris-setosa    \\\\\n\t   7 & 4.6 & 3.4 & 1.4 & 0.3 & Iris-setosa    \\\\\n\t  23 & 4.6 & 3.6 & 1.0 & 0.2 & Iris-setosa    \\\\\n\t  48 & 4.6 & 3.2 & 1.4 & 0.2 & Iris-setosa    \\\\\n\t   3 & 4.7 & 3.2 & 1.3 & 0.2 & Iris-setosa    \\\\\n\t  30 & 4.7 & 3.2 & 1.6 & 0.2 & Iris-setosa    \\\\\n\t  12 & 4.8 & 3.4 & 1.6 & 0.2 & Iris-setosa    \\\\\n\t  13 & 4.8 & 3.0 & 1.4 & 0.1 & Iris-setosa    \\\\\n\t  25 & 4.8 & 3.4 & 1.9 & 0.2 & Iris-setosa    \\\\\n\t  31 & 4.8 & 3.1 & 1.6 & 0.2 & Iris-setosa    \\\\\n\t  46 & 4.8 & 3.0 & 1.4 & 0.3 & Iris-setosa    \\\\\n\t   2 & 4.9 & 3.0 & 1.4 & 0.2 & Iris-setosa    \\\\\n\t  10 & 4.9 & 3.1 & 1.5 & 0.1 & Iris-setosa    \\\\\n\t  35 & 4.9 & 3.1 & 1.5 & 0.1 & Iris-setosa    \\\\\n\t  38 & 4.9 & 3.1 & 1.5 & 0.1 & Iris-setosa    \\\\\n\t  58 & 4.9 & 2.4 & 3.3 & 1.0 & Iris-versicolor\\\\\n\t 107 & 4.9 & 2.5 & 4.5 & 1.7 & Iris-virginica \\\\\n\t   5 & 5.0 & 3.6 & 1.4 & 0.2 & Iris-setosa    \\\\\n\t   8 & 5.0 & 3.4 & 1.5 & 0.2 & Iris-setosa    \\\\\n\t  26 & 5.0 & 3.0 & 1.6 & 0.2 & Iris-setosa    \\\\\n\t  27 & 5.0 & 3.4 & 1.6 & 0.4 & Iris-setosa    \\\\\n\t  36 & 5.0 & 3.2 & 1.2 & 0.2 & Iris-setosa    \\\\\n\t  41 & 5.0 & 3.5 & 1.3 & 0.3 & Iris-setosa    \\\\\n\t  44 & 5.0 & 3.5 & 1.6 & 0.6 & Iris-setosa    \\\\\n\t  50 & 5.0 & 3.3 & 1.4 & 0.2 & Iris-setosa    \\\\\n\t ⋮ & ⋮ & ⋮ & ⋮ & ⋮ & ⋮\\\\\n\t  59 & 6.6 & 2.9 & 4.6 & 1.3 & Iris-versicolor\\\\\n\t  76 & 6.6 & 3.0 & 4.4 & 1.4 & Iris-versicolor\\\\\n\t  66 & 6.7 & 3.1 & 4.4 & 1.4 & Iris-versicolor\\\\\n\t  78 & 6.7 & 3.0 & 5.0 & 1.7 & Iris-versicolor\\\\\n\t  87 & 6.7 & 3.1 & 4.7 & 1.5 & Iris-versicolor\\\\\n\t 109 & 6.7 & 2.5 & 5.8 & 1.8 & Iris-virginica \\\\\n\t 125 & 6.7 & 3.3 & 5.7 & 2.1 & Iris-virginica \\\\\n\t 141 & 6.7 & 3.1 & 5.6 & 2.4 & Iris-virginica \\\\\n\t 145 & 6.7 & 3.3 & 5.7 & 2.5 & Iris-virginica \\\\\n\t 146 & 6.7 & 3.0 & 5.2 & 2.3 & Iris-virginica \\\\\n\t  77 & 6.8 & 2.8 & 4.8 & 1.4 & Iris-versicolor\\\\\n\t 113 & 6.8 & 3.0 & 5.5 & 2.1 & Iris-virginica \\\\\n\t 144 & 6.8 & 3.2 & 5.9 & 2.3 & Iris-virginica \\\\\n\t  53 & 6.9 & 3.1 & 4.9 & 1.5 & Iris-versicolor\\\\\n\t 121 & 6.9 & 3.2 & 5.7 & 2.3 & Iris-virginica \\\\\n\t 140 & 6.9 & 3.1 & 5.4 & 2.1 & Iris-virginica \\\\\n\t 142 & 6.9 & 3.1 & 5.1 & 2.3 & Iris-virginica \\\\\n\t  51 & 7.0 & 3.2 & 4.7 & 1.4 & Iris-versicolor\\\\\n\t 103 & 7.1 & 3.0 & 5.9 & 2.1 & Iris-virginica \\\\\n\t 110 & 7.2 & 3.6 & 6.1 & 2.5 & Iris-virginica \\\\\n\t 126 & 7.2 & 3.2 & 6.0 & 1.8 & Iris-virginica \\\\\n\t 130 & 7.2 & 3.0 & 5.8 & 1.6 & Iris-virginica \\\\\n\t 108 & 7.3 & 2.9 & 6.3 & 1.8 & Iris-virginica \\\\\n\t 131 & 7.4 & 2.8 & 6.1 & 1.9 & Iris-virginica \\\\\n\t 106 & 7.6 & 3.0 & 6.6 & 2.1 & Iris-virginica \\\\\n\t 118 & 7.7 & 3.8 & 6.7 & 2.2 & Iris-virginica \\\\\n\t 119 & 7.7 & 2.6 & 6.9 & 2.3 & Iris-virginica \\\\\n\t 123 & 7.7 & 2.8 & 6.7 & 2.0 & Iris-virginica \\\\\n\t 136 & 7.7 & 3.0 & 6.1 & 2.3 & Iris-virginica \\\\\n\t 132 & 7.9 & 3.8 & 6.4 & 2.0 & Iris-virginica \\\\\n\\end{tabular}\n",
            "text/plain": [
              "    Id  SepalLengthCm SepalWidthCm PetalLengthCm PetalWidthCm Species        \n",
              "1    14 4.3           3.0          1.1           0.1          Iris-setosa    \n",
              "2     9 4.4           2.9          1.4           0.2          Iris-setosa    \n",
              "3    39 4.4           3.0          1.3           0.2          Iris-setosa    \n",
              "4    43 4.4           3.2          1.3           0.2          Iris-setosa    \n",
              "5    42 4.5           2.3          1.3           0.3          Iris-setosa    \n",
              "6     4 4.6           3.1          1.5           0.2          Iris-setosa    \n",
              "7     7 4.6           3.4          1.4           0.3          Iris-setosa    \n",
              "8    23 4.6           3.6          1.0           0.2          Iris-setosa    \n",
              "9    48 4.6           3.2          1.4           0.2          Iris-setosa    \n",
              "10    3 4.7           3.2          1.3           0.2          Iris-setosa    \n",
              "11   30 4.7           3.2          1.6           0.2          Iris-setosa    \n",
              "12   12 4.8           3.4          1.6           0.2          Iris-setosa    \n",
              "13   13 4.8           3.0          1.4           0.1          Iris-setosa    \n",
              "14   25 4.8           3.4          1.9           0.2          Iris-setosa    \n",
              "15   31 4.8           3.1          1.6           0.2          Iris-setosa    \n",
              "16   46 4.8           3.0          1.4           0.3          Iris-setosa    \n",
              "17    2 4.9           3.0          1.4           0.2          Iris-setosa    \n",
              "18   10 4.9           3.1          1.5           0.1          Iris-setosa    \n",
              "19   35 4.9           3.1          1.5           0.1          Iris-setosa    \n",
              "20   38 4.9           3.1          1.5           0.1          Iris-setosa    \n",
              "21   58 4.9           2.4          3.3           1.0          Iris-versicolor\n",
              "22  107 4.9           2.5          4.5           1.7          Iris-virginica \n",
              "23    5 5.0           3.6          1.4           0.2          Iris-setosa    \n",
              "24    8 5.0           3.4          1.5           0.2          Iris-setosa    \n",
              "25   26 5.0           3.0          1.6           0.2          Iris-setosa    \n",
              "26   27 5.0           3.4          1.6           0.4          Iris-setosa    \n",
              "27   36 5.0           3.2          1.2           0.2          Iris-setosa    \n",
              "28   41 5.0           3.5          1.3           0.3          Iris-setosa    \n",
              "29   44 5.0           3.5          1.6           0.6          Iris-setosa    \n",
              "30   50 5.0           3.3          1.4           0.2          Iris-setosa    \n",
              "⋮   ⋮   ⋮             ⋮            ⋮             ⋮            ⋮              \n",
              "121  59 6.6           2.9          4.6           1.3          Iris-versicolor\n",
              "122  76 6.6           3.0          4.4           1.4          Iris-versicolor\n",
              "123  66 6.7           3.1          4.4           1.4          Iris-versicolor\n",
              "124  78 6.7           3.0          5.0           1.7          Iris-versicolor\n",
              "125  87 6.7           3.1          4.7           1.5          Iris-versicolor\n",
              "126 109 6.7           2.5          5.8           1.8          Iris-virginica \n",
              "127 125 6.7           3.3          5.7           2.1          Iris-virginica \n",
              "128 141 6.7           3.1          5.6           2.4          Iris-virginica \n",
              "129 145 6.7           3.3          5.7           2.5          Iris-virginica \n",
              "130 146 6.7           3.0          5.2           2.3          Iris-virginica \n",
              "131  77 6.8           2.8          4.8           1.4          Iris-versicolor\n",
              "132 113 6.8           3.0          5.5           2.1          Iris-virginica \n",
              "133 144 6.8           3.2          5.9           2.3          Iris-virginica \n",
              "134  53 6.9           3.1          4.9           1.5          Iris-versicolor\n",
              "135 121 6.9           3.2          5.7           2.3          Iris-virginica \n",
              "136 140 6.9           3.1          5.4           2.1          Iris-virginica \n",
              "137 142 6.9           3.1          5.1           2.3          Iris-virginica \n",
              "138  51 7.0           3.2          4.7           1.4          Iris-versicolor\n",
              "139 103 7.1           3.0          5.9           2.1          Iris-virginica \n",
              "140 110 7.2           3.6          6.1           2.5          Iris-virginica \n",
              "141 126 7.2           3.2          6.0           1.8          Iris-virginica \n",
              "142 130 7.2           3.0          5.8           1.6          Iris-virginica \n",
              "143 108 7.3           2.9          6.3           1.8          Iris-virginica \n",
              "144 131 7.4           2.8          6.1           1.9          Iris-virginica \n",
              "145 106 7.6           3.0          6.6           2.1          Iris-virginica \n",
              "146 118 7.7           3.8          6.7           2.2          Iris-virginica \n",
              "147 119 7.7           2.6          6.9           2.3          Iris-virginica \n",
              "148 123 7.7           2.8          6.7           2.0          Iris-virginica \n",
              "149 136 7.7           3.0          6.1           2.3          Iris-virginica \n",
              "150 132 7.9           3.8          6.4           2.0          Iris-virginica "
            ]
          },
          "metadata": {}
        }
      ]
    },
    {
      "cell_type": "code",
      "execution_count": 33,
      "metadata": {
        "colab": {
          "base_uri": "https://localhost:8080/",
          "height": 1000
        },
        "id": "s_QfFvrt_WBw",
        "outputId": "7708da11-f3f6-4234-e5ff-ceb007c1494b"
      },
      "outputs": [
        {
          "output_type": "display_data",
          "data": {
            "text/html": [
              "<table class=\"dataframe\">\n",
              "<caption>A data.frame: 150 × 3</caption>\n",
              "<thead>\n",
              "\t<tr><th scope=col>SepalLengthCm</th><th scope=col>SepalWidthCm</th><th scope=col>Species</th></tr>\n",
              "\t<tr><th scope=col>&lt;dbl&gt;</th><th scope=col>&lt;dbl&gt;</th><th scope=col>&lt;chr&gt;</th></tr>\n",
              "</thead>\n",
              "<tbody>\n",
              "\t<tr><td>5.1</td><td>3.5</td><td>Iris-setosa</td></tr>\n",
              "\t<tr><td>4.9</td><td>3.0</td><td>Iris-setosa</td></tr>\n",
              "\t<tr><td>4.7</td><td>3.2</td><td>Iris-setosa</td></tr>\n",
              "\t<tr><td>4.6</td><td>3.1</td><td>Iris-setosa</td></tr>\n",
              "\t<tr><td>5.0</td><td>3.6</td><td>Iris-setosa</td></tr>\n",
              "\t<tr><td>5.4</td><td>3.9</td><td>Iris-setosa</td></tr>\n",
              "\t<tr><td>4.6</td><td>3.4</td><td>Iris-setosa</td></tr>\n",
              "\t<tr><td>5.0</td><td>3.4</td><td>Iris-setosa</td></tr>\n",
              "\t<tr><td>4.4</td><td>2.9</td><td>Iris-setosa</td></tr>\n",
              "\t<tr><td>4.9</td><td>3.1</td><td>Iris-setosa</td></tr>\n",
              "\t<tr><td>5.4</td><td>3.7</td><td>Iris-setosa</td></tr>\n",
              "\t<tr><td>4.8</td><td>3.4</td><td>Iris-setosa</td></tr>\n",
              "\t<tr><td>4.8</td><td>3.0</td><td>Iris-setosa</td></tr>\n",
              "\t<tr><td>4.3</td><td>3.0</td><td>Iris-setosa</td></tr>\n",
              "\t<tr><td>5.8</td><td>4.0</td><td>Iris-setosa</td></tr>\n",
              "\t<tr><td>5.7</td><td>4.4</td><td>Iris-setosa</td></tr>\n",
              "\t<tr><td>5.4</td><td>3.9</td><td>Iris-setosa</td></tr>\n",
              "\t<tr><td>5.1</td><td>3.5</td><td>Iris-setosa</td></tr>\n",
              "\t<tr><td>5.7</td><td>3.8</td><td>Iris-setosa</td></tr>\n",
              "\t<tr><td>5.1</td><td>3.8</td><td>Iris-setosa</td></tr>\n",
              "\t<tr><td>5.4</td><td>3.4</td><td>Iris-setosa</td></tr>\n",
              "\t<tr><td>5.1</td><td>3.7</td><td>Iris-setosa</td></tr>\n",
              "\t<tr><td>4.6</td><td>3.6</td><td>Iris-setosa</td></tr>\n",
              "\t<tr><td>5.1</td><td>3.3</td><td>Iris-setosa</td></tr>\n",
              "\t<tr><td>4.8</td><td>3.4</td><td>Iris-setosa</td></tr>\n",
              "\t<tr><td>5.0</td><td>3.0</td><td>Iris-setosa</td></tr>\n",
              "\t<tr><td>5.0</td><td>3.4</td><td>Iris-setosa</td></tr>\n",
              "\t<tr><td>5.2</td><td>3.5</td><td>Iris-setosa</td></tr>\n",
              "\t<tr><td>5.2</td><td>3.4</td><td>Iris-setosa</td></tr>\n",
              "\t<tr><td>4.7</td><td>3.2</td><td>Iris-setosa</td></tr>\n",
              "\t<tr><td>⋮</td><td>⋮</td><td>⋮</td></tr>\n",
              "\t<tr><td>6.9</td><td>3.2</td><td>Iris-virginica</td></tr>\n",
              "\t<tr><td>5.6</td><td>2.8</td><td>Iris-virginica</td></tr>\n",
              "\t<tr><td>7.7</td><td>2.8</td><td>Iris-virginica</td></tr>\n",
              "\t<tr><td>6.3</td><td>2.7</td><td>Iris-virginica</td></tr>\n",
              "\t<tr><td>6.7</td><td>3.3</td><td>Iris-virginica</td></tr>\n",
              "\t<tr><td>7.2</td><td>3.2</td><td>Iris-virginica</td></tr>\n",
              "\t<tr><td>6.2</td><td>2.8</td><td>Iris-virginica</td></tr>\n",
              "\t<tr><td>6.1</td><td>3.0</td><td>Iris-virginica</td></tr>\n",
              "\t<tr><td>6.4</td><td>2.8</td><td>Iris-virginica</td></tr>\n",
              "\t<tr><td>7.2</td><td>3.0</td><td>Iris-virginica</td></tr>\n",
              "\t<tr><td>7.4</td><td>2.8</td><td>Iris-virginica</td></tr>\n",
              "\t<tr><td>7.9</td><td>3.8</td><td>Iris-virginica</td></tr>\n",
              "\t<tr><td>6.4</td><td>2.8</td><td>Iris-virginica</td></tr>\n",
              "\t<tr><td>6.3</td><td>2.8</td><td>Iris-virginica</td></tr>\n",
              "\t<tr><td>6.1</td><td>2.6</td><td>Iris-virginica</td></tr>\n",
              "\t<tr><td>7.7</td><td>3.0</td><td>Iris-virginica</td></tr>\n",
              "\t<tr><td>6.3</td><td>3.4</td><td>Iris-virginica</td></tr>\n",
              "\t<tr><td>6.4</td><td>3.1</td><td>Iris-virginica</td></tr>\n",
              "\t<tr><td>6.0</td><td>3.0</td><td>Iris-virginica</td></tr>\n",
              "\t<tr><td>6.9</td><td>3.1</td><td>Iris-virginica</td></tr>\n",
              "\t<tr><td>6.7</td><td>3.1</td><td>Iris-virginica</td></tr>\n",
              "\t<tr><td>6.9</td><td>3.1</td><td>Iris-virginica</td></tr>\n",
              "\t<tr><td>5.8</td><td>2.7</td><td>Iris-virginica</td></tr>\n",
              "\t<tr><td>6.8</td><td>3.2</td><td>Iris-virginica</td></tr>\n",
              "\t<tr><td>6.7</td><td>3.3</td><td>Iris-virginica</td></tr>\n",
              "\t<tr><td>6.7</td><td>3.0</td><td>Iris-virginica</td></tr>\n",
              "\t<tr><td>6.3</td><td>2.5</td><td>Iris-virginica</td></tr>\n",
              "\t<tr><td>6.5</td><td>3.0</td><td>Iris-virginica</td></tr>\n",
              "\t<tr><td>6.2</td><td>3.4</td><td>Iris-virginica</td></tr>\n",
              "\t<tr><td>5.9</td><td>3.0</td><td>Iris-virginica</td></tr>\n",
              "</tbody>\n",
              "</table>\n"
            ],
            "text/markdown": "\nA data.frame: 150 × 3\n\n| SepalLengthCm &lt;dbl&gt; | SepalWidthCm &lt;dbl&gt; | Species &lt;chr&gt; |\n|---|---|---|\n| 5.1 | 3.5 | Iris-setosa |\n| 4.9 | 3.0 | Iris-setosa |\n| 4.7 | 3.2 | Iris-setosa |\n| 4.6 | 3.1 | Iris-setosa |\n| 5.0 | 3.6 | Iris-setosa |\n| 5.4 | 3.9 | Iris-setosa |\n| 4.6 | 3.4 | Iris-setosa |\n| 5.0 | 3.4 | Iris-setosa |\n| 4.4 | 2.9 | Iris-setosa |\n| 4.9 | 3.1 | Iris-setosa |\n| 5.4 | 3.7 | Iris-setosa |\n| 4.8 | 3.4 | Iris-setosa |\n| 4.8 | 3.0 | Iris-setosa |\n| 4.3 | 3.0 | Iris-setosa |\n| 5.8 | 4.0 | Iris-setosa |\n| 5.7 | 4.4 | Iris-setosa |\n| 5.4 | 3.9 | Iris-setosa |\n| 5.1 | 3.5 | Iris-setosa |\n| 5.7 | 3.8 | Iris-setosa |\n| 5.1 | 3.8 | Iris-setosa |\n| 5.4 | 3.4 | Iris-setosa |\n| 5.1 | 3.7 | Iris-setosa |\n| 4.6 | 3.6 | Iris-setosa |\n| 5.1 | 3.3 | Iris-setosa |\n| 4.8 | 3.4 | Iris-setosa |\n| 5.0 | 3.0 | Iris-setosa |\n| 5.0 | 3.4 | Iris-setosa |\n| 5.2 | 3.5 | Iris-setosa |\n| 5.2 | 3.4 | Iris-setosa |\n| 4.7 | 3.2 | Iris-setosa |\n| ⋮ | ⋮ | ⋮ |\n| 6.9 | 3.2 | Iris-virginica |\n| 5.6 | 2.8 | Iris-virginica |\n| 7.7 | 2.8 | Iris-virginica |\n| 6.3 | 2.7 | Iris-virginica |\n| 6.7 | 3.3 | Iris-virginica |\n| 7.2 | 3.2 | Iris-virginica |\n| 6.2 | 2.8 | Iris-virginica |\n| 6.1 | 3.0 | Iris-virginica |\n| 6.4 | 2.8 | Iris-virginica |\n| 7.2 | 3.0 | Iris-virginica |\n| 7.4 | 2.8 | Iris-virginica |\n| 7.9 | 3.8 | Iris-virginica |\n| 6.4 | 2.8 | Iris-virginica |\n| 6.3 | 2.8 | Iris-virginica |\n| 6.1 | 2.6 | Iris-virginica |\n| 7.7 | 3.0 | Iris-virginica |\n| 6.3 | 3.4 | Iris-virginica |\n| 6.4 | 3.1 | Iris-virginica |\n| 6.0 | 3.0 | Iris-virginica |\n| 6.9 | 3.1 | Iris-virginica |\n| 6.7 | 3.1 | Iris-virginica |\n| 6.9 | 3.1 | Iris-virginica |\n| 5.8 | 2.7 | Iris-virginica |\n| 6.8 | 3.2 | Iris-virginica |\n| 6.7 | 3.3 | Iris-virginica |\n| 6.7 | 3.0 | Iris-virginica |\n| 6.3 | 2.5 | Iris-virginica |\n| 6.5 | 3.0 | Iris-virginica |\n| 6.2 | 3.4 | Iris-virginica |\n| 5.9 | 3.0 | Iris-virginica |\n\n",
            "text/latex": "A data.frame: 150 × 3\n\\begin{tabular}{lll}\n SepalLengthCm & SepalWidthCm & Species\\\\\n <dbl> & <dbl> & <chr>\\\\\n\\hline\n\t 5.1 & 3.5 & Iris-setosa\\\\\n\t 4.9 & 3.0 & Iris-setosa\\\\\n\t 4.7 & 3.2 & Iris-setosa\\\\\n\t 4.6 & 3.1 & Iris-setosa\\\\\n\t 5.0 & 3.6 & Iris-setosa\\\\\n\t 5.4 & 3.9 & Iris-setosa\\\\\n\t 4.6 & 3.4 & Iris-setosa\\\\\n\t 5.0 & 3.4 & Iris-setosa\\\\\n\t 4.4 & 2.9 & Iris-setosa\\\\\n\t 4.9 & 3.1 & Iris-setosa\\\\\n\t 5.4 & 3.7 & Iris-setosa\\\\\n\t 4.8 & 3.4 & Iris-setosa\\\\\n\t 4.8 & 3.0 & Iris-setosa\\\\\n\t 4.3 & 3.0 & Iris-setosa\\\\\n\t 5.8 & 4.0 & Iris-setosa\\\\\n\t 5.7 & 4.4 & Iris-setosa\\\\\n\t 5.4 & 3.9 & Iris-setosa\\\\\n\t 5.1 & 3.5 & Iris-setosa\\\\\n\t 5.7 & 3.8 & Iris-setosa\\\\\n\t 5.1 & 3.8 & Iris-setosa\\\\\n\t 5.4 & 3.4 & Iris-setosa\\\\\n\t 5.1 & 3.7 & Iris-setosa\\\\\n\t 4.6 & 3.6 & Iris-setosa\\\\\n\t 5.1 & 3.3 & Iris-setosa\\\\\n\t 4.8 & 3.4 & Iris-setosa\\\\\n\t 5.0 & 3.0 & Iris-setosa\\\\\n\t 5.0 & 3.4 & Iris-setosa\\\\\n\t 5.2 & 3.5 & Iris-setosa\\\\\n\t 5.2 & 3.4 & Iris-setosa\\\\\n\t 4.7 & 3.2 & Iris-setosa\\\\\n\t ⋮ & ⋮ & ⋮\\\\\n\t 6.9 & 3.2 & Iris-virginica\\\\\n\t 5.6 & 2.8 & Iris-virginica\\\\\n\t 7.7 & 2.8 & Iris-virginica\\\\\n\t 6.3 & 2.7 & Iris-virginica\\\\\n\t 6.7 & 3.3 & Iris-virginica\\\\\n\t 7.2 & 3.2 & Iris-virginica\\\\\n\t 6.2 & 2.8 & Iris-virginica\\\\\n\t 6.1 & 3.0 & Iris-virginica\\\\\n\t 6.4 & 2.8 & Iris-virginica\\\\\n\t 7.2 & 3.0 & Iris-virginica\\\\\n\t 7.4 & 2.8 & Iris-virginica\\\\\n\t 7.9 & 3.8 & Iris-virginica\\\\\n\t 6.4 & 2.8 & Iris-virginica\\\\\n\t 6.3 & 2.8 & Iris-virginica\\\\\n\t 6.1 & 2.6 & Iris-virginica\\\\\n\t 7.7 & 3.0 & Iris-virginica\\\\\n\t 6.3 & 3.4 & Iris-virginica\\\\\n\t 6.4 & 3.1 & Iris-virginica\\\\\n\t 6.0 & 3.0 & Iris-virginica\\\\\n\t 6.9 & 3.1 & Iris-virginica\\\\\n\t 6.7 & 3.1 & Iris-virginica\\\\\n\t 6.9 & 3.1 & Iris-virginica\\\\\n\t 5.8 & 2.7 & Iris-virginica\\\\\n\t 6.8 & 3.2 & Iris-virginica\\\\\n\t 6.7 & 3.3 & Iris-virginica\\\\\n\t 6.7 & 3.0 & Iris-virginica\\\\\n\t 6.3 & 2.5 & Iris-virginica\\\\\n\t 6.5 & 3.0 & Iris-virginica\\\\\n\t 6.2 & 3.4 & Iris-virginica\\\\\n\t 5.9 & 3.0 & Iris-virginica\\\\\n\\end{tabular}\n",
            "text/plain": [
              "    SepalLengthCm SepalWidthCm Species       \n",
              "1   5.1           3.5          Iris-setosa   \n",
              "2   4.9           3.0          Iris-setosa   \n",
              "3   4.7           3.2          Iris-setosa   \n",
              "4   4.6           3.1          Iris-setosa   \n",
              "5   5.0           3.6          Iris-setosa   \n",
              "6   5.4           3.9          Iris-setosa   \n",
              "7   4.6           3.4          Iris-setosa   \n",
              "8   5.0           3.4          Iris-setosa   \n",
              "9   4.4           2.9          Iris-setosa   \n",
              "10  4.9           3.1          Iris-setosa   \n",
              "11  5.4           3.7          Iris-setosa   \n",
              "12  4.8           3.4          Iris-setosa   \n",
              "13  4.8           3.0          Iris-setosa   \n",
              "14  4.3           3.0          Iris-setosa   \n",
              "15  5.8           4.0          Iris-setosa   \n",
              "16  5.7           4.4          Iris-setosa   \n",
              "17  5.4           3.9          Iris-setosa   \n",
              "18  5.1           3.5          Iris-setosa   \n",
              "19  5.7           3.8          Iris-setosa   \n",
              "20  5.1           3.8          Iris-setosa   \n",
              "21  5.4           3.4          Iris-setosa   \n",
              "22  5.1           3.7          Iris-setosa   \n",
              "23  4.6           3.6          Iris-setosa   \n",
              "24  5.1           3.3          Iris-setosa   \n",
              "25  4.8           3.4          Iris-setosa   \n",
              "26  5.0           3.0          Iris-setosa   \n",
              "27  5.0           3.4          Iris-setosa   \n",
              "28  5.2           3.5          Iris-setosa   \n",
              "29  5.2           3.4          Iris-setosa   \n",
              "30  4.7           3.2          Iris-setosa   \n",
              "⋮   ⋮             ⋮            ⋮             \n",
              "121 6.9           3.2          Iris-virginica\n",
              "122 5.6           2.8          Iris-virginica\n",
              "123 7.7           2.8          Iris-virginica\n",
              "124 6.3           2.7          Iris-virginica\n",
              "125 6.7           3.3          Iris-virginica\n",
              "126 7.2           3.2          Iris-virginica\n",
              "127 6.2           2.8          Iris-virginica\n",
              "128 6.1           3.0          Iris-virginica\n",
              "129 6.4           2.8          Iris-virginica\n",
              "130 7.2           3.0          Iris-virginica\n",
              "131 7.4           2.8          Iris-virginica\n",
              "132 7.9           3.8          Iris-virginica\n",
              "133 6.4           2.8          Iris-virginica\n",
              "134 6.3           2.8          Iris-virginica\n",
              "135 6.1           2.6          Iris-virginica\n",
              "136 7.7           3.0          Iris-virginica\n",
              "137 6.3           3.4          Iris-virginica\n",
              "138 6.4           3.1          Iris-virginica\n",
              "139 6.0           3.0          Iris-virginica\n",
              "140 6.9           3.1          Iris-virginica\n",
              "141 6.7           3.1          Iris-virginica\n",
              "142 6.9           3.1          Iris-virginica\n",
              "143 5.8           2.7          Iris-virginica\n",
              "144 6.8           3.2          Iris-virginica\n",
              "145 6.7           3.3          Iris-virginica\n",
              "146 6.7           3.0          Iris-virginica\n",
              "147 6.3           2.5          Iris-virginica\n",
              "148 6.5           3.0          Iris-virginica\n",
              "149 6.2           3.4          Iris-virginica\n",
              "150 5.9           3.0          Iris-virginica"
            ]
          },
          "metadata": {}
        }
      ],
      "source": [
        "select(df,starts_with(\"S\"))         #display col which starts with S"
      ]
    },
    {
      "cell_type": "code",
      "source": [
        "select(df,matches(\"a\"))         # it display the columns which having \"a\""
      ],
      "metadata": {
        "colab": {
          "base_uri": "https://localhost:8080/",
          "height": 1000
        },
        "id": "4SeYevg_IZWT",
        "outputId": "ab7b58fa-8237-4750-dfdb-35be1d8598e9"
      },
      "execution_count": 40,
      "outputs": [
        {
          "output_type": "display_data",
          "data": {
            "text/html": [
              "<table class=\"dataframe\">\n",
              "<caption>A data.frame: 150 × 4</caption>\n",
              "<thead>\n",
              "\t<tr><th scope=col>SepalLengthCm</th><th scope=col>SepalWidthCm</th><th scope=col>PetalLengthCm</th><th scope=col>PetalWidthCm</th></tr>\n",
              "\t<tr><th scope=col>&lt;dbl&gt;</th><th scope=col>&lt;dbl&gt;</th><th scope=col>&lt;dbl&gt;</th><th scope=col>&lt;dbl&gt;</th></tr>\n",
              "</thead>\n",
              "<tbody>\n",
              "\t<tr><td>5.1</td><td>3.5</td><td>1.4</td><td>0.2</td></tr>\n",
              "\t<tr><td>4.9</td><td>3.0</td><td>1.4</td><td>0.2</td></tr>\n",
              "\t<tr><td>4.7</td><td>3.2</td><td>1.3</td><td>0.2</td></tr>\n",
              "\t<tr><td>4.6</td><td>3.1</td><td>1.5</td><td>0.2</td></tr>\n",
              "\t<tr><td>5.0</td><td>3.6</td><td>1.4</td><td>0.2</td></tr>\n",
              "\t<tr><td>5.4</td><td>3.9</td><td>1.7</td><td>0.4</td></tr>\n",
              "\t<tr><td>4.6</td><td>3.4</td><td>1.4</td><td>0.3</td></tr>\n",
              "\t<tr><td>5.0</td><td>3.4</td><td>1.5</td><td>0.2</td></tr>\n",
              "\t<tr><td>4.4</td><td>2.9</td><td>1.4</td><td>0.2</td></tr>\n",
              "\t<tr><td>4.9</td><td>3.1</td><td>1.5</td><td>0.1</td></tr>\n",
              "\t<tr><td>5.4</td><td>3.7</td><td>1.5</td><td>0.2</td></tr>\n",
              "\t<tr><td>4.8</td><td>3.4</td><td>1.6</td><td>0.2</td></tr>\n",
              "\t<tr><td>4.8</td><td>3.0</td><td>1.4</td><td>0.1</td></tr>\n",
              "\t<tr><td>4.3</td><td>3.0</td><td>1.1</td><td>0.1</td></tr>\n",
              "\t<tr><td>5.8</td><td>4.0</td><td>1.2</td><td>0.2</td></tr>\n",
              "\t<tr><td>5.7</td><td>4.4</td><td>1.5</td><td>0.4</td></tr>\n",
              "\t<tr><td>5.4</td><td>3.9</td><td>1.3</td><td>0.4</td></tr>\n",
              "\t<tr><td>5.1</td><td>3.5</td><td>1.4</td><td>0.3</td></tr>\n",
              "\t<tr><td>5.7</td><td>3.8</td><td>1.7</td><td>0.3</td></tr>\n",
              "\t<tr><td>5.1</td><td>3.8</td><td>1.5</td><td>0.3</td></tr>\n",
              "\t<tr><td>5.4</td><td>3.4</td><td>1.7</td><td>0.2</td></tr>\n",
              "\t<tr><td>5.1</td><td>3.7</td><td>1.5</td><td>0.4</td></tr>\n",
              "\t<tr><td>4.6</td><td>3.6</td><td>1.0</td><td>0.2</td></tr>\n",
              "\t<tr><td>5.1</td><td>3.3</td><td>1.7</td><td>0.5</td></tr>\n",
              "\t<tr><td>4.8</td><td>3.4</td><td>1.9</td><td>0.2</td></tr>\n",
              "\t<tr><td>5.0</td><td>3.0</td><td>1.6</td><td>0.2</td></tr>\n",
              "\t<tr><td>5.0</td><td>3.4</td><td>1.6</td><td>0.4</td></tr>\n",
              "\t<tr><td>5.2</td><td>3.5</td><td>1.5</td><td>0.2</td></tr>\n",
              "\t<tr><td>5.2</td><td>3.4</td><td>1.4</td><td>0.2</td></tr>\n",
              "\t<tr><td>4.7</td><td>3.2</td><td>1.6</td><td>0.2</td></tr>\n",
              "\t<tr><td>⋮</td><td>⋮</td><td>⋮</td><td>⋮</td></tr>\n",
              "\t<tr><td>6.9</td><td>3.2</td><td>5.7</td><td>2.3</td></tr>\n",
              "\t<tr><td>5.6</td><td>2.8</td><td>4.9</td><td>2.0</td></tr>\n",
              "\t<tr><td>7.7</td><td>2.8</td><td>6.7</td><td>2.0</td></tr>\n",
              "\t<tr><td>6.3</td><td>2.7</td><td>4.9</td><td>1.8</td></tr>\n",
              "\t<tr><td>6.7</td><td>3.3</td><td>5.7</td><td>2.1</td></tr>\n",
              "\t<tr><td>7.2</td><td>3.2</td><td>6.0</td><td>1.8</td></tr>\n",
              "\t<tr><td>6.2</td><td>2.8</td><td>4.8</td><td>1.8</td></tr>\n",
              "\t<tr><td>6.1</td><td>3.0</td><td>4.9</td><td>1.8</td></tr>\n",
              "\t<tr><td>6.4</td><td>2.8</td><td>5.6</td><td>2.1</td></tr>\n",
              "\t<tr><td>7.2</td><td>3.0</td><td>5.8</td><td>1.6</td></tr>\n",
              "\t<tr><td>7.4</td><td>2.8</td><td>6.1</td><td>1.9</td></tr>\n",
              "\t<tr><td>7.9</td><td>3.8</td><td>6.4</td><td>2.0</td></tr>\n",
              "\t<tr><td>6.4</td><td>2.8</td><td>5.6</td><td>2.2</td></tr>\n",
              "\t<tr><td>6.3</td><td>2.8</td><td>5.1</td><td>1.5</td></tr>\n",
              "\t<tr><td>6.1</td><td>2.6</td><td>5.6</td><td>1.4</td></tr>\n",
              "\t<tr><td>7.7</td><td>3.0</td><td>6.1</td><td>2.3</td></tr>\n",
              "\t<tr><td>6.3</td><td>3.4</td><td>5.6</td><td>2.4</td></tr>\n",
              "\t<tr><td>6.4</td><td>3.1</td><td>5.5</td><td>1.8</td></tr>\n",
              "\t<tr><td>6.0</td><td>3.0</td><td>4.8</td><td>1.8</td></tr>\n",
              "\t<tr><td>6.9</td><td>3.1</td><td>5.4</td><td>2.1</td></tr>\n",
              "\t<tr><td>6.7</td><td>3.1</td><td>5.6</td><td>2.4</td></tr>\n",
              "\t<tr><td>6.9</td><td>3.1</td><td>5.1</td><td>2.3</td></tr>\n",
              "\t<tr><td>5.8</td><td>2.7</td><td>5.1</td><td>1.9</td></tr>\n",
              "\t<tr><td>6.8</td><td>3.2</td><td>5.9</td><td>2.3</td></tr>\n",
              "\t<tr><td>6.7</td><td>3.3</td><td>5.7</td><td>2.5</td></tr>\n",
              "\t<tr><td>6.7</td><td>3.0</td><td>5.2</td><td>2.3</td></tr>\n",
              "\t<tr><td>6.3</td><td>2.5</td><td>5.0</td><td>1.9</td></tr>\n",
              "\t<tr><td>6.5</td><td>3.0</td><td>5.2</td><td>2.0</td></tr>\n",
              "\t<tr><td>6.2</td><td>3.4</td><td>5.4</td><td>2.3</td></tr>\n",
              "\t<tr><td>5.9</td><td>3.0</td><td>5.1</td><td>1.8</td></tr>\n",
              "</tbody>\n",
              "</table>\n"
            ],
            "text/markdown": "\nA data.frame: 150 × 4\n\n| SepalLengthCm &lt;dbl&gt; | SepalWidthCm &lt;dbl&gt; | PetalLengthCm &lt;dbl&gt; | PetalWidthCm &lt;dbl&gt; |\n|---|---|---|---|\n| 5.1 | 3.5 | 1.4 | 0.2 |\n| 4.9 | 3.0 | 1.4 | 0.2 |\n| 4.7 | 3.2 | 1.3 | 0.2 |\n| 4.6 | 3.1 | 1.5 | 0.2 |\n| 5.0 | 3.6 | 1.4 | 0.2 |\n| 5.4 | 3.9 | 1.7 | 0.4 |\n| 4.6 | 3.4 | 1.4 | 0.3 |\n| 5.0 | 3.4 | 1.5 | 0.2 |\n| 4.4 | 2.9 | 1.4 | 0.2 |\n| 4.9 | 3.1 | 1.5 | 0.1 |\n| 5.4 | 3.7 | 1.5 | 0.2 |\n| 4.8 | 3.4 | 1.6 | 0.2 |\n| 4.8 | 3.0 | 1.4 | 0.1 |\n| 4.3 | 3.0 | 1.1 | 0.1 |\n| 5.8 | 4.0 | 1.2 | 0.2 |\n| 5.7 | 4.4 | 1.5 | 0.4 |\n| 5.4 | 3.9 | 1.3 | 0.4 |\n| 5.1 | 3.5 | 1.4 | 0.3 |\n| 5.7 | 3.8 | 1.7 | 0.3 |\n| 5.1 | 3.8 | 1.5 | 0.3 |\n| 5.4 | 3.4 | 1.7 | 0.2 |\n| 5.1 | 3.7 | 1.5 | 0.4 |\n| 4.6 | 3.6 | 1.0 | 0.2 |\n| 5.1 | 3.3 | 1.7 | 0.5 |\n| 4.8 | 3.4 | 1.9 | 0.2 |\n| 5.0 | 3.0 | 1.6 | 0.2 |\n| 5.0 | 3.4 | 1.6 | 0.4 |\n| 5.2 | 3.5 | 1.5 | 0.2 |\n| 5.2 | 3.4 | 1.4 | 0.2 |\n| 4.7 | 3.2 | 1.6 | 0.2 |\n| ⋮ | ⋮ | ⋮ | ⋮ |\n| 6.9 | 3.2 | 5.7 | 2.3 |\n| 5.6 | 2.8 | 4.9 | 2.0 |\n| 7.7 | 2.8 | 6.7 | 2.0 |\n| 6.3 | 2.7 | 4.9 | 1.8 |\n| 6.7 | 3.3 | 5.7 | 2.1 |\n| 7.2 | 3.2 | 6.0 | 1.8 |\n| 6.2 | 2.8 | 4.8 | 1.8 |\n| 6.1 | 3.0 | 4.9 | 1.8 |\n| 6.4 | 2.8 | 5.6 | 2.1 |\n| 7.2 | 3.0 | 5.8 | 1.6 |\n| 7.4 | 2.8 | 6.1 | 1.9 |\n| 7.9 | 3.8 | 6.4 | 2.0 |\n| 6.4 | 2.8 | 5.6 | 2.2 |\n| 6.3 | 2.8 | 5.1 | 1.5 |\n| 6.1 | 2.6 | 5.6 | 1.4 |\n| 7.7 | 3.0 | 6.1 | 2.3 |\n| 6.3 | 3.4 | 5.6 | 2.4 |\n| 6.4 | 3.1 | 5.5 | 1.8 |\n| 6.0 | 3.0 | 4.8 | 1.8 |\n| 6.9 | 3.1 | 5.4 | 2.1 |\n| 6.7 | 3.1 | 5.6 | 2.4 |\n| 6.9 | 3.1 | 5.1 | 2.3 |\n| 5.8 | 2.7 | 5.1 | 1.9 |\n| 6.8 | 3.2 | 5.9 | 2.3 |\n| 6.7 | 3.3 | 5.7 | 2.5 |\n| 6.7 | 3.0 | 5.2 | 2.3 |\n| 6.3 | 2.5 | 5.0 | 1.9 |\n| 6.5 | 3.0 | 5.2 | 2.0 |\n| 6.2 | 3.4 | 5.4 | 2.3 |\n| 5.9 | 3.0 | 5.1 | 1.8 |\n\n",
            "text/latex": "A data.frame: 150 × 4\n\\begin{tabular}{llll}\n SepalLengthCm & SepalWidthCm & PetalLengthCm & PetalWidthCm\\\\\n <dbl> & <dbl> & <dbl> & <dbl>\\\\\n\\hline\n\t 5.1 & 3.5 & 1.4 & 0.2\\\\\n\t 4.9 & 3.0 & 1.4 & 0.2\\\\\n\t 4.7 & 3.2 & 1.3 & 0.2\\\\\n\t 4.6 & 3.1 & 1.5 & 0.2\\\\\n\t 5.0 & 3.6 & 1.4 & 0.2\\\\\n\t 5.4 & 3.9 & 1.7 & 0.4\\\\\n\t 4.6 & 3.4 & 1.4 & 0.3\\\\\n\t 5.0 & 3.4 & 1.5 & 0.2\\\\\n\t 4.4 & 2.9 & 1.4 & 0.2\\\\\n\t 4.9 & 3.1 & 1.5 & 0.1\\\\\n\t 5.4 & 3.7 & 1.5 & 0.2\\\\\n\t 4.8 & 3.4 & 1.6 & 0.2\\\\\n\t 4.8 & 3.0 & 1.4 & 0.1\\\\\n\t 4.3 & 3.0 & 1.1 & 0.1\\\\\n\t 5.8 & 4.0 & 1.2 & 0.2\\\\\n\t 5.7 & 4.4 & 1.5 & 0.4\\\\\n\t 5.4 & 3.9 & 1.3 & 0.4\\\\\n\t 5.1 & 3.5 & 1.4 & 0.3\\\\\n\t 5.7 & 3.8 & 1.7 & 0.3\\\\\n\t 5.1 & 3.8 & 1.5 & 0.3\\\\\n\t 5.4 & 3.4 & 1.7 & 0.2\\\\\n\t 5.1 & 3.7 & 1.5 & 0.4\\\\\n\t 4.6 & 3.6 & 1.0 & 0.2\\\\\n\t 5.1 & 3.3 & 1.7 & 0.5\\\\\n\t 4.8 & 3.4 & 1.9 & 0.2\\\\\n\t 5.0 & 3.0 & 1.6 & 0.2\\\\\n\t 5.0 & 3.4 & 1.6 & 0.4\\\\\n\t 5.2 & 3.5 & 1.5 & 0.2\\\\\n\t 5.2 & 3.4 & 1.4 & 0.2\\\\\n\t 4.7 & 3.2 & 1.6 & 0.2\\\\\n\t ⋮ & ⋮ & ⋮ & ⋮\\\\\n\t 6.9 & 3.2 & 5.7 & 2.3\\\\\n\t 5.6 & 2.8 & 4.9 & 2.0\\\\\n\t 7.7 & 2.8 & 6.7 & 2.0\\\\\n\t 6.3 & 2.7 & 4.9 & 1.8\\\\\n\t 6.7 & 3.3 & 5.7 & 2.1\\\\\n\t 7.2 & 3.2 & 6.0 & 1.8\\\\\n\t 6.2 & 2.8 & 4.8 & 1.8\\\\\n\t 6.1 & 3.0 & 4.9 & 1.8\\\\\n\t 6.4 & 2.8 & 5.6 & 2.1\\\\\n\t 7.2 & 3.0 & 5.8 & 1.6\\\\\n\t 7.4 & 2.8 & 6.1 & 1.9\\\\\n\t 7.9 & 3.8 & 6.4 & 2.0\\\\\n\t 6.4 & 2.8 & 5.6 & 2.2\\\\\n\t 6.3 & 2.8 & 5.1 & 1.5\\\\\n\t 6.1 & 2.6 & 5.6 & 1.4\\\\\n\t 7.7 & 3.0 & 6.1 & 2.3\\\\\n\t 6.3 & 3.4 & 5.6 & 2.4\\\\\n\t 6.4 & 3.1 & 5.5 & 1.8\\\\\n\t 6.0 & 3.0 & 4.8 & 1.8\\\\\n\t 6.9 & 3.1 & 5.4 & 2.1\\\\\n\t 6.7 & 3.1 & 5.6 & 2.4\\\\\n\t 6.9 & 3.1 & 5.1 & 2.3\\\\\n\t 5.8 & 2.7 & 5.1 & 1.9\\\\\n\t 6.8 & 3.2 & 5.9 & 2.3\\\\\n\t 6.7 & 3.3 & 5.7 & 2.5\\\\\n\t 6.7 & 3.0 & 5.2 & 2.3\\\\\n\t 6.3 & 2.5 & 5.0 & 1.9\\\\\n\t 6.5 & 3.0 & 5.2 & 2.0\\\\\n\t 6.2 & 3.4 & 5.4 & 2.3\\\\\n\t 5.9 & 3.0 & 5.1 & 1.8\\\\\n\\end{tabular}\n",
            "text/plain": [
              "    SepalLengthCm SepalWidthCm PetalLengthCm PetalWidthCm\n",
              "1   5.1           3.5          1.4           0.2         \n",
              "2   4.9           3.0          1.4           0.2         \n",
              "3   4.7           3.2          1.3           0.2         \n",
              "4   4.6           3.1          1.5           0.2         \n",
              "5   5.0           3.6          1.4           0.2         \n",
              "6   5.4           3.9          1.7           0.4         \n",
              "7   4.6           3.4          1.4           0.3         \n",
              "8   5.0           3.4          1.5           0.2         \n",
              "9   4.4           2.9          1.4           0.2         \n",
              "10  4.9           3.1          1.5           0.1         \n",
              "11  5.4           3.7          1.5           0.2         \n",
              "12  4.8           3.4          1.6           0.2         \n",
              "13  4.8           3.0          1.4           0.1         \n",
              "14  4.3           3.0          1.1           0.1         \n",
              "15  5.8           4.0          1.2           0.2         \n",
              "16  5.7           4.4          1.5           0.4         \n",
              "17  5.4           3.9          1.3           0.4         \n",
              "18  5.1           3.5          1.4           0.3         \n",
              "19  5.7           3.8          1.7           0.3         \n",
              "20  5.1           3.8          1.5           0.3         \n",
              "21  5.4           3.4          1.7           0.2         \n",
              "22  5.1           3.7          1.5           0.4         \n",
              "23  4.6           3.6          1.0           0.2         \n",
              "24  5.1           3.3          1.7           0.5         \n",
              "25  4.8           3.4          1.9           0.2         \n",
              "26  5.0           3.0          1.6           0.2         \n",
              "27  5.0           3.4          1.6           0.4         \n",
              "28  5.2           3.5          1.5           0.2         \n",
              "29  5.2           3.4          1.4           0.2         \n",
              "30  4.7           3.2          1.6           0.2         \n",
              "⋮   ⋮             ⋮            ⋮             ⋮           \n",
              "121 6.9           3.2          5.7           2.3         \n",
              "122 5.6           2.8          4.9           2.0         \n",
              "123 7.7           2.8          6.7           2.0         \n",
              "124 6.3           2.7          4.9           1.8         \n",
              "125 6.7           3.3          5.7           2.1         \n",
              "126 7.2           3.2          6.0           1.8         \n",
              "127 6.2           2.8          4.8           1.8         \n",
              "128 6.1           3.0          4.9           1.8         \n",
              "129 6.4           2.8          5.6           2.1         \n",
              "130 7.2           3.0          5.8           1.6         \n",
              "131 7.4           2.8          6.1           1.9         \n",
              "132 7.9           3.8          6.4           2.0         \n",
              "133 6.4           2.8          5.6           2.2         \n",
              "134 6.3           2.8          5.1           1.5         \n",
              "135 6.1           2.6          5.6           1.4         \n",
              "136 7.7           3.0          6.1           2.3         \n",
              "137 6.3           3.4          5.6           2.4         \n",
              "138 6.4           3.1          5.5           1.8         \n",
              "139 6.0           3.0          4.8           1.8         \n",
              "140 6.9           3.1          5.4           2.1         \n",
              "141 6.7           3.1          5.6           2.4         \n",
              "142 6.9           3.1          5.1           2.3         \n",
              "143 5.8           2.7          5.1           1.9         \n",
              "144 6.8           3.2          5.9           2.3         \n",
              "145 6.7           3.3          5.7           2.5         \n",
              "146 6.7           3.0          5.2           2.3         \n",
              "147 6.3           2.5          5.0           1.9         \n",
              "148 6.5           3.0          5.2           2.0         \n",
              "149 6.2           3.4          5.4           2.3         \n",
              "150 5.9           3.0          5.1           1.8         "
            ]
          },
          "metadata": {}
        }
      ]
    },
    {
      "cell_type": "code",
      "source": [
        "mutate(df,UpdatePetalLengthCm=PetalLengthCm+1) #append in existing data frame"
      ],
      "metadata": {
        "colab": {
          "base_uri": "https://localhost:8080/",
          "height": 1000
        },
        "id": "tp8IHYq5IpPg",
        "outputId": "85b47538-3a13-4129-a19d-14a915a2adcc"
      },
      "execution_count": 41,
      "outputs": [
        {
          "output_type": "display_data",
          "data": {
            "text/html": [
              "<table class=\"dataframe\">\n",
              "<caption>A data.frame: 150 × 7</caption>\n",
              "<thead>\n",
              "\t<tr><th scope=col>Id</th><th scope=col>SepalLengthCm</th><th scope=col>SepalWidthCm</th><th scope=col>PetalLengthCm</th><th scope=col>PetalWidthCm</th><th scope=col>Species</th><th scope=col>UpdatePetalLengthCm</th></tr>\n",
              "\t<tr><th scope=col>&lt;int&gt;</th><th scope=col>&lt;dbl&gt;</th><th scope=col>&lt;dbl&gt;</th><th scope=col>&lt;dbl&gt;</th><th scope=col>&lt;dbl&gt;</th><th scope=col>&lt;chr&gt;</th><th scope=col>&lt;dbl&gt;</th></tr>\n",
              "</thead>\n",
              "<tbody>\n",
              "\t<tr><td> 1</td><td>5.1</td><td>3.5</td><td>1.4</td><td>0.2</td><td>Iris-setosa</td><td>2.4</td></tr>\n",
              "\t<tr><td> 2</td><td>4.9</td><td>3.0</td><td>1.4</td><td>0.2</td><td>Iris-setosa</td><td>2.4</td></tr>\n",
              "\t<tr><td> 3</td><td>4.7</td><td>3.2</td><td>1.3</td><td>0.2</td><td>Iris-setosa</td><td>2.3</td></tr>\n",
              "\t<tr><td> 4</td><td>4.6</td><td>3.1</td><td>1.5</td><td>0.2</td><td>Iris-setosa</td><td>2.5</td></tr>\n",
              "\t<tr><td> 5</td><td>5.0</td><td>3.6</td><td>1.4</td><td>0.2</td><td>Iris-setosa</td><td>2.4</td></tr>\n",
              "\t<tr><td> 6</td><td>5.4</td><td>3.9</td><td>1.7</td><td>0.4</td><td>Iris-setosa</td><td>2.7</td></tr>\n",
              "\t<tr><td> 7</td><td>4.6</td><td>3.4</td><td>1.4</td><td>0.3</td><td>Iris-setosa</td><td>2.4</td></tr>\n",
              "\t<tr><td> 8</td><td>5.0</td><td>3.4</td><td>1.5</td><td>0.2</td><td>Iris-setosa</td><td>2.5</td></tr>\n",
              "\t<tr><td> 9</td><td>4.4</td><td>2.9</td><td>1.4</td><td>0.2</td><td>Iris-setosa</td><td>2.4</td></tr>\n",
              "\t<tr><td>10</td><td>4.9</td><td>3.1</td><td>1.5</td><td>0.1</td><td>Iris-setosa</td><td>2.5</td></tr>\n",
              "\t<tr><td>11</td><td>5.4</td><td>3.7</td><td>1.5</td><td>0.2</td><td>Iris-setosa</td><td>2.5</td></tr>\n",
              "\t<tr><td>12</td><td>4.8</td><td>3.4</td><td>1.6</td><td>0.2</td><td>Iris-setosa</td><td>2.6</td></tr>\n",
              "\t<tr><td>13</td><td>4.8</td><td>3.0</td><td>1.4</td><td>0.1</td><td>Iris-setosa</td><td>2.4</td></tr>\n",
              "\t<tr><td>14</td><td>4.3</td><td>3.0</td><td>1.1</td><td>0.1</td><td>Iris-setosa</td><td>2.1</td></tr>\n",
              "\t<tr><td>15</td><td>5.8</td><td>4.0</td><td>1.2</td><td>0.2</td><td>Iris-setosa</td><td>2.2</td></tr>\n",
              "\t<tr><td>16</td><td>5.7</td><td>4.4</td><td>1.5</td><td>0.4</td><td>Iris-setosa</td><td>2.5</td></tr>\n",
              "\t<tr><td>17</td><td>5.4</td><td>3.9</td><td>1.3</td><td>0.4</td><td>Iris-setosa</td><td>2.3</td></tr>\n",
              "\t<tr><td>18</td><td>5.1</td><td>3.5</td><td>1.4</td><td>0.3</td><td>Iris-setosa</td><td>2.4</td></tr>\n",
              "\t<tr><td>19</td><td>5.7</td><td>3.8</td><td>1.7</td><td>0.3</td><td>Iris-setosa</td><td>2.7</td></tr>\n",
              "\t<tr><td>20</td><td>5.1</td><td>3.8</td><td>1.5</td><td>0.3</td><td>Iris-setosa</td><td>2.5</td></tr>\n",
              "\t<tr><td>21</td><td>5.4</td><td>3.4</td><td>1.7</td><td>0.2</td><td>Iris-setosa</td><td>2.7</td></tr>\n",
              "\t<tr><td>22</td><td>5.1</td><td>3.7</td><td>1.5</td><td>0.4</td><td>Iris-setosa</td><td>2.5</td></tr>\n",
              "\t<tr><td>23</td><td>4.6</td><td>3.6</td><td>1.0</td><td>0.2</td><td>Iris-setosa</td><td>2.0</td></tr>\n",
              "\t<tr><td>24</td><td>5.1</td><td>3.3</td><td>1.7</td><td>0.5</td><td>Iris-setosa</td><td>2.7</td></tr>\n",
              "\t<tr><td>25</td><td>4.8</td><td>3.4</td><td>1.9</td><td>0.2</td><td>Iris-setosa</td><td>2.9</td></tr>\n",
              "\t<tr><td>26</td><td>5.0</td><td>3.0</td><td>1.6</td><td>0.2</td><td>Iris-setosa</td><td>2.6</td></tr>\n",
              "\t<tr><td>27</td><td>5.0</td><td>3.4</td><td>1.6</td><td>0.4</td><td>Iris-setosa</td><td>2.6</td></tr>\n",
              "\t<tr><td>28</td><td>5.2</td><td>3.5</td><td>1.5</td><td>0.2</td><td>Iris-setosa</td><td>2.5</td></tr>\n",
              "\t<tr><td>29</td><td>5.2</td><td>3.4</td><td>1.4</td><td>0.2</td><td>Iris-setosa</td><td>2.4</td></tr>\n",
              "\t<tr><td>30</td><td>4.7</td><td>3.2</td><td>1.6</td><td>0.2</td><td>Iris-setosa</td><td>2.6</td></tr>\n",
              "\t<tr><td>⋮</td><td>⋮</td><td>⋮</td><td>⋮</td><td>⋮</td><td>⋮</td><td>⋮</td></tr>\n",
              "\t<tr><td>121</td><td>6.9</td><td>3.2</td><td>5.7</td><td>2.3</td><td>Iris-virginica</td><td>6.7</td></tr>\n",
              "\t<tr><td>122</td><td>5.6</td><td>2.8</td><td>4.9</td><td>2.0</td><td>Iris-virginica</td><td>5.9</td></tr>\n",
              "\t<tr><td>123</td><td>7.7</td><td>2.8</td><td>6.7</td><td>2.0</td><td>Iris-virginica</td><td>7.7</td></tr>\n",
              "\t<tr><td>124</td><td>6.3</td><td>2.7</td><td>4.9</td><td>1.8</td><td>Iris-virginica</td><td>5.9</td></tr>\n",
              "\t<tr><td>125</td><td>6.7</td><td>3.3</td><td>5.7</td><td>2.1</td><td>Iris-virginica</td><td>6.7</td></tr>\n",
              "\t<tr><td>126</td><td>7.2</td><td>3.2</td><td>6.0</td><td>1.8</td><td>Iris-virginica</td><td>7.0</td></tr>\n",
              "\t<tr><td>127</td><td>6.2</td><td>2.8</td><td>4.8</td><td>1.8</td><td>Iris-virginica</td><td>5.8</td></tr>\n",
              "\t<tr><td>128</td><td>6.1</td><td>3.0</td><td>4.9</td><td>1.8</td><td>Iris-virginica</td><td>5.9</td></tr>\n",
              "\t<tr><td>129</td><td>6.4</td><td>2.8</td><td>5.6</td><td>2.1</td><td>Iris-virginica</td><td>6.6</td></tr>\n",
              "\t<tr><td>130</td><td>7.2</td><td>3.0</td><td>5.8</td><td>1.6</td><td>Iris-virginica</td><td>6.8</td></tr>\n",
              "\t<tr><td>131</td><td>7.4</td><td>2.8</td><td>6.1</td><td>1.9</td><td>Iris-virginica</td><td>7.1</td></tr>\n",
              "\t<tr><td>132</td><td>7.9</td><td>3.8</td><td>6.4</td><td>2.0</td><td>Iris-virginica</td><td>7.4</td></tr>\n",
              "\t<tr><td>133</td><td>6.4</td><td>2.8</td><td>5.6</td><td>2.2</td><td>Iris-virginica</td><td>6.6</td></tr>\n",
              "\t<tr><td>134</td><td>6.3</td><td>2.8</td><td>5.1</td><td>1.5</td><td>Iris-virginica</td><td>6.1</td></tr>\n",
              "\t<tr><td>135</td><td>6.1</td><td>2.6</td><td>5.6</td><td>1.4</td><td>Iris-virginica</td><td>6.6</td></tr>\n",
              "\t<tr><td>136</td><td>7.7</td><td>3.0</td><td>6.1</td><td>2.3</td><td>Iris-virginica</td><td>7.1</td></tr>\n",
              "\t<tr><td>137</td><td>6.3</td><td>3.4</td><td>5.6</td><td>2.4</td><td>Iris-virginica</td><td>6.6</td></tr>\n",
              "\t<tr><td>138</td><td>6.4</td><td>3.1</td><td>5.5</td><td>1.8</td><td>Iris-virginica</td><td>6.5</td></tr>\n",
              "\t<tr><td>139</td><td>6.0</td><td>3.0</td><td>4.8</td><td>1.8</td><td>Iris-virginica</td><td>5.8</td></tr>\n",
              "\t<tr><td>140</td><td>6.9</td><td>3.1</td><td>5.4</td><td>2.1</td><td>Iris-virginica</td><td>6.4</td></tr>\n",
              "\t<tr><td>141</td><td>6.7</td><td>3.1</td><td>5.6</td><td>2.4</td><td>Iris-virginica</td><td>6.6</td></tr>\n",
              "\t<tr><td>142</td><td>6.9</td><td>3.1</td><td>5.1</td><td>2.3</td><td>Iris-virginica</td><td>6.1</td></tr>\n",
              "\t<tr><td>143</td><td>5.8</td><td>2.7</td><td>5.1</td><td>1.9</td><td>Iris-virginica</td><td>6.1</td></tr>\n",
              "\t<tr><td>144</td><td>6.8</td><td>3.2</td><td>5.9</td><td>2.3</td><td>Iris-virginica</td><td>6.9</td></tr>\n",
              "\t<tr><td>145</td><td>6.7</td><td>3.3</td><td>5.7</td><td>2.5</td><td>Iris-virginica</td><td>6.7</td></tr>\n",
              "\t<tr><td>146</td><td>6.7</td><td>3.0</td><td>5.2</td><td>2.3</td><td>Iris-virginica</td><td>6.2</td></tr>\n",
              "\t<tr><td>147</td><td>6.3</td><td>2.5</td><td>5.0</td><td>1.9</td><td>Iris-virginica</td><td>6.0</td></tr>\n",
              "\t<tr><td>148</td><td>6.5</td><td>3.0</td><td>5.2</td><td>2.0</td><td>Iris-virginica</td><td>6.2</td></tr>\n",
              "\t<tr><td>149</td><td>6.2</td><td>3.4</td><td>5.4</td><td>2.3</td><td>Iris-virginica</td><td>6.4</td></tr>\n",
              "\t<tr><td>150</td><td>5.9</td><td>3.0</td><td>5.1</td><td>1.8</td><td>Iris-virginica</td><td>6.1</td></tr>\n",
              "</tbody>\n",
              "</table>\n"
            ],
            "text/markdown": "\nA data.frame: 150 × 7\n\n| Id &lt;int&gt; | SepalLengthCm &lt;dbl&gt; | SepalWidthCm &lt;dbl&gt; | PetalLengthCm &lt;dbl&gt; | PetalWidthCm &lt;dbl&gt; | Species &lt;chr&gt; | UpdatePetalLengthCm &lt;dbl&gt; |\n|---|---|---|---|---|---|---|\n|  1 | 5.1 | 3.5 | 1.4 | 0.2 | Iris-setosa | 2.4 |\n|  2 | 4.9 | 3.0 | 1.4 | 0.2 | Iris-setosa | 2.4 |\n|  3 | 4.7 | 3.2 | 1.3 | 0.2 | Iris-setosa | 2.3 |\n|  4 | 4.6 | 3.1 | 1.5 | 0.2 | Iris-setosa | 2.5 |\n|  5 | 5.0 | 3.6 | 1.4 | 0.2 | Iris-setosa | 2.4 |\n|  6 | 5.4 | 3.9 | 1.7 | 0.4 | Iris-setosa | 2.7 |\n|  7 | 4.6 | 3.4 | 1.4 | 0.3 | Iris-setosa | 2.4 |\n|  8 | 5.0 | 3.4 | 1.5 | 0.2 | Iris-setosa | 2.5 |\n|  9 | 4.4 | 2.9 | 1.4 | 0.2 | Iris-setosa | 2.4 |\n| 10 | 4.9 | 3.1 | 1.5 | 0.1 | Iris-setosa | 2.5 |\n| 11 | 5.4 | 3.7 | 1.5 | 0.2 | Iris-setosa | 2.5 |\n| 12 | 4.8 | 3.4 | 1.6 | 0.2 | Iris-setosa | 2.6 |\n| 13 | 4.8 | 3.0 | 1.4 | 0.1 | Iris-setosa | 2.4 |\n| 14 | 4.3 | 3.0 | 1.1 | 0.1 | Iris-setosa | 2.1 |\n| 15 | 5.8 | 4.0 | 1.2 | 0.2 | Iris-setosa | 2.2 |\n| 16 | 5.7 | 4.4 | 1.5 | 0.4 | Iris-setosa | 2.5 |\n| 17 | 5.4 | 3.9 | 1.3 | 0.4 | Iris-setosa | 2.3 |\n| 18 | 5.1 | 3.5 | 1.4 | 0.3 | Iris-setosa | 2.4 |\n| 19 | 5.7 | 3.8 | 1.7 | 0.3 | Iris-setosa | 2.7 |\n| 20 | 5.1 | 3.8 | 1.5 | 0.3 | Iris-setosa | 2.5 |\n| 21 | 5.4 | 3.4 | 1.7 | 0.2 | Iris-setosa | 2.7 |\n| 22 | 5.1 | 3.7 | 1.5 | 0.4 | Iris-setosa | 2.5 |\n| 23 | 4.6 | 3.6 | 1.0 | 0.2 | Iris-setosa | 2.0 |\n| 24 | 5.1 | 3.3 | 1.7 | 0.5 | Iris-setosa | 2.7 |\n| 25 | 4.8 | 3.4 | 1.9 | 0.2 | Iris-setosa | 2.9 |\n| 26 | 5.0 | 3.0 | 1.6 | 0.2 | Iris-setosa | 2.6 |\n| 27 | 5.0 | 3.4 | 1.6 | 0.4 | Iris-setosa | 2.6 |\n| 28 | 5.2 | 3.5 | 1.5 | 0.2 | Iris-setosa | 2.5 |\n| 29 | 5.2 | 3.4 | 1.4 | 0.2 | Iris-setosa | 2.4 |\n| 30 | 4.7 | 3.2 | 1.6 | 0.2 | Iris-setosa | 2.6 |\n| ⋮ | ⋮ | ⋮ | ⋮ | ⋮ | ⋮ | ⋮ |\n| 121 | 6.9 | 3.2 | 5.7 | 2.3 | Iris-virginica | 6.7 |\n| 122 | 5.6 | 2.8 | 4.9 | 2.0 | Iris-virginica | 5.9 |\n| 123 | 7.7 | 2.8 | 6.7 | 2.0 | Iris-virginica | 7.7 |\n| 124 | 6.3 | 2.7 | 4.9 | 1.8 | Iris-virginica | 5.9 |\n| 125 | 6.7 | 3.3 | 5.7 | 2.1 | Iris-virginica | 6.7 |\n| 126 | 7.2 | 3.2 | 6.0 | 1.8 | Iris-virginica | 7.0 |\n| 127 | 6.2 | 2.8 | 4.8 | 1.8 | Iris-virginica | 5.8 |\n| 128 | 6.1 | 3.0 | 4.9 | 1.8 | Iris-virginica | 5.9 |\n| 129 | 6.4 | 2.8 | 5.6 | 2.1 | Iris-virginica | 6.6 |\n| 130 | 7.2 | 3.0 | 5.8 | 1.6 | Iris-virginica | 6.8 |\n| 131 | 7.4 | 2.8 | 6.1 | 1.9 | Iris-virginica | 7.1 |\n| 132 | 7.9 | 3.8 | 6.4 | 2.0 | Iris-virginica | 7.4 |\n| 133 | 6.4 | 2.8 | 5.6 | 2.2 | Iris-virginica | 6.6 |\n| 134 | 6.3 | 2.8 | 5.1 | 1.5 | Iris-virginica | 6.1 |\n| 135 | 6.1 | 2.6 | 5.6 | 1.4 | Iris-virginica | 6.6 |\n| 136 | 7.7 | 3.0 | 6.1 | 2.3 | Iris-virginica | 7.1 |\n| 137 | 6.3 | 3.4 | 5.6 | 2.4 | Iris-virginica | 6.6 |\n| 138 | 6.4 | 3.1 | 5.5 | 1.8 | Iris-virginica | 6.5 |\n| 139 | 6.0 | 3.0 | 4.8 | 1.8 | Iris-virginica | 5.8 |\n| 140 | 6.9 | 3.1 | 5.4 | 2.1 | Iris-virginica | 6.4 |\n| 141 | 6.7 | 3.1 | 5.6 | 2.4 | Iris-virginica | 6.6 |\n| 142 | 6.9 | 3.1 | 5.1 | 2.3 | Iris-virginica | 6.1 |\n| 143 | 5.8 | 2.7 | 5.1 | 1.9 | Iris-virginica | 6.1 |\n| 144 | 6.8 | 3.2 | 5.9 | 2.3 | Iris-virginica | 6.9 |\n| 145 | 6.7 | 3.3 | 5.7 | 2.5 | Iris-virginica | 6.7 |\n| 146 | 6.7 | 3.0 | 5.2 | 2.3 | Iris-virginica | 6.2 |\n| 147 | 6.3 | 2.5 | 5.0 | 1.9 | Iris-virginica | 6.0 |\n| 148 | 6.5 | 3.0 | 5.2 | 2.0 | Iris-virginica | 6.2 |\n| 149 | 6.2 | 3.4 | 5.4 | 2.3 | Iris-virginica | 6.4 |\n| 150 | 5.9 | 3.0 | 5.1 | 1.8 | Iris-virginica | 6.1 |\n\n",
            "text/latex": "A data.frame: 150 × 7\n\\begin{tabular}{lllllll}\n Id & SepalLengthCm & SepalWidthCm & PetalLengthCm & PetalWidthCm & Species & UpdatePetalLengthCm\\\\\n <int> & <dbl> & <dbl> & <dbl> & <dbl> & <chr> & <dbl>\\\\\n\\hline\n\t  1 & 5.1 & 3.5 & 1.4 & 0.2 & Iris-setosa & 2.4\\\\\n\t  2 & 4.9 & 3.0 & 1.4 & 0.2 & Iris-setosa & 2.4\\\\\n\t  3 & 4.7 & 3.2 & 1.3 & 0.2 & Iris-setosa & 2.3\\\\\n\t  4 & 4.6 & 3.1 & 1.5 & 0.2 & Iris-setosa & 2.5\\\\\n\t  5 & 5.0 & 3.6 & 1.4 & 0.2 & Iris-setosa & 2.4\\\\\n\t  6 & 5.4 & 3.9 & 1.7 & 0.4 & Iris-setosa & 2.7\\\\\n\t  7 & 4.6 & 3.4 & 1.4 & 0.3 & Iris-setosa & 2.4\\\\\n\t  8 & 5.0 & 3.4 & 1.5 & 0.2 & Iris-setosa & 2.5\\\\\n\t  9 & 4.4 & 2.9 & 1.4 & 0.2 & Iris-setosa & 2.4\\\\\n\t 10 & 4.9 & 3.1 & 1.5 & 0.1 & Iris-setosa & 2.5\\\\\n\t 11 & 5.4 & 3.7 & 1.5 & 0.2 & Iris-setosa & 2.5\\\\\n\t 12 & 4.8 & 3.4 & 1.6 & 0.2 & Iris-setosa & 2.6\\\\\n\t 13 & 4.8 & 3.0 & 1.4 & 0.1 & Iris-setosa & 2.4\\\\\n\t 14 & 4.3 & 3.0 & 1.1 & 0.1 & Iris-setosa & 2.1\\\\\n\t 15 & 5.8 & 4.0 & 1.2 & 0.2 & Iris-setosa & 2.2\\\\\n\t 16 & 5.7 & 4.4 & 1.5 & 0.4 & Iris-setosa & 2.5\\\\\n\t 17 & 5.4 & 3.9 & 1.3 & 0.4 & Iris-setosa & 2.3\\\\\n\t 18 & 5.1 & 3.5 & 1.4 & 0.3 & Iris-setosa & 2.4\\\\\n\t 19 & 5.7 & 3.8 & 1.7 & 0.3 & Iris-setosa & 2.7\\\\\n\t 20 & 5.1 & 3.8 & 1.5 & 0.3 & Iris-setosa & 2.5\\\\\n\t 21 & 5.4 & 3.4 & 1.7 & 0.2 & Iris-setosa & 2.7\\\\\n\t 22 & 5.1 & 3.7 & 1.5 & 0.4 & Iris-setosa & 2.5\\\\\n\t 23 & 4.6 & 3.6 & 1.0 & 0.2 & Iris-setosa & 2.0\\\\\n\t 24 & 5.1 & 3.3 & 1.7 & 0.5 & Iris-setosa & 2.7\\\\\n\t 25 & 4.8 & 3.4 & 1.9 & 0.2 & Iris-setosa & 2.9\\\\\n\t 26 & 5.0 & 3.0 & 1.6 & 0.2 & Iris-setosa & 2.6\\\\\n\t 27 & 5.0 & 3.4 & 1.6 & 0.4 & Iris-setosa & 2.6\\\\\n\t 28 & 5.2 & 3.5 & 1.5 & 0.2 & Iris-setosa & 2.5\\\\\n\t 29 & 5.2 & 3.4 & 1.4 & 0.2 & Iris-setosa & 2.4\\\\\n\t 30 & 4.7 & 3.2 & 1.6 & 0.2 & Iris-setosa & 2.6\\\\\n\t ⋮ & ⋮ & ⋮ & ⋮ & ⋮ & ⋮ & ⋮\\\\\n\t 121 & 6.9 & 3.2 & 5.7 & 2.3 & Iris-virginica & 6.7\\\\\n\t 122 & 5.6 & 2.8 & 4.9 & 2.0 & Iris-virginica & 5.9\\\\\n\t 123 & 7.7 & 2.8 & 6.7 & 2.0 & Iris-virginica & 7.7\\\\\n\t 124 & 6.3 & 2.7 & 4.9 & 1.8 & Iris-virginica & 5.9\\\\\n\t 125 & 6.7 & 3.3 & 5.7 & 2.1 & Iris-virginica & 6.7\\\\\n\t 126 & 7.2 & 3.2 & 6.0 & 1.8 & Iris-virginica & 7.0\\\\\n\t 127 & 6.2 & 2.8 & 4.8 & 1.8 & Iris-virginica & 5.8\\\\\n\t 128 & 6.1 & 3.0 & 4.9 & 1.8 & Iris-virginica & 5.9\\\\\n\t 129 & 6.4 & 2.8 & 5.6 & 2.1 & Iris-virginica & 6.6\\\\\n\t 130 & 7.2 & 3.0 & 5.8 & 1.6 & Iris-virginica & 6.8\\\\\n\t 131 & 7.4 & 2.8 & 6.1 & 1.9 & Iris-virginica & 7.1\\\\\n\t 132 & 7.9 & 3.8 & 6.4 & 2.0 & Iris-virginica & 7.4\\\\\n\t 133 & 6.4 & 2.8 & 5.6 & 2.2 & Iris-virginica & 6.6\\\\\n\t 134 & 6.3 & 2.8 & 5.1 & 1.5 & Iris-virginica & 6.1\\\\\n\t 135 & 6.1 & 2.6 & 5.6 & 1.4 & Iris-virginica & 6.6\\\\\n\t 136 & 7.7 & 3.0 & 6.1 & 2.3 & Iris-virginica & 7.1\\\\\n\t 137 & 6.3 & 3.4 & 5.6 & 2.4 & Iris-virginica & 6.6\\\\\n\t 138 & 6.4 & 3.1 & 5.5 & 1.8 & Iris-virginica & 6.5\\\\\n\t 139 & 6.0 & 3.0 & 4.8 & 1.8 & Iris-virginica & 5.8\\\\\n\t 140 & 6.9 & 3.1 & 5.4 & 2.1 & Iris-virginica & 6.4\\\\\n\t 141 & 6.7 & 3.1 & 5.6 & 2.4 & Iris-virginica & 6.6\\\\\n\t 142 & 6.9 & 3.1 & 5.1 & 2.3 & Iris-virginica & 6.1\\\\\n\t 143 & 5.8 & 2.7 & 5.1 & 1.9 & Iris-virginica & 6.1\\\\\n\t 144 & 6.8 & 3.2 & 5.9 & 2.3 & Iris-virginica & 6.9\\\\\n\t 145 & 6.7 & 3.3 & 5.7 & 2.5 & Iris-virginica & 6.7\\\\\n\t 146 & 6.7 & 3.0 & 5.2 & 2.3 & Iris-virginica & 6.2\\\\\n\t 147 & 6.3 & 2.5 & 5.0 & 1.9 & Iris-virginica & 6.0\\\\\n\t 148 & 6.5 & 3.0 & 5.2 & 2.0 & Iris-virginica & 6.2\\\\\n\t 149 & 6.2 & 3.4 & 5.4 & 2.3 & Iris-virginica & 6.4\\\\\n\t 150 & 5.9 & 3.0 & 5.1 & 1.8 & Iris-virginica & 6.1\\\\\n\\end{tabular}\n",
            "text/plain": [
              "    Id  SepalLengthCm SepalWidthCm PetalLengthCm PetalWidthCm Species       \n",
              "1    1  5.1           3.5          1.4           0.2          Iris-setosa   \n",
              "2    2  4.9           3.0          1.4           0.2          Iris-setosa   \n",
              "3    3  4.7           3.2          1.3           0.2          Iris-setosa   \n",
              "4    4  4.6           3.1          1.5           0.2          Iris-setosa   \n",
              "5    5  5.0           3.6          1.4           0.2          Iris-setosa   \n",
              "6    6  5.4           3.9          1.7           0.4          Iris-setosa   \n",
              "7    7  4.6           3.4          1.4           0.3          Iris-setosa   \n",
              "8    8  5.0           3.4          1.5           0.2          Iris-setosa   \n",
              "9    9  4.4           2.9          1.4           0.2          Iris-setosa   \n",
              "10  10  4.9           3.1          1.5           0.1          Iris-setosa   \n",
              "11  11  5.4           3.7          1.5           0.2          Iris-setosa   \n",
              "12  12  4.8           3.4          1.6           0.2          Iris-setosa   \n",
              "13  13  4.8           3.0          1.4           0.1          Iris-setosa   \n",
              "14  14  4.3           3.0          1.1           0.1          Iris-setosa   \n",
              "15  15  5.8           4.0          1.2           0.2          Iris-setosa   \n",
              "16  16  5.7           4.4          1.5           0.4          Iris-setosa   \n",
              "17  17  5.4           3.9          1.3           0.4          Iris-setosa   \n",
              "18  18  5.1           3.5          1.4           0.3          Iris-setosa   \n",
              "19  19  5.7           3.8          1.7           0.3          Iris-setosa   \n",
              "20  20  5.1           3.8          1.5           0.3          Iris-setosa   \n",
              "21  21  5.4           3.4          1.7           0.2          Iris-setosa   \n",
              "22  22  5.1           3.7          1.5           0.4          Iris-setosa   \n",
              "23  23  4.6           3.6          1.0           0.2          Iris-setosa   \n",
              "24  24  5.1           3.3          1.7           0.5          Iris-setosa   \n",
              "25  25  4.8           3.4          1.9           0.2          Iris-setosa   \n",
              "26  26  5.0           3.0          1.6           0.2          Iris-setosa   \n",
              "27  27  5.0           3.4          1.6           0.4          Iris-setosa   \n",
              "28  28  5.2           3.5          1.5           0.2          Iris-setosa   \n",
              "29  29  5.2           3.4          1.4           0.2          Iris-setosa   \n",
              "30  30  4.7           3.2          1.6           0.2          Iris-setosa   \n",
              "⋮   ⋮   ⋮             ⋮            ⋮             ⋮            ⋮             \n",
              "121 121 6.9           3.2          5.7           2.3          Iris-virginica\n",
              "122 122 5.6           2.8          4.9           2.0          Iris-virginica\n",
              "123 123 7.7           2.8          6.7           2.0          Iris-virginica\n",
              "124 124 6.3           2.7          4.9           1.8          Iris-virginica\n",
              "125 125 6.7           3.3          5.7           2.1          Iris-virginica\n",
              "126 126 7.2           3.2          6.0           1.8          Iris-virginica\n",
              "127 127 6.2           2.8          4.8           1.8          Iris-virginica\n",
              "128 128 6.1           3.0          4.9           1.8          Iris-virginica\n",
              "129 129 6.4           2.8          5.6           2.1          Iris-virginica\n",
              "130 130 7.2           3.0          5.8           1.6          Iris-virginica\n",
              "131 131 7.4           2.8          6.1           1.9          Iris-virginica\n",
              "132 132 7.9           3.8          6.4           2.0          Iris-virginica\n",
              "133 133 6.4           2.8          5.6           2.2          Iris-virginica\n",
              "134 134 6.3           2.8          5.1           1.5          Iris-virginica\n",
              "135 135 6.1           2.6          5.6           1.4          Iris-virginica\n",
              "136 136 7.7           3.0          6.1           2.3          Iris-virginica\n",
              "137 137 6.3           3.4          5.6           2.4          Iris-virginica\n",
              "138 138 6.4           3.1          5.5           1.8          Iris-virginica\n",
              "139 139 6.0           3.0          4.8           1.8          Iris-virginica\n",
              "140 140 6.9           3.1          5.4           2.1          Iris-virginica\n",
              "141 141 6.7           3.1          5.6           2.4          Iris-virginica\n",
              "142 142 6.9           3.1          5.1           2.3          Iris-virginica\n",
              "143 143 5.8           2.7          5.1           1.9          Iris-virginica\n",
              "144 144 6.8           3.2          5.9           2.3          Iris-virginica\n",
              "145 145 6.7           3.3          5.7           2.5          Iris-virginica\n",
              "146 146 6.7           3.0          5.2           2.3          Iris-virginica\n",
              "147 147 6.3           2.5          5.0           1.9          Iris-virginica\n",
              "148 148 6.5           3.0          5.2           2.0          Iris-virginica\n",
              "149 149 6.2           3.4          5.4           2.3          Iris-virginica\n",
              "150 150 5.9           3.0          5.1           1.8          Iris-virginica\n",
              "    UpdatePetalLengthCm\n",
              "1   2.4                \n",
              "2   2.4                \n",
              "3   2.3                \n",
              "4   2.5                \n",
              "5   2.4                \n",
              "6   2.7                \n",
              "7   2.4                \n",
              "8   2.5                \n",
              "9   2.4                \n",
              "10  2.5                \n",
              "11  2.5                \n",
              "12  2.6                \n",
              "13  2.4                \n",
              "14  2.1                \n",
              "15  2.2                \n",
              "16  2.5                \n",
              "17  2.3                \n",
              "18  2.4                \n",
              "19  2.7                \n",
              "20  2.5                \n",
              "21  2.7                \n",
              "22  2.5                \n",
              "23  2.0                \n",
              "24  2.7                \n",
              "25  2.9                \n",
              "26  2.6                \n",
              "27  2.6                \n",
              "28  2.5                \n",
              "29  2.4                \n",
              "30  2.6                \n",
              "⋮   ⋮                  \n",
              "121 6.7                \n",
              "122 5.9                \n",
              "123 7.7                \n",
              "124 5.9                \n",
              "125 6.7                \n",
              "126 7.0                \n",
              "127 5.8                \n",
              "128 5.9                \n",
              "129 6.6                \n",
              "130 6.8                \n",
              "131 7.1                \n",
              "132 7.4                \n",
              "133 6.6                \n",
              "134 6.1                \n",
              "135 6.6                \n",
              "136 7.1                \n",
              "137 6.6                \n",
              "138 6.5                \n",
              "139 5.8                \n",
              "140 6.4                \n",
              "141 6.6                \n",
              "142 6.1                \n",
              "143 6.1                \n",
              "144 6.9                \n",
              "145 6.7                \n",
              "146 6.2                \n",
              "147 6.0                \n",
              "148 6.2                \n",
              "149 6.4                \n",
              "150 6.1                "
            ]
          },
          "metadata": {}
        }
      ]
    },
    {
      "cell_type": "code",
      "execution_count": 43,
      "metadata": {
        "colab": {
          "base_uri": "https://localhost:8080/",
          "height": 1000
        },
        "id": "fxBhoGrI_WFN",
        "outputId": "dafab2b8-960b-416b-b7a2-ec8c8e327ea8"
      },
      "outputs": [
        {
          "output_type": "display_data",
          "data": {
            "text/html": [
              "<table class=\"dataframe\">\n",
              "<caption>A data.frame: 150 × 5</caption>\n",
              "<thead>\n",
              "\t<tr><th scope=col>Sepal.Length</th><th scope=col>Sepal.Width</th><th scope=col>Petal.Length</th><th scope=col>Petal.Width</th><th scope=col>Species</th></tr>\n",
              "\t<tr><th scope=col>&lt;dbl&gt;</th><th scope=col>&lt;dbl&gt;</th><th scope=col>&lt;dbl&gt;</th><th scope=col>&lt;dbl&gt;</th><th scope=col>&lt;fct&gt;</th></tr>\n",
              "</thead>\n",
              "<tbody>\n",
              "\t<tr><td>4.3</td><td>3.0</td><td>1.1</td><td>0.1</td><td>setosa    </td></tr>\n",
              "\t<tr><td>4.4</td><td>2.9</td><td>1.4</td><td>0.2</td><td>setosa    </td></tr>\n",
              "\t<tr><td>4.4</td><td>3.0</td><td>1.3</td><td>0.2</td><td>setosa    </td></tr>\n",
              "\t<tr><td>4.4</td><td>3.2</td><td>1.3</td><td>0.2</td><td>setosa    </td></tr>\n",
              "\t<tr><td>4.5</td><td>2.3</td><td>1.3</td><td>0.3</td><td>setosa    </td></tr>\n",
              "\t<tr><td>4.6</td><td>3.1</td><td>1.5</td><td>0.2</td><td>setosa    </td></tr>\n",
              "\t<tr><td>4.6</td><td>3.2</td><td>1.4</td><td>0.2</td><td>setosa    </td></tr>\n",
              "\t<tr><td>4.6</td><td>3.4</td><td>1.4</td><td>0.3</td><td>setosa    </td></tr>\n",
              "\t<tr><td>4.6</td><td>3.6</td><td>1.0</td><td>0.2</td><td>setosa    </td></tr>\n",
              "\t<tr><td>4.7</td><td>3.2</td><td>1.3</td><td>0.2</td><td>setosa    </td></tr>\n",
              "\t<tr><td>4.7</td><td>3.2</td><td>1.6</td><td>0.2</td><td>setosa    </td></tr>\n",
              "\t<tr><td>4.8</td><td>3.0</td><td>1.4</td><td>0.1</td><td>setosa    </td></tr>\n",
              "\t<tr><td>4.8</td><td>3.0</td><td>1.4</td><td>0.3</td><td>setosa    </td></tr>\n",
              "\t<tr><td>4.8</td><td>3.1</td><td>1.6</td><td>0.2</td><td>setosa    </td></tr>\n",
              "\t<tr><td>4.8</td><td>3.4</td><td>1.6</td><td>0.2</td><td>setosa    </td></tr>\n",
              "\t<tr><td>4.8</td><td>3.4</td><td>1.9</td><td>0.2</td><td>setosa    </td></tr>\n",
              "\t<tr><td>4.9</td><td>2.4</td><td>3.3</td><td>1.0</td><td>versicolor</td></tr>\n",
              "\t<tr><td>4.9</td><td>2.5</td><td>4.5</td><td>1.7</td><td>virginica </td></tr>\n",
              "\t<tr><td>4.9</td><td>3.0</td><td>1.4</td><td>0.2</td><td>setosa    </td></tr>\n",
              "\t<tr><td>4.9</td><td>3.1</td><td>1.5</td><td>0.1</td><td>setosa    </td></tr>\n",
              "\t<tr><td>4.9</td><td>3.1</td><td>1.5</td><td>0.2</td><td>setosa    </td></tr>\n",
              "\t<tr><td>4.9</td><td>3.6</td><td>1.4</td><td>0.1</td><td>setosa    </td></tr>\n",
              "\t<tr><td>5.0</td><td>2.0</td><td>3.5</td><td>1.0</td><td>versicolor</td></tr>\n",
              "\t<tr><td>5.0</td><td>2.3</td><td>3.3</td><td>1.0</td><td>versicolor</td></tr>\n",
              "\t<tr><td>5.0</td><td>3.0</td><td>1.6</td><td>0.2</td><td>setosa    </td></tr>\n",
              "\t<tr><td>5.0</td><td>3.2</td><td>1.2</td><td>0.2</td><td>setosa    </td></tr>\n",
              "\t<tr><td>5.0</td><td>3.3</td><td>1.4</td><td>0.2</td><td>setosa    </td></tr>\n",
              "\t<tr><td>5.0</td><td>3.4</td><td>1.5</td><td>0.2</td><td>setosa    </td></tr>\n",
              "\t<tr><td>5.0</td><td>3.4</td><td>1.6</td><td>0.4</td><td>setosa    </td></tr>\n",
              "\t<tr><td>5.0</td><td>3.5</td><td>1.3</td><td>0.3</td><td>setosa    </td></tr>\n",
              "\t<tr><td>⋮</td><td>⋮</td><td>⋮</td><td>⋮</td><td>⋮</td></tr>\n",
              "\t<tr><td>6.6</td><td>2.9</td><td>4.6</td><td>1.3</td><td>versicolor</td></tr>\n",
              "\t<tr><td>6.6</td><td>3.0</td><td>4.4</td><td>1.4</td><td>versicolor</td></tr>\n",
              "\t<tr><td>6.7</td><td>2.5</td><td>5.8</td><td>1.8</td><td>virginica </td></tr>\n",
              "\t<tr><td>6.7</td><td>3.0</td><td>5.0</td><td>1.7</td><td>versicolor</td></tr>\n",
              "\t<tr><td>6.7</td><td>3.0</td><td>5.2</td><td>2.3</td><td>virginica </td></tr>\n",
              "\t<tr><td>6.7</td><td>3.1</td><td>4.4</td><td>1.4</td><td>versicolor</td></tr>\n",
              "\t<tr><td>6.7</td><td>3.1</td><td>4.7</td><td>1.5</td><td>versicolor</td></tr>\n",
              "\t<tr><td>6.7</td><td>3.1</td><td>5.6</td><td>2.4</td><td>virginica </td></tr>\n",
              "\t<tr><td>6.7</td><td>3.3</td><td>5.7</td><td>2.1</td><td>virginica </td></tr>\n",
              "\t<tr><td>6.7</td><td>3.3</td><td>5.7</td><td>2.5</td><td>virginica </td></tr>\n",
              "\t<tr><td>6.8</td><td>2.8</td><td>4.8</td><td>1.4</td><td>versicolor</td></tr>\n",
              "\t<tr><td>6.8</td><td>3.0</td><td>5.5</td><td>2.1</td><td>virginica </td></tr>\n",
              "\t<tr><td>6.8</td><td>3.2</td><td>5.9</td><td>2.3</td><td>virginica </td></tr>\n",
              "\t<tr><td>6.9</td><td>3.1</td><td>4.9</td><td>1.5</td><td>versicolor</td></tr>\n",
              "\t<tr><td>6.9</td><td>3.1</td><td>5.4</td><td>2.1</td><td>virginica </td></tr>\n",
              "\t<tr><td>6.9</td><td>3.1</td><td>5.1</td><td>2.3</td><td>virginica </td></tr>\n",
              "\t<tr><td>6.9</td><td>3.2</td><td>5.7</td><td>2.3</td><td>virginica </td></tr>\n",
              "\t<tr><td>7.0</td><td>3.2</td><td>4.7</td><td>1.4</td><td>versicolor</td></tr>\n",
              "\t<tr><td>7.1</td><td>3.0</td><td>5.9</td><td>2.1</td><td>virginica </td></tr>\n",
              "\t<tr><td>7.2</td><td>3.0</td><td>5.8</td><td>1.6</td><td>virginica </td></tr>\n",
              "\t<tr><td>7.2</td><td>3.2</td><td>6.0</td><td>1.8</td><td>virginica </td></tr>\n",
              "\t<tr><td>7.2</td><td>3.6</td><td>6.1</td><td>2.5</td><td>virginica </td></tr>\n",
              "\t<tr><td>7.3</td><td>2.9</td><td>6.3</td><td>1.8</td><td>virginica </td></tr>\n",
              "\t<tr><td>7.4</td><td>2.8</td><td>6.1</td><td>1.9</td><td>virginica </td></tr>\n",
              "\t<tr><td>7.6</td><td>3.0</td><td>6.6</td><td>2.1</td><td>virginica </td></tr>\n",
              "\t<tr><td>7.7</td><td>2.6</td><td>6.9</td><td>2.3</td><td>virginica </td></tr>\n",
              "\t<tr><td>7.7</td><td>2.8</td><td>6.7</td><td>2.0</td><td>virginica </td></tr>\n",
              "\t<tr><td>7.7</td><td>3.0</td><td>6.1</td><td>2.3</td><td>virginica </td></tr>\n",
              "\t<tr><td>7.7</td><td>3.8</td><td>6.7</td><td>2.2</td><td>virginica </td></tr>\n",
              "\t<tr><td>7.9</td><td>3.8</td><td>6.4</td><td>2.0</td><td>virginica </td></tr>\n",
              "</tbody>\n",
              "</table>\n"
            ],
            "text/markdown": "\nA data.frame: 150 × 5\n\n| Sepal.Length &lt;dbl&gt; | Sepal.Width &lt;dbl&gt; | Petal.Length &lt;dbl&gt; | Petal.Width &lt;dbl&gt; | Species &lt;fct&gt; |\n|---|---|---|---|---|\n| 4.3 | 3.0 | 1.1 | 0.1 | setosa     |\n| 4.4 | 2.9 | 1.4 | 0.2 | setosa     |\n| 4.4 | 3.0 | 1.3 | 0.2 | setosa     |\n| 4.4 | 3.2 | 1.3 | 0.2 | setosa     |\n| 4.5 | 2.3 | 1.3 | 0.3 | setosa     |\n| 4.6 | 3.1 | 1.5 | 0.2 | setosa     |\n| 4.6 | 3.2 | 1.4 | 0.2 | setosa     |\n| 4.6 | 3.4 | 1.4 | 0.3 | setosa     |\n| 4.6 | 3.6 | 1.0 | 0.2 | setosa     |\n| 4.7 | 3.2 | 1.3 | 0.2 | setosa     |\n| 4.7 | 3.2 | 1.6 | 0.2 | setosa     |\n| 4.8 | 3.0 | 1.4 | 0.1 | setosa     |\n| 4.8 | 3.0 | 1.4 | 0.3 | setosa     |\n| 4.8 | 3.1 | 1.6 | 0.2 | setosa     |\n| 4.8 | 3.4 | 1.6 | 0.2 | setosa     |\n| 4.8 | 3.4 | 1.9 | 0.2 | setosa     |\n| 4.9 | 2.4 | 3.3 | 1.0 | versicolor |\n| 4.9 | 2.5 | 4.5 | 1.7 | virginica  |\n| 4.9 | 3.0 | 1.4 | 0.2 | setosa     |\n| 4.9 | 3.1 | 1.5 | 0.1 | setosa     |\n| 4.9 | 3.1 | 1.5 | 0.2 | setosa     |\n| 4.9 | 3.6 | 1.4 | 0.1 | setosa     |\n| 5.0 | 2.0 | 3.5 | 1.0 | versicolor |\n| 5.0 | 2.3 | 3.3 | 1.0 | versicolor |\n| 5.0 | 3.0 | 1.6 | 0.2 | setosa     |\n| 5.0 | 3.2 | 1.2 | 0.2 | setosa     |\n| 5.0 | 3.3 | 1.4 | 0.2 | setosa     |\n| 5.0 | 3.4 | 1.5 | 0.2 | setosa     |\n| 5.0 | 3.4 | 1.6 | 0.4 | setosa     |\n| 5.0 | 3.5 | 1.3 | 0.3 | setosa     |\n| ⋮ | ⋮ | ⋮ | ⋮ | ⋮ |\n| 6.6 | 2.9 | 4.6 | 1.3 | versicolor |\n| 6.6 | 3.0 | 4.4 | 1.4 | versicolor |\n| 6.7 | 2.5 | 5.8 | 1.8 | virginica  |\n| 6.7 | 3.0 | 5.0 | 1.7 | versicolor |\n| 6.7 | 3.0 | 5.2 | 2.3 | virginica  |\n| 6.7 | 3.1 | 4.4 | 1.4 | versicolor |\n| 6.7 | 3.1 | 4.7 | 1.5 | versicolor |\n| 6.7 | 3.1 | 5.6 | 2.4 | virginica  |\n| 6.7 | 3.3 | 5.7 | 2.1 | virginica  |\n| 6.7 | 3.3 | 5.7 | 2.5 | virginica  |\n| 6.8 | 2.8 | 4.8 | 1.4 | versicolor |\n| 6.8 | 3.0 | 5.5 | 2.1 | virginica  |\n| 6.8 | 3.2 | 5.9 | 2.3 | virginica  |\n| 6.9 | 3.1 | 4.9 | 1.5 | versicolor |\n| 6.9 | 3.1 | 5.4 | 2.1 | virginica  |\n| 6.9 | 3.1 | 5.1 | 2.3 | virginica  |\n| 6.9 | 3.2 | 5.7 | 2.3 | virginica  |\n| 7.0 | 3.2 | 4.7 | 1.4 | versicolor |\n| 7.1 | 3.0 | 5.9 | 2.1 | virginica  |\n| 7.2 | 3.0 | 5.8 | 1.6 | virginica  |\n| 7.2 | 3.2 | 6.0 | 1.8 | virginica  |\n| 7.2 | 3.6 | 6.1 | 2.5 | virginica  |\n| 7.3 | 2.9 | 6.3 | 1.8 | virginica  |\n| 7.4 | 2.8 | 6.1 | 1.9 | virginica  |\n| 7.6 | 3.0 | 6.6 | 2.1 | virginica  |\n| 7.7 | 2.6 | 6.9 | 2.3 | virginica  |\n| 7.7 | 2.8 | 6.7 | 2.0 | virginica  |\n| 7.7 | 3.0 | 6.1 | 2.3 | virginica  |\n| 7.7 | 3.8 | 6.7 | 2.2 | virginica  |\n| 7.9 | 3.8 | 6.4 | 2.0 | virginica  |\n\n",
            "text/latex": "A data.frame: 150 × 5\n\\begin{tabular}{lllll}\n Sepal.Length & Sepal.Width & Petal.Length & Petal.Width & Species\\\\\n <dbl> & <dbl> & <dbl> & <dbl> & <fct>\\\\\n\\hline\n\t 4.3 & 3.0 & 1.1 & 0.1 & setosa    \\\\\n\t 4.4 & 2.9 & 1.4 & 0.2 & setosa    \\\\\n\t 4.4 & 3.0 & 1.3 & 0.2 & setosa    \\\\\n\t 4.4 & 3.2 & 1.3 & 0.2 & setosa    \\\\\n\t 4.5 & 2.3 & 1.3 & 0.3 & setosa    \\\\\n\t 4.6 & 3.1 & 1.5 & 0.2 & setosa    \\\\\n\t 4.6 & 3.2 & 1.4 & 0.2 & setosa    \\\\\n\t 4.6 & 3.4 & 1.4 & 0.3 & setosa    \\\\\n\t 4.6 & 3.6 & 1.0 & 0.2 & setosa    \\\\\n\t 4.7 & 3.2 & 1.3 & 0.2 & setosa    \\\\\n\t 4.7 & 3.2 & 1.6 & 0.2 & setosa    \\\\\n\t 4.8 & 3.0 & 1.4 & 0.1 & setosa    \\\\\n\t 4.8 & 3.0 & 1.4 & 0.3 & setosa    \\\\\n\t 4.8 & 3.1 & 1.6 & 0.2 & setosa    \\\\\n\t 4.8 & 3.4 & 1.6 & 0.2 & setosa    \\\\\n\t 4.8 & 3.4 & 1.9 & 0.2 & setosa    \\\\\n\t 4.9 & 2.4 & 3.3 & 1.0 & versicolor\\\\\n\t 4.9 & 2.5 & 4.5 & 1.7 & virginica \\\\\n\t 4.9 & 3.0 & 1.4 & 0.2 & setosa    \\\\\n\t 4.9 & 3.1 & 1.5 & 0.1 & setosa    \\\\\n\t 4.9 & 3.1 & 1.5 & 0.2 & setosa    \\\\\n\t 4.9 & 3.6 & 1.4 & 0.1 & setosa    \\\\\n\t 5.0 & 2.0 & 3.5 & 1.0 & versicolor\\\\\n\t 5.0 & 2.3 & 3.3 & 1.0 & versicolor\\\\\n\t 5.0 & 3.0 & 1.6 & 0.2 & setosa    \\\\\n\t 5.0 & 3.2 & 1.2 & 0.2 & setosa    \\\\\n\t 5.0 & 3.3 & 1.4 & 0.2 & setosa    \\\\\n\t 5.0 & 3.4 & 1.5 & 0.2 & setosa    \\\\\n\t 5.0 & 3.4 & 1.6 & 0.4 & setosa    \\\\\n\t 5.0 & 3.5 & 1.3 & 0.3 & setosa    \\\\\n\t ⋮ & ⋮ & ⋮ & ⋮ & ⋮\\\\\n\t 6.6 & 2.9 & 4.6 & 1.3 & versicolor\\\\\n\t 6.6 & 3.0 & 4.4 & 1.4 & versicolor\\\\\n\t 6.7 & 2.5 & 5.8 & 1.8 & virginica \\\\\n\t 6.7 & 3.0 & 5.0 & 1.7 & versicolor\\\\\n\t 6.7 & 3.0 & 5.2 & 2.3 & virginica \\\\\n\t 6.7 & 3.1 & 4.4 & 1.4 & versicolor\\\\\n\t 6.7 & 3.1 & 4.7 & 1.5 & versicolor\\\\\n\t 6.7 & 3.1 & 5.6 & 2.4 & virginica \\\\\n\t 6.7 & 3.3 & 5.7 & 2.1 & virginica \\\\\n\t 6.7 & 3.3 & 5.7 & 2.5 & virginica \\\\\n\t 6.8 & 2.8 & 4.8 & 1.4 & versicolor\\\\\n\t 6.8 & 3.0 & 5.5 & 2.1 & virginica \\\\\n\t 6.8 & 3.2 & 5.9 & 2.3 & virginica \\\\\n\t 6.9 & 3.1 & 4.9 & 1.5 & versicolor\\\\\n\t 6.9 & 3.1 & 5.4 & 2.1 & virginica \\\\\n\t 6.9 & 3.1 & 5.1 & 2.3 & virginica \\\\\n\t 6.9 & 3.2 & 5.7 & 2.3 & virginica \\\\\n\t 7.0 & 3.2 & 4.7 & 1.4 & versicolor\\\\\n\t 7.1 & 3.0 & 5.9 & 2.1 & virginica \\\\\n\t 7.2 & 3.0 & 5.8 & 1.6 & virginica \\\\\n\t 7.2 & 3.2 & 6.0 & 1.8 & virginica \\\\\n\t 7.2 & 3.6 & 6.1 & 2.5 & virginica \\\\\n\t 7.3 & 2.9 & 6.3 & 1.8 & virginica \\\\\n\t 7.4 & 2.8 & 6.1 & 1.9 & virginica \\\\\n\t 7.6 & 3.0 & 6.6 & 2.1 & virginica \\\\\n\t 7.7 & 2.6 & 6.9 & 2.3 & virginica \\\\\n\t 7.7 & 2.8 & 6.7 & 2.0 & virginica \\\\\n\t 7.7 & 3.0 & 6.1 & 2.3 & virginica \\\\\n\t 7.7 & 3.8 & 6.7 & 2.2 & virginica \\\\\n\t 7.9 & 3.8 & 6.4 & 2.0 & virginica \\\\\n\\end{tabular}\n",
            "text/plain": [
              "    Sepal.Length Sepal.Width Petal.Length Petal.Width Species   \n",
              "1   4.3          3.0         1.1          0.1         setosa    \n",
              "2   4.4          2.9         1.4          0.2         setosa    \n",
              "3   4.4          3.0         1.3          0.2         setosa    \n",
              "4   4.4          3.2         1.3          0.2         setosa    \n",
              "5   4.5          2.3         1.3          0.3         setosa    \n",
              "6   4.6          3.1         1.5          0.2         setosa    \n",
              "7   4.6          3.2         1.4          0.2         setosa    \n",
              "8   4.6          3.4         1.4          0.3         setosa    \n",
              "9   4.6          3.6         1.0          0.2         setosa    \n",
              "10  4.7          3.2         1.3          0.2         setosa    \n",
              "11  4.7          3.2         1.6          0.2         setosa    \n",
              "12  4.8          3.0         1.4          0.1         setosa    \n",
              "13  4.8          3.0         1.4          0.3         setosa    \n",
              "14  4.8          3.1         1.6          0.2         setosa    \n",
              "15  4.8          3.4         1.6          0.2         setosa    \n",
              "16  4.8          3.4         1.9          0.2         setosa    \n",
              "17  4.9          2.4         3.3          1.0         versicolor\n",
              "18  4.9          2.5         4.5          1.7         virginica \n",
              "19  4.9          3.0         1.4          0.2         setosa    \n",
              "20  4.9          3.1         1.5          0.1         setosa    \n",
              "21  4.9          3.1         1.5          0.2         setosa    \n",
              "22  4.9          3.6         1.4          0.1         setosa    \n",
              "23  5.0          2.0         3.5          1.0         versicolor\n",
              "24  5.0          2.3         3.3          1.0         versicolor\n",
              "25  5.0          3.0         1.6          0.2         setosa    \n",
              "26  5.0          3.2         1.2          0.2         setosa    \n",
              "27  5.0          3.3         1.4          0.2         setosa    \n",
              "28  5.0          3.4         1.5          0.2         setosa    \n",
              "29  5.0          3.4         1.6          0.4         setosa    \n",
              "30  5.0          3.5         1.3          0.3         setosa    \n",
              "⋮   ⋮            ⋮           ⋮            ⋮           ⋮         \n",
              "121 6.6          2.9         4.6          1.3         versicolor\n",
              "122 6.6          3.0         4.4          1.4         versicolor\n",
              "123 6.7          2.5         5.8          1.8         virginica \n",
              "124 6.7          3.0         5.0          1.7         versicolor\n",
              "125 6.7          3.0         5.2          2.3         virginica \n",
              "126 6.7          3.1         4.4          1.4         versicolor\n",
              "127 6.7          3.1         4.7          1.5         versicolor\n",
              "128 6.7          3.1         5.6          2.4         virginica \n",
              "129 6.7          3.3         5.7          2.1         virginica \n",
              "130 6.7          3.3         5.7          2.5         virginica \n",
              "131 6.8          2.8         4.8          1.4         versicolor\n",
              "132 6.8          3.0         5.5          2.1         virginica \n",
              "133 6.8          3.2         5.9          2.3         virginica \n",
              "134 6.9          3.1         4.9          1.5         versicolor\n",
              "135 6.9          3.1         5.4          2.1         virginica \n",
              "136 6.9          3.1         5.1          2.3         virginica \n",
              "137 6.9          3.2         5.7          2.3         virginica \n",
              "138 7.0          3.2         4.7          1.4         versicolor\n",
              "139 7.1          3.0         5.9          2.1         virginica \n",
              "140 7.2          3.0         5.8          1.6         virginica \n",
              "141 7.2          3.2         6.0          1.8         virginica \n",
              "142 7.2          3.6         6.1          2.5         virginica \n",
              "143 7.3          2.9         6.3          1.8         virginica \n",
              "144 7.4          2.8         6.1          1.9         virginica \n",
              "145 7.6          3.0         6.6          2.1         virginica \n",
              "146 7.7          2.6         6.9          2.3         virginica \n",
              "147 7.7          2.8         6.7          2.0         virginica \n",
              "148 7.7          3.0         6.1          2.3         virginica \n",
              "149 7.7          3.8         6.7          2.2         virginica \n",
              "150 7.9          3.8         6.4          2.0         virginica "
            ]
          },
          "metadata": {}
        }
      ],
      "source": [
        "iris %>% arrange(pick(starts_with(\"Sepal\")))"
      ]
    },
    {
      "cell_type": "code",
      "source": [
        "iris %>% arrange(across(starts_with(\"Sepal\"), desc))"
      ],
      "metadata": {
        "colab": {
          "base_uri": "https://localhost:8080/",
          "height": 1000
        },
        "id": "-2_8cEwoK7o7",
        "outputId": "5cd310f3-ebca-41a0-a424-5e095a276461"
      },
      "execution_count": 44,
      "outputs": [
        {
          "output_type": "display_data",
          "data": {
            "text/html": [
              "<table class=\"dataframe\">\n",
              "<caption>A data.frame: 150 × 5</caption>\n",
              "<thead>\n",
              "\t<tr><th scope=col>Sepal.Length</th><th scope=col>Sepal.Width</th><th scope=col>Petal.Length</th><th scope=col>Petal.Width</th><th scope=col>Species</th></tr>\n",
              "\t<tr><th scope=col>&lt;dbl&gt;</th><th scope=col>&lt;dbl&gt;</th><th scope=col>&lt;dbl&gt;</th><th scope=col>&lt;dbl&gt;</th><th scope=col>&lt;fct&gt;</th></tr>\n",
              "</thead>\n",
              "<tbody>\n",
              "\t<tr><td>7.9</td><td>3.8</td><td>6.4</td><td>2.0</td><td>virginica </td></tr>\n",
              "\t<tr><td>7.7</td><td>3.8</td><td>6.7</td><td>2.2</td><td>virginica </td></tr>\n",
              "\t<tr><td>7.7</td><td>3.0</td><td>6.1</td><td>2.3</td><td>virginica </td></tr>\n",
              "\t<tr><td>7.7</td><td>2.8</td><td>6.7</td><td>2.0</td><td>virginica </td></tr>\n",
              "\t<tr><td>7.7</td><td>2.6</td><td>6.9</td><td>2.3</td><td>virginica </td></tr>\n",
              "\t<tr><td>7.6</td><td>3.0</td><td>6.6</td><td>2.1</td><td>virginica </td></tr>\n",
              "\t<tr><td>7.4</td><td>2.8</td><td>6.1</td><td>1.9</td><td>virginica </td></tr>\n",
              "\t<tr><td>7.3</td><td>2.9</td><td>6.3</td><td>1.8</td><td>virginica </td></tr>\n",
              "\t<tr><td>7.2</td><td>3.6</td><td>6.1</td><td>2.5</td><td>virginica </td></tr>\n",
              "\t<tr><td>7.2</td><td>3.2</td><td>6.0</td><td>1.8</td><td>virginica </td></tr>\n",
              "\t<tr><td>7.2</td><td>3.0</td><td>5.8</td><td>1.6</td><td>virginica </td></tr>\n",
              "\t<tr><td>7.1</td><td>3.0</td><td>5.9</td><td>2.1</td><td>virginica </td></tr>\n",
              "\t<tr><td>7.0</td><td>3.2</td><td>4.7</td><td>1.4</td><td>versicolor</td></tr>\n",
              "\t<tr><td>6.9</td><td>3.2</td><td>5.7</td><td>2.3</td><td>virginica </td></tr>\n",
              "\t<tr><td>6.9</td><td>3.1</td><td>4.9</td><td>1.5</td><td>versicolor</td></tr>\n",
              "\t<tr><td>6.9</td><td>3.1</td><td>5.4</td><td>2.1</td><td>virginica </td></tr>\n",
              "\t<tr><td>6.9</td><td>3.1</td><td>5.1</td><td>2.3</td><td>virginica </td></tr>\n",
              "\t<tr><td>6.8</td><td>3.2</td><td>5.9</td><td>2.3</td><td>virginica </td></tr>\n",
              "\t<tr><td>6.8</td><td>3.0</td><td>5.5</td><td>2.1</td><td>virginica </td></tr>\n",
              "\t<tr><td>6.8</td><td>2.8</td><td>4.8</td><td>1.4</td><td>versicolor</td></tr>\n",
              "\t<tr><td>6.7</td><td>3.3</td><td>5.7</td><td>2.1</td><td>virginica </td></tr>\n",
              "\t<tr><td>6.7</td><td>3.3</td><td>5.7</td><td>2.5</td><td>virginica </td></tr>\n",
              "\t<tr><td>6.7</td><td>3.1</td><td>4.4</td><td>1.4</td><td>versicolor</td></tr>\n",
              "\t<tr><td>6.7</td><td>3.1</td><td>4.7</td><td>1.5</td><td>versicolor</td></tr>\n",
              "\t<tr><td>6.7</td><td>3.1</td><td>5.6</td><td>2.4</td><td>virginica </td></tr>\n",
              "\t<tr><td>6.7</td><td>3.0</td><td>5.0</td><td>1.7</td><td>versicolor</td></tr>\n",
              "\t<tr><td>6.7</td><td>3.0</td><td>5.2</td><td>2.3</td><td>virginica </td></tr>\n",
              "\t<tr><td>6.7</td><td>2.5</td><td>5.8</td><td>1.8</td><td>virginica </td></tr>\n",
              "\t<tr><td>6.6</td><td>3.0</td><td>4.4</td><td>1.4</td><td>versicolor</td></tr>\n",
              "\t<tr><td>6.6</td><td>2.9</td><td>4.6</td><td>1.3</td><td>versicolor</td></tr>\n",
              "\t<tr><td>⋮</td><td>⋮</td><td>⋮</td><td>⋮</td><td>⋮</td></tr>\n",
              "\t<tr><td>5.0</td><td>3.5</td><td>1.6</td><td>0.6</td><td>setosa    </td></tr>\n",
              "\t<tr><td>5.0</td><td>3.4</td><td>1.5</td><td>0.2</td><td>setosa    </td></tr>\n",
              "\t<tr><td>5.0</td><td>3.4</td><td>1.6</td><td>0.4</td><td>setosa    </td></tr>\n",
              "\t<tr><td>5.0</td><td>3.3</td><td>1.4</td><td>0.2</td><td>setosa    </td></tr>\n",
              "\t<tr><td>5.0</td><td>3.2</td><td>1.2</td><td>0.2</td><td>setosa    </td></tr>\n",
              "\t<tr><td>5.0</td><td>3.0</td><td>1.6</td><td>0.2</td><td>setosa    </td></tr>\n",
              "\t<tr><td>5.0</td><td>2.3</td><td>3.3</td><td>1.0</td><td>versicolor</td></tr>\n",
              "\t<tr><td>5.0</td><td>2.0</td><td>3.5</td><td>1.0</td><td>versicolor</td></tr>\n",
              "\t<tr><td>4.9</td><td>3.6</td><td>1.4</td><td>0.1</td><td>setosa    </td></tr>\n",
              "\t<tr><td>4.9</td><td>3.1</td><td>1.5</td><td>0.1</td><td>setosa    </td></tr>\n",
              "\t<tr><td>4.9</td><td>3.1</td><td>1.5</td><td>0.2</td><td>setosa    </td></tr>\n",
              "\t<tr><td>4.9</td><td>3.0</td><td>1.4</td><td>0.2</td><td>setosa    </td></tr>\n",
              "\t<tr><td>4.9</td><td>2.5</td><td>4.5</td><td>1.7</td><td>virginica </td></tr>\n",
              "\t<tr><td>4.9</td><td>2.4</td><td>3.3</td><td>1.0</td><td>versicolor</td></tr>\n",
              "\t<tr><td>4.8</td><td>3.4</td><td>1.6</td><td>0.2</td><td>setosa    </td></tr>\n",
              "\t<tr><td>4.8</td><td>3.4</td><td>1.9</td><td>0.2</td><td>setosa    </td></tr>\n",
              "\t<tr><td>4.8</td><td>3.1</td><td>1.6</td><td>0.2</td><td>setosa    </td></tr>\n",
              "\t<tr><td>4.8</td><td>3.0</td><td>1.4</td><td>0.1</td><td>setosa    </td></tr>\n",
              "\t<tr><td>4.8</td><td>3.0</td><td>1.4</td><td>0.3</td><td>setosa    </td></tr>\n",
              "\t<tr><td>4.7</td><td>3.2</td><td>1.3</td><td>0.2</td><td>setosa    </td></tr>\n",
              "\t<tr><td>4.7</td><td>3.2</td><td>1.6</td><td>0.2</td><td>setosa    </td></tr>\n",
              "\t<tr><td>4.6</td><td>3.6</td><td>1.0</td><td>0.2</td><td>setosa    </td></tr>\n",
              "\t<tr><td>4.6</td><td>3.4</td><td>1.4</td><td>0.3</td><td>setosa    </td></tr>\n",
              "\t<tr><td>4.6</td><td>3.2</td><td>1.4</td><td>0.2</td><td>setosa    </td></tr>\n",
              "\t<tr><td>4.6</td><td>3.1</td><td>1.5</td><td>0.2</td><td>setosa    </td></tr>\n",
              "\t<tr><td>4.5</td><td>2.3</td><td>1.3</td><td>0.3</td><td>setosa    </td></tr>\n",
              "\t<tr><td>4.4</td><td>3.2</td><td>1.3</td><td>0.2</td><td>setosa    </td></tr>\n",
              "\t<tr><td>4.4</td><td>3.0</td><td>1.3</td><td>0.2</td><td>setosa    </td></tr>\n",
              "\t<tr><td>4.4</td><td>2.9</td><td>1.4</td><td>0.2</td><td>setosa    </td></tr>\n",
              "\t<tr><td>4.3</td><td>3.0</td><td>1.1</td><td>0.1</td><td>setosa    </td></tr>\n",
              "</tbody>\n",
              "</table>\n"
            ],
            "text/markdown": "\nA data.frame: 150 × 5\n\n| Sepal.Length &lt;dbl&gt; | Sepal.Width &lt;dbl&gt; | Petal.Length &lt;dbl&gt; | Petal.Width &lt;dbl&gt; | Species &lt;fct&gt; |\n|---|---|---|---|---|\n| 7.9 | 3.8 | 6.4 | 2.0 | virginica  |\n| 7.7 | 3.8 | 6.7 | 2.2 | virginica  |\n| 7.7 | 3.0 | 6.1 | 2.3 | virginica  |\n| 7.7 | 2.8 | 6.7 | 2.0 | virginica  |\n| 7.7 | 2.6 | 6.9 | 2.3 | virginica  |\n| 7.6 | 3.0 | 6.6 | 2.1 | virginica  |\n| 7.4 | 2.8 | 6.1 | 1.9 | virginica  |\n| 7.3 | 2.9 | 6.3 | 1.8 | virginica  |\n| 7.2 | 3.6 | 6.1 | 2.5 | virginica  |\n| 7.2 | 3.2 | 6.0 | 1.8 | virginica  |\n| 7.2 | 3.0 | 5.8 | 1.6 | virginica  |\n| 7.1 | 3.0 | 5.9 | 2.1 | virginica  |\n| 7.0 | 3.2 | 4.7 | 1.4 | versicolor |\n| 6.9 | 3.2 | 5.7 | 2.3 | virginica  |\n| 6.9 | 3.1 | 4.9 | 1.5 | versicolor |\n| 6.9 | 3.1 | 5.4 | 2.1 | virginica  |\n| 6.9 | 3.1 | 5.1 | 2.3 | virginica  |\n| 6.8 | 3.2 | 5.9 | 2.3 | virginica  |\n| 6.8 | 3.0 | 5.5 | 2.1 | virginica  |\n| 6.8 | 2.8 | 4.8 | 1.4 | versicolor |\n| 6.7 | 3.3 | 5.7 | 2.1 | virginica  |\n| 6.7 | 3.3 | 5.7 | 2.5 | virginica  |\n| 6.7 | 3.1 | 4.4 | 1.4 | versicolor |\n| 6.7 | 3.1 | 4.7 | 1.5 | versicolor |\n| 6.7 | 3.1 | 5.6 | 2.4 | virginica  |\n| 6.7 | 3.0 | 5.0 | 1.7 | versicolor |\n| 6.7 | 3.0 | 5.2 | 2.3 | virginica  |\n| 6.7 | 2.5 | 5.8 | 1.8 | virginica  |\n| 6.6 | 3.0 | 4.4 | 1.4 | versicolor |\n| 6.6 | 2.9 | 4.6 | 1.3 | versicolor |\n| ⋮ | ⋮ | ⋮ | ⋮ | ⋮ |\n| 5.0 | 3.5 | 1.6 | 0.6 | setosa     |\n| 5.0 | 3.4 | 1.5 | 0.2 | setosa     |\n| 5.0 | 3.4 | 1.6 | 0.4 | setosa     |\n| 5.0 | 3.3 | 1.4 | 0.2 | setosa     |\n| 5.0 | 3.2 | 1.2 | 0.2 | setosa     |\n| 5.0 | 3.0 | 1.6 | 0.2 | setosa     |\n| 5.0 | 2.3 | 3.3 | 1.0 | versicolor |\n| 5.0 | 2.0 | 3.5 | 1.0 | versicolor |\n| 4.9 | 3.6 | 1.4 | 0.1 | setosa     |\n| 4.9 | 3.1 | 1.5 | 0.1 | setosa     |\n| 4.9 | 3.1 | 1.5 | 0.2 | setosa     |\n| 4.9 | 3.0 | 1.4 | 0.2 | setosa     |\n| 4.9 | 2.5 | 4.5 | 1.7 | virginica  |\n| 4.9 | 2.4 | 3.3 | 1.0 | versicolor |\n| 4.8 | 3.4 | 1.6 | 0.2 | setosa     |\n| 4.8 | 3.4 | 1.9 | 0.2 | setosa     |\n| 4.8 | 3.1 | 1.6 | 0.2 | setosa     |\n| 4.8 | 3.0 | 1.4 | 0.1 | setosa     |\n| 4.8 | 3.0 | 1.4 | 0.3 | setosa     |\n| 4.7 | 3.2 | 1.3 | 0.2 | setosa     |\n| 4.7 | 3.2 | 1.6 | 0.2 | setosa     |\n| 4.6 | 3.6 | 1.0 | 0.2 | setosa     |\n| 4.6 | 3.4 | 1.4 | 0.3 | setosa     |\n| 4.6 | 3.2 | 1.4 | 0.2 | setosa     |\n| 4.6 | 3.1 | 1.5 | 0.2 | setosa     |\n| 4.5 | 2.3 | 1.3 | 0.3 | setosa     |\n| 4.4 | 3.2 | 1.3 | 0.2 | setosa     |\n| 4.4 | 3.0 | 1.3 | 0.2 | setosa     |\n| 4.4 | 2.9 | 1.4 | 0.2 | setosa     |\n| 4.3 | 3.0 | 1.1 | 0.1 | setosa     |\n\n",
            "text/latex": "A data.frame: 150 × 5\n\\begin{tabular}{lllll}\n Sepal.Length & Sepal.Width & Petal.Length & Petal.Width & Species\\\\\n <dbl> & <dbl> & <dbl> & <dbl> & <fct>\\\\\n\\hline\n\t 7.9 & 3.8 & 6.4 & 2.0 & virginica \\\\\n\t 7.7 & 3.8 & 6.7 & 2.2 & virginica \\\\\n\t 7.7 & 3.0 & 6.1 & 2.3 & virginica \\\\\n\t 7.7 & 2.8 & 6.7 & 2.0 & virginica \\\\\n\t 7.7 & 2.6 & 6.9 & 2.3 & virginica \\\\\n\t 7.6 & 3.0 & 6.6 & 2.1 & virginica \\\\\n\t 7.4 & 2.8 & 6.1 & 1.9 & virginica \\\\\n\t 7.3 & 2.9 & 6.3 & 1.8 & virginica \\\\\n\t 7.2 & 3.6 & 6.1 & 2.5 & virginica \\\\\n\t 7.2 & 3.2 & 6.0 & 1.8 & virginica \\\\\n\t 7.2 & 3.0 & 5.8 & 1.6 & virginica \\\\\n\t 7.1 & 3.0 & 5.9 & 2.1 & virginica \\\\\n\t 7.0 & 3.2 & 4.7 & 1.4 & versicolor\\\\\n\t 6.9 & 3.2 & 5.7 & 2.3 & virginica \\\\\n\t 6.9 & 3.1 & 4.9 & 1.5 & versicolor\\\\\n\t 6.9 & 3.1 & 5.4 & 2.1 & virginica \\\\\n\t 6.9 & 3.1 & 5.1 & 2.3 & virginica \\\\\n\t 6.8 & 3.2 & 5.9 & 2.3 & virginica \\\\\n\t 6.8 & 3.0 & 5.5 & 2.1 & virginica \\\\\n\t 6.8 & 2.8 & 4.8 & 1.4 & versicolor\\\\\n\t 6.7 & 3.3 & 5.7 & 2.1 & virginica \\\\\n\t 6.7 & 3.3 & 5.7 & 2.5 & virginica \\\\\n\t 6.7 & 3.1 & 4.4 & 1.4 & versicolor\\\\\n\t 6.7 & 3.1 & 4.7 & 1.5 & versicolor\\\\\n\t 6.7 & 3.1 & 5.6 & 2.4 & virginica \\\\\n\t 6.7 & 3.0 & 5.0 & 1.7 & versicolor\\\\\n\t 6.7 & 3.0 & 5.2 & 2.3 & virginica \\\\\n\t 6.7 & 2.5 & 5.8 & 1.8 & virginica \\\\\n\t 6.6 & 3.0 & 4.4 & 1.4 & versicolor\\\\\n\t 6.6 & 2.9 & 4.6 & 1.3 & versicolor\\\\\n\t ⋮ & ⋮ & ⋮ & ⋮ & ⋮\\\\\n\t 5.0 & 3.5 & 1.6 & 0.6 & setosa    \\\\\n\t 5.0 & 3.4 & 1.5 & 0.2 & setosa    \\\\\n\t 5.0 & 3.4 & 1.6 & 0.4 & setosa    \\\\\n\t 5.0 & 3.3 & 1.4 & 0.2 & setosa    \\\\\n\t 5.0 & 3.2 & 1.2 & 0.2 & setosa    \\\\\n\t 5.0 & 3.0 & 1.6 & 0.2 & setosa    \\\\\n\t 5.0 & 2.3 & 3.3 & 1.0 & versicolor\\\\\n\t 5.0 & 2.0 & 3.5 & 1.0 & versicolor\\\\\n\t 4.9 & 3.6 & 1.4 & 0.1 & setosa    \\\\\n\t 4.9 & 3.1 & 1.5 & 0.1 & setosa    \\\\\n\t 4.9 & 3.1 & 1.5 & 0.2 & setosa    \\\\\n\t 4.9 & 3.0 & 1.4 & 0.2 & setosa    \\\\\n\t 4.9 & 2.5 & 4.5 & 1.7 & virginica \\\\\n\t 4.9 & 2.4 & 3.3 & 1.0 & versicolor\\\\\n\t 4.8 & 3.4 & 1.6 & 0.2 & setosa    \\\\\n\t 4.8 & 3.4 & 1.9 & 0.2 & setosa    \\\\\n\t 4.8 & 3.1 & 1.6 & 0.2 & setosa    \\\\\n\t 4.8 & 3.0 & 1.4 & 0.1 & setosa    \\\\\n\t 4.8 & 3.0 & 1.4 & 0.3 & setosa    \\\\\n\t 4.7 & 3.2 & 1.3 & 0.2 & setosa    \\\\\n\t 4.7 & 3.2 & 1.6 & 0.2 & setosa    \\\\\n\t 4.6 & 3.6 & 1.0 & 0.2 & setosa    \\\\\n\t 4.6 & 3.4 & 1.4 & 0.3 & setosa    \\\\\n\t 4.6 & 3.2 & 1.4 & 0.2 & setosa    \\\\\n\t 4.6 & 3.1 & 1.5 & 0.2 & setosa    \\\\\n\t 4.5 & 2.3 & 1.3 & 0.3 & setosa    \\\\\n\t 4.4 & 3.2 & 1.3 & 0.2 & setosa    \\\\\n\t 4.4 & 3.0 & 1.3 & 0.2 & setosa    \\\\\n\t 4.4 & 2.9 & 1.4 & 0.2 & setosa    \\\\\n\t 4.3 & 3.0 & 1.1 & 0.1 & setosa    \\\\\n\\end{tabular}\n",
            "text/plain": [
              "    Sepal.Length Sepal.Width Petal.Length Petal.Width Species   \n",
              "1   7.9          3.8         6.4          2.0         virginica \n",
              "2   7.7          3.8         6.7          2.2         virginica \n",
              "3   7.7          3.0         6.1          2.3         virginica \n",
              "4   7.7          2.8         6.7          2.0         virginica \n",
              "5   7.7          2.6         6.9          2.3         virginica \n",
              "6   7.6          3.0         6.6          2.1         virginica \n",
              "7   7.4          2.8         6.1          1.9         virginica \n",
              "8   7.3          2.9         6.3          1.8         virginica \n",
              "9   7.2          3.6         6.1          2.5         virginica \n",
              "10  7.2          3.2         6.0          1.8         virginica \n",
              "11  7.2          3.0         5.8          1.6         virginica \n",
              "12  7.1          3.0         5.9          2.1         virginica \n",
              "13  7.0          3.2         4.7          1.4         versicolor\n",
              "14  6.9          3.2         5.7          2.3         virginica \n",
              "15  6.9          3.1         4.9          1.5         versicolor\n",
              "16  6.9          3.1         5.4          2.1         virginica \n",
              "17  6.9          3.1         5.1          2.3         virginica \n",
              "18  6.8          3.2         5.9          2.3         virginica \n",
              "19  6.8          3.0         5.5          2.1         virginica \n",
              "20  6.8          2.8         4.8          1.4         versicolor\n",
              "21  6.7          3.3         5.7          2.1         virginica \n",
              "22  6.7          3.3         5.7          2.5         virginica \n",
              "23  6.7          3.1         4.4          1.4         versicolor\n",
              "24  6.7          3.1         4.7          1.5         versicolor\n",
              "25  6.7          3.1         5.6          2.4         virginica \n",
              "26  6.7          3.0         5.0          1.7         versicolor\n",
              "27  6.7          3.0         5.2          2.3         virginica \n",
              "28  6.7          2.5         5.8          1.8         virginica \n",
              "29  6.6          3.0         4.4          1.4         versicolor\n",
              "30  6.6          2.9         4.6          1.3         versicolor\n",
              "⋮   ⋮            ⋮           ⋮            ⋮           ⋮         \n",
              "121 5.0          3.5         1.6          0.6         setosa    \n",
              "122 5.0          3.4         1.5          0.2         setosa    \n",
              "123 5.0          3.4         1.6          0.4         setosa    \n",
              "124 5.0          3.3         1.4          0.2         setosa    \n",
              "125 5.0          3.2         1.2          0.2         setosa    \n",
              "126 5.0          3.0         1.6          0.2         setosa    \n",
              "127 5.0          2.3         3.3          1.0         versicolor\n",
              "128 5.0          2.0         3.5          1.0         versicolor\n",
              "129 4.9          3.6         1.4          0.1         setosa    \n",
              "130 4.9          3.1         1.5          0.1         setosa    \n",
              "131 4.9          3.1         1.5          0.2         setosa    \n",
              "132 4.9          3.0         1.4          0.2         setosa    \n",
              "133 4.9          2.5         4.5          1.7         virginica \n",
              "134 4.9          2.4         3.3          1.0         versicolor\n",
              "135 4.8          3.4         1.6          0.2         setosa    \n",
              "136 4.8          3.4         1.9          0.2         setosa    \n",
              "137 4.8          3.1         1.6          0.2         setosa    \n",
              "138 4.8          3.0         1.4          0.1         setosa    \n",
              "139 4.8          3.0         1.4          0.3         setosa    \n",
              "140 4.7          3.2         1.3          0.2         setosa    \n",
              "141 4.7          3.2         1.6          0.2         setosa    \n",
              "142 4.6          3.6         1.0          0.2         setosa    \n",
              "143 4.6          3.4         1.4          0.3         setosa    \n",
              "144 4.6          3.2         1.4          0.2         setosa    \n",
              "145 4.6          3.1         1.5          0.2         setosa    \n",
              "146 4.5          2.3         1.3          0.3         setosa    \n",
              "147 4.4          3.2         1.3          0.2         setosa    \n",
              "148 4.4          3.0         1.3          0.2         setosa    \n",
              "149 4.4          2.9         1.4          0.2         setosa    \n",
              "150 4.3          3.0         1.1          0.1         setosa    "
            ]
          },
          "metadata": {}
        }
      ]
    },
    {
      "cell_type": "code",
      "execution_count": null,
      "metadata": {
        "colab": {
          "base_uri": "https://localhost:8080/"
        },
        "id": "w9_p1P05XuJh",
        "outputId": "6a071428-1ca9-4aa9-f0b2-7b8de20ee38d"
      },
      "outputs": [
        {
          "name": "stdout",
          "output_type": "stream",
          "text": [
            "'data.frame':\t150 obs. of  6 variables:\n",
            " $ Id           : int  1 2 3 4 5 6 7 8 9 10 ...\n",
            " $ SepalLengthCm: num  5.1 4.9 4.7 4.6 5 5.4 4.6 5 4.4 4.9 ...\n",
            " $ SepalWidthCm : num  3.5 3 3.2 3.1 3.6 3.9 3.4 3.4 2.9 3.1 ...\n",
            " $ PetalLengthCm: num  1.4 1.4 1.3 1.5 1.4 1.7 1.4 1.5 1.4 1.5 ...\n",
            " $ PetalWidthCm : num  0.2 0.2 0.2 0.2 0.2 0.4 0.3 0.2 0.2 0.1 ...\n",
            " $ Species      : chr  \"Iris-setosa\" \"Iris-setosa\" \"Iris-setosa\" \"Iris-setosa\" ...\n"
          ]
        }
      ],
      "source": [
        "str(df)     #It shows the Structure of data set"
      ]
    },
    {
      "cell_type": "code",
      "execution_count": null,
      "metadata": {
        "colab": {
          "base_uri": "https://localhost:8080/",
          "height": 271
        },
        "id": "03OKnbrWXuMK",
        "outputId": "761bf6b6-fea2-4c62-f92e-9b51744bc20f"
      },
      "outputs": [
        {
          "data": {
            "text/plain": [
              "       Id         SepalLengthCm    SepalWidthCm   PetalLengthCm  \n",
              " Min.   :  1.00   Min.   :4.300   Min.   :2.000   Min.   :1.000  \n",
              " 1st Qu.: 38.25   1st Qu.:5.100   1st Qu.:2.800   1st Qu.:1.600  \n",
              " Median : 75.50   Median :5.800   Median :3.000   Median :4.350  \n",
              " Mean   : 75.50   Mean   :5.843   Mean   :3.054   Mean   :3.759  \n",
              " 3rd Qu.:112.75   3rd Qu.:6.400   3rd Qu.:3.300   3rd Qu.:5.100  \n",
              " Max.   :150.00   Max.   :7.900   Max.   :4.400   Max.   :6.900  \n",
              "  PetalWidthCm     Species         \n",
              " Min.   :0.100   Length:150        \n",
              " 1st Qu.:0.300   Class :character  \n",
              " Median :1.300   Mode  :character  \n",
              " Mean   :1.199                     \n",
              " 3rd Qu.:1.800                     \n",
              " Max.   :2.500                     "
            ]
          },
          "metadata": {},
          "output_type": "display_data"
        }
      ],
      "source": [
        "summary(df)     # It shows all information of dataset"
      ]
    },
    {
      "cell_type": "code",
      "source": [
        "df$Species[df$Id == 10]       # it gives the Species of passenger whose passengerId is 10."
      ],
      "metadata": {
        "colab": {
          "base_uri": "https://localhost:8080/",
          "height": 34
        },
        "id": "KdZHJv-vM4j9",
        "outputId": "44919e88-9745-4c2f-e916-a4e0ebed382f"
      },
      "execution_count": 45,
      "outputs": [
        {
          "output_type": "display_data",
          "data": {
            "text/html": [
              "'Iris-setosa'"
            ],
            "text/markdown": "'Iris-setosa'",
            "text/latex": "'Iris-setosa'",
            "text/plain": [
              "[1] \"Iris-setosa\""
            ]
          },
          "metadata": {}
        }
      ]
    },
    {
      "cell_type": "code",
      "source": [
        "df$Species"
      ],
      "metadata": {
        "colab": {
          "base_uri": "https://localhost:8080/",
          "height": 312
        },
        "id": "l0vz9rauM4nY",
        "outputId": "01a0ebe0-2630-4767-e622-7c38e25c2187"
      },
      "execution_count": 46,
      "outputs": [
        {
          "output_type": "display_data",
          "data": {
            "text/html": [
              "<style>\n",
              ".list-inline {list-style: none; margin:0; padding: 0}\n",
              ".list-inline>li {display: inline-block}\n",
              ".list-inline>li:not(:last-child)::after {content: \"\\00b7\"; padding: 0 .5ex}\n",
              "</style>\n",
              "<ol class=list-inline><li>'Iris-setosa'</li><li>'Iris-setosa'</li><li>'Iris-setosa'</li><li>'Iris-setosa'</li><li>'Iris-setosa'</li><li>'Iris-setosa'</li><li>'Iris-setosa'</li><li>'Iris-setosa'</li><li>'Iris-setosa'</li><li>'Iris-setosa'</li><li>'Iris-setosa'</li><li>'Iris-setosa'</li><li>'Iris-setosa'</li><li>'Iris-setosa'</li><li>'Iris-setosa'</li><li>'Iris-setosa'</li><li>'Iris-setosa'</li><li>'Iris-setosa'</li><li>'Iris-setosa'</li><li>'Iris-setosa'</li><li>'Iris-setosa'</li><li>'Iris-setosa'</li><li>'Iris-setosa'</li><li>'Iris-setosa'</li><li>'Iris-setosa'</li><li>'Iris-setosa'</li><li>'Iris-setosa'</li><li>'Iris-setosa'</li><li>'Iris-setosa'</li><li>'Iris-setosa'</li><li>'Iris-setosa'</li><li>'Iris-setosa'</li><li>'Iris-setosa'</li><li>'Iris-setosa'</li><li>'Iris-setosa'</li><li>'Iris-setosa'</li><li>'Iris-setosa'</li><li>'Iris-setosa'</li><li>'Iris-setosa'</li><li>'Iris-setosa'</li><li>'Iris-setosa'</li><li>'Iris-setosa'</li><li>'Iris-setosa'</li><li>'Iris-setosa'</li><li>'Iris-setosa'</li><li>'Iris-setosa'</li><li>'Iris-setosa'</li><li>'Iris-setosa'</li><li>'Iris-setosa'</li><li>'Iris-setosa'</li><li>'Iris-versicolor'</li><li>'Iris-versicolor'</li><li>'Iris-versicolor'</li><li>'Iris-versicolor'</li><li>'Iris-versicolor'</li><li>'Iris-versicolor'</li><li>'Iris-versicolor'</li><li>'Iris-versicolor'</li><li>'Iris-versicolor'</li><li>'Iris-versicolor'</li><li>'Iris-versicolor'</li><li>'Iris-versicolor'</li><li>'Iris-versicolor'</li><li>'Iris-versicolor'</li><li>'Iris-versicolor'</li><li>'Iris-versicolor'</li><li>'Iris-versicolor'</li><li>'Iris-versicolor'</li><li>'Iris-versicolor'</li><li>'Iris-versicolor'</li><li>'Iris-versicolor'</li><li>'Iris-versicolor'</li><li>'Iris-versicolor'</li><li>'Iris-versicolor'</li><li>'Iris-versicolor'</li><li>'Iris-versicolor'</li><li>'Iris-versicolor'</li><li>'Iris-versicolor'</li><li>'Iris-versicolor'</li><li>'Iris-versicolor'</li><li>'Iris-versicolor'</li><li>'Iris-versicolor'</li><li>'Iris-versicolor'</li><li>'Iris-versicolor'</li><li>'Iris-versicolor'</li><li>'Iris-versicolor'</li><li>'Iris-versicolor'</li><li>'Iris-versicolor'</li><li>'Iris-versicolor'</li><li>'Iris-versicolor'</li><li>'Iris-versicolor'</li><li>'Iris-versicolor'</li><li>'Iris-versicolor'</li><li>'Iris-versicolor'</li><li>'Iris-versicolor'</li><li>'Iris-versicolor'</li><li>'Iris-versicolor'</li><li>'Iris-versicolor'</li><li>'Iris-versicolor'</li><li>'Iris-versicolor'</li><li>'Iris-virginica'</li><li>'Iris-virginica'</li><li>'Iris-virginica'</li><li>'Iris-virginica'</li><li>'Iris-virginica'</li><li>'Iris-virginica'</li><li>'Iris-virginica'</li><li>'Iris-virginica'</li><li>'Iris-virginica'</li><li>'Iris-virginica'</li><li>'Iris-virginica'</li><li>'Iris-virginica'</li><li>'Iris-virginica'</li><li>'Iris-virginica'</li><li>'Iris-virginica'</li><li>'Iris-virginica'</li><li>'Iris-virginica'</li><li>'Iris-virginica'</li><li>'Iris-virginica'</li><li>'Iris-virginica'</li><li>'Iris-virginica'</li><li>'Iris-virginica'</li><li>'Iris-virginica'</li><li>'Iris-virginica'</li><li>'Iris-virginica'</li><li>'Iris-virginica'</li><li>'Iris-virginica'</li><li>'Iris-virginica'</li><li>'Iris-virginica'</li><li>'Iris-virginica'</li><li>'Iris-virginica'</li><li>'Iris-virginica'</li><li>'Iris-virginica'</li><li>'Iris-virginica'</li><li>'Iris-virginica'</li><li>'Iris-virginica'</li><li>'Iris-virginica'</li><li>'Iris-virginica'</li><li>'Iris-virginica'</li><li>'Iris-virginica'</li><li>'Iris-virginica'</li><li>'Iris-virginica'</li><li>'Iris-virginica'</li><li>'Iris-virginica'</li><li>'Iris-virginica'</li><li>'Iris-virginica'</li><li>'Iris-virginica'</li><li>'Iris-virginica'</li><li>'Iris-virginica'</li><li>'Iris-virginica'</li></ol>\n"
            ],
            "text/markdown": "1. 'Iris-setosa'\n2. 'Iris-setosa'\n3. 'Iris-setosa'\n4. 'Iris-setosa'\n5. 'Iris-setosa'\n6. 'Iris-setosa'\n7. 'Iris-setosa'\n8. 'Iris-setosa'\n9. 'Iris-setosa'\n10. 'Iris-setosa'\n11. 'Iris-setosa'\n12. 'Iris-setosa'\n13. 'Iris-setosa'\n14. 'Iris-setosa'\n15. 'Iris-setosa'\n16. 'Iris-setosa'\n17. 'Iris-setosa'\n18. 'Iris-setosa'\n19. 'Iris-setosa'\n20. 'Iris-setosa'\n21. 'Iris-setosa'\n22. 'Iris-setosa'\n23. 'Iris-setosa'\n24. 'Iris-setosa'\n25. 'Iris-setosa'\n26. 'Iris-setosa'\n27. 'Iris-setosa'\n28. 'Iris-setosa'\n29. 'Iris-setosa'\n30. 'Iris-setosa'\n31. 'Iris-setosa'\n32. 'Iris-setosa'\n33. 'Iris-setosa'\n34. 'Iris-setosa'\n35. 'Iris-setosa'\n36. 'Iris-setosa'\n37. 'Iris-setosa'\n38. 'Iris-setosa'\n39. 'Iris-setosa'\n40. 'Iris-setosa'\n41. 'Iris-setosa'\n42. 'Iris-setosa'\n43. 'Iris-setosa'\n44. 'Iris-setosa'\n45. 'Iris-setosa'\n46. 'Iris-setosa'\n47. 'Iris-setosa'\n48. 'Iris-setosa'\n49. 'Iris-setosa'\n50. 'Iris-setosa'\n51. 'Iris-versicolor'\n52. 'Iris-versicolor'\n53. 'Iris-versicolor'\n54. 'Iris-versicolor'\n55. 'Iris-versicolor'\n56. 'Iris-versicolor'\n57. 'Iris-versicolor'\n58. 'Iris-versicolor'\n59. 'Iris-versicolor'\n60. 'Iris-versicolor'\n61. 'Iris-versicolor'\n62. 'Iris-versicolor'\n63. 'Iris-versicolor'\n64. 'Iris-versicolor'\n65. 'Iris-versicolor'\n66. 'Iris-versicolor'\n67. 'Iris-versicolor'\n68. 'Iris-versicolor'\n69. 'Iris-versicolor'\n70. 'Iris-versicolor'\n71. 'Iris-versicolor'\n72. 'Iris-versicolor'\n73. 'Iris-versicolor'\n74. 'Iris-versicolor'\n75. 'Iris-versicolor'\n76. 'Iris-versicolor'\n77. 'Iris-versicolor'\n78. 'Iris-versicolor'\n79. 'Iris-versicolor'\n80. 'Iris-versicolor'\n81. 'Iris-versicolor'\n82. 'Iris-versicolor'\n83. 'Iris-versicolor'\n84. 'Iris-versicolor'\n85. 'Iris-versicolor'\n86. 'Iris-versicolor'\n87. 'Iris-versicolor'\n88. 'Iris-versicolor'\n89. 'Iris-versicolor'\n90. 'Iris-versicolor'\n91. 'Iris-versicolor'\n92. 'Iris-versicolor'\n93. 'Iris-versicolor'\n94. 'Iris-versicolor'\n95. 'Iris-versicolor'\n96. 'Iris-versicolor'\n97. 'Iris-versicolor'\n98. 'Iris-versicolor'\n99. 'Iris-versicolor'\n100. 'Iris-versicolor'\n101. 'Iris-virginica'\n102. 'Iris-virginica'\n103. 'Iris-virginica'\n104. 'Iris-virginica'\n105. 'Iris-virginica'\n106. 'Iris-virginica'\n107. 'Iris-virginica'\n108. 'Iris-virginica'\n109. 'Iris-virginica'\n110. 'Iris-virginica'\n111. 'Iris-virginica'\n112. 'Iris-virginica'\n113. 'Iris-virginica'\n114. 'Iris-virginica'\n115. 'Iris-virginica'\n116. 'Iris-virginica'\n117. 'Iris-virginica'\n118. 'Iris-virginica'\n119. 'Iris-virginica'\n120. 'Iris-virginica'\n121. 'Iris-virginica'\n122. 'Iris-virginica'\n123. 'Iris-virginica'\n124. 'Iris-virginica'\n125. 'Iris-virginica'\n126. 'Iris-virginica'\n127. 'Iris-virginica'\n128. 'Iris-virginica'\n129. 'Iris-virginica'\n130. 'Iris-virginica'\n131. 'Iris-virginica'\n132. 'Iris-virginica'\n133. 'Iris-virginica'\n134. 'Iris-virginica'\n135. 'Iris-virginica'\n136. 'Iris-virginica'\n137. 'Iris-virginica'\n138. 'Iris-virginica'\n139. 'Iris-virginica'\n140. 'Iris-virginica'\n141. 'Iris-virginica'\n142. 'Iris-virginica'\n143. 'Iris-virginica'\n144. 'Iris-virginica'\n145. 'Iris-virginica'\n146. 'Iris-virginica'\n147. 'Iris-virginica'\n148. 'Iris-virginica'\n149. 'Iris-virginica'\n150. 'Iris-virginica'\n\n\n",
            "text/latex": "\\begin{enumerate*}\n\\item 'Iris-setosa'\n\\item 'Iris-setosa'\n\\item 'Iris-setosa'\n\\item 'Iris-setosa'\n\\item 'Iris-setosa'\n\\item 'Iris-setosa'\n\\item 'Iris-setosa'\n\\item 'Iris-setosa'\n\\item 'Iris-setosa'\n\\item 'Iris-setosa'\n\\item 'Iris-setosa'\n\\item 'Iris-setosa'\n\\item 'Iris-setosa'\n\\item 'Iris-setosa'\n\\item 'Iris-setosa'\n\\item 'Iris-setosa'\n\\item 'Iris-setosa'\n\\item 'Iris-setosa'\n\\item 'Iris-setosa'\n\\item 'Iris-setosa'\n\\item 'Iris-setosa'\n\\item 'Iris-setosa'\n\\item 'Iris-setosa'\n\\item 'Iris-setosa'\n\\item 'Iris-setosa'\n\\item 'Iris-setosa'\n\\item 'Iris-setosa'\n\\item 'Iris-setosa'\n\\item 'Iris-setosa'\n\\item 'Iris-setosa'\n\\item 'Iris-setosa'\n\\item 'Iris-setosa'\n\\item 'Iris-setosa'\n\\item 'Iris-setosa'\n\\item 'Iris-setosa'\n\\item 'Iris-setosa'\n\\item 'Iris-setosa'\n\\item 'Iris-setosa'\n\\item 'Iris-setosa'\n\\item 'Iris-setosa'\n\\item 'Iris-setosa'\n\\item 'Iris-setosa'\n\\item 'Iris-setosa'\n\\item 'Iris-setosa'\n\\item 'Iris-setosa'\n\\item 'Iris-setosa'\n\\item 'Iris-setosa'\n\\item 'Iris-setosa'\n\\item 'Iris-setosa'\n\\item 'Iris-setosa'\n\\item 'Iris-versicolor'\n\\item 'Iris-versicolor'\n\\item 'Iris-versicolor'\n\\item 'Iris-versicolor'\n\\item 'Iris-versicolor'\n\\item 'Iris-versicolor'\n\\item 'Iris-versicolor'\n\\item 'Iris-versicolor'\n\\item 'Iris-versicolor'\n\\item 'Iris-versicolor'\n\\item 'Iris-versicolor'\n\\item 'Iris-versicolor'\n\\item 'Iris-versicolor'\n\\item 'Iris-versicolor'\n\\item 'Iris-versicolor'\n\\item 'Iris-versicolor'\n\\item 'Iris-versicolor'\n\\item 'Iris-versicolor'\n\\item 'Iris-versicolor'\n\\item 'Iris-versicolor'\n\\item 'Iris-versicolor'\n\\item 'Iris-versicolor'\n\\item 'Iris-versicolor'\n\\item 'Iris-versicolor'\n\\item 'Iris-versicolor'\n\\item 'Iris-versicolor'\n\\item 'Iris-versicolor'\n\\item 'Iris-versicolor'\n\\item 'Iris-versicolor'\n\\item 'Iris-versicolor'\n\\item 'Iris-versicolor'\n\\item 'Iris-versicolor'\n\\item 'Iris-versicolor'\n\\item 'Iris-versicolor'\n\\item 'Iris-versicolor'\n\\item 'Iris-versicolor'\n\\item 'Iris-versicolor'\n\\item 'Iris-versicolor'\n\\item 'Iris-versicolor'\n\\item 'Iris-versicolor'\n\\item 'Iris-versicolor'\n\\item 'Iris-versicolor'\n\\item 'Iris-versicolor'\n\\item 'Iris-versicolor'\n\\item 'Iris-versicolor'\n\\item 'Iris-versicolor'\n\\item 'Iris-versicolor'\n\\item 'Iris-versicolor'\n\\item 'Iris-versicolor'\n\\item 'Iris-versicolor'\n\\item 'Iris-virginica'\n\\item 'Iris-virginica'\n\\item 'Iris-virginica'\n\\item 'Iris-virginica'\n\\item 'Iris-virginica'\n\\item 'Iris-virginica'\n\\item 'Iris-virginica'\n\\item 'Iris-virginica'\n\\item 'Iris-virginica'\n\\item 'Iris-virginica'\n\\item 'Iris-virginica'\n\\item 'Iris-virginica'\n\\item 'Iris-virginica'\n\\item 'Iris-virginica'\n\\item 'Iris-virginica'\n\\item 'Iris-virginica'\n\\item 'Iris-virginica'\n\\item 'Iris-virginica'\n\\item 'Iris-virginica'\n\\item 'Iris-virginica'\n\\item 'Iris-virginica'\n\\item 'Iris-virginica'\n\\item 'Iris-virginica'\n\\item 'Iris-virginica'\n\\item 'Iris-virginica'\n\\item 'Iris-virginica'\n\\item 'Iris-virginica'\n\\item 'Iris-virginica'\n\\item 'Iris-virginica'\n\\item 'Iris-virginica'\n\\item 'Iris-virginica'\n\\item 'Iris-virginica'\n\\item 'Iris-virginica'\n\\item 'Iris-virginica'\n\\item 'Iris-virginica'\n\\item 'Iris-virginica'\n\\item 'Iris-virginica'\n\\item 'Iris-virginica'\n\\item 'Iris-virginica'\n\\item 'Iris-virginica'\n\\item 'Iris-virginica'\n\\item 'Iris-virginica'\n\\item 'Iris-virginica'\n\\item 'Iris-virginica'\n\\item 'Iris-virginica'\n\\item 'Iris-virginica'\n\\item 'Iris-virginica'\n\\item 'Iris-virginica'\n\\item 'Iris-virginica'\n\\item 'Iris-virginica'\n\\end{enumerate*}\n",
            "text/plain": [
              "  [1] \"Iris-setosa\"     \"Iris-setosa\"     \"Iris-setosa\"     \"Iris-setosa\"    \n",
              "  [5] \"Iris-setosa\"     \"Iris-setosa\"     \"Iris-setosa\"     \"Iris-setosa\"    \n",
              "  [9] \"Iris-setosa\"     \"Iris-setosa\"     \"Iris-setosa\"     \"Iris-setosa\"    \n",
              " [13] \"Iris-setosa\"     \"Iris-setosa\"     \"Iris-setosa\"     \"Iris-setosa\"    \n",
              " [17] \"Iris-setosa\"     \"Iris-setosa\"     \"Iris-setosa\"     \"Iris-setosa\"    \n",
              " [21] \"Iris-setosa\"     \"Iris-setosa\"     \"Iris-setosa\"     \"Iris-setosa\"    \n",
              " [25] \"Iris-setosa\"     \"Iris-setosa\"     \"Iris-setosa\"     \"Iris-setosa\"    \n",
              " [29] \"Iris-setosa\"     \"Iris-setosa\"     \"Iris-setosa\"     \"Iris-setosa\"    \n",
              " [33] \"Iris-setosa\"     \"Iris-setosa\"     \"Iris-setosa\"     \"Iris-setosa\"    \n",
              " [37] \"Iris-setosa\"     \"Iris-setosa\"     \"Iris-setosa\"     \"Iris-setosa\"    \n",
              " [41] \"Iris-setosa\"     \"Iris-setosa\"     \"Iris-setosa\"     \"Iris-setosa\"    \n",
              " [45] \"Iris-setosa\"     \"Iris-setosa\"     \"Iris-setosa\"     \"Iris-setosa\"    \n",
              " [49] \"Iris-setosa\"     \"Iris-setosa\"     \"Iris-versicolor\" \"Iris-versicolor\"\n",
              " [53] \"Iris-versicolor\" \"Iris-versicolor\" \"Iris-versicolor\" \"Iris-versicolor\"\n",
              " [57] \"Iris-versicolor\" \"Iris-versicolor\" \"Iris-versicolor\" \"Iris-versicolor\"\n",
              " [61] \"Iris-versicolor\" \"Iris-versicolor\" \"Iris-versicolor\" \"Iris-versicolor\"\n",
              " [65] \"Iris-versicolor\" \"Iris-versicolor\" \"Iris-versicolor\" \"Iris-versicolor\"\n",
              " [69] \"Iris-versicolor\" \"Iris-versicolor\" \"Iris-versicolor\" \"Iris-versicolor\"\n",
              " [73] \"Iris-versicolor\" \"Iris-versicolor\" \"Iris-versicolor\" \"Iris-versicolor\"\n",
              " [77] \"Iris-versicolor\" \"Iris-versicolor\" \"Iris-versicolor\" \"Iris-versicolor\"\n",
              " [81] \"Iris-versicolor\" \"Iris-versicolor\" \"Iris-versicolor\" \"Iris-versicolor\"\n",
              " [85] \"Iris-versicolor\" \"Iris-versicolor\" \"Iris-versicolor\" \"Iris-versicolor\"\n",
              " [89] \"Iris-versicolor\" \"Iris-versicolor\" \"Iris-versicolor\" \"Iris-versicolor\"\n",
              " [93] \"Iris-versicolor\" \"Iris-versicolor\" \"Iris-versicolor\" \"Iris-versicolor\"\n",
              " [97] \"Iris-versicolor\" \"Iris-versicolor\" \"Iris-versicolor\" \"Iris-versicolor\"\n",
              "[101] \"Iris-virginica\"  \"Iris-virginica\"  \"Iris-virginica\"  \"Iris-virginica\" \n",
              "[105] \"Iris-virginica\"  \"Iris-virginica\"  \"Iris-virginica\"  \"Iris-virginica\" \n",
              "[109] \"Iris-virginica\"  \"Iris-virginica\"  \"Iris-virginica\"  \"Iris-virginica\" \n",
              "[113] \"Iris-virginica\"  \"Iris-virginica\"  \"Iris-virginica\"  \"Iris-virginica\" \n",
              "[117] \"Iris-virginica\"  \"Iris-virginica\"  \"Iris-virginica\"  \"Iris-virginica\" \n",
              "[121] \"Iris-virginica\"  \"Iris-virginica\"  \"Iris-virginica\"  \"Iris-virginica\" \n",
              "[125] \"Iris-virginica\"  \"Iris-virginica\"  \"Iris-virginica\"  \"Iris-virginica\" \n",
              "[129] \"Iris-virginica\"  \"Iris-virginica\"  \"Iris-virginica\"  \"Iris-virginica\" \n",
              "[133] \"Iris-virginica\"  \"Iris-virginica\"  \"Iris-virginica\"  \"Iris-virginica\" \n",
              "[137] \"Iris-virginica\"  \"Iris-virginica\"  \"Iris-virginica\"  \"Iris-virginica\" \n",
              "[141] \"Iris-virginica\"  \"Iris-virginica\"  \"Iris-virginica\"  \"Iris-virginica\" \n",
              "[145] \"Iris-virginica\"  \"Iris-virginica\"  \"Iris-virginica\"  \"Iris-virginica\" \n",
              "[149] \"Iris-virginica\"  \"Iris-virginica\" "
            ]
          },
          "metadata": {}
        }
      ]
    },
    {
      "cell_type": "code",
      "source": [
        "df$SepalLengthCm"
      ],
      "metadata": {
        "colab": {
          "base_uri": "https://localhost:8080/",
          "height": 121
        },
        "id": "Pnp2ryUkNUYN",
        "outputId": "a855690d-7faa-49c3-e6f9-21026e4fee43"
      },
      "execution_count": 47,
      "outputs": [
        {
          "output_type": "display_data",
          "data": {
            "text/html": [
              "<style>\n",
              ".list-inline {list-style: none; margin:0; padding: 0}\n",
              ".list-inline>li {display: inline-block}\n",
              ".list-inline>li:not(:last-child)::after {content: \"\\00b7\"; padding: 0 .5ex}\n",
              "</style>\n",
              "<ol class=list-inline><li>5.1</li><li>4.9</li><li>4.7</li><li>4.6</li><li>5</li><li>5.4</li><li>4.6</li><li>5</li><li>4.4</li><li>4.9</li><li>5.4</li><li>4.8</li><li>4.8</li><li>4.3</li><li>5.8</li><li>5.7</li><li>5.4</li><li>5.1</li><li>5.7</li><li>5.1</li><li>5.4</li><li>5.1</li><li>4.6</li><li>5.1</li><li>4.8</li><li>5</li><li>5</li><li>5.2</li><li>5.2</li><li>4.7</li><li>4.8</li><li>5.4</li><li>5.2</li><li>5.5</li><li>4.9</li><li>5</li><li>5.5</li><li>4.9</li><li>4.4</li><li>5.1</li><li>5</li><li>4.5</li><li>4.4</li><li>5</li><li>5.1</li><li>4.8</li><li>5.1</li><li>4.6</li><li>5.3</li><li>5</li><li>7</li><li>6.4</li><li>6.9</li><li>5.5</li><li>6.5</li><li>5.7</li><li>6.3</li><li>4.9</li><li>6.6</li><li>5.2</li><li>5</li><li>5.9</li><li>6</li><li>6.1</li><li>5.6</li><li>6.7</li><li>5.6</li><li>5.8</li><li>6.2</li><li>5.6</li><li>5.9</li><li>6.1</li><li>6.3</li><li>6.1</li><li>6.4</li><li>6.6</li><li>6.8</li><li>6.7</li><li>6</li><li>5.7</li><li>5.5</li><li>5.5</li><li>5.8</li><li>6</li><li>5.4</li><li>6</li><li>6.7</li><li>6.3</li><li>5.6</li><li>5.5</li><li>5.5</li><li>6.1</li><li>5.8</li><li>5</li><li>5.6</li><li>5.7</li><li>5.7</li><li>6.2</li><li>5.1</li><li>5.7</li><li>6.3</li><li>5.8</li><li>7.1</li><li>6.3</li><li>6.5</li><li>7.6</li><li>4.9</li><li>7.3</li><li>6.7</li><li>7.2</li><li>6.5</li><li>6.4</li><li>6.8</li><li>5.7</li><li>5.8</li><li>6.4</li><li>6.5</li><li>7.7</li><li>7.7</li><li>6</li><li>6.9</li><li>5.6</li><li>7.7</li><li>6.3</li><li>6.7</li><li>7.2</li><li>6.2</li><li>6.1</li><li>6.4</li><li>7.2</li><li>7.4</li><li>7.9</li><li>6.4</li><li>6.3</li><li>6.1</li><li>7.7</li><li>6.3</li><li>6.4</li><li>6</li><li>6.9</li><li>6.7</li><li>6.9</li><li>5.8</li><li>6.8</li><li>6.7</li><li>6.7</li><li>6.3</li><li>6.5</li><li>6.2</li><li>5.9</li></ol>\n"
            ],
            "text/markdown": "1. 5.1\n2. 4.9\n3. 4.7\n4. 4.6\n5. 5\n6. 5.4\n7. 4.6\n8. 5\n9. 4.4\n10. 4.9\n11. 5.4\n12. 4.8\n13. 4.8\n14. 4.3\n15. 5.8\n16. 5.7\n17. 5.4\n18. 5.1\n19. 5.7\n20. 5.1\n21. 5.4\n22. 5.1\n23. 4.6\n24. 5.1\n25. 4.8\n26. 5\n27. 5\n28. 5.2\n29. 5.2\n30. 4.7\n31. 4.8\n32. 5.4\n33. 5.2\n34. 5.5\n35. 4.9\n36. 5\n37. 5.5\n38. 4.9\n39. 4.4\n40. 5.1\n41. 5\n42. 4.5\n43. 4.4\n44. 5\n45. 5.1\n46. 4.8\n47. 5.1\n48. 4.6\n49. 5.3\n50. 5\n51. 7\n52. 6.4\n53. 6.9\n54. 5.5\n55. 6.5\n56. 5.7\n57. 6.3\n58. 4.9\n59. 6.6\n60. 5.2\n61. 5\n62. 5.9\n63. 6\n64. 6.1\n65. 5.6\n66. 6.7\n67. 5.6\n68. 5.8\n69. 6.2\n70. 5.6\n71. 5.9\n72. 6.1\n73. 6.3\n74. 6.1\n75. 6.4\n76. 6.6\n77. 6.8\n78. 6.7\n79. 6\n80. 5.7\n81. 5.5\n82. 5.5\n83. 5.8\n84. 6\n85. 5.4\n86. 6\n87. 6.7\n88. 6.3\n89. 5.6\n90. 5.5\n91. 5.5\n92. 6.1\n93. 5.8\n94. 5\n95. 5.6\n96. 5.7\n97. 5.7\n98. 6.2\n99. 5.1\n100. 5.7\n101. 6.3\n102. 5.8\n103. 7.1\n104. 6.3\n105. 6.5\n106. 7.6\n107. 4.9\n108. 7.3\n109. 6.7\n110. 7.2\n111. 6.5\n112. 6.4\n113. 6.8\n114. 5.7\n115. 5.8\n116. 6.4\n117. 6.5\n118. 7.7\n119. 7.7\n120. 6\n121. 6.9\n122. 5.6\n123. 7.7\n124. 6.3\n125. 6.7\n126. 7.2\n127. 6.2\n128. 6.1\n129. 6.4\n130. 7.2\n131. 7.4\n132. 7.9\n133. 6.4\n134. 6.3\n135. 6.1\n136. 7.7\n137. 6.3\n138. 6.4\n139. 6\n140. 6.9\n141. 6.7\n142. 6.9\n143. 5.8\n144. 6.8\n145. 6.7\n146. 6.7\n147. 6.3\n148. 6.5\n149. 6.2\n150. 5.9\n\n\n",
            "text/latex": "\\begin{enumerate*}\n\\item 5.1\n\\item 4.9\n\\item 4.7\n\\item 4.6\n\\item 5\n\\item 5.4\n\\item 4.6\n\\item 5\n\\item 4.4\n\\item 4.9\n\\item 5.4\n\\item 4.8\n\\item 4.8\n\\item 4.3\n\\item 5.8\n\\item 5.7\n\\item 5.4\n\\item 5.1\n\\item 5.7\n\\item 5.1\n\\item 5.4\n\\item 5.1\n\\item 4.6\n\\item 5.1\n\\item 4.8\n\\item 5\n\\item 5\n\\item 5.2\n\\item 5.2\n\\item 4.7\n\\item 4.8\n\\item 5.4\n\\item 5.2\n\\item 5.5\n\\item 4.9\n\\item 5\n\\item 5.5\n\\item 4.9\n\\item 4.4\n\\item 5.1\n\\item 5\n\\item 4.5\n\\item 4.4\n\\item 5\n\\item 5.1\n\\item 4.8\n\\item 5.1\n\\item 4.6\n\\item 5.3\n\\item 5\n\\item 7\n\\item 6.4\n\\item 6.9\n\\item 5.5\n\\item 6.5\n\\item 5.7\n\\item 6.3\n\\item 4.9\n\\item 6.6\n\\item 5.2\n\\item 5\n\\item 5.9\n\\item 6\n\\item 6.1\n\\item 5.6\n\\item 6.7\n\\item 5.6\n\\item 5.8\n\\item 6.2\n\\item 5.6\n\\item 5.9\n\\item 6.1\n\\item 6.3\n\\item 6.1\n\\item 6.4\n\\item 6.6\n\\item 6.8\n\\item 6.7\n\\item 6\n\\item 5.7\n\\item 5.5\n\\item 5.5\n\\item 5.8\n\\item 6\n\\item 5.4\n\\item 6\n\\item 6.7\n\\item 6.3\n\\item 5.6\n\\item 5.5\n\\item 5.5\n\\item 6.1\n\\item 5.8\n\\item 5\n\\item 5.6\n\\item 5.7\n\\item 5.7\n\\item 6.2\n\\item 5.1\n\\item 5.7\n\\item 6.3\n\\item 5.8\n\\item 7.1\n\\item 6.3\n\\item 6.5\n\\item 7.6\n\\item 4.9\n\\item 7.3\n\\item 6.7\n\\item 7.2\n\\item 6.5\n\\item 6.4\n\\item 6.8\n\\item 5.7\n\\item 5.8\n\\item 6.4\n\\item 6.5\n\\item 7.7\n\\item 7.7\n\\item 6\n\\item 6.9\n\\item 5.6\n\\item 7.7\n\\item 6.3\n\\item 6.7\n\\item 7.2\n\\item 6.2\n\\item 6.1\n\\item 6.4\n\\item 7.2\n\\item 7.4\n\\item 7.9\n\\item 6.4\n\\item 6.3\n\\item 6.1\n\\item 7.7\n\\item 6.3\n\\item 6.4\n\\item 6\n\\item 6.9\n\\item 6.7\n\\item 6.9\n\\item 5.8\n\\item 6.8\n\\item 6.7\n\\item 6.7\n\\item 6.3\n\\item 6.5\n\\item 6.2\n\\item 5.9\n\\end{enumerate*}\n",
            "text/plain": [
              "  [1] 5.1 4.9 4.7 4.6 5.0 5.4 4.6 5.0 4.4 4.9 5.4 4.8 4.8 4.3 5.8 5.7 5.4 5.1\n",
              " [19] 5.7 5.1 5.4 5.1 4.6 5.1 4.8 5.0 5.0 5.2 5.2 4.7 4.8 5.4 5.2 5.5 4.9 5.0\n",
              " [37] 5.5 4.9 4.4 5.1 5.0 4.5 4.4 5.0 5.1 4.8 5.1 4.6 5.3 5.0 7.0 6.4 6.9 5.5\n",
              " [55] 6.5 5.7 6.3 4.9 6.6 5.2 5.0 5.9 6.0 6.1 5.6 6.7 5.6 5.8 6.2 5.6 5.9 6.1\n",
              " [73] 6.3 6.1 6.4 6.6 6.8 6.7 6.0 5.7 5.5 5.5 5.8 6.0 5.4 6.0 6.7 6.3 5.6 5.5\n",
              " [91] 5.5 6.1 5.8 5.0 5.6 5.7 5.7 6.2 5.1 5.7 6.3 5.8 7.1 6.3 6.5 7.6 4.9 7.3\n",
              "[109] 6.7 7.2 6.5 6.4 6.8 5.7 5.8 6.4 6.5 7.7 7.7 6.0 6.9 5.6 7.7 6.3 6.7 7.2\n",
              "[127] 6.2 6.1 6.4 7.2 7.4 7.9 6.4 6.3 6.1 7.7 6.3 6.4 6.0 6.9 6.7 6.9 5.8 6.8\n",
              "[145] 6.7 6.7 6.3 6.5 6.2 5.9"
            ]
          },
          "metadata": {}
        }
      ]
    },
    {
      "cell_type": "code",
      "execution_count": null,
      "metadata": {
        "colab": {
          "base_uri": "https://localhost:8080/",
          "height": 34
        },
        "id": "B6hn4hvAj5Az",
        "outputId": "61ab373c-31cf-4ced-bd16-247b2a1b7ade"
      },
      "outputs": [
        {
          "data": {
            "text/html": [
              "0.189979418344519"
            ],
            "text/latex": "0.189979418344519",
            "text/markdown": "0.189979418344519",
            "text/plain": [
              "[1] 0.1899794"
            ]
          },
          "metadata": {},
          "output_type": "display_data"
        }
      ],
      "source": [
        "var(iris$Sepal.Width, na.rm = FALSE)\n",
        "#The var() function is used to calculate the variance of a numerical vector.\n",
        "#In this case, it is calculating the variance of the \"Sepal.Width\" variable in the \"iris\" dataset.\n",
        "# since \"na.rm\" is set to FALSE, missing values will not be removed before computing the variance."
      ]
    },
    {
      "cell_type": "code",
      "execution_count": null,
      "metadata": {
        "colab": {
          "base_uri": "https://localhost:8080/",
          "height": 34
        },
        "id": "409kGPkukEmW",
        "outputId": "08730e43-0eb6-449c-cb97-23abacd3b44d"
      },
      "outputs": [
        {
          "data": {
            "text/html": [
              "0.762237668960347"
            ],
            "text/latex": "0.762237668960347",
            "text/markdown": "0.762237668960347",
            "text/plain": [
              "[1] 0.7622377"
            ]
          },
          "metadata": {},
          "output_type": "display_data"
        }
      ],
      "source": [
        "sd(iris$Petal.Width,na.rm=TRUE)\n",
        "#it is calculating the standard deviation of the \"Petal.Width\" variable in the \"iris\" dataset.\n",
        "#since \"na.rm\" is set to TRUE, missing values will be removed before computing the standard deviation."
      ]
    },
    {
      "cell_type": "code",
      "execution_count": null,
      "metadata": {
        "colab": {
          "base_uri": "https://localhost:8080/",
          "height": 121
        },
        "id": "Xpk9i_0JkEwY",
        "outputId": "4fa7d605-21a7-4f26-df7d-6c84d79704e0"
      },
      "outputs": [
        {
          "data": {
            "text/html": [
              "<style>\n",
              ".list-inline {list-style: none; margin:0; padding: 0}\n",
              ".list-inline>li {display: inline-block}\n",
              ".list-inline>li:not(:last-child)::after {content: \"\\00b7\"; padding: 0 .5ex}\n",
              "</style>\n",
              "<ol class=list-inline><li>1</li><li>1.1</li><li>1.2</li><li>1.2</li><li>1.3</li><li>1.3</li><li>1.3</li><li>1.3</li><li>1.3</li><li>1.3</li><li>1.3</li><li>1.4</li><li>1.4</li><li>1.4</li><li>1.4</li><li>1.4</li><li>1.4</li><li>1.4</li><li>1.4</li><li>1.4</li><li>1.4</li><li>1.4</li><li>1.4</li><li>1.4</li><li>1.5</li><li>1.5</li><li>1.5</li><li>1.5</li><li>1.5</li><li>1.5</li><li>1.5</li><li>1.5</li><li>1.5</li><li>1.5</li><li>1.5</li><li>1.5</li><li>1.5</li><li>1.6</li><li>1.6</li><li>1.6</li><li>1.6</li><li>1.6</li><li>1.6</li><li>1.6</li><li>1.7</li><li>1.7</li><li>1.7</li><li>1.7</li><li>1.9</li><li>1.9</li><li>3</li><li>3.3</li><li>3.3</li><li>3.5</li><li>3.5</li><li>3.6</li><li>3.7</li><li>3.8</li><li>3.9</li><li>3.9</li><li>3.9</li><li>4</li><li>4</li><li>4</li><li>4</li><li>4</li><li>4.1</li><li>4.1</li><li>4.1</li><li>4.2</li><li>4.2</li><li>4.2</li><li>4.2</li><li>4.3</li><li>4.3</li><li>4.4</li><li>4.4</li><li>4.4</li><li>4.4</li><li>4.5</li><li>4.5</li><li>4.5</li><li>4.5</li><li>4.5</li><li>4.5</li><li>4.5</li><li>4.5</li><li>4.6</li><li>4.6</li><li>4.6</li><li>4.7</li><li>4.7</li><li>4.7</li><li>4.7</li><li>4.7</li><li>4.8</li><li>4.8</li><li>4.8</li><li>4.8</li><li>4.9</li><li>4.9</li><li>4.9</li><li>4.9</li><li>4.9</li><li>5</li><li>5</li><li>5</li><li>5</li><li>5.1</li><li>5.1</li><li>5.1</li><li>5.1</li><li>5.1</li><li>5.1</li><li>5.1</li><li>5.1</li><li>5.2</li><li>5.2</li><li>5.3</li><li>5.3</li><li>5.4</li><li>5.4</li><li>5.5</li><li>5.5</li><li>5.5</li><li>5.6</li><li>5.6</li><li>5.6</li><li>5.6</li><li>5.6</li><li>5.6</li><li>5.7</li><li>5.7</li><li>5.7</li><li>5.8</li><li>5.8</li><li>5.8</li><li>5.9</li><li>5.9</li><li>6</li><li>6</li><li>6.1</li><li>6.1</li><li>6.1</li><li>6.3</li><li>6.4</li><li>6.6</li><li>6.7</li><li>6.7</li><li>6.9</li></ol>\n"
            ],
            "text/latex": "\\begin{enumerate*}\n\\item 1\n\\item 1.1\n\\item 1.2\n\\item 1.2\n\\item 1.3\n\\item 1.3\n\\item 1.3\n\\item 1.3\n\\item 1.3\n\\item 1.3\n\\item 1.3\n\\item 1.4\n\\item 1.4\n\\item 1.4\n\\item 1.4\n\\item 1.4\n\\item 1.4\n\\item 1.4\n\\item 1.4\n\\item 1.4\n\\item 1.4\n\\item 1.4\n\\item 1.4\n\\item 1.4\n\\item 1.5\n\\item 1.5\n\\item 1.5\n\\item 1.5\n\\item 1.5\n\\item 1.5\n\\item 1.5\n\\item 1.5\n\\item 1.5\n\\item 1.5\n\\item 1.5\n\\item 1.5\n\\item 1.5\n\\item 1.6\n\\item 1.6\n\\item 1.6\n\\item 1.6\n\\item 1.6\n\\item 1.6\n\\item 1.6\n\\item 1.7\n\\item 1.7\n\\item 1.7\n\\item 1.7\n\\item 1.9\n\\item 1.9\n\\item 3\n\\item 3.3\n\\item 3.3\n\\item 3.5\n\\item 3.5\n\\item 3.6\n\\item 3.7\n\\item 3.8\n\\item 3.9\n\\item 3.9\n\\item 3.9\n\\item 4\n\\item 4\n\\item 4\n\\item 4\n\\item 4\n\\item 4.1\n\\item 4.1\n\\item 4.1\n\\item 4.2\n\\item 4.2\n\\item 4.2\n\\item 4.2\n\\item 4.3\n\\item 4.3\n\\item 4.4\n\\item 4.4\n\\item 4.4\n\\item 4.4\n\\item 4.5\n\\item 4.5\n\\item 4.5\n\\item 4.5\n\\item 4.5\n\\item 4.5\n\\item 4.5\n\\item 4.5\n\\item 4.6\n\\item 4.6\n\\item 4.6\n\\item 4.7\n\\item 4.7\n\\item 4.7\n\\item 4.7\n\\item 4.7\n\\item 4.8\n\\item 4.8\n\\item 4.8\n\\item 4.8\n\\item 4.9\n\\item 4.9\n\\item 4.9\n\\item 4.9\n\\item 4.9\n\\item 5\n\\item 5\n\\item 5\n\\item 5\n\\item 5.1\n\\item 5.1\n\\item 5.1\n\\item 5.1\n\\item 5.1\n\\item 5.1\n\\item 5.1\n\\item 5.1\n\\item 5.2\n\\item 5.2\n\\item 5.3\n\\item 5.3\n\\item 5.4\n\\item 5.4\n\\item 5.5\n\\item 5.5\n\\item 5.5\n\\item 5.6\n\\item 5.6\n\\item 5.6\n\\item 5.6\n\\item 5.6\n\\item 5.6\n\\item 5.7\n\\item 5.7\n\\item 5.7\n\\item 5.8\n\\item 5.8\n\\item 5.8\n\\item 5.9\n\\item 5.9\n\\item 6\n\\item 6\n\\item 6.1\n\\item 6.1\n\\item 6.1\n\\item 6.3\n\\item 6.4\n\\item 6.6\n\\item 6.7\n\\item 6.7\n\\item 6.9\n\\end{enumerate*}\n",
            "text/markdown": "1. 1\n2. 1.1\n3. 1.2\n4. 1.2\n5. 1.3\n6. 1.3\n7. 1.3\n8. 1.3\n9. 1.3\n10. 1.3\n11. 1.3\n12. 1.4\n13. 1.4\n14. 1.4\n15. 1.4\n16. 1.4\n17. 1.4\n18. 1.4\n19. 1.4\n20. 1.4\n21. 1.4\n22. 1.4\n23. 1.4\n24. 1.4\n25. 1.5\n26. 1.5\n27. 1.5\n28. 1.5\n29. 1.5\n30. 1.5\n31. 1.5\n32. 1.5\n33. 1.5\n34. 1.5\n35. 1.5\n36. 1.5\n37. 1.5\n38. 1.6\n39. 1.6\n40. 1.6\n41. 1.6\n42. 1.6\n43. 1.6\n44. 1.6\n45. 1.7\n46. 1.7\n47. 1.7\n48. 1.7\n49. 1.9\n50. 1.9\n51. 3\n52. 3.3\n53. 3.3\n54. 3.5\n55. 3.5\n56. 3.6\n57. 3.7\n58. 3.8\n59. 3.9\n60. 3.9\n61. 3.9\n62. 4\n63. 4\n64. 4\n65. 4\n66. 4\n67. 4.1\n68. 4.1\n69. 4.1\n70. 4.2\n71. 4.2\n72. 4.2\n73. 4.2\n74. 4.3\n75. 4.3\n76. 4.4\n77. 4.4\n78. 4.4\n79. 4.4\n80. 4.5\n81. 4.5\n82. 4.5\n83. 4.5\n84. 4.5\n85. 4.5\n86. 4.5\n87. 4.5\n88. 4.6\n89. 4.6\n90. 4.6\n91. 4.7\n92. 4.7\n93. 4.7\n94. 4.7\n95. 4.7\n96. 4.8\n97. 4.8\n98. 4.8\n99. 4.8\n100. 4.9\n101. 4.9\n102. 4.9\n103. 4.9\n104. 4.9\n105. 5\n106. 5\n107. 5\n108. 5\n109. 5.1\n110. 5.1\n111. 5.1\n112. 5.1\n113. 5.1\n114. 5.1\n115. 5.1\n116. 5.1\n117. 5.2\n118. 5.2\n119. 5.3\n120. 5.3\n121. 5.4\n122. 5.4\n123. 5.5\n124. 5.5\n125. 5.5\n126. 5.6\n127. 5.6\n128. 5.6\n129. 5.6\n130. 5.6\n131. 5.6\n132. 5.7\n133. 5.7\n134. 5.7\n135. 5.8\n136. 5.8\n137. 5.8\n138. 5.9\n139. 5.9\n140. 6\n141. 6\n142. 6.1\n143. 6.1\n144. 6.1\n145. 6.3\n146. 6.4\n147. 6.6\n148. 6.7\n149. 6.7\n150. 6.9\n\n\n",
            "text/plain": [
              "  [1] 1.0 1.1 1.2 1.2 1.3 1.3 1.3 1.3 1.3 1.3 1.3 1.4 1.4 1.4 1.4 1.4 1.4 1.4\n",
              " [19] 1.4 1.4 1.4 1.4 1.4 1.4 1.5 1.5 1.5 1.5 1.5 1.5 1.5 1.5 1.5 1.5 1.5 1.5\n",
              " [37] 1.5 1.6 1.6 1.6 1.6 1.6 1.6 1.6 1.7 1.7 1.7 1.7 1.9 1.9 3.0 3.3 3.3 3.5\n",
              " [55] 3.5 3.6 3.7 3.8 3.9 3.9 3.9 4.0 4.0 4.0 4.0 4.0 4.1 4.1 4.1 4.2 4.2 4.2\n",
              " [73] 4.2 4.3 4.3 4.4 4.4 4.4 4.4 4.5 4.5 4.5 4.5 4.5 4.5 4.5 4.5 4.6 4.6 4.6\n",
              " [91] 4.7 4.7 4.7 4.7 4.7 4.8 4.8 4.8 4.8 4.9 4.9 4.9 4.9 4.9 5.0 5.0 5.0 5.0\n",
              "[109] 5.1 5.1 5.1 5.1 5.1 5.1 5.1 5.1 5.2 5.2 5.3 5.3 5.4 5.4 5.5 5.5 5.5 5.6\n",
              "[127] 5.6 5.6 5.6 5.6 5.6 5.7 5.7 5.7 5.8 5.8 5.8 5.9 5.9 6.0 6.0 6.1 6.1 6.1\n",
              "[145] 6.3 6.4 6.6 6.7 6.7 6.9"
            ]
          },
          "metadata": {},
          "output_type": "display_data"
        }
      ],
      "source": [
        "sort(iris$Petal.Length)\n",
        "#The sort() function is used to sort a vector in ascending or descending order.\n",
        "#it is sorting the \"Petal.Length\" variable in ascending order."
      ]
    },
    {
      "cell_type": "code",
      "execution_count": null,
      "metadata": {
        "colab": {
          "base_uri": "https://localhost:8080/",
          "height": 121
        },
        "id": "hOb3emwckEz1",
        "outputId": "55d96233-da56-47c0-b33d-ed41ec4a8dd0"
      },
      "outputs": [
        {
          "data": {
            "text/html": [
              "<style>\n",
              ".list-inline {list-style: none; margin:0; padding: 0}\n",
              ".list-inline>li {display: inline-block}\n",
              ".list-inline>li:not(:last-child)::after {content: \"\\00b7\"; padding: 0 .5ex}\n",
              "</style>\n",
              "<ol class=list-inline><li>4.3</li><li>4.4</li><li>4.4</li><li>4.4</li><li>4.5</li><li>4.6</li><li>4.6</li><li>4.6</li><li>4.6</li><li>4.7</li><li>4.7</li><li>4.8</li><li>4.8</li><li>4.8</li><li>4.8</li><li>4.8</li><li>4.9</li><li>4.9</li><li>4.9</li><li>4.9</li><li>4.9</li><li>4.9</li><li>5</li><li>5</li><li>5</li><li>5</li><li>5</li><li>5</li><li>5</li><li>5</li><li>5</li><li>5</li><li>5.1</li><li>5.1</li><li>5.1</li><li>5.1</li><li>5.1</li><li>5.1</li><li>5.1</li><li>5.1</li><li>5.1</li><li>5.2</li><li>5.2</li><li>5.2</li><li>5.2</li><li>5.3</li><li>5.4</li><li>5.4</li><li>5.4</li><li>5.4</li><li>5.4</li><li>5.4</li><li>5.5</li><li>5.5</li><li>5.5</li><li>5.5</li><li>5.5</li><li>5.5</li><li>5.5</li><li>5.6</li><li>5.6</li><li>5.6</li><li>5.6</li><li>5.6</li><li>5.6</li><li>5.7</li><li>5.7</li><li>5.7</li><li>5.7</li><li>5.7</li><li>5.7</li><li>5.7</li><li>5.7</li><li>5.8</li><li>5.8</li><li>5.8</li><li>5.8</li><li>5.8</li><li>5.8</li><li>5.8</li><li>5.9</li><li>5.9</li><li>5.9</li><li>6</li><li>6</li><li>6</li><li>6</li><li>6</li><li>6</li><li>6.1</li><li>6.1</li><li>6.1</li><li>6.1</li><li>6.1</li><li>6.1</li><li>6.2</li><li>6.2</li><li>6.2</li><li>6.2</li><li>6.3</li><li>6.3</li><li>6.3</li><li>6.3</li><li>6.3</li><li>6.3</li><li>6.3</li><li>6.3</li><li>6.3</li><li>6.4</li><li>6.4</li><li>6.4</li><li>6.4</li><li>6.4</li><li>6.4</li><li>6.4</li><li>6.5</li><li>6.5</li><li>6.5</li><li>6.5</li><li>6.5</li><li>6.6</li><li>6.6</li><li>6.7</li><li>6.7</li><li>6.7</li><li>6.7</li><li>6.7</li><li>6.7</li><li>6.7</li><li>6.7</li><li>6.8</li><li>6.8</li><li>6.8</li><li>6.9</li><li>6.9</li><li>6.9</li><li>6.9</li><li>7</li><li>7.1</li><li>7.2</li><li>7.2</li><li>7.2</li><li>7.3</li><li>7.4</li><li>7.6</li><li>7.7</li><li>7.7</li><li>7.7</li><li>7.7</li><li>7.9</li></ol>\n"
            ],
            "text/latex": "\\begin{enumerate*}\n\\item 4.3\n\\item 4.4\n\\item 4.4\n\\item 4.4\n\\item 4.5\n\\item 4.6\n\\item 4.6\n\\item 4.6\n\\item 4.6\n\\item 4.7\n\\item 4.7\n\\item 4.8\n\\item 4.8\n\\item 4.8\n\\item 4.8\n\\item 4.8\n\\item 4.9\n\\item 4.9\n\\item 4.9\n\\item 4.9\n\\item 4.9\n\\item 4.9\n\\item 5\n\\item 5\n\\item 5\n\\item 5\n\\item 5\n\\item 5\n\\item 5\n\\item 5\n\\item 5\n\\item 5\n\\item 5.1\n\\item 5.1\n\\item 5.1\n\\item 5.1\n\\item 5.1\n\\item 5.1\n\\item 5.1\n\\item 5.1\n\\item 5.1\n\\item 5.2\n\\item 5.2\n\\item 5.2\n\\item 5.2\n\\item 5.3\n\\item 5.4\n\\item 5.4\n\\item 5.4\n\\item 5.4\n\\item 5.4\n\\item 5.4\n\\item 5.5\n\\item 5.5\n\\item 5.5\n\\item 5.5\n\\item 5.5\n\\item 5.5\n\\item 5.5\n\\item 5.6\n\\item 5.6\n\\item 5.6\n\\item 5.6\n\\item 5.6\n\\item 5.6\n\\item 5.7\n\\item 5.7\n\\item 5.7\n\\item 5.7\n\\item 5.7\n\\item 5.7\n\\item 5.7\n\\item 5.7\n\\item 5.8\n\\item 5.8\n\\item 5.8\n\\item 5.8\n\\item 5.8\n\\item 5.8\n\\item 5.8\n\\item 5.9\n\\item 5.9\n\\item 5.9\n\\item 6\n\\item 6\n\\item 6\n\\item 6\n\\item 6\n\\item 6\n\\item 6.1\n\\item 6.1\n\\item 6.1\n\\item 6.1\n\\item 6.1\n\\item 6.1\n\\item 6.2\n\\item 6.2\n\\item 6.2\n\\item 6.2\n\\item 6.3\n\\item 6.3\n\\item 6.3\n\\item 6.3\n\\item 6.3\n\\item 6.3\n\\item 6.3\n\\item 6.3\n\\item 6.3\n\\item 6.4\n\\item 6.4\n\\item 6.4\n\\item 6.4\n\\item 6.4\n\\item 6.4\n\\item 6.4\n\\item 6.5\n\\item 6.5\n\\item 6.5\n\\item 6.5\n\\item 6.5\n\\item 6.6\n\\item 6.6\n\\item 6.7\n\\item 6.7\n\\item 6.7\n\\item 6.7\n\\item 6.7\n\\item 6.7\n\\item 6.7\n\\item 6.7\n\\item 6.8\n\\item 6.8\n\\item 6.8\n\\item 6.9\n\\item 6.9\n\\item 6.9\n\\item 6.9\n\\item 7\n\\item 7.1\n\\item 7.2\n\\item 7.2\n\\item 7.2\n\\item 7.3\n\\item 7.4\n\\item 7.6\n\\item 7.7\n\\item 7.7\n\\item 7.7\n\\item 7.7\n\\item 7.9\n\\end{enumerate*}\n",
            "text/markdown": "1. 4.3\n2. 4.4\n3. 4.4\n4. 4.4\n5. 4.5\n6. 4.6\n7. 4.6\n8. 4.6\n9. 4.6\n10. 4.7\n11. 4.7\n12. 4.8\n13. 4.8\n14. 4.8\n15. 4.8\n16. 4.8\n17. 4.9\n18. 4.9\n19. 4.9\n20. 4.9\n21. 4.9\n22. 4.9\n23. 5\n24. 5\n25. 5\n26. 5\n27. 5\n28. 5\n29. 5\n30. 5\n31. 5\n32. 5\n33. 5.1\n34. 5.1\n35. 5.1\n36. 5.1\n37. 5.1\n38. 5.1\n39. 5.1\n40. 5.1\n41. 5.1\n42. 5.2\n43. 5.2\n44. 5.2\n45. 5.2\n46. 5.3\n47. 5.4\n48. 5.4\n49. 5.4\n50. 5.4\n51. 5.4\n52. 5.4\n53. 5.5\n54. 5.5\n55. 5.5\n56. 5.5\n57. 5.5\n58. 5.5\n59. 5.5\n60. 5.6\n61. 5.6\n62. 5.6\n63. 5.6\n64. 5.6\n65. 5.6\n66. 5.7\n67. 5.7\n68. 5.7\n69. 5.7\n70. 5.7\n71. 5.7\n72. 5.7\n73. 5.7\n74. 5.8\n75. 5.8\n76. 5.8\n77. 5.8\n78. 5.8\n79. 5.8\n80. 5.8\n81. 5.9\n82. 5.9\n83. 5.9\n84. 6\n85. 6\n86. 6\n87. 6\n88. 6\n89. 6\n90. 6.1\n91. 6.1\n92. 6.1\n93. 6.1\n94. 6.1\n95. 6.1\n96. 6.2\n97. 6.2\n98. 6.2\n99. 6.2\n100. 6.3\n101. 6.3\n102. 6.3\n103. 6.3\n104. 6.3\n105. 6.3\n106. 6.3\n107. 6.3\n108. 6.3\n109. 6.4\n110. 6.4\n111. 6.4\n112. 6.4\n113. 6.4\n114. 6.4\n115. 6.4\n116. 6.5\n117. 6.5\n118. 6.5\n119. 6.5\n120. 6.5\n121. 6.6\n122. 6.6\n123. 6.7\n124. 6.7\n125. 6.7\n126. 6.7\n127. 6.7\n128. 6.7\n129. 6.7\n130. 6.7\n131. 6.8\n132. 6.8\n133. 6.8\n134. 6.9\n135. 6.9\n136. 6.9\n137. 6.9\n138. 7\n139. 7.1\n140. 7.2\n141. 7.2\n142. 7.2\n143. 7.3\n144. 7.4\n145. 7.6\n146. 7.7\n147. 7.7\n148. 7.7\n149. 7.7\n150. 7.9\n\n\n",
            "text/plain": [
              "  [1] 4.3 4.4 4.4 4.4 4.5 4.6 4.6 4.6 4.6 4.7 4.7 4.8 4.8 4.8 4.8 4.8 4.9 4.9\n",
              " [19] 4.9 4.9 4.9 4.9 5.0 5.0 5.0 5.0 5.0 5.0 5.0 5.0 5.0 5.0 5.1 5.1 5.1 5.1\n",
              " [37] 5.1 5.1 5.1 5.1 5.1 5.2 5.2 5.2 5.2 5.3 5.4 5.4 5.4 5.4 5.4 5.4 5.5 5.5\n",
              " [55] 5.5 5.5 5.5 5.5 5.5 5.6 5.6 5.6 5.6 5.6 5.6 5.7 5.7 5.7 5.7 5.7 5.7 5.7\n",
              " [73] 5.7 5.8 5.8 5.8 5.8 5.8 5.8 5.8 5.9 5.9 5.9 6.0 6.0 6.0 6.0 6.0 6.0 6.1\n",
              " [91] 6.1 6.1 6.1 6.1 6.1 6.2 6.2 6.2 6.2 6.3 6.3 6.3 6.3 6.3 6.3 6.3 6.3 6.3\n",
              "[109] 6.4 6.4 6.4 6.4 6.4 6.4 6.4 6.5 6.5 6.5 6.5 6.5 6.6 6.6 6.7 6.7 6.7 6.7\n",
              "[127] 6.7 6.7 6.7 6.7 6.8 6.8 6.8 6.9 6.9 6.9 6.9 7.0 7.1 7.2 7.2 7.2 7.3 7.4\n",
              "[145] 7.6 7.7 7.7 7.7 7.7 7.9"
            ]
          },
          "metadata": {},
          "output_type": "display_data"
        }
      ],
      "source": [
        "sort(iris$Sepal.Length)"
      ]
    },
    {
      "cell_type": "code",
      "execution_count": null,
      "metadata": {
        "colab": {
          "base_uri": "https://localhost:8080/",
          "height": 1000
        },
        "id": "poJNJKCOlva5",
        "outputId": "e7e8a802-e180-4536-9c9d-ea1f947bd4bf"
      },
      "outputs": [
        {
          "data": {
            "text/html": [
              "<table class=\"dataframe\">\n",
              "<caption>A data.frame: 150 × 5</caption>\n",
              "<thead>\n",
              "\t<tr><th scope=col>Sepal.Length</th><th scope=col>Sepal.Width</th><th scope=col>Petal.Length</th><th scope=col>Petal.Width</th><th scope=col>Species</th></tr>\n",
              "\t<tr><th scope=col>&lt;dbl&gt;</th><th scope=col>&lt;dbl&gt;</th><th scope=col>&lt;dbl&gt;</th><th scope=col>&lt;dbl&gt;</th><th scope=col>&lt;fct&gt;</th></tr>\n",
              "</thead>\n",
              "<tbody>\n",
              "\t<tr><td>4.3</td><td>3.0</td><td>1.1</td><td>0.1</td><td>setosa    </td></tr>\n",
              "\t<tr><td>4.4</td><td>2.9</td><td>1.4</td><td>0.2</td><td>setosa    </td></tr>\n",
              "\t<tr><td>4.4</td><td>3.0</td><td>1.3</td><td>0.2</td><td>setosa    </td></tr>\n",
              "\t<tr><td>4.4</td><td>3.2</td><td>1.3</td><td>0.2</td><td>setosa    </td></tr>\n",
              "\t<tr><td>4.5</td><td>2.3</td><td>1.3</td><td>0.3</td><td>setosa    </td></tr>\n",
              "\t<tr><td>4.6</td><td>3.1</td><td>1.5</td><td>0.2</td><td>setosa    </td></tr>\n",
              "\t<tr><td>4.6</td><td>3.4</td><td>1.4</td><td>0.3</td><td>setosa    </td></tr>\n",
              "\t<tr><td>4.6</td><td>3.6</td><td>1.0</td><td>0.2</td><td>setosa    </td></tr>\n",
              "\t<tr><td>4.6</td><td>3.2</td><td>1.4</td><td>0.2</td><td>setosa    </td></tr>\n",
              "\t<tr><td>4.7</td><td>3.2</td><td>1.3</td><td>0.2</td><td>setosa    </td></tr>\n",
              "\t<tr><td>4.7</td><td>3.2</td><td>1.6</td><td>0.2</td><td>setosa    </td></tr>\n",
              "\t<tr><td>4.8</td><td>3.4</td><td>1.6</td><td>0.2</td><td>setosa    </td></tr>\n",
              "\t<tr><td>4.8</td><td>3.0</td><td>1.4</td><td>0.1</td><td>setosa    </td></tr>\n",
              "\t<tr><td>4.8</td><td>3.4</td><td>1.9</td><td>0.2</td><td>setosa    </td></tr>\n",
              "\t<tr><td>4.8</td><td>3.1</td><td>1.6</td><td>0.2</td><td>setosa    </td></tr>\n",
              "\t<tr><td>4.8</td><td>3.0</td><td>1.4</td><td>0.3</td><td>setosa    </td></tr>\n",
              "\t<tr><td>4.9</td><td>3.0</td><td>1.4</td><td>0.2</td><td>setosa    </td></tr>\n",
              "\t<tr><td>4.9</td><td>3.1</td><td>1.5</td><td>0.1</td><td>setosa    </td></tr>\n",
              "\t<tr><td>4.9</td><td>3.1</td><td>1.5</td><td>0.2</td><td>setosa    </td></tr>\n",
              "\t<tr><td>4.9</td><td>3.6</td><td>1.4</td><td>0.1</td><td>setosa    </td></tr>\n",
              "\t<tr><td>4.9</td><td>2.4</td><td>3.3</td><td>1.0</td><td>versicolor</td></tr>\n",
              "\t<tr><td>4.9</td><td>2.5</td><td>4.5</td><td>1.7</td><td>virginica </td></tr>\n",
              "\t<tr><td>5.0</td><td>3.6</td><td>1.4</td><td>0.2</td><td>setosa    </td></tr>\n",
              "\t<tr><td>5.0</td><td>3.4</td><td>1.5</td><td>0.2</td><td>setosa    </td></tr>\n",
              "\t<tr><td>5.0</td><td>3.0</td><td>1.6</td><td>0.2</td><td>setosa    </td></tr>\n",
              "\t<tr><td>5.0</td><td>3.4</td><td>1.6</td><td>0.4</td><td>setosa    </td></tr>\n",
              "\t<tr><td>5.0</td><td>3.2</td><td>1.2</td><td>0.2</td><td>setosa    </td></tr>\n",
              "\t<tr><td>5.0</td><td>3.5</td><td>1.3</td><td>0.3</td><td>setosa    </td></tr>\n",
              "\t<tr><td>5.0</td><td>3.5</td><td>1.6</td><td>0.6</td><td>setosa    </td></tr>\n",
              "\t<tr><td>5.0</td><td>3.3</td><td>1.4</td><td>0.2</td><td>setosa    </td></tr>\n",
              "\t<tr><td>⋮</td><td>⋮</td><td>⋮</td><td>⋮</td><td>⋮</td></tr>\n",
              "\t<tr><td>6.6</td><td>2.9</td><td>4.6</td><td>1.3</td><td>versicolor</td></tr>\n",
              "\t<tr><td>6.6</td><td>3.0</td><td>4.4</td><td>1.4</td><td>versicolor</td></tr>\n",
              "\t<tr><td>6.7</td><td>3.1</td><td>4.4</td><td>1.4</td><td>versicolor</td></tr>\n",
              "\t<tr><td>6.7</td><td>3.0</td><td>5.0</td><td>1.7</td><td>versicolor</td></tr>\n",
              "\t<tr><td>6.7</td><td>3.1</td><td>4.7</td><td>1.5</td><td>versicolor</td></tr>\n",
              "\t<tr><td>6.7</td><td>2.5</td><td>5.8</td><td>1.8</td><td>virginica </td></tr>\n",
              "\t<tr><td>6.7</td><td>3.3</td><td>5.7</td><td>2.1</td><td>virginica </td></tr>\n",
              "\t<tr><td>6.7</td><td>3.1</td><td>5.6</td><td>2.4</td><td>virginica </td></tr>\n",
              "\t<tr><td>6.7</td><td>3.3</td><td>5.7</td><td>2.5</td><td>virginica </td></tr>\n",
              "\t<tr><td>6.7</td><td>3.0</td><td>5.2</td><td>2.3</td><td>virginica </td></tr>\n",
              "\t<tr><td>6.8</td><td>2.8</td><td>4.8</td><td>1.4</td><td>versicolor</td></tr>\n",
              "\t<tr><td>6.8</td><td>3.0</td><td>5.5</td><td>2.1</td><td>virginica </td></tr>\n",
              "\t<tr><td>6.8</td><td>3.2</td><td>5.9</td><td>2.3</td><td>virginica </td></tr>\n",
              "\t<tr><td>6.9</td><td>3.1</td><td>4.9</td><td>1.5</td><td>versicolor</td></tr>\n",
              "\t<tr><td>6.9</td><td>3.2</td><td>5.7</td><td>2.3</td><td>virginica </td></tr>\n",
              "\t<tr><td>6.9</td><td>3.1</td><td>5.4</td><td>2.1</td><td>virginica </td></tr>\n",
              "\t<tr><td>6.9</td><td>3.1</td><td>5.1</td><td>2.3</td><td>virginica </td></tr>\n",
              "\t<tr><td>7.0</td><td>3.2</td><td>4.7</td><td>1.4</td><td>versicolor</td></tr>\n",
              "\t<tr><td>7.1</td><td>3.0</td><td>5.9</td><td>2.1</td><td>virginica </td></tr>\n",
              "\t<tr><td>7.2</td><td>3.6</td><td>6.1</td><td>2.5</td><td>virginica </td></tr>\n",
              "\t<tr><td>7.2</td><td>3.2</td><td>6.0</td><td>1.8</td><td>virginica </td></tr>\n",
              "\t<tr><td>7.2</td><td>3.0</td><td>5.8</td><td>1.6</td><td>virginica </td></tr>\n",
              "\t<tr><td>7.3</td><td>2.9</td><td>6.3</td><td>1.8</td><td>virginica </td></tr>\n",
              "\t<tr><td>7.4</td><td>2.8</td><td>6.1</td><td>1.9</td><td>virginica </td></tr>\n",
              "\t<tr><td>7.6</td><td>3.0</td><td>6.6</td><td>2.1</td><td>virginica </td></tr>\n",
              "\t<tr><td>7.7</td><td>3.8</td><td>6.7</td><td>2.2</td><td>virginica </td></tr>\n",
              "\t<tr><td>7.7</td><td>2.6</td><td>6.9</td><td>2.3</td><td>virginica </td></tr>\n",
              "\t<tr><td>7.7</td><td>2.8</td><td>6.7</td><td>2.0</td><td>virginica </td></tr>\n",
              "\t<tr><td>7.7</td><td>3.0</td><td>6.1</td><td>2.3</td><td>virginica </td></tr>\n",
              "\t<tr><td>7.9</td><td>3.8</td><td>6.4</td><td>2.0</td><td>virginica </td></tr>\n",
              "</tbody>\n",
              "</table>\n"
            ],
            "text/latex": "A data.frame: 150 × 5\n\\begin{tabular}{lllll}\n Sepal.Length & Sepal.Width & Petal.Length & Petal.Width & Species\\\\\n <dbl> & <dbl> & <dbl> & <dbl> & <fct>\\\\\n\\hline\n\t 4.3 & 3.0 & 1.1 & 0.1 & setosa    \\\\\n\t 4.4 & 2.9 & 1.4 & 0.2 & setosa    \\\\\n\t 4.4 & 3.0 & 1.3 & 0.2 & setosa    \\\\\n\t 4.4 & 3.2 & 1.3 & 0.2 & setosa    \\\\\n\t 4.5 & 2.3 & 1.3 & 0.3 & setosa    \\\\\n\t 4.6 & 3.1 & 1.5 & 0.2 & setosa    \\\\\n\t 4.6 & 3.4 & 1.4 & 0.3 & setosa    \\\\\n\t 4.6 & 3.6 & 1.0 & 0.2 & setosa    \\\\\n\t 4.6 & 3.2 & 1.4 & 0.2 & setosa    \\\\\n\t 4.7 & 3.2 & 1.3 & 0.2 & setosa    \\\\\n\t 4.7 & 3.2 & 1.6 & 0.2 & setosa    \\\\\n\t 4.8 & 3.4 & 1.6 & 0.2 & setosa    \\\\\n\t 4.8 & 3.0 & 1.4 & 0.1 & setosa    \\\\\n\t 4.8 & 3.4 & 1.9 & 0.2 & setosa    \\\\\n\t 4.8 & 3.1 & 1.6 & 0.2 & setosa    \\\\\n\t 4.8 & 3.0 & 1.4 & 0.3 & setosa    \\\\\n\t 4.9 & 3.0 & 1.4 & 0.2 & setosa    \\\\\n\t 4.9 & 3.1 & 1.5 & 0.1 & setosa    \\\\\n\t 4.9 & 3.1 & 1.5 & 0.2 & setosa    \\\\\n\t 4.9 & 3.6 & 1.4 & 0.1 & setosa    \\\\\n\t 4.9 & 2.4 & 3.3 & 1.0 & versicolor\\\\\n\t 4.9 & 2.5 & 4.5 & 1.7 & virginica \\\\\n\t 5.0 & 3.6 & 1.4 & 0.2 & setosa    \\\\\n\t 5.0 & 3.4 & 1.5 & 0.2 & setosa    \\\\\n\t 5.0 & 3.0 & 1.6 & 0.2 & setosa    \\\\\n\t 5.0 & 3.4 & 1.6 & 0.4 & setosa    \\\\\n\t 5.0 & 3.2 & 1.2 & 0.2 & setosa    \\\\\n\t 5.0 & 3.5 & 1.3 & 0.3 & setosa    \\\\\n\t 5.0 & 3.5 & 1.6 & 0.6 & setosa    \\\\\n\t 5.0 & 3.3 & 1.4 & 0.2 & setosa    \\\\\n\t ⋮ & ⋮ & ⋮ & ⋮ & ⋮\\\\\n\t 6.6 & 2.9 & 4.6 & 1.3 & versicolor\\\\\n\t 6.6 & 3.0 & 4.4 & 1.4 & versicolor\\\\\n\t 6.7 & 3.1 & 4.4 & 1.4 & versicolor\\\\\n\t 6.7 & 3.0 & 5.0 & 1.7 & versicolor\\\\\n\t 6.7 & 3.1 & 4.7 & 1.5 & versicolor\\\\\n\t 6.7 & 2.5 & 5.8 & 1.8 & virginica \\\\\n\t 6.7 & 3.3 & 5.7 & 2.1 & virginica \\\\\n\t 6.7 & 3.1 & 5.6 & 2.4 & virginica \\\\\n\t 6.7 & 3.3 & 5.7 & 2.5 & virginica \\\\\n\t 6.7 & 3.0 & 5.2 & 2.3 & virginica \\\\\n\t 6.8 & 2.8 & 4.8 & 1.4 & versicolor\\\\\n\t 6.8 & 3.0 & 5.5 & 2.1 & virginica \\\\\n\t 6.8 & 3.2 & 5.9 & 2.3 & virginica \\\\\n\t 6.9 & 3.1 & 4.9 & 1.5 & versicolor\\\\\n\t 6.9 & 3.2 & 5.7 & 2.3 & virginica \\\\\n\t 6.9 & 3.1 & 5.4 & 2.1 & virginica \\\\\n\t 6.9 & 3.1 & 5.1 & 2.3 & virginica \\\\\n\t 7.0 & 3.2 & 4.7 & 1.4 & versicolor\\\\\n\t 7.1 & 3.0 & 5.9 & 2.1 & virginica \\\\\n\t 7.2 & 3.6 & 6.1 & 2.5 & virginica \\\\\n\t 7.2 & 3.2 & 6.0 & 1.8 & virginica \\\\\n\t 7.2 & 3.0 & 5.8 & 1.6 & virginica \\\\\n\t 7.3 & 2.9 & 6.3 & 1.8 & virginica \\\\\n\t 7.4 & 2.8 & 6.1 & 1.9 & virginica \\\\\n\t 7.6 & 3.0 & 6.6 & 2.1 & virginica \\\\\n\t 7.7 & 3.8 & 6.7 & 2.2 & virginica \\\\\n\t 7.7 & 2.6 & 6.9 & 2.3 & virginica \\\\\n\t 7.7 & 2.8 & 6.7 & 2.0 & virginica \\\\\n\t 7.7 & 3.0 & 6.1 & 2.3 & virginica \\\\\n\t 7.9 & 3.8 & 6.4 & 2.0 & virginica \\\\\n\\end{tabular}\n",
            "text/markdown": "\nA data.frame: 150 × 5\n\n| Sepal.Length &lt;dbl&gt; | Sepal.Width &lt;dbl&gt; | Petal.Length &lt;dbl&gt; | Petal.Width &lt;dbl&gt; | Species &lt;fct&gt; |\n|---|---|---|---|---|\n| 4.3 | 3.0 | 1.1 | 0.1 | setosa     |\n| 4.4 | 2.9 | 1.4 | 0.2 | setosa     |\n| 4.4 | 3.0 | 1.3 | 0.2 | setosa     |\n| 4.4 | 3.2 | 1.3 | 0.2 | setosa     |\n| 4.5 | 2.3 | 1.3 | 0.3 | setosa     |\n| 4.6 | 3.1 | 1.5 | 0.2 | setosa     |\n| 4.6 | 3.4 | 1.4 | 0.3 | setosa     |\n| 4.6 | 3.6 | 1.0 | 0.2 | setosa     |\n| 4.6 | 3.2 | 1.4 | 0.2 | setosa     |\n| 4.7 | 3.2 | 1.3 | 0.2 | setosa     |\n| 4.7 | 3.2 | 1.6 | 0.2 | setosa     |\n| 4.8 | 3.4 | 1.6 | 0.2 | setosa     |\n| 4.8 | 3.0 | 1.4 | 0.1 | setosa     |\n| 4.8 | 3.4 | 1.9 | 0.2 | setosa     |\n| 4.8 | 3.1 | 1.6 | 0.2 | setosa     |\n| 4.8 | 3.0 | 1.4 | 0.3 | setosa     |\n| 4.9 | 3.0 | 1.4 | 0.2 | setosa     |\n| 4.9 | 3.1 | 1.5 | 0.1 | setosa     |\n| 4.9 | 3.1 | 1.5 | 0.2 | setosa     |\n| 4.9 | 3.6 | 1.4 | 0.1 | setosa     |\n| 4.9 | 2.4 | 3.3 | 1.0 | versicolor |\n| 4.9 | 2.5 | 4.5 | 1.7 | virginica  |\n| 5.0 | 3.6 | 1.4 | 0.2 | setosa     |\n| 5.0 | 3.4 | 1.5 | 0.2 | setosa     |\n| 5.0 | 3.0 | 1.6 | 0.2 | setosa     |\n| 5.0 | 3.4 | 1.6 | 0.4 | setosa     |\n| 5.0 | 3.2 | 1.2 | 0.2 | setosa     |\n| 5.0 | 3.5 | 1.3 | 0.3 | setosa     |\n| 5.0 | 3.5 | 1.6 | 0.6 | setosa     |\n| 5.0 | 3.3 | 1.4 | 0.2 | setosa     |\n| ⋮ | ⋮ | ⋮ | ⋮ | ⋮ |\n| 6.6 | 2.9 | 4.6 | 1.3 | versicolor |\n| 6.6 | 3.0 | 4.4 | 1.4 | versicolor |\n| 6.7 | 3.1 | 4.4 | 1.4 | versicolor |\n| 6.7 | 3.0 | 5.0 | 1.7 | versicolor |\n| 6.7 | 3.1 | 4.7 | 1.5 | versicolor |\n| 6.7 | 2.5 | 5.8 | 1.8 | virginica  |\n| 6.7 | 3.3 | 5.7 | 2.1 | virginica  |\n| 6.7 | 3.1 | 5.6 | 2.4 | virginica  |\n| 6.7 | 3.3 | 5.7 | 2.5 | virginica  |\n| 6.7 | 3.0 | 5.2 | 2.3 | virginica  |\n| 6.8 | 2.8 | 4.8 | 1.4 | versicolor |\n| 6.8 | 3.0 | 5.5 | 2.1 | virginica  |\n| 6.8 | 3.2 | 5.9 | 2.3 | virginica  |\n| 6.9 | 3.1 | 4.9 | 1.5 | versicolor |\n| 6.9 | 3.2 | 5.7 | 2.3 | virginica  |\n| 6.9 | 3.1 | 5.4 | 2.1 | virginica  |\n| 6.9 | 3.1 | 5.1 | 2.3 | virginica  |\n| 7.0 | 3.2 | 4.7 | 1.4 | versicolor |\n| 7.1 | 3.0 | 5.9 | 2.1 | virginica  |\n| 7.2 | 3.6 | 6.1 | 2.5 | virginica  |\n| 7.2 | 3.2 | 6.0 | 1.8 | virginica  |\n| 7.2 | 3.0 | 5.8 | 1.6 | virginica  |\n| 7.3 | 2.9 | 6.3 | 1.8 | virginica  |\n| 7.4 | 2.8 | 6.1 | 1.9 | virginica  |\n| 7.6 | 3.0 | 6.6 | 2.1 | virginica  |\n| 7.7 | 3.8 | 6.7 | 2.2 | virginica  |\n| 7.7 | 2.6 | 6.9 | 2.3 | virginica  |\n| 7.7 | 2.8 | 6.7 | 2.0 | virginica  |\n| 7.7 | 3.0 | 6.1 | 2.3 | virginica  |\n| 7.9 | 3.8 | 6.4 | 2.0 | virginica  |\n\n",
            "text/plain": [
              "    Sepal.Length Sepal.Width Petal.Length Petal.Width Species   \n",
              "1   4.3          3.0         1.1          0.1         setosa    \n",
              "2   4.4          2.9         1.4          0.2         setosa    \n",
              "3   4.4          3.0         1.3          0.2         setosa    \n",
              "4   4.4          3.2         1.3          0.2         setosa    \n",
              "5   4.5          2.3         1.3          0.3         setosa    \n",
              "6   4.6          3.1         1.5          0.2         setosa    \n",
              "7   4.6          3.4         1.4          0.3         setosa    \n",
              "8   4.6          3.6         1.0          0.2         setosa    \n",
              "9   4.6          3.2         1.4          0.2         setosa    \n",
              "10  4.7          3.2         1.3          0.2         setosa    \n",
              "11  4.7          3.2         1.6          0.2         setosa    \n",
              "12  4.8          3.4         1.6          0.2         setosa    \n",
              "13  4.8          3.0         1.4          0.1         setosa    \n",
              "14  4.8          3.4         1.9          0.2         setosa    \n",
              "15  4.8          3.1         1.6          0.2         setosa    \n",
              "16  4.8          3.0         1.4          0.3         setosa    \n",
              "17  4.9          3.0         1.4          0.2         setosa    \n",
              "18  4.9          3.1         1.5          0.1         setosa    \n",
              "19  4.9          3.1         1.5          0.2         setosa    \n",
              "20  4.9          3.6         1.4          0.1         setosa    \n",
              "21  4.9          2.4         3.3          1.0         versicolor\n",
              "22  4.9          2.5         4.5          1.7         virginica \n",
              "23  5.0          3.6         1.4          0.2         setosa    \n",
              "24  5.0          3.4         1.5          0.2         setosa    \n",
              "25  5.0          3.0         1.6          0.2         setosa    \n",
              "26  5.0          3.4         1.6          0.4         setosa    \n",
              "27  5.0          3.2         1.2          0.2         setosa    \n",
              "28  5.0          3.5         1.3          0.3         setosa    \n",
              "29  5.0          3.5         1.6          0.6         setosa    \n",
              "30  5.0          3.3         1.4          0.2         setosa    \n",
              "⋮   ⋮            ⋮           ⋮            ⋮           ⋮         \n",
              "121 6.6          2.9         4.6          1.3         versicolor\n",
              "122 6.6          3.0         4.4          1.4         versicolor\n",
              "123 6.7          3.1         4.4          1.4         versicolor\n",
              "124 6.7          3.0         5.0          1.7         versicolor\n",
              "125 6.7          3.1         4.7          1.5         versicolor\n",
              "126 6.7          2.5         5.8          1.8         virginica \n",
              "127 6.7          3.3         5.7          2.1         virginica \n",
              "128 6.7          3.1         5.6          2.4         virginica \n",
              "129 6.7          3.3         5.7          2.5         virginica \n",
              "130 6.7          3.0         5.2          2.3         virginica \n",
              "131 6.8          2.8         4.8          1.4         versicolor\n",
              "132 6.8          3.0         5.5          2.1         virginica \n",
              "133 6.8          3.2         5.9          2.3         virginica \n",
              "134 6.9          3.1         4.9          1.5         versicolor\n",
              "135 6.9          3.2         5.7          2.3         virginica \n",
              "136 6.9          3.1         5.4          2.1         virginica \n",
              "137 6.9          3.1         5.1          2.3         virginica \n",
              "138 7.0          3.2         4.7          1.4         versicolor\n",
              "139 7.1          3.0         5.9          2.1         virginica \n",
              "140 7.2          3.6         6.1          2.5         virginica \n",
              "141 7.2          3.2         6.0          1.8         virginica \n",
              "142 7.2          3.0         5.8          1.6         virginica \n",
              "143 7.3          2.9         6.3          1.8         virginica \n",
              "144 7.4          2.8         6.1          1.9         virginica \n",
              "145 7.6          3.0         6.6          2.1         virginica \n",
              "146 7.7          3.8         6.7          2.2         virginica \n",
              "147 7.7          2.6         6.9          2.3         virginica \n",
              "148 7.7          2.8         6.7          2.0         virginica \n",
              "149 7.7          3.0         6.1          2.3         virginica \n",
              "150 7.9          3.8         6.4          2.0         virginica "
            ]
          },
          "metadata": {},
          "output_type": "display_data"
        }
      ],
      "source": [
        "arrange(iris, Sepal.Length)\n",
        "#The arrange() function is used to reorder the rows of a dataset based on one or more variables. \n",
        "#In this case, it is arranging the rows of the \"iris\" dataset in ascending order based on the values \n",
        "#of the \"Sepal.Length\" variable."
      ]
    },
    {
      "cell_type": "code",
      "execution_count": null,
      "metadata": {
        "colab": {
          "base_uri": "https://localhost:8080/",
          "height": 1000
        },
        "id": "xZiM0G2tl3Wd",
        "outputId": "00b7b3d0-2c44-4067-f411-867a092da6cc"
      },
      "outputs": [
        {
          "data": {
            "text/html": [
              "<table class=\"dataframe\">\n",
              "<caption>A data.frame: 150 × 5</caption>\n",
              "<thead>\n",
              "\t<tr><th scope=col>Sepal.Length</th><th scope=col>Sepal.Width</th><th scope=col>Petal.Length</th><th scope=col>Petal.Width</th><th scope=col>Species</th></tr>\n",
              "\t<tr><th scope=col>&lt;dbl&gt;</th><th scope=col>&lt;dbl&gt;</th><th scope=col>&lt;dbl&gt;</th><th scope=col>&lt;dbl&gt;</th><th scope=col>&lt;fct&gt;</th></tr>\n",
              "</thead>\n",
              "<tbody>\n",
              "\t<tr><td>4.6</td><td>3.6</td><td>1.0</td><td>0.2</td><td>setosa</td></tr>\n",
              "\t<tr><td>4.3</td><td>3.0</td><td>1.1</td><td>0.1</td><td>setosa</td></tr>\n",
              "\t<tr><td>5.8</td><td>4.0</td><td>1.2</td><td>0.2</td><td>setosa</td></tr>\n",
              "\t<tr><td>5.0</td><td>3.2</td><td>1.2</td><td>0.2</td><td>setosa</td></tr>\n",
              "\t<tr><td>4.7</td><td>3.2</td><td>1.3</td><td>0.2</td><td>setosa</td></tr>\n",
              "\t<tr><td>5.4</td><td>3.9</td><td>1.3</td><td>0.4</td><td>setosa</td></tr>\n",
              "\t<tr><td>5.5</td><td>3.5</td><td>1.3</td><td>0.2</td><td>setosa</td></tr>\n",
              "\t<tr><td>4.4</td><td>3.0</td><td>1.3</td><td>0.2</td><td>setosa</td></tr>\n",
              "\t<tr><td>5.0</td><td>3.5</td><td>1.3</td><td>0.3</td><td>setosa</td></tr>\n",
              "\t<tr><td>4.5</td><td>2.3</td><td>1.3</td><td>0.3</td><td>setosa</td></tr>\n",
              "\t<tr><td>4.4</td><td>3.2</td><td>1.3</td><td>0.2</td><td>setosa</td></tr>\n",
              "\t<tr><td>5.1</td><td>3.5</td><td>1.4</td><td>0.2</td><td>setosa</td></tr>\n",
              "\t<tr><td>4.9</td><td>3.0</td><td>1.4</td><td>0.2</td><td>setosa</td></tr>\n",
              "\t<tr><td>5.0</td><td>3.6</td><td>1.4</td><td>0.2</td><td>setosa</td></tr>\n",
              "\t<tr><td>4.6</td><td>3.4</td><td>1.4</td><td>0.3</td><td>setosa</td></tr>\n",
              "\t<tr><td>4.4</td><td>2.9</td><td>1.4</td><td>0.2</td><td>setosa</td></tr>\n",
              "\t<tr><td>4.8</td><td>3.0</td><td>1.4</td><td>0.1</td><td>setosa</td></tr>\n",
              "\t<tr><td>5.1</td><td>3.5</td><td>1.4</td><td>0.3</td><td>setosa</td></tr>\n",
              "\t<tr><td>5.2</td><td>3.4</td><td>1.4</td><td>0.2</td><td>setosa</td></tr>\n",
              "\t<tr><td>5.5</td><td>4.2</td><td>1.4</td><td>0.2</td><td>setosa</td></tr>\n",
              "\t<tr><td>4.9</td><td>3.6</td><td>1.4</td><td>0.1</td><td>setosa</td></tr>\n",
              "\t<tr><td>4.8</td><td>3.0</td><td>1.4</td><td>0.3</td><td>setosa</td></tr>\n",
              "\t<tr><td>4.6</td><td>3.2</td><td>1.4</td><td>0.2</td><td>setosa</td></tr>\n",
              "\t<tr><td>5.0</td><td>3.3</td><td>1.4</td><td>0.2</td><td>setosa</td></tr>\n",
              "\t<tr><td>4.6</td><td>3.1</td><td>1.5</td><td>0.2</td><td>setosa</td></tr>\n",
              "\t<tr><td>5.0</td><td>3.4</td><td>1.5</td><td>0.2</td><td>setosa</td></tr>\n",
              "\t<tr><td>4.9</td><td>3.1</td><td>1.5</td><td>0.1</td><td>setosa</td></tr>\n",
              "\t<tr><td>5.4</td><td>3.7</td><td>1.5</td><td>0.2</td><td>setosa</td></tr>\n",
              "\t<tr><td>5.7</td><td>4.4</td><td>1.5</td><td>0.4</td><td>setosa</td></tr>\n",
              "\t<tr><td>5.1</td><td>3.8</td><td>1.5</td><td>0.3</td><td>setosa</td></tr>\n",
              "\t<tr><td>⋮</td><td>⋮</td><td>⋮</td><td>⋮</td><td>⋮</td></tr>\n",
              "\t<tr><td>6.9</td><td>3.1</td><td>5.4</td><td>2.1</td><td>virginica</td></tr>\n",
              "\t<tr><td>6.2</td><td>3.4</td><td>5.4</td><td>2.3</td><td>virginica</td></tr>\n",
              "\t<tr><td>6.8</td><td>3.0</td><td>5.5</td><td>2.1</td><td>virginica</td></tr>\n",
              "\t<tr><td>6.5</td><td>3.0</td><td>5.5</td><td>1.8</td><td>virginica</td></tr>\n",
              "\t<tr><td>6.4</td><td>3.1</td><td>5.5</td><td>1.8</td><td>virginica</td></tr>\n",
              "\t<tr><td>6.3</td><td>2.9</td><td>5.6</td><td>1.8</td><td>virginica</td></tr>\n",
              "\t<tr><td>6.4</td><td>2.8</td><td>5.6</td><td>2.1</td><td>virginica</td></tr>\n",
              "\t<tr><td>6.4</td><td>2.8</td><td>5.6</td><td>2.2</td><td>virginica</td></tr>\n",
              "\t<tr><td>6.1</td><td>2.6</td><td>5.6</td><td>1.4</td><td>virginica</td></tr>\n",
              "\t<tr><td>6.3</td><td>3.4</td><td>5.6</td><td>2.4</td><td>virginica</td></tr>\n",
              "\t<tr><td>6.7</td><td>3.1</td><td>5.6</td><td>2.4</td><td>virginica</td></tr>\n",
              "\t<tr><td>6.9</td><td>3.2</td><td>5.7</td><td>2.3</td><td>virginica</td></tr>\n",
              "\t<tr><td>6.7</td><td>3.3</td><td>5.7</td><td>2.1</td><td>virginica</td></tr>\n",
              "\t<tr><td>6.7</td><td>3.3</td><td>5.7</td><td>2.5</td><td>virginica</td></tr>\n",
              "\t<tr><td>6.5</td><td>3.0</td><td>5.8</td><td>2.2</td><td>virginica</td></tr>\n",
              "\t<tr><td>6.7</td><td>2.5</td><td>5.8</td><td>1.8</td><td>virginica</td></tr>\n",
              "\t<tr><td>7.2</td><td>3.0</td><td>5.8</td><td>1.6</td><td>virginica</td></tr>\n",
              "\t<tr><td>7.1</td><td>3.0</td><td>5.9</td><td>2.1</td><td>virginica</td></tr>\n",
              "\t<tr><td>6.8</td><td>3.2</td><td>5.9</td><td>2.3</td><td>virginica</td></tr>\n",
              "\t<tr><td>6.3</td><td>3.3</td><td>6.0</td><td>2.5</td><td>virginica</td></tr>\n",
              "\t<tr><td>7.2</td><td>3.2</td><td>6.0</td><td>1.8</td><td>virginica</td></tr>\n",
              "\t<tr><td>7.2</td><td>3.6</td><td>6.1</td><td>2.5</td><td>virginica</td></tr>\n",
              "\t<tr><td>7.4</td><td>2.8</td><td>6.1</td><td>1.9</td><td>virginica</td></tr>\n",
              "\t<tr><td>7.7</td><td>3.0</td><td>6.1</td><td>2.3</td><td>virginica</td></tr>\n",
              "\t<tr><td>7.3</td><td>2.9</td><td>6.3</td><td>1.8</td><td>virginica</td></tr>\n",
              "\t<tr><td>7.9</td><td>3.8</td><td>6.4</td><td>2.0</td><td>virginica</td></tr>\n",
              "\t<tr><td>7.6</td><td>3.0</td><td>6.6</td><td>2.1</td><td>virginica</td></tr>\n",
              "\t<tr><td>7.7</td><td>3.8</td><td>6.7</td><td>2.2</td><td>virginica</td></tr>\n",
              "\t<tr><td>7.7</td><td>2.8</td><td>6.7</td><td>2.0</td><td>virginica</td></tr>\n",
              "\t<tr><td>7.7</td><td>2.6</td><td>6.9</td><td>2.3</td><td>virginica</td></tr>\n",
              "</tbody>\n",
              "</table>\n"
            ],
            "text/latex": "A data.frame: 150 × 5\n\\begin{tabular}{lllll}\n Sepal.Length & Sepal.Width & Petal.Length & Petal.Width & Species\\\\\n <dbl> & <dbl> & <dbl> & <dbl> & <fct>\\\\\n\\hline\n\t 4.6 & 3.6 & 1.0 & 0.2 & setosa\\\\\n\t 4.3 & 3.0 & 1.1 & 0.1 & setosa\\\\\n\t 5.8 & 4.0 & 1.2 & 0.2 & setosa\\\\\n\t 5.0 & 3.2 & 1.2 & 0.2 & setosa\\\\\n\t 4.7 & 3.2 & 1.3 & 0.2 & setosa\\\\\n\t 5.4 & 3.9 & 1.3 & 0.4 & setosa\\\\\n\t 5.5 & 3.5 & 1.3 & 0.2 & setosa\\\\\n\t 4.4 & 3.0 & 1.3 & 0.2 & setosa\\\\\n\t 5.0 & 3.5 & 1.3 & 0.3 & setosa\\\\\n\t 4.5 & 2.3 & 1.3 & 0.3 & setosa\\\\\n\t 4.4 & 3.2 & 1.3 & 0.2 & setosa\\\\\n\t 5.1 & 3.5 & 1.4 & 0.2 & setosa\\\\\n\t 4.9 & 3.0 & 1.4 & 0.2 & setosa\\\\\n\t 5.0 & 3.6 & 1.4 & 0.2 & setosa\\\\\n\t 4.6 & 3.4 & 1.4 & 0.3 & setosa\\\\\n\t 4.4 & 2.9 & 1.4 & 0.2 & setosa\\\\\n\t 4.8 & 3.0 & 1.4 & 0.1 & setosa\\\\\n\t 5.1 & 3.5 & 1.4 & 0.3 & setosa\\\\\n\t 5.2 & 3.4 & 1.4 & 0.2 & setosa\\\\\n\t 5.5 & 4.2 & 1.4 & 0.2 & setosa\\\\\n\t 4.9 & 3.6 & 1.4 & 0.1 & setosa\\\\\n\t 4.8 & 3.0 & 1.4 & 0.3 & setosa\\\\\n\t 4.6 & 3.2 & 1.4 & 0.2 & setosa\\\\\n\t 5.0 & 3.3 & 1.4 & 0.2 & setosa\\\\\n\t 4.6 & 3.1 & 1.5 & 0.2 & setosa\\\\\n\t 5.0 & 3.4 & 1.5 & 0.2 & setosa\\\\\n\t 4.9 & 3.1 & 1.5 & 0.1 & setosa\\\\\n\t 5.4 & 3.7 & 1.5 & 0.2 & setosa\\\\\n\t 5.7 & 4.4 & 1.5 & 0.4 & setosa\\\\\n\t 5.1 & 3.8 & 1.5 & 0.3 & setosa\\\\\n\t ⋮ & ⋮ & ⋮ & ⋮ & ⋮\\\\\n\t 6.9 & 3.1 & 5.4 & 2.1 & virginica\\\\\n\t 6.2 & 3.4 & 5.4 & 2.3 & virginica\\\\\n\t 6.8 & 3.0 & 5.5 & 2.1 & virginica\\\\\n\t 6.5 & 3.0 & 5.5 & 1.8 & virginica\\\\\n\t 6.4 & 3.1 & 5.5 & 1.8 & virginica\\\\\n\t 6.3 & 2.9 & 5.6 & 1.8 & virginica\\\\\n\t 6.4 & 2.8 & 5.6 & 2.1 & virginica\\\\\n\t 6.4 & 2.8 & 5.6 & 2.2 & virginica\\\\\n\t 6.1 & 2.6 & 5.6 & 1.4 & virginica\\\\\n\t 6.3 & 3.4 & 5.6 & 2.4 & virginica\\\\\n\t 6.7 & 3.1 & 5.6 & 2.4 & virginica\\\\\n\t 6.9 & 3.2 & 5.7 & 2.3 & virginica\\\\\n\t 6.7 & 3.3 & 5.7 & 2.1 & virginica\\\\\n\t 6.7 & 3.3 & 5.7 & 2.5 & virginica\\\\\n\t 6.5 & 3.0 & 5.8 & 2.2 & virginica\\\\\n\t 6.7 & 2.5 & 5.8 & 1.8 & virginica\\\\\n\t 7.2 & 3.0 & 5.8 & 1.6 & virginica\\\\\n\t 7.1 & 3.0 & 5.9 & 2.1 & virginica\\\\\n\t 6.8 & 3.2 & 5.9 & 2.3 & virginica\\\\\n\t 6.3 & 3.3 & 6.0 & 2.5 & virginica\\\\\n\t 7.2 & 3.2 & 6.0 & 1.8 & virginica\\\\\n\t 7.2 & 3.6 & 6.1 & 2.5 & virginica\\\\\n\t 7.4 & 2.8 & 6.1 & 1.9 & virginica\\\\\n\t 7.7 & 3.0 & 6.1 & 2.3 & virginica\\\\\n\t 7.3 & 2.9 & 6.3 & 1.8 & virginica\\\\\n\t 7.9 & 3.8 & 6.4 & 2.0 & virginica\\\\\n\t 7.6 & 3.0 & 6.6 & 2.1 & virginica\\\\\n\t 7.7 & 3.8 & 6.7 & 2.2 & virginica\\\\\n\t 7.7 & 2.8 & 6.7 & 2.0 & virginica\\\\\n\t 7.7 & 2.6 & 6.9 & 2.3 & virginica\\\\\n\\end{tabular}\n",
            "text/markdown": "\nA data.frame: 150 × 5\n\n| Sepal.Length &lt;dbl&gt; | Sepal.Width &lt;dbl&gt; | Petal.Length &lt;dbl&gt; | Petal.Width &lt;dbl&gt; | Species &lt;fct&gt; |\n|---|---|---|---|---|\n| 4.6 | 3.6 | 1.0 | 0.2 | setosa |\n| 4.3 | 3.0 | 1.1 | 0.1 | setosa |\n| 5.8 | 4.0 | 1.2 | 0.2 | setosa |\n| 5.0 | 3.2 | 1.2 | 0.2 | setosa |\n| 4.7 | 3.2 | 1.3 | 0.2 | setosa |\n| 5.4 | 3.9 | 1.3 | 0.4 | setosa |\n| 5.5 | 3.5 | 1.3 | 0.2 | setosa |\n| 4.4 | 3.0 | 1.3 | 0.2 | setosa |\n| 5.0 | 3.5 | 1.3 | 0.3 | setosa |\n| 4.5 | 2.3 | 1.3 | 0.3 | setosa |\n| 4.4 | 3.2 | 1.3 | 0.2 | setosa |\n| 5.1 | 3.5 | 1.4 | 0.2 | setosa |\n| 4.9 | 3.0 | 1.4 | 0.2 | setosa |\n| 5.0 | 3.6 | 1.4 | 0.2 | setosa |\n| 4.6 | 3.4 | 1.4 | 0.3 | setosa |\n| 4.4 | 2.9 | 1.4 | 0.2 | setosa |\n| 4.8 | 3.0 | 1.4 | 0.1 | setosa |\n| 5.1 | 3.5 | 1.4 | 0.3 | setosa |\n| 5.2 | 3.4 | 1.4 | 0.2 | setosa |\n| 5.5 | 4.2 | 1.4 | 0.2 | setosa |\n| 4.9 | 3.6 | 1.4 | 0.1 | setosa |\n| 4.8 | 3.0 | 1.4 | 0.3 | setosa |\n| 4.6 | 3.2 | 1.4 | 0.2 | setosa |\n| 5.0 | 3.3 | 1.4 | 0.2 | setosa |\n| 4.6 | 3.1 | 1.5 | 0.2 | setosa |\n| 5.0 | 3.4 | 1.5 | 0.2 | setosa |\n| 4.9 | 3.1 | 1.5 | 0.1 | setosa |\n| 5.4 | 3.7 | 1.5 | 0.2 | setosa |\n| 5.7 | 4.4 | 1.5 | 0.4 | setosa |\n| 5.1 | 3.8 | 1.5 | 0.3 | setosa |\n| ⋮ | ⋮ | ⋮ | ⋮ | ⋮ |\n| 6.9 | 3.1 | 5.4 | 2.1 | virginica |\n| 6.2 | 3.4 | 5.4 | 2.3 | virginica |\n| 6.8 | 3.0 | 5.5 | 2.1 | virginica |\n| 6.5 | 3.0 | 5.5 | 1.8 | virginica |\n| 6.4 | 3.1 | 5.5 | 1.8 | virginica |\n| 6.3 | 2.9 | 5.6 | 1.8 | virginica |\n| 6.4 | 2.8 | 5.6 | 2.1 | virginica |\n| 6.4 | 2.8 | 5.6 | 2.2 | virginica |\n| 6.1 | 2.6 | 5.6 | 1.4 | virginica |\n| 6.3 | 3.4 | 5.6 | 2.4 | virginica |\n| 6.7 | 3.1 | 5.6 | 2.4 | virginica |\n| 6.9 | 3.2 | 5.7 | 2.3 | virginica |\n| 6.7 | 3.3 | 5.7 | 2.1 | virginica |\n| 6.7 | 3.3 | 5.7 | 2.5 | virginica |\n| 6.5 | 3.0 | 5.8 | 2.2 | virginica |\n| 6.7 | 2.5 | 5.8 | 1.8 | virginica |\n| 7.2 | 3.0 | 5.8 | 1.6 | virginica |\n| 7.1 | 3.0 | 5.9 | 2.1 | virginica |\n| 6.8 | 3.2 | 5.9 | 2.3 | virginica |\n| 6.3 | 3.3 | 6.0 | 2.5 | virginica |\n| 7.2 | 3.2 | 6.0 | 1.8 | virginica |\n| 7.2 | 3.6 | 6.1 | 2.5 | virginica |\n| 7.4 | 2.8 | 6.1 | 1.9 | virginica |\n| 7.7 | 3.0 | 6.1 | 2.3 | virginica |\n| 7.3 | 2.9 | 6.3 | 1.8 | virginica |\n| 7.9 | 3.8 | 6.4 | 2.0 | virginica |\n| 7.6 | 3.0 | 6.6 | 2.1 | virginica |\n| 7.7 | 3.8 | 6.7 | 2.2 | virginica |\n| 7.7 | 2.8 | 6.7 | 2.0 | virginica |\n| 7.7 | 2.6 | 6.9 | 2.3 | virginica |\n\n",
            "text/plain": [
              "    Sepal.Length Sepal.Width Petal.Length Petal.Width Species  \n",
              "1   4.6          3.6         1.0          0.2         setosa   \n",
              "2   4.3          3.0         1.1          0.1         setosa   \n",
              "3   5.8          4.0         1.2          0.2         setosa   \n",
              "4   5.0          3.2         1.2          0.2         setosa   \n",
              "5   4.7          3.2         1.3          0.2         setosa   \n",
              "6   5.4          3.9         1.3          0.4         setosa   \n",
              "7   5.5          3.5         1.3          0.2         setosa   \n",
              "8   4.4          3.0         1.3          0.2         setosa   \n",
              "9   5.0          3.5         1.3          0.3         setosa   \n",
              "10  4.5          2.3         1.3          0.3         setosa   \n",
              "11  4.4          3.2         1.3          0.2         setosa   \n",
              "12  5.1          3.5         1.4          0.2         setosa   \n",
              "13  4.9          3.0         1.4          0.2         setosa   \n",
              "14  5.0          3.6         1.4          0.2         setosa   \n",
              "15  4.6          3.4         1.4          0.3         setosa   \n",
              "16  4.4          2.9         1.4          0.2         setosa   \n",
              "17  4.8          3.0         1.4          0.1         setosa   \n",
              "18  5.1          3.5         1.4          0.3         setosa   \n",
              "19  5.2          3.4         1.4          0.2         setosa   \n",
              "20  5.5          4.2         1.4          0.2         setosa   \n",
              "21  4.9          3.6         1.4          0.1         setosa   \n",
              "22  4.8          3.0         1.4          0.3         setosa   \n",
              "23  4.6          3.2         1.4          0.2         setosa   \n",
              "24  5.0          3.3         1.4          0.2         setosa   \n",
              "25  4.6          3.1         1.5          0.2         setosa   \n",
              "26  5.0          3.4         1.5          0.2         setosa   \n",
              "27  4.9          3.1         1.5          0.1         setosa   \n",
              "28  5.4          3.7         1.5          0.2         setosa   \n",
              "29  5.7          4.4         1.5          0.4         setosa   \n",
              "30  5.1          3.8         1.5          0.3         setosa   \n",
              "⋮   ⋮            ⋮           ⋮            ⋮           ⋮        \n",
              "121 6.9          3.1         5.4          2.1         virginica\n",
              "122 6.2          3.4         5.4          2.3         virginica\n",
              "123 6.8          3.0         5.5          2.1         virginica\n",
              "124 6.5          3.0         5.5          1.8         virginica\n",
              "125 6.4          3.1         5.5          1.8         virginica\n",
              "126 6.3          2.9         5.6          1.8         virginica\n",
              "127 6.4          2.8         5.6          2.1         virginica\n",
              "128 6.4          2.8         5.6          2.2         virginica\n",
              "129 6.1          2.6         5.6          1.4         virginica\n",
              "130 6.3          3.4         5.6          2.4         virginica\n",
              "131 6.7          3.1         5.6          2.4         virginica\n",
              "132 6.9          3.2         5.7          2.3         virginica\n",
              "133 6.7          3.3         5.7          2.1         virginica\n",
              "134 6.7          3.3         5.7          2.5         virginica\n",
              "135 6.5          3.0         5.8          2.2         virginica\n",
              "136 6.7          2.5         5.8          1.8         virginica\n",
              "137 7.2          3.0         5.8          1.6         virginica\n",
              "138 7.1          3.0         5.9          2.1         virginica\n",
              "139 6.8          3.2         5.9          2.3         virginica\n",
              "140 6.3          3.3         6.0          2.5         virginica\n",
              "141 7.2          3.2         6.0          1.8         virginica\n",
              "142 7.2          3.6         6.1          2.5         virginica\n",
              "143 7.4          2.8         6.1          1.9         virginica\n",
              "144 7.7          3.0         6.1          2.3         virginica\n",
              "145 7.3          2.9         6.3          1.8         virginica\n",
              "146 7.9          3.8         6.4          2.0         virginica\n",
              "147 7.6          3.0         6.6          2.1         virginica\n",
              "148 7.7          3.8         6.7          2.2         virginica\n",
              "149 7.7          2.8         6.7          2.0         virginica\n",
              "150 7.7          2.6         6.9          2.3         virginica"
            ]
          },
          "metadata": {},
          "output_type": "display_data"
        },
        {
          "data": {
            "text/html": [
              "<table class=\"dataframe\">\n",
              "<caption>A data.frame: 150 × 5</caption>\n",
              "<thead>\n",
              "\t<tr><th scope=col>Sepal.Length</th><th scope=col>Sepal.Width</th><th scope=col>Petal.Length</th><th scope=col>Petal.Width</th><th scope=col>Species</th></tr>\n",
              "\t<tr><th scope=col>&lt;dbl&gt;</th><th scope=col>&lt;dbl&gt;</th><th scope=col>&lt;dbl&gt;</th><th scope=col>&lt;dbl&gt;</th><th scope=col>&lt;fct&gt;</th></tr>\n",
              "</thead>\n",
              "<tbody>\n",
              "\t<tr><td>5.1</td><td>3.5</td><td>1.4</td><td>0.2</td><td>setosa</td></tr>\n",
              "\t<tr><td>4.9</td><td>3.0</td><td>1.4</td><td>0.2</td><td>setosa</td></tr>\n",
              "\t<tr><td>4.7</td><td>3.2</td><td>1.3</td><td>0.2</td><td>setosa</td></tr>\n",
              "\t<tr><td>4.6</td><td>3.1</td><td>1.5</td><td>0.2</td><td>setosa</td></tr>\n",
              "\t<tr><td>5.0</td><td>3.6</td><td>1.4</td><td>0.2</td><td>setosa</td></tr>\n",
              "\t<tr><td>5.4</td><td>3.9</td><td>1.7</td><td>0.4</td><td>setosa</td></tr>\n",
              "\t<tr><td>4.6</td><td>3.4</td><td>1.4</td><td>0.3</td><td>setosa</td></tr>\n",
              "\t<tr><td>5.0</td><td>3.4</td><td>1.5</td><td>0.2</td><td>setosa</td></tr>\n",
              "\t<tr><td>4.4</td><td>2.9</td><td>1.4</td><td>0.2</td><td>setosa</td></tr>\n",
              "\t<tr><td>4.9</td><td>3.1</td><td>1.5</td><td>0.1</td><td>setosa</td></tr>\n",
              "\t<tr><td>5.4</td><td>3.7</td><td>1.5</td><td>0.2</td><td>setosa</td></tr>\n",
              "\t<tr><td>4.8</td><td>3.4</td><td>1.6</td><td>0.2</td><td>setosa</td></tr>\n",
              "\t<tr><td>4.8</td><td>3.0</td><td>1.4</td><td>0.1</td><td>setosa</td></tr>\n",
              "\t<tr><td>4.3</td><td>3.0</td><td>1.1</td><td>0.1</td><td>setosa</td></tr>\n",
              "\t<tr><td>5.8</td><td>4.0</td><td>1.2</td><td>0.2</td><td>setosa</td></tr>\n",
              "\t<tr><td>5.7</td><td>4.4</td><td>1.5</td><td>0.4</td><td>setosa</td></tr>\n",
              "\t<tr><td>5.4</td><td>3.9</td><td>1.3</td><td>0.4</td><td>setosa</td></tr>\n",
              "\t<tr><td>5.1</td><td>3.5</td><td>1.4</td><td>0.3</td><td>setosa</td></tr>\n",
              "\t<tr><td>5.7</td><td>3.8</td><td>1.7</td><td>0.3</td><td>setosa</td></tr>\n",
              "\t<tr><td>5.1</td><td>3.8</td><td>1.5</td><td>0.3</td><td>setosa</td></tr>\n",
              "\t<tr><td>5.4</td><td>3.4</td><td>1.7</td><td>0.2</td><td>setosa</td></tr>\n",
              "\t<tr><td>5.1</td><td>3.7</td><td>1.5</td><td>0.4</td><td>setosa</td></tr>\n",
              "\t<tr><td>4.6</td><td>3.6</td><td>1.0</td><td>0.2</td><td>setosa</td></tr>\n",
              "\t<tr><td>5.1</td><td>3.3</td><td>1.7</td><td>0.5</td><td>setosa</td></tr>\n",
              "\t<tr><td>4.8</td><td>3.4</td><td>1.9</td><td>0.2</td><td>setosa</td></tr>\n",
              "\t<tr><td>5.0</td><td>3.0</td><td>1.6</td><td>0.2</td><td>setosa</td></tr>\n",
              "\t<tr><td>5.0</td><td>3.4</td><td>1.6</td><td>0.4</td><td>setosa</td></tr>\n",
              "\t<tr><td>5.2</td><td>3.5</td><td>1.5</td><td>0.2</td><td>setosa</td></tr>\n",
              "\t<tr><td>5.2</td><td>3.4</td><td>1.4</td><td>0.2</td><td>setosa</td></tr>\n",
              "\t<tr><td>4.7</td><td>3.2</td><td>1.6</td><td>0.2</td><td>setosa</td></tr>\n",
              "\t<tr><td>⋮</td><td>⋮</td><td>⋮</td><td>⋮</td><td>⋮</td></tr>\n",
              "\t<tr><td>6.9</td><td>3.2</td><td>5.7</td><td>2.3</td><td>virginica</td></tr>\n",
              "\t<tr><td>5.6</td><td>2.8</td><td>4.9</td><td>2.0</td><td>virginica</td></tr>\n",
              "\t<tr><td>7.7</td><td>2.8</td><td>6.7</td><td>2.0</td><td>virginica</td></tr>\n",
              "\t<tr><td>6.3</td><td>2.7</td><td>4.9</td><td>1.8</td><td>virginica</td></tr>\n",
              "\t<tr><td>6.7</td><td>3.3</td><td>5.7</td><td>2.1</td><td>virginica</td></tr>\n",
              "\t<tr><td>7.2</td><td>3.2</td><td>6.0</td><td>1.8</td><td>virginica</td></tr>\n",
              "\t<tr><td>6.2</td><td>2.8</td><td>4.8</td><td>1.8</td><td>virginica</td></tr>\n",
              "\t<tr><td>6.1</td><td>3.0</td><td>4.9</td><td>1.8</td><td>virginica</td></tr>\n",
              "\t<tr><td>6.4</td><td>2.8</td><td>5.6</td><td>2.1</td><td>virginica</td></tr>\n",
              "\t<tr><td>7.2</td><td>3.0</td><td>5.8</td><td>1.6</td><td>virginica</td></tr>\n",
              "\t<tr><td>7.4</td><td>2.8</td><td>6.1</td><td>1.9</td><td>virginica</td></tr>\n",
              "\t<tr><td>7.9</td><td>3.8</td><td>6.4</td><td>2.0</td><td>virginica</td></tr>\n",
              "\t<tr><td>6.4</td><td>2.8</td><td>5.6</td><td>2.2</td><td>virginica</td></tr>\n",
              "\t<tr><td>6.3</td><td>2.8</td><td>5.1</td><td>1.5</td><td>virginica</td></tr>\n",
              "\t<tr><td>6.1</td><td>2.6</td><td>5.6</td><td>1.4</td><td>virginica</td></tr>\n",
              "\t<tr><td>7.7</td><td>3.0</td><td>6.1</td><td>2.3</td><td>virginica</td></tr>\n",
              "\t<tr><td>6.3</td><td>3.4</td><td>5.6</td><td>2.4</td><td>virginica</td></tr>\n",
              "\t<tr><td>6.4</td><td>3.1</td><td>5.5</td><td>1.8</td><td>virginica</td></tr>\n",
              "\t<tr><td>6.0</td><td>3.0</td><td>4.8</td><td>1.8</td><td>virginica</td></tr>\n",
              "\t<tr><td>6.9</td><td>3.1</td><td>5.4</td><td>2.1</td><td>virginica</td></tr>\n",
              "\t<tr><td>6.7</td><td>3.1</td><td>5.6</td><td>2.4</td><td>virginica</td></tr>\n",
              "\t<tr><td>6.9</td><td>3.1</td><td>5.1</td><td>2.3</td><td>virginica</td></tr>\n",
              "\t<tr><td>5.8</td><td>2.7</td><td>5.1</td><td>1.9</td><td>virginica</td></tr>\n",
              "\t<tr><td>6.8</td><td>3.2</td><td>5.9</td><td>2.3</td><td>virginica</td></tr>\n",
              "\t<tr><td>6.7</td><td>3.3</td><td>5.7</td><td>2.5</td><td>virginica</td></tr>\n",
              "\t<tr><td>6.7</td><td>3.0</td><td>5.2</td><td>2.3</td><td>virginica</td></tr>\n",
              "\t<tr><td>6.3</td><td>2.5</td><td>5.0</td><td>1.9</td><td>virginica</td></tr>\n",
              "\t<tr><td>6.5</td><td>3.0</td><td>5.2</td><td>2.0</td><td>virginica</td></tr>\n",
              "\t<tr><td>6.2</td><td>3.4</td><td>5.4</td><td>2.3</td><td>virginica</td></tr>\n",
              "\t<tr><td>5.9</td><td>3.0</td><td>5.1</td><td>1.8</td><td>virginica</td></tr>\n",
              "</tbody>\n",
              "</table>\n"
            ],
            "text/latex": "A data.frame: 150 × 5\n\\begin{tabular}{lllll}\n Sepal.Length & Sepal.Width & Petal.Length & Petal.Width & Species\\\\\n <dbl> & <dbl> & <dbl> & <dbl> & <fct>\\\\\n\\hline\n\t 5.1 & 3.5 & 1.4 & 0.2 & setosa\\\\\n\t 4.9 & 3.0 & 1.4 & 0.2 & setosa\\\\\n\t 4.7 & 3.2 & 1.3 & 0.2 & setosa\\\\\n\t 4.6 & 3.1 & 1.5 & 0.2 & setosa\\\\\n\t 5.0 & 3.6 & 1.4 & 0.2 & setosa\\\\\n\t 5.4 & 3.9 & 1.7 & 0.4 & setosa\\\\\n\t 4.6 & 3.4 & 1.4 & 0.3 & setosa\\\\\n\t 5.0 & 3.4 & 1.5 & 0.2 & setosa\\\\\n\t 4.4 & 2.9 & 1.4 & 0.2 & setosa\\\\\n\t 4.9 & 3.1 & 1.5 & 0.1 & setosa\\\\\n\t 5.4 & 3.7 & 1.5 & 0.2 & setosa\\\\\n\t 4.8 & 3.4 & 1.6 & 0.2 & setosa\\\\\n\t 4.8 & 3.0 & 1.4 & 0.1 & setosa\\\\\n\t 4.3 & 3.0 & 1.1 & 0.1 & setosa\\\\\n\t 5.8 & 4.0 & 1.2 & 0.2 & setosa\\\\\n\t 5.7 & 4.4 & 1.5 & 0.4 & setosa\\\\\n\t 5.4 & 3.9 & 1.3 & 0.4 & setosa\\\\\n\t 5.1 & 3.5 & 1.4 & 0.3 & setosa\\\\\n\t 5.7 & 3.8 & 1.7 & 0.3 & setosa\\\\\n\t 5.1 & 3.8 & 1.5 & 0.3 & setosa\\\\\n\t 5.4 & 3.4 & 1.7 & 0.2 & setosa\\\\\n\t 5.1 & 3.7 & 1.5 & 0.4 & setosa\\\\\n\t 4.6 & 3.6 & 1.0 & 0.2 & setosa\\\\\n\t 5.1 & 3.3 & 1.7 & 0.5 & setosa\\\\\n\t 4.8 & 3.4 & 1.9 & 0.2 & setosa\\\\\n\t 5.0 & 3.0 & 1.6 & 0.2 & setosa\\\\\n\t 5.0 & 3.4 & 1.6 & 0.4 & setosa\\\\\n\t 5.2 & 3.5 & 1.5 & 0.2 & setosa\\\\\n\t 5.2 & 3.4 & 1.4 & 0.2 & setosa\\\\\n\t 4.7 & 3.2 & 1.6 & 0.2 & setosa\\\\\n\t ⋮ & ⋮ & ⋮ & ⋮ & ⋮\\\\\n\t 6.9 & 3.2 & 5.7 & 2.3 & virginica\\\\\n\t 5.6 & 2.8 & 4.9 & 2.0 & virginica\\\\\n\t 7.7 & 2.8 & 6.7 & 2.0 & virginica\\\\\n\t 6.3 & 2.7 & 4.9 & 1.8 & virginica\\\\\n\t 6.7 & 3.3 & 5.7 & 2.1 & virginica\\\\\n\t 7.2 & 3.2 & 6.0 & 1.8 & virginica\\\\\n\t 6.2 & 2.8 & 4.8 & 1.8 & virginica\\\\\n\t 6.1 & 3.0 & 4.9 & 1.8 & virginica\\\\\n\t 6.4 & 2.8 & 5.6 & 2.1 & virginica\\\\\n\t 7.2 & 3.0 & 5.8 & 1.6 & virginica\\\\\n\t 7.4 & 2.8 & 6.1 & 1.9 & virginica\\\\\n\t 7.9 & 3.8 & 6.4 & 2.0 & virginica\\\\\n\t 6.4 & 2.8 & 5.6 & 2.2 & virginica\\\\\n\t 6.3 & 2.8 & 5.1 & 1.5 & virginica\\\\\n\t 6.1 & 2.6 & 5.6 & 1.4 & virginica\\\\\n\t 7.7 & 3.0 & 6.1 & 2.3 & virginica\\\\\n\t 6.3 & 3.4 & 5.6 & 2.4 & virginica\\\\\n\t 6.4 & 3.1 & 5.5 & 1.8 & virginica\\\\\n\t 6.0 & 3.0 & 4.8 & 1.8 & virginica\\\\\n\t 6.9 & 3.1 & 5.4 & 2.1 & virginica\\\\\n\t 6.7 & 3.1 & 5.6 & 2.4 & virginica\\\\\n\t 6.9 & 3.1 & 5.1 & 2.3 & virginica\\\\\n\t 5.8 & 2.7 & 5.1 & 1.9 & virginica\\\\\n\t 6.8 & 3.2 & 5.9 & 2.3 & virginica\\\\\n\t 6.7 & 3.3 & 5.7 & 2.5 & virginica\\\\\n\t 6.7 & 3.0 & 5.2 & 2.3 & virginica\\\\\n\t 6.3 & 2.5 & 5.0 & 1.9 & virginica\\\\\n\t 6.5 & 3.0 & 5.2 & 2.0 & virginica\\\\\n\t 6.2 & 3.4 & 5.4 & 2.3 & virginica\\\\\n\t 5.9 & 3.0 & 5.1 & 1.8 & virginica\\\\\n\\end{tabular}\n",
            "text/markdown": "\nA data.frame: 150 × 5\n\n| Sepal.Length &lt;dbl&gt; | Sepal.Width &lt;dbl&gt; | Petal.Length &lt;dbl&gt; | Petal.Width &lt;dbl&gt; | Species &lt;fct&gt; |\n|---|---|---|---|---|\n| 5.1 | 3.5 | 1.4 | 0.2 | setosa |\n| 4.9 | 3.0 | 1.4 | 0.2 | setosa |\n| 4.7 | 3.2 | 1.3 | 0.2 | setosa |\n| 4.6 | 3.1 | 1.5 | 0.2 | setosa |\n| 5.0 | 3.6 | 1.4 | 0.2 | setosa |\n| 5.4 | 3.9 | 1.7 | 0.4 | setosa |\n| 4.6 | 3.4 | 1.4 | 0.3 | setosa |\n| 5.0 | 3.4 | 1.5 | 0.2 | setosa |\n| 4.4 | 2.9 | 1.4 | 0.2 | setosa |\n| 4.9 | 3.1 | 1.5 | 0.1 | setosa |\n| 5.4 | 3.7 | 1.5 | 0.2 | setosa |\n| 4.8 | 3.4 | 1.6 | 0.2 | setosa |\n| 4.8 | 3.0 | 1.4 | 0.1 | setosa |\n| 4.3 | 3.0 | 1.1 | 0.1 | setosa |\n| 5.8 | 4.0 | 1.2 | 0.2 | setosa |\n| 5.7 | 4.4 | 1.5 | 0.4 | setosa |\n| 5.4 | 3.9 | 1.3 | 0.4 | setosa |\n| 5.1 | 3.5 | 1.4 | 0.3 | setosa |\n| 5.7 | 3.8 | 1.7 | 0.3 | setosa |\n| 5.1 | 3.8 | 1.5 | 0.3 | setosa |\n| 5.4 | 3.4 | 1.7 | 0.2 | setosa |\n| 5.1 | 3.7 | 1.5 | 0.4 | setosa |\n| 4.6 | 3.6 | 1.0 | 0.2 | setosa |\n| 5.1 | 3.3 | 1.7 | 0.5 | setosa |\n| 4.8 | 3.4 | 1.9 | 0.2 | setosa |\n| 5.0 | 3.0 | 1.6 | 0.2 | setosa |\n| 5.0 | 3.4 | 1.6 | 0.4 | setosa |\n| 5.2 | 3.5 | 1.5 | 0.2 | setosa |\n| 5.2 | 3.4 | 1.4 | 0.2 | setosa |\n| 4.7 | 3.2 | 1.6 | 0.2 | setosa |\n| ⋮ | ⋮ | ⋮ | ⋮ | ⋮ |\n| 6.9 | 3.2 | 5.7 | 2.3 | virginica |\n| 5.6 | 2.8 | 4.9 | 2.0 | virginica |\n| 7.7 | 2.8 | 6.7 | 2.0 | virginica |\n| 6.3 | 2.7 | 4.9 | 1.8 | virginica |\n| 6.7 | 3.3 | 5.7 | 2.1 | virginica |\n| 7.2 | 3.2 | 6.0 | 1.8 | virginica |\n| 6.2 | 2.8 | 4.8 | 1.8 | virginica |\n| 6.1 | 3.0 | 4.9 | 1.8 | virginica |\n| 6.4 | 2.8 | 5.6 | 2.1 | virginica |\n| 7.2 | 3.0 | 5.8 | 1.6 | virginica |\n| 7.4 | 2.8 | 6.1 | 1.9 | virginica |\n| 7.9 | 3.8 | 6.4 | 2.0 | virginica |\n| 6.4 | 2.8 | 5.6 | 2.2 | virginica |\n| 6.3 | 2.8 | 5.1 | 1.5 | virginica |\n| 6.1 | 2.6 | 5.6 | 1.4 | virginica |\n| 7.7 | 3.0 | 6.1 | 2.3 | virginica |\n| 6.3 | 3.4 | 5.6 | 2.4 | virginica |\n| 6.4 | 3.1 | 5.5 | 1.8 | virginica |\n| 6.0 | 3.0 | 4.8 | 1.8 | virginica |\n| 6.9 | 3.1 | 5.4 | 2.1 | virginica |\n| 6.7 | 3.1 | 5.6 | 2.4 | virginica |\n| 6.9 | 3.1 | 5.1 | 2.3 | virginica |\n| 5.8 | 2.7 | 5.1 | 1.9 | virginica |\n| 6.8 | 3.2 | 5.9 | 2.3 | virginica |\n| 6.7 | 3.3 | 5.7 | 2.5 | virginica |\n| 6.7 | 3.0 | 5.2 | 2.3 | virginica |\n| 6.3 | 2.5 | 5.0 | 1.9 | virginica |\n| 6.5 | 3.0 | 5.2 | 2.0 | virginica |\n| 6.2 | 3.4 | 5.4 | 2.3 | virginica |\n| 5.9 | 3.0 | 5.1 | 1.8 | virginica |\n\n",
            "text/plain": [
              "    Sepal.Length Sepal.Width Petal.Length Petal.Width Species  \n",
              "1   5.1          3.5         1.4          0.2         setosa   \n",
              "2   4.9          3.0         1.4          0.2         setosa   \n",
              "3   4.7          3.2         1.3          0.2         setosa   \n",
              "4   4.6          3.1         1.5          0.2         setosa   \n",
              "5   5.0          3.6         1.4          0.2         setosa   \n",
              "6   5.4          3.9         1.7          0.4         setosa   \n",
              "7   4.6          3.4         1.4          0.3         setosa   \n",
              "8   5.0          3.4         1.5          0.2         setosa   \n",
              "9   4.4          2.9         1.4          0.2         setosa   \n",
              "10  4.9          3.1         1.5          0.1         setosa   \n",
              "11  5.4          3.7         1.5          0.2         setosa   \n",
              "12  4.8          3.4         1.6          0.2         setosa   \n",
              "13  4.8          3.0         1.4          0.1         setosa   \n",
              "14  4.3          3.0         1.1          0.1         setosa   \n",
              "15  5.8          4.0         1.2          0.2         setosa   \n",
              "16  5.7          4.4         1.5          0.4         setosa   \n",
              "17  5.4          3.9         1.3          0.4         setosa   \n",
              "18  5.1          3.5         1.4          0.3         setosa   \n",
              "19  5.7          3.8         1.7          0.3         setosa   \n",
              "20  5.1          3.8         1.5          0.3         setosa   \n",
              "21  5.4          3.4         1.7          0.2         setosa   \n",
              "22  5.1          3.7         1.5          0.4         setosa   \n",
              "23  4.6          3.6         1.0          0.2         setosa   \n",
              "24  5.1          3.3         1.7          0.5         setosa   \n",
              "25  4.8          3.4         1.9          0.2         setosa   \n",
              "26  5.0          3.0         1.6          0.2         setosa   \n",
              "27  5.0          3.4         1.6          0.4         setosa   \n",
              "28  5.2          3.5         1.5          0.2         setosa   \n",
              "29  5.2          3.4         1.4          0.2         setosa   \n",
              "30  4.7          3.2         1.6          0.2         setosa   \n",
              "⋮   ⋮            ⋮           ⋮            ⋮           ⋮        \n",
              "121 6.9          3.2         5.7          2.3         virginica\n",
              "122 5.6          2.8         4.9          2.0         virginica\n",
              "123 7.7          2.8         6.7          2.0         virginica\n",
              "124 6.3          2.7         4.9          1.8         virginica\n",
              "125 6.7          3.3         5.7          2.1         virginica\n",
              "126 7.2          3.2         6.0          1.8         virginica\n",
              "127 6.2          2.8         4.8          1.8         virginica\n",
              "128 6.1          3.0         4.9          1.8         virginica\n",
              "129 6.4          2.8         5.6          2.1         virginica\n",
              "130 7.2          3.0         5.8          1.6         virginica\n",
              "131 7.4          2.8         6.1          1.9         virginica\n",
              "132 7.9          3.8         6.4          2.0         virginica\n",
              "133 6.4          2.8         5.6          2.2         virginica\n",
              "134 6.3          2.8         5.1          1.5         virginica\n",
              "135 6.1          2.6         5.6          1.4         virginica\n",
              "136 7.7          3.0         6.1          2.3         virginica\n",
              "137 6.3          3.4         5.6          2.4         virginica\n",
              "138 6.4          3.1         5.5          1.8         virginica\n",
              "139 6.0          3.0         4.8          1.8         virginica\n",
              "140 6.9          3.1         5.4          2.1         virginica\n",
              "141 6.7          3.1         5.6          2.4         virginica\n",
              "142 6.9          3.1         5.1          2.3         virginica\n",
              "143 5.8          2.7         5.1          1.9         virginica\n",
              "144 6.8          3.2         5.9          2.3         virginica\n",
              "145 6.7          3.3         5.7          2.5         virginica\n",
              "146 6.7          3.0         5.2          2.3         virginica\n",
              "147 6.3          2.5         5.0          1.9         virginica\n",
              "148 6.5          3.0         5.2          2.0         virginica\n",
              "149 6.2          3.4         5.4          2.3         virginica\n",
              "150 5.9          3.0         5.1          1.8         virginica"
            ]
          },
          "metadata": {},
          "output_type": "display_data"
        }
      ],
      "source": [
        "arrange(iris, Petal.Length)\n",
        "arrange(iris, Species)"
      ]
    },
    {
      "cell_type": "code",
      "execution_count": null,
      "metadata": {
        "colab": {
          "base_uri": "https://localhost:8080/",
          "height": 1000
        },
        "id": "4h7OalJ3l-_S",
        "outputId": "052761d0-5830-42a6-98e5-526a2e1b3887"
      },
      "outputs": [
        {
          "data": {
            "text/html": [
              "<table class=\"dataframe\">\n",
              "<caption>A data.frame: 150 × 5</caption>\n",
              "<thead>\n",
              "\t<tr><th scope=col>Sepal.Length</th><th scope=col>Sepal.Width</th><th scope=col>Petal.Length</th><th scope=col>Petal.Width</th><th scope=col>Species</th></tr>\n",
              "\t<tr><th scope=col>&lt;dbl&gt;</th><th scope=col>&lt;dbl&gt;</th><th scope=col>&lt;dbl&gt;</th><th scope=col>&lt;dbl&gt;</th><th scope=col>&lt;fct&gt;</th></tr>\n",
              "</thead>\n",
              "<tbody>\n",
              "\t<tr><td>7.9</td><td>3.8</td><td>6.4</td><td>2.0</td><td>virginica </td></tr>\n",
              "\t<tr><td>7.7</td><td>3.8</td><td>6.7</td><td>2.2</td><td>virginica </td></tr>\n",
              "\t<tr><td>7.7</td><td>2.6</td><td>6.9</td><td>2.3</td><td>virginica </td></tr>\n",
              "\t<tr><td>7.7</td><td>2.8</td><td>6.7</td><td>2.0</td><td>virginica </td></tr>\n",
              "\t<tr><td>7.7</td><td>3.0</td><td>6.1</td><td>2.3</td><td>virginica </td></tr>\n",
              "\t<tr><td>7.6</td><td>3.0</td><td>6.6</td><td>2.1</td><td>virginica </td></tr>\n",
              "\t<tr><td>7.4</td><td>2.8</td><td>6.1</td><td>1.9</td><td>virginica </td></tr>\n",
              "\t<tr><td>7.3</td><td>2.9</td><td>6.3</td><td>1.8</td><td>virginica </td></tr>\n",
              "\t<tr><td>7.2</td><td>3.6</td><td>6.1</td><td>2.5</td><td>virginica </td></tr>\n",
              "\t<tr><td>7.2</td><td>3.2</td><td>6.0</td><td>1.8</td><td>virginica </td></tr>\n",
              "\t<tr><td>7.2</td><td>3.0</td><td>5.8</td><td>1.6</td><td>virginica </td></tr>\n",
              "\t<tr><td>7.1</td><td>3.0</td><td>5.9</td><td>2.1</td><td>virginica </td></tr>\n",
              "\t<tr><td>7.0</td><td>3.2</td><td>4.7</td><td>1.4</td><td>versicolor</td></tr>\n",
              "\t<tr><td>6.9</td><td>3.1</td><td>4.9</td><td>1.5</td><td>versicolor</td></tr>\n",
              "\t<tr><td>6.9</td><td>3.2</td><td>5.7</td><td>2.3</td><td>virginica </td></tr>\n",
              "\t<tr><td>6.9</td><td>3.1</td><td>5.4</td><td>2.1</td><td>virginica </td></tr>\n",
              "\t<tr><td>6.9</td><td>3.1</td><td>5.1</td><td>2.3</td><td>virginica </td></tr>\n",
              "\t<tr><td>6.8</td><td>2.8</td><td>4.8</td><td>1.4</td><td>versicolor</td></tr>\n",
              "\t<tr><td>6.8</td><td>3.0</td><td>5.5</td><td>2.1</td><td>virginica </td></tr>\n",
              "\t<tr><td>6.8</td><td>3.2</td><td>5.9</td><td>2.3</td><td>virginica </td></tr>\n",
              "\t<tr><td>6.7</td><td>3.1</td><td>4.4</td><td>1.4</td><td>versicolor</td></tr>\n",
              "\t<tr><td>6.7</td><td>3.0</td><td>5.0</td><td>1.7</td><td>versicolor</td></tr>\n",
              "\t<tr><td>6.7</td><td>3.1</td><td>4.7</td><td>1.5</td><td>versicolor</td></tr>\n",
              "\t<tr><td>6.7</td><td>2.5</td><td>5.8</td><td>1.8</td><td>virginica </td></tr>\n",
              "\t<tr><td>6.7</td><td>3.3</td><td>5.7</td><td>2.1</td><td>virginica </td></tr>\n",
              "\t<tr><td>6.7</td><td>3.1</td><td>5.6</td><td>2.4</td><td>virginica </td></tr>\n",
              "\t<tr><td>6.7</td><td>3.3</td><td>5.7</td><td>2.5</td><td>virginica </td></tr>\n",
              "\t<tr><td>6.7</td><td>3.0</td><td>5.2</td><td>2.3</td><td>virginica </td></tr>\n",
              "\t<tr><td>6.6</td><td>2.9</td><td>4.6</td><td>1.3</td><td>versicolor</td></tr>\n",
              "\t<tr><td>6.6</td><td>3.0</td><td>4.4</td><td>1.4</td><td>versicolor</td></tr>\n",
              "\t<tr><td>⋮</td><td>⋮</td><td>⋮</td><td>⋮</td><td>⋮</td></tr>\n",
              "\t<tr><td>5.0</td><td>3.0</td><td>1.6</td><td>0.2</td><td>setosa    </td></tr>\n",
              "\t<tr><td>5.0</td><td>3.4</td><td>1.6</td><td>0.4</td><td>setosa    </td></tr>\n",
              "\t<tr><td>5.0</td><td>3.2</td><td>1.2</td><td>0.2</td><td>setosa    </td></tr>\n",
              "\t<tr><td>5.0</td><td>3.5</td><td>1.3</td><td>0.3</td><td>setosa    </td></tr>\n",
              "\t<tr><td>5.0</td><td>3.5</td><td>1.6</td><td>0.6</td><td>setosa    </td></tr>\n",
              "\t<tr><td>5.0</td><td>3.3</td><td>1.4</td><td>0.2</td><td>setosa    </td></tr>\n",
              "\t<tr><td>5.0</td><td>2.0</td><td>3.5</td><td>1.0</td><td>versicolor</td></tr>\n",
              "\t<tr><td>5.0</td><td>2.3</td><td>3.3</td><td>1.0</td><td>versicolor</td></tr>\n",
              "\t<tr><td>4.9</td><td>3.0</td><td>1.4</td><td>0.2</td><td>setosa    </td></tr>\n",
              "\t<tr><td>4.9</td><td>3.1</td><td>1.5</td><td>0.1</td><td>setosa    </td></tr>\n",
              "\t<tr><td>4.9</td><td>3.1</td><td>1.5</td><td>0.2</td><td>setosa    </td></tr>\n",
              "\t<tr><td>4.9</td><td>3.6</td><td>1.4</td><td>0.1</td><td>setosa    </td></tr>\n",
              "\t<tr><td>4.9</td><td>2.4</td><td>3.3</td><td>1.0</td><td>versicolor</td></tr>\n",
              "\t<tr><td>4.9</td><td>2.5</td><td>4.5</td><td>1.7</td><td>virginica </td></tr>\n",
              "\t<tr><td>4.8</td><td>3.4</td><td>1.6</td><td>0.2</td><td>setosa    </td></tr>\n",
              "\t<tr><td>4.8</td><td>3.0</td><td>1.4</td><td>0.1</td><td>setosa    </td></tr>\n",
              "\t<tr><td>4.8</td><td>3.4</td><td>1.9</td><td>0.2</td><td>setosa    </td></tr>\n",
              "\t<tr><td>4.8</td><td>3.1</td><td>1.6</td><td>0.2</td><td>setosa    </td></tr>\n",
              "\t<tr><td>4.8</td><td>3.0</td><td>1.4</td><td>0.3</td><td>setosa    </td></tr>\n",
              "\t<tr><td>4.7</td><td>3.2</td><td>1.3</td><td>0.2</td><td>setosa    </td></tr>\n",
              "\t<tr><td>4.7</td><td>3.2</td><td>1.6</td><td>0.2</td><td>setosa    </td></tr>\n",
              "\t<tr><td>4.6</td><td>3.1</td><td>1.5</td><td>0.2</td><td>setosa    </td></tr>\n",
              "\t<tr><td>4.6</td><td>3.4</td><td>1.4</td><td>0.3</td><td>setosa    </td></tr>\n",
              "\t<tr><td>4.6</td><td>3.6</td><td>1.0</td><td>0.2</td><td>setosa    </td></tr>\n",
              "\t<tr><td>4.6</td><td>3.2</td><td>1.4</td><td>0.2</td><td>setosa    </td></tr>\n",
              "\t<tr><td>4.5</td><td>2.3</td><td>1.3</td><td>0.3</td><td>setosa    </td></tr>\n",
              "\t<tr><td>4.4</td><td>2.9</td><td>1.4</td><td>0.2</td><td>setosa    </td></tr>\n",
              "\t<tr><td>4.4</td><td>3.0</td><td>1.3</td><td>0.2</td><td>setosa    </td></tr>\n",
              "\t<tr><td>4.4</td><td>3.2</td><td>1.3</td><td>0.2</td><td>setosa    </td></tr>\n",
              "\t<tr><td>4.3</td><td>3.0</td><td>1.1</td><td>0.1</td><td>setosa    </td></tr>\n",
              "</tbody>\n",
              "</table>\n"
            ],
            "text/latex": "A data.frame: 150 × 5\n\\begin{tabular}{lllll}\n Sepal.Length & Sepal.Width & Petal.Length & Petal.Width & Species\\\\\n <dbl> & <dbl> & <dbl> & <dbl> & <fct>\\\\\n\\hline\n\t 7.9 & 3.8 & 6.4 & 2.0 & virginica \\\\\n\t 7.7 & 3.8 & 6.7 & 2.2 & virginica \\\\\n\t 7.7 & 2.6 & 6.9 & 2.3 & virginica \\\\\n\t 7.7 & 2.8 & 6.7 & 2.0 & virginica \\\\\n\t 7.7 & 3.0 & 6.1 & 2.3 & virginica \\\\\n\t 7.6 & 3.0 & 6.6 & 2.1 & virginica \\\\\n\t 7.4 & 2.8 & 6.1 & 1.9 & virginica \\\\\n\t 7.3 & 2.9 & 6.3 & 1.8 & virginica \\\\\n\t 7.2 & 3.6 & 6.1 & 2.5 & virginica \\\\\n\t 7.2 & 3.2 & 6.0 & 1.8 & virginica \\\\\n\t 7.2 & 3.0 & 5.8 & 1.6 & virginica \\\\\n\t 7.1 & 3.0 & 5.9 & 2.1 & virginica \\\\\n\t 7.0 & 3.2 & 4.7 & 1.4 & versicolor\\\\\n\t 6.9 & 3.1 & 4.9 & 1.5 & versicolor\\\\\n\t 6.9 & 3.2 & 5.7 & 2.3 & virginica \\\\\n\t 6.9 & 3.1 & 5.4 & 2.1 & virginica \\\\\n\t 6.9 & 3.1 & 5.1 & 2.3 & virginica \\\\\n\t 6.8 & 2.8 & 4.8 & 1.4 & versicolor\\\\\n\t 6.8 & 3.0 & 5.5 & 2.1 & virginica \\\\\n\t 6.8 & 3.2 & 5.9 & 2.3 & virginica \\\\\n\t 6.7 & 3.1 & 4.4 & 1.4 & versicolor\\\\\n\t 6.7 & 3.0 & 5.0 & 1.7 & versicolor\\\\\n\t 6.7 & 3.1 & 4.7 & 1.5 & versicolor\\\\\n\t 6.7 & 2.5 & 5.8 & 1.8 & virginica \\\\\n\t 6.7 & 3.3 & 5.7 & 2.1 & virginica \\\\\n\t 6.7 & 3.1 & 5.6 & 2.4 & virginica \\\\\n\t 6.7 & 3.3 & 5.7 & 2.5 & virginica \\\\\n\t 6.7 & 3.0 & 5.2 & 2.3 & virginica \\\\\n\t 6.6 & 2.9 & 4.6 & 1.3 & versicolor\\\\\n\t 6.6 & 3.0 & 4.4 & 1.4 & versicolor\\\\\n\t ⋮ & ⋮ & ⋮ & ⋮ & ⋮\\\\\n\t 5.0 & 3.0 & 1.6 & 0.2 & setosa    \\\\\n\t 5.0 & 3.4 & 1.6 & 0.4 & setosa    \\\\\n\t 5.0 & 3.2 & 1.2 & 0.2 & setosa    \\\\\n\t 5.0 & 3.5 & 1.3 & 0.3 & setosa    \\\\\n\t 5.0 & 3.5 & 1.6 & 0.6 & setosa    \\\\\n\t 5.0 & 3.3 & 1.4 & 0.2 & setosa    \\\\\n\t 5.0 & 2.0 & 3.5 & 1.0 & versicolor\\\\\n\t 5.0 & 2.3 & 3.3 & 1.0 & versicolor\\\\\n\t 4.9 & 3.0 & 1.4 & 0.2 & setosa    \\\\\n\t 4.9 & 3.1 & 1.5 & 0.1 & setosa    \\\\\n\t 4.9 & 3.1 & 1.5 & 0.2 & setosa    \\\\\n\t 4.9 & 3.6 & 1.4 & 0.1 & setosa    \\\\\n\t 4.9 & 2.4 & 3.3 & 1.0 & versicolor\\\\\n\t 4.9 & 2.5 & 4.5 & 1.7 & virginica \\\\\n\t 4.8 & 3.4 & 1.6 & 0.2 & setosa    \\\\\n\t 4.8 & 3.0 & 1.4 & 0.1 & setosa    \\\\\n\t 4.8 & 3.4 & 1.9 & 0.2 & setosa    \\\\\n\t 4.8 & 3.1 & 1.6 & 0.2 & setosa    \\\\\n\t 4.8 & 3.0 & 1.4 & 0.3 & setosa    \\\\\n\t 4.7 & 3.2 & 1.3 & 0.2 & setosa    \\\\\n\t 4.7 & 3.2 & 1.6 & 0.2 & setosa    \\\\\n\t 4.6 & 3.1 & 1.5 & 0.2 & setosa    \\\\\n\t 4.6 & 3.4 & 1.4 & 0.3 & setosa    \\\\\n\t 4.6 & 3.6 & 1.0 & 0.2 & setosa    \\\\\n\t 4.6 & 3.2 & 1.4 & 0.2 & setosa    \\\\\n\t 4.5 & 2.3 & 1.3 & 0.3 & setosa    \\\\\n\t 4.4 & 2.9 & 1.4 & 0.2 & setosa    \\\\\n\t 4.4 & 3.0 & 1.3 & 0.2 & setosa    \\\\\n\t 4.4 & 3.2 & 1.3 & 0.2 & setosa    \\\\\n\t 4.3 & 3.0 & 1.1 & 0.1 & setosa    \\\\\n\\end{tabular}\n",
            "text/markdown": "\nA data.frame: 150 × 5\n\n| Sepal.Length &lt;dbl&gt; | Sepal.Width &lt;dbl&gt; | Petal.Length &lt;dbl&gt; | Petal.Width &lt;dbl&gt; | Species &lt;fct&gt; |\n|---|---|---|---|---|\n| 7.9 | 3.8 | 6.4 | 2.0 | virginica  |\n| 7.7 | 3.8 | 6.7 | 2.2 | virginica  |\n| 7.7 | 2.6 | 6.9 | 2.3 | virginica  |\n| 7.7 | 2.8 | 6.7 | 2.0 | virginica  |\n| 7.7 | 3.0 | 6.1 | 2.3 | virginica  |\n| 7.6 | 3.0 | 6.6 | 2.1 | virginica  |\n| 7.4 | 2.8 | 6.1 | 1.9 | virginica  |\n| 7.3 | 2.9 | 6.3 | 1.8 | virginica  |\n| 7.2 | 3.6 | 6.1 | 2.5 | virginica  |\n| 7.2 | 3.2 | 6.0 | 1.8 | virginica  |\n| 7.2 | 3.0 | 5.8 | 1.6 | virginica  |\n| 7.1 | 3.0 | 5.9 | 2.1 | virginica  |\n| 7.0 | 3.2 | 4.7 | 1.4 | versicolor |\n| 6.9 | 3.1 | 4.9 | 1.5 | versicolor |\n| 6.9 | 3.2 | 5.7 | 2.3 | virginica  |\n| 6.9 | 3.1 | 5.4 | 2.1 | virginica  |\n| 6.9 | 3.1 | 5.1 | 2.3 | virginica  |\n| 6.8 | 2.8 | 4.8 | 1.4 | versicolor |\n| 6.8 | 3.0 | 5.5 | 2.1 | virginica  |\n| 6.8 | 3.2 | 5.9 | 2.3 | virginica  |\n| 6.7 | 3.1 | 4.4 | 1.4 | versicolor |\n| 6.7 | 3.0 | 5.0 | 1.7 | versicolor |\n| 6.7 | 3.1 | 4.7 | 1.5 | versicolor |\n| 6.7 | 2.5 | 5.8 | 1.8 | virginica  |\n| 6.7 | 3.3 | 5.7 | 2.1 | virginica  |\n| 6.7 | 3.1 | 5.6 | 2.4 | virginica  |\n| 6.7 | 3.3 | 5.7 | 2.5 | virginica  |\n| 6.7 | 3.0 | 5.2 | 2.3 | virginica  |\n| 6.6 | 2.9 | 4.6 | 1.3 | versicolor |\n| 6.6 | 3.0 | 4.4 | 1.4 | versicolor |\n| ⋮ | ⋮ | ⋮ | ⋮ | ⋮ |\n| 5.0 | 3.0 | 1.6 | 0.2 | setosa     |\n| 5.0 | 3.4 | 1.6 | 0.4 | setosa     |\n| 5.0 | 3.2 | 1.2 | 0.2 | setosa     |\n| 5.0 | 3.5 | 1.3 | 0.3 | setosa     |\n| 5.0 | 3.5 | 1.6 | 0.6 | setosa     |\n| 5.0 | 3.3 | 1.4 | 0.2 | setosa     |\n| 5.0 | 2.0 | 3.5 | 1.0 | versicolor |\n| 5.0 | 2.3 | 3.3 | 1.0 | versicolor |\n| 4.9 | 3.0 | 1.4 | 0.2 | setosa     |\n| 4.9 | 3.1 | 1.5 | 0.1 | setosa     |\n| 4.9 | 3.1 | 1.5 | 0.2 | setosa     |\n| 4.9 | 3.6 | 1.4 | 0.1 | setosa     |\n| 4.9 | 2.4 | 3.3 | 1.0 | versicolor |\n| 4.9 | 2.5 | 4.5 | 1.7 | virginica  |\n| 4.8 | 3.4 | 1.6 | 0.2 | setosa     |\n| 4.8 | 3.0 | 1.4 | 0.1 | setosa     |\n| 4.8 | 3.4 | 1.9 | 0.2 | setosa     |\n| 4.8 | 3.1 | 1.6 | 0.2 | setosa     |\n| 4.8 | 3.0 | 1.4 | 0.3 | setosa     |\n| 4.7 | 3.2 | 1.3 | 0.2 | setosa     |\n| 4.7 | 3.2 | 1.6 | 0.2 | setosa     |\n| 4.6 | 3.1 | 1.5 | 0.2 | setosa     |\n| 4.6 | 3.4 | 1.4 | 0.3 | setosa     |\n| 4.6 | 3.6 | 1.0 | 0.2 | setosa     |\n| 4.6 | 3.2 | 1.4 | 0.2 | setosa     |\n| 4.5 | 2.3 | 1.3 | 0.3 | setosa     |\n| 4.4 | 2.9 | 1.4 | 0.2 | setosa     |\n| 4.4 | 3.0 | 1.3 | 0.2 | setosa     |\n| 4.4 | 3.2 | 1.3 | 0.2 | setosa     |\n| 4.3 | 3.0 | 1.1 | 0.1 | setosa     |\n\n",
            "text/plain": [
              "    Sepal.Length Sepal.Width Petal.Length Petal.Width Species   \n",
              "1   7.9          3.8         6.4          2.0         virginica \n",
              "2   7.7          3.8         6.7          2.2         virginica \n",
              "3   7.7          2.6         6.9          2.3         virginica \n",
              "4   7.7          2.8         6.7          2.0         virginica \n",
              "5   7.7          3.0         6.1          2.3         virginica \n",
              "6   7.6          3.0         6.6          2.1         virginica \n",
              "7   7.4          2.8         6.1          1.9         virginica \n",
              "8   7.3          2.9         6.3          1.8         virginica \n",
              "9   7.2          3.6         6.1          2.5         virginica \n",
              "10  7.2          3.2         6.0          1.8         virginica \n",
              "11  7.2          3.0         5.8          1.6         virginica \n",
              "12  7.1          3.0         5.9          2.1         virginica \n",
              "13  7.0          3.2         4.7          1.4         versicolor\n",
              "14  6.9          3.1         4.9          1.5         versicolor\n",
              "15  6.9          3.2         5.7          2.3         virginica \n",
              "16  6.9          3.1         5.4          2.1         virginica \n",
              "17  6.9          3.1         5.1          2.3         virginica \n",
              "18  6.8          2.8         4.8          1.4         versicolor\n",
              "19  6.8          3.0         5.5          2.1         virginica \n",
              "20  6.8          3.2         5.9          2.3         virginica \n",
              "21  6.7          3.1         4.4          1.4         versicolor\n",
              "22  6.7          3.0         5.0          1.7         versicolor\n",
              "23  6.7          3.1         4.7          1.5         versicolor\n",
              "24  6.7          2.5         5.8          1.8         virginica \n",
              "25  6.7          3.3         5.7          2.1         virginica \n",
              "26  6.7          3.1         5.6          2.4         virginica \n",
              "27  6.7          3.3         5.7          2.5         virginica \n",
              "28  6.7          3.0         5.2          2.3         virginica \n",
              "29  6.6          2.9         4.6          1.3         versicolor\n",
              "30  6.6          3.0         4.4          1.4         versicolor\n",
              "⋮   ⋮            ⋮           ⋮            ⋮           ⋮         \n",
              "121 5.0          3.0         1.6          0.2         setosa    \n",
              "122 5.0          3.4         1.6          0.4         setosa    \n",
              "123 5.0          3.2         1.2          0.2         setosa    \n",
              "124 5.0          3.5         1.3          0.3         setosa    \n",
              "125 5.0          3.5         1.6          0.6         setosa    \n",
              "126 5.0          3.3         1.4          0.2         setosa    \n",
              "127 5.0          2.0         3.5          1.0         versicolor\n",
              "128 5.0          2.3         3.3          1.0         versicolor\n",
              "129 4.9          3.0         1.4          0.2         setosa    \n",
              "130 4.9          3.1         1.5          0.1         setosa    \n",
              "131 4.9          3.1         1.5          0.2         setosa    \n",
              "132 4.9          3.6         1.4          0.1         setosa    \n",
              "133 4.9          2.4         3.3          1.0         versicolor\n",
              "134 4.9          2.5         4.5          1.7         virginica \n",
              "135 4.8          3.4         1.6          0.2         setosa    \n",
              "136 4.8          3.0         1.4          0.1         setosa    \n",
              "137 4.8          3.4         1.9          0.2         setosa    \n",
              "138 4.8          3.1         1.6          0.2         setosa    \n",
              "139 4.8          3.0         1.4          0.3         setosa    \n",
              "140 4.7          3.2         1.3          0.2         setosa    \n",
              "141 4.7          3.2         1.6          0.2         setosa    \n",
              "142 4.6          3.1         1.5          0.2         setosa    \n",
              "143 4.6          3.4         1.4          0.3         setosa    \n",
              "144 4.6          3.6         1.0          0.2         setosa    \n",
              "145 4.6          3.2         1.4          0.2         setosa    \n",
              "146 4.5          2.3         1.3          0.3         setosa    \n",
              "147 4.4          2.9         1.4          0.2         setosa    \n",
              "148 4.4          3.0         1.3          0.2         setosa    \n",
              "149 4.4          3.2         1.3          0.2         setosa    \n",
              "150 4.3          3.0         1.1          0.1         setosa    "
            ]
          },
          "metadata": {},
          "output_type": "display_data"
        }
      ],
      "source": [
        "i<-iris%>%arrange(desc(Sepal.Length))\n",
        "i\n",
        "#This line of code creates a new dataset called \"i\" that is a copy of the \"iris\" dataset, \n",
        "#but with the rows arranged in descending order based on the values of the \"Sepal.Length\" variable \n",
        "#using the arrange() function in the dplyr package in R."
      ]
    },
    {
      "cell_type": "code",
      "execution_count": null,
      "metadata": {
        "colab": {
          "base_uri": "https://localhost:8080/",
          "height": 437
        },
        "id": "usQMtDZql_Fu",
        "outputId": "f2c35be1-ce1b-48b5-a1f9-2b516c49856e"
      },
      "outputs": [
        {
          "data": {
            "image/png": "[encoded data removed]",
            "text/plain": [
              "plot without title"
            ]
          },
          "metadata": {
            "image/png": {
              "height": 420,
              "width": 420
            }
          },
          "output_type": "display_data"
        }
      ],
      "source": [
        "plot(iris[, 1:4])\n",
        "#This line of code creates a scatter plot matrix of the \"iris\" dataset in R, \n",
        "#using the plot() function."
      ]
    },
    {
      "cell_type": "code",
      "execution_count": null,
      "metadata": {
        "colab": {
          "base_uri": "https://localhost:8080/",
          "height": 437
        },
        "id": "VhLZjwXYmR0x",
        "outputId": "99c2df78-8df7-4dcc-a14f-5a92b6565c97"
      },
      "outputs": [
        {
          "data": {
            "image/png": "[encoded data removed]",
            "text/plain": [
              "Plot with title “Boxplot of Iris Variables by Species”"
            ]
          },
          "metadata": {
            "image/png": {
              "height": 420,
              "width": 420
            }
          },
          "output_type": "display_data"
        }
      ],
      "source": [
        "boxplot(iris[, 1:4], col = iris$Species, main = \"Boxplot of Iris Variables by Species\")\n",
        "#This line of code creates a box plot for each of the four numerical variables in the \"iris\" dataset \n",
        "#in R, using the boxplot() function. The box plots are colored by the species of iris using the \n",
        "#\"col\" argument and the main title of the plot is set using the \"main\" argument."
      ]
    },
    {
      "cell_type": "code",
      "execution_count": null,
      "metadata": {
        "colab": {
          "base_uri": "https://localhost:8080/",
          "height": 192
        },
        "id": "DM_L6z7ZmhWa",
        "outputId": "83a81dbe-58c5-4006-f64e-cda410746881"
      },
      "outputs": [
        {
          "data": {
            "text/html": [
              "<table class=\"dataframe\">\n",
              "<caption>A data.frame: 3 × 5</caption>\n",
              "<thead>\n",
              "\t<tr><th scope=col>Species</th><th scope=col>Sepal.Length</th><th scope=col>Sepal.Width</th><th scope=col>Petal.Length</th><th scope=col>Petal.Width</th></tr>\n",
              "\t<tr><th scope=col>&lt;fct&gt;</th><th scope=col>&lt;dbl&gt;</th><th scope=col>&lt;dbl&gt;</th><th scope=col>&lt;dbl&gt;</th><th scope=col>&lt;dbl&gt;</th></tr>\n",
              "</thead>\n",
              "<tbody>\n",
              "\t<tr><td>setosa    </td><td>5.006</td><td>3.428</td><td>1.462</td><td>0.246</td></tr>\n",
              "\t<tr><td>versicolor</td><td>5.936</td><td>2.770</td><td>4.260</td><td>1.326</td></tr>\n",
              "\t<tr><td>virginica </td><td>6.588</td><td>2.974</td><td>5.552</td><td>2.026</td></tr>\n",
              "</tbody>\n",
              "</table>\n"
            ],
            "text/latex": "A data.frame: 3 × 5\n\\begin{tabular}{lllll}\n Species & Sepal.Length & Sepal.Width & Petal.Length & Petal.Width\\\\\n <fct> & <dbl> & <dbl> & <dbl> & <dbl>\\\\\n\\hline\n\t setosa     & 5.006 & 3.428 & 1.462 & 0.246\\\\\n\t versicolor & 5.936 & 2.770 & 4.260 & 1.326\\\\\n\t virginica  & 6.588 & 2.974 & 5.552 & 2.026\\\\\n\\end{tabular}\n",
            "text/markdown": "\nA data.frame: 3 × 5\n\n| Species &lt;fct&gt; | Sepal.Length &lt;dbl&gt; | Sepal.Width &lt;dbl&gt; | Petal.Length &lt;dbl&gt; | Petal.Width &lt;dbl&gt; |\n|---|---|---|---|---|\n| setosa     | 5.006 | 3.428 | 1.462 | 0.246 |\n| versicolor | 5.936 | 2.770 | 4.260 | 1.326 |\n| virginica  | 6.588 | 2.974 | 5.552 | 2.026 |\n\n",
            "text/plain": [
              "  Species    Sepal.Length Sepal.Width Petal.Length Petal.Width\n",
              "1 setosa     5.006        3.428       1.462        0.246      \n",
              "2 versicolor 5.936        2.770       4.260        1.326      \n",
              "3 virginica  6.588        2.974       5.552        2.026      "
            ]
          },
          "metadata": {},
          "output_type": "display_data"
        }
      ],
      "source": [
        "aggregate(iris[, 1:4], by = list(Species = iris$Species), FUN = mean)\n",
        "#This will calculate the mean of each feature for each species of iris."
      ]
    },
    {
      "cell_type": "code",
      "execution_count": null,
      "metadata": {
        "colab": {
          "base_uri": "https://localhost:8080/",
          "height": 255
        },
        "id": "Exc4hXllXuO-",
        "outputId": "59574bf9-8a75-48c1-9c56-350cad77c80b"
      },
      "outputs": [
        {
          "data": {
            "text/html": [
              "<table class=\"dataframe\">\n",
              "<caption>A data.frame: 5 × 6</caption>\n",
              "<thead>\n",
              "\t<tr><th scope=col>Id</th><th scope=col>SepalLengthCm</th><th scope=col>SepalWidthCm</th><th scope=col>PetalLengthCm</th><th scope=col>PetalWidthCm</th><th scope=col>Species</th></tr>\n",
              "\t<tr><th scope=col>&lt;int&gt;</th><th scope=col>&lt;dbl&gt;</th><th scope=col>&lt;dbl&gt;</th><th scope=col>&lt;dbl&gt;</th><th scope=col>&lt;dbl&gt;</th><th scope=col>&lt;chr&gt;</th></tr>\n",
              "</thead>\n",
              "<tbody>\n",
              "\t<tr><td>109</td><td>6.7</td><td>2.5</td><td>5.8</td><td>1.8</td><td>Iris-virginica </td></tr>\n",
              "\t<tr><td>146</td><td>6.7</td><td>3.0</td><td>5.2</td><td>2.3</td><td>Iris-virginica </td></tr>\n",
              "\t<tr><td>134</td><td>6.3</td><td>2.8</td><td>5.1</td><td>1.5</td><td>Iris-virginica </td></tr>\n",
              "\t<tr><td> 71</td><td>5.9</td><td>3.2</td><td>4.8</td><td>1.8</td><td>Iris-versicolor</td></tr>\n",
              "\t<tr><td>  9</td><td>4.4</td><td>2.9</td><td>1.4</td><td>0.2</td><td>Iris-setosa    </td></tr>\n",
              "</tbody>\n",
              "</table>\n"
            ],
            "text/latex": "A data.frame: 5 × 6\n\\begin{tabular}{llllll}\n Id & SepalLengthCm & SepalWidthCm & PetalLengthCm & PetalWidthCm & Species\\\\\n <int> & <dbl> & <dbl> & <dbl> & <dbl> & <chr>\\\\\n\\hline\n\t 109 & 6.7 & 2.5 & 5.8 & 1.8 & Iris-virginica \\\\\n\t 146 & 6.7 & 3.0 & 5.2 & 2.3 & Iris-virginica \\\\\n\t 134 & 6.3 & 2.8 & 5.1 & 1.5 & Iris-virginica \\\\\n\t  71 & 5.9 & 3.2 & 4.8 & 1.8 & Iris-versicolor\\\\\n\t   9 & 4.4 & 2.9 & 1.4 & 0.2 & Iris-setosa    \\\\\n\\end{tabular}\n",
            "text/markdown": "\nA data.frame: 5 × 6\n\n| Id &lt;int&gt; | SepalLengthCm &lt;dbl&gt; | SepalWidthCm &lt;dbl&gt; | PetalLengthCm &lt;dbl&gt; | PetalWidthCm &lt;dbl&gt; | Species &lt;chr&gt; |\n|---|---|---|---|---|---|\n| 109 | 6.7 | 2.5 | 5.8 | 1.8 | Iris-virginica  |\n| 146 | 6.7 | 3.0 | 5.2 | 2.3 | Iris-virginica  |\n| 134 | 6.3 | 2.8 | 5.1 | 1.5 | Iris-virginica  |\n|  71 | 5.9 | 3.2 | 4.8 | 1.8 | Iris-versicolor |\n|   9 | 4.4 | 2.9 | 1.4 | 0.2 | Iris-setosa     |\n\n",
            "text/plain": [
              "  Id  SepalLengthCm SepalWidthCm PetalLengthCm PetalWidthCm Species        \n",
              "1 109 6.7           2.5          5.8           1.8          Iris-virginica \n",
              "2 146 6.7           3.0          5.2           2.3          Iris-virginica \n",
              "3 134 6.3           2.8          5.1           1.5          Iris-virginica \n",
              "4  71 5.9           3.2          4.8           1.8          Iris-versicolor\n",
              "5   9 4.4           2.9          1.4           0.2          Iris-setosa    "
            ]
          },
          "metadata": {},
          "output_type": "display_data"
        }
      ],
      "source": [
        "sample_n(df,5)"
      ]
    },
    {
      "cell_type": "code",
      "execution_count": null,
      "metadata": {
        "colab": {
          "base_uri": "https://localhost:8080/",
          "height": 1000
        },
        "id": "EF6XUSI_XuR3",
        "outputId": "bd942aac-da69-4387-93c9-127971a1b276"
      },
      "outputs": [
        {
          "data": {
            "text/html": [
              "<table class=\"dataframe\">\n",
              "<caption>A data.frame: 150 × 6</caption>\n",
              "<thead>\n",
              "\t<tr><th scope=col>Id</th><th scope=col>SepalLengthCm</th><th scope=col>SepalWidthCm</th><th scope=col>PetalLengthCm</th><th scope=col>PetalWidthCm</th><th scope=col>Species</th></tr>\n",
              "\t<tr><th scope=col>&lt;int&gt;</th><th scope=col>&lt;dbl&gt;</th><th scope=col>&lt;dbl&gt;</th><th scope=col>&lt;dbl&gt;</th><th scope=col>&lt;dbl&gt;</th><th scope=col>&lt;chr&gt;</th></tr>\n",
              "</thead>\n",
              "<tbody>\n",
              "\t<tr><td> 1</td><td>5.1</td><td>3.5</td><td>1.4</td><td>0.2</td><td>Iris-setosa</td></tr>\n",
              "\t<tr><td> 2</td><td>4.9</td><td>3.0</td><td>1.4</td><td>0.2</td><td>Iris-setosa</td></tr>\n",
              "\t<tr><td> 3</td><td>4.7</td><td>3.2</td><td>1.3</td><td>0.2</td><td>Iris-setosa</td></tr>\n",
              "\t<tr><td> 4</td><td>4.6</td><td>3.1</td><td>1.5</td><td>0.2</td><td>Iris-setosa</td></tr>\n",
              "\t<tr><td> 5</td><td>5.0</td><td>3.6</td><td>1.4</td><td>0.2</td><td>Iris-setosa</td></tr>\n",
              "\t<tr><td> 6</td><td>5.4</td><td>3.9</td><td>1.7</td><td>0.4</td><td>Iris-setosa</td></tr>\n",
              "\t<tr><td> 7</td><td>4.6</td><td>3.4</td><td>1.4</td><td>0.3</td><td>Iris-setosa</td></tr>\n",
              "\t<tr><td> 8</td><td>5.0</td><td>3.4</td><td>1.5</td><td>0.2</td><td>Iris-setosa</td></tr>\n",
              "\t<tr><td> 9</td><td>4.4</td><td>2.9</td><td>1.4</td><td>0.2</td><td>Iris-setosa</td></tr>\n",
              "\t<tr><td>10</td><td>4.9</td><td>3.1</td><td>1.5</td><td>0.1</td><td>Iris-setosa</td></tr>\n",
              "\t<tr><td>11</td><td>5.4</td><td>3.7</td><td>1.5</td><td>0.2</td><td>Iris-setosa</td></tr>\n",
              "\t<tr><td>12</td><td>4.8</td><td>3.4</td><td>1.6</td><td>0.2</td><td>Iris-setosa</td></tr>\n",
              "\t<tr><td>13</td><td>4.8</td><td>3.0</td><td>1.4</td><td>0.1</td><td>Iris-setosa</td></tr>\n",
              "\t<tr><td>14</td><td>4.3</td><td>3.0</td><td>1.1</td><td>0.1</td><td>Iris-setosa</td></tr>\n",
              "\t<tr><td>15</td><td>5.8</td><td>4.0</td><td>1.2</td><td>0.2</td><td>Iris-setosa</td></tr>\n",
              "\t<tr><td>16</td><td>5.7</td><td>4.4</td><td>1.5</td><td>0.4</td><td>Iris-setosa</td></tr>\n",
              "\t<tr><td>17</td><td>5.4</td><td>3.9</td><td>1.3</td><td>0.4</td><td>Iris-setosa</td></tr>\n",
              "\t<tr><td>18</td><td>5.1</td><td>3.5</td><td>1.4</td><td>0.3</td><td>Iris-setosa</td></tr>\n",
              "\t<tr><td>19</td><td>5.7</td><td>3.8</td><td>1.7</td><td>0.3</td><td>Iris-setosa</td></tr>\n",
              "\t<tr><td>20</td><td>5.1</td><td>3.8</td><td>1.5</td><td>0.3</td><td>Iris-setosa</td></tr>\n",
              "\t<tr><td>21</td><td>5.4</td><td>3.4</td><td>1.7</td><td>0.2</td><td>Iris-setosa</td></tr>\n",
              "\t<tr><td>22</td><td>5.1</td><td>3.7</td><td>1.5</td><td>0.4</td><td>Iris-setosa</td></tr>\n",
              "\t<tr><td>23</td><td>4.6</td><td>3.6</td><td>1.0</td><td>0.2</td><td>Iris-setosa</td></tr>\n",
              "\t<tr><td>24</td><td>5.1</td><td>3.3</td><td>1.7</td><td>0.5</td><td>Iris-setosa</td></tr>\n",
              "\t<tr><td>25</td><td>4.8</td><td>3.4</td><td>1.9</td><td>0.2</td><td>Iris-setosa</td></tr>\n",
              "\t<tr><td>26</td><td>5.0</td><td>3.0</td><td>1.6</td><td>0.2</td><td>Iris-setosa</td></tr>\n",
              "\t<tr><td>27</td><td>5.0</td><td>3.4</td><td>1.6</td><td>0.4</td><td>Iris-setosa</td></tr>\n",
              "\t<tr><td>28</td><td>5.2</td><td>3.5</td><td>1.5</td><td>0.2</td><td>Iris-setosa</td></tr>\n",
              "\t<tr><td>29</td><td>5.2</td><td>3.4</td><td>1.4</td><td>0.2</td><td>Iris-setosa</td></tr>\n",
              "\t<tr><td>30</td><td>4.7</td><td>3.2</td><td>1.6</td><td>0.2</td><td>Iris-setosa</td></tr>\n",
              "\t<tr><td>⋮</td><td>⋮</td><td>⋮</td><td>⋮</td><td>⋮</td><td>⋮</td></tr>\n",
              "\t<tr><td>121</td><td>6.9</td><td>3.2</td><td>5.7</td><td>2.3</td><td>Iris-virginica</td></tr>\n",
              "\t<tr><td>122</td><td>5.6</td><td>2.8</td><td>4.9</td><td>2.0</td><td>Iris-virginica</td></tr>\n",
              "\t<tr><td>123</td><td>7.7</td><td>2.8</td><td>6.7</td><td>2.0</td><td>Iris-virginica</td></tr>\n",
              "\t<tr><td>124</td><td>6.3</td><td>2.7</td><td>4.9</td><td>1.8</td><td>Iris-virginica</td></tr>\n",
              "\t<tr><td>125</td><td>6.7</td><td>3.3</td><td>5.7</td><td>2.1</td><td>Iris-virginica</td></tr>\n",
              "\t<tr><td>126</td><td>7.2</td><td>3.2</td><td>6.0</td><td>1.8</td><td>Iris-virginica</td></tr>\n",
              "\t<tr><td>127</td><td>6.2</td><td>2.8</td><td>4.8</td><td>1.8</td><td>Iris-virginica</td></tr>\n",
              "\t<tr><td>128</td><td>6.1</td><td>3.0</td><td>4.9</td><td>1.8</td><td>Iris-virginica</td></tr>\n",
              "\t<tr><td>129</td><td>6.4</td><td>2.8</td><td>5.6</td><td>2.1</td><td>Iris-virginica</td></tr>\n",
              "\t<tr><td>130</td><td>7.2</td><td>3.0</td><td>5.8</td><td>1.6</td><td>Iris-virginica</td></tr>\n",
              "\t<tr><td>131</td><td>7.4</td><td>2.8</td><td>6.1</td><td>1.9</td><td>Iris-virginica</td></tr>\n",
              "\t<tr><td>132</td><td>7.9</td><td>3.8</td><td>6.4</td><td>2.0</td><td>Iris-virginica</td></tr>\n",
              "\t<tr><td>133</td><td>6.4</td><td>2.8</td><td>5.6</td><td>2.2</td><td>Iris-virginica</td></tr>\n",
              "\t<tr><td>134</td><td>6.3</td><td>2.8</td><td>5.1</td><td>1.5</td><td>Iris-virginica</td></tr>\n",
              "\t<tr><td>135</td><td>6.1</td><td>2.6</td><td>5.6</td><td>1.4</td><td>Iris-virginica</td></tr>\n",
              "\t<tr><td>136</td><td>7.7</td><td>3.0</td><td>6.1</td><td>2.3</td><td>Iris-virginica</td></tr>\n",
              "\t<tr><td>137</td><td>6.3</td><td>3.4</td><td>5.6</td><td>2.4</td><td>Iris-virginica</td></tr>\n",
              "\t<tr><td>138</td><td>6.4</td><td>3.1</td><td>5.5</td><td>1.8</td><td>Iris-virginica</td></tr>\n",
              "\t<tr><td>139</td><td>6.0</td><td>3.0</td><td>4.8</td><td>1.8</td><td>Iris-virginica</td></tr>\n",
              "\t<tr><td>140</td><td>6.9</td><td>3.1</td><td>5.4</td><td>2.1</td><td>Iris-virginica</td></tr>\n",
              "\t<tr><td>141</td><td>6.7</td><td>3.1</td><td>5.6</td><td>2.4</td><td>Iris-virginica</td></tr>\n",
              "\t<tr><td>142</td><td>6.9</td><td>3.1</td><td>5.1</td><td>2.3</td><td>Iris-virginica</td></tr>\n",
              "\t<tr><td>143</td><td>5.8</td><td>2.7</td><td>5.1</td><td>1.9</td><td>Iris-virginica</td></tr>\n",
              "\t<tr><td>144</td><td>6.8</td><td>3.2</td><td>5.9</td><td>2.3</td><td>Iris-virginica</td></tr>\n",
              "\t<tr><td>145</td><td>6.7</td><td>3.3</td><td>5.7</td><td>2.5</td><td>Iris-virginica</td></tr>\n",
              "\t<tr><td>146</td><td>6.7</td><td>3.0</td><td>5.2</td><td>2.3</td><td>Iris-virginica</td></tr>\n",
              "\t<tr><td>147</td><td>6.3</td><td>2.5</td><td>5.0</td><td>1.9</td><td>Iris-virginica</td></tr>\n",
              "\t<tr><td>148</td><td>6.5</td><td>3.0</td><td>5.2</td><td>2.0</td><td>Iris-virginica</td></tr>\n",
              "\t<tr><td>149</td><td>6.2</td><td>3.4</td><td>5.4</td><td>2.3</td><td>Iris-virginica</td></tr>\n",
              "\t<tr><td>150</td><td>5.9</td><td>3.0</td><td>5.1</td><td>1.8</td><td>Iris-virginica</td></tr>\n",
              "</tbody>\n",
              "</table>\n"
            ],
            "text/latex": "A data.frame: 150 × 6\n\\begin{tabular}{llllll}\n Id & SepalLengthCm & SepalWidthCm & PetalLengthCm & PetalWidthCm & Species\\\\\n <int> & <dbl> & <dbl> & <dbl> & <dbl> & <chr>\\\\\n\\hline\n\t  1 & 5.1 & 3.5 & 1.4 & 0.2 & Iris-setosa\\\\\n\t  2 & 4.9 & 3.0 & 1.4 & 0.2 & Iris-setosa\\\\\n\t  3 & 4.7 & 3.2 & 1.3 & 0.2 & Iris-setosa\\\\\n\t  4 & 4.6 & 3.1 & 1.5 & 0.2 & Iris-setosa\\\\\n\t  5 & 5.0 & 3.6 & 1.4 & 0.2 & Iris-setosa\\\\\n\t  6 & 5.4 & 3.9 & 1.7 & 0.4 & Iris-setosa\\\\\n\t  7 & 4.6 & 3.4 & 1.4 & 0.3 & Iris-setosa\\\\\n\t  8 & 5.0 & 3.4 & 1.5 & 0.2 & Iris-setosa\\\\\n\t  9 & 4.4 & 2.9 & 1.4 & 0.2 & Iris-setosa\\\\\n\t 10 & 4.9 & 3.1 & 1.5 & 0.1 & Iris-setosa\\\\\n\t 11 & 5.4 & 3.7 & 1.5 & 0.2 & Iris-setosa\\\\\n\t 12 & 4.8 & 3.4 & 1.6 & 0.2 & Iris-setosa\\\\\n\t 13 & 4.8 & 3.0 & 1.4 & 0.1 & Iris-setosa\\\\\n\t 14 & 4.3 & 3.0 & 1.1 & 0.1 & Iris-setosa\\\\\n\t 15 & 5.8 & 4.0 & 1.2 & 0.2 & Iris-setosa\\\\\n\t 16 & 5.7 & 4.4 & 1.5 & 0.4 & Iris-setosa\\\\\n\t 17 & 5.4 & 3.9 & 1.3 & 0.4 & Iris-setosa\\\\\n\t 18 & 5.1 & 3.5 & 1.4 & 0.3 & Iris-setosa\\\\\n\t 19 & 5.7 & 3.8 & 1.7 & 0.3 & Iris-setosa\\\\\n\t 20 & 5.1 & 3.8 & 1.5 & 0.3 & Iris-setosa\\\\\n\t 21 & 5.4 & 3.4 & 1.7 & 0.2 & Iris-setosa\\\\\n\t 22 & 5.1 & 3.7 & 1.5 & 0.4 & Iris-setosa\\\\\n\t 23 & 4.6 & 3.6 & 1.0 & 0.2 & Iris-setosa\\\\\n\t 24 & 5.1 & 3.3 & 1.7 & 0.5 & Iris-setosa\\\\\n\t 25 & 4.8 & 3.4 & 1.9 & 0.2 & Iris-setosa\\\\\n\t 26 & 5.0 & 3.0 & 1.6 & 0.2 & Iris-setosa\\\\\n\t 27 & 5.0 & 3.4 & 1.6 & 0.4 & Iris-setosa\\\\\n\t 28 & 5.2 & 3.5 & 1.5 & 0.2 & Iris-setosa\\\\\n\t 29 & 5.2 & 3.4 & 1.4 & 0.2 & Iris-setosa\\\\\n\t 30 & 4.7 & 3.2 & 1.6 & 0.2 & Iris-setosa\\\\\n\t ⋮ & ⋮ & ⋮ & ⋮ & ⋮ & ⋮\\\\\n\t 121 & 6.9 & 3.2 & 5.7 & 2.3 & Iris-virginica\\\\\n\t 122 & 5.6 & 2.8 & 4.9 & 2.0 & Iris-virginica\\\\\n\t 123 & 7.7 & 2.8 & 6.7 & 2.0 & Iris-virginica\\\\\n\t 124 & 6.3 & 2.7 & 4.9 & 1.8 & Iris-virginica\\\\\n\t 125 & 6.7 & 3.3 & 5.7 & 2.1 & Iris-virginica\\\\\n\t 126 & 7.2 & 3.2 & 6.0 & 1.8 & Iris-virginica\\\\\n\t 127 & 6.2 & 2.8 & 4.8 & 1.8 & Iris-virginica\\\\\n\t 128 & 6.1 & 3.0 & 4.9 & 1.8 & Iris-virginica\\\\\n\t 129 & 6.4 & 2.8 & 5.6 & 2.1 & Iris-virginica\\\\\n\t 130 & 7.2 & 3.0 & 5.8 & 1.6 & Iris-virginica\\\\\n\t 131 & 7.4 & 2.8 & 6.1 & 1.9 & Iris-virginica\\\\\n\t 132 & 7.9 & 3.8 & 6.4 & 2.0 & Iris-virginica\\\\\n\t 133 & 6.4 & 2.8 & 5.6 & 2.2 & Iris-virginica\\\\\n\t 134 & 6.3 & 2.8 & 5.1 & 1.5 & Iris-virginica\\\\\n\t 135 & 6.1 & 2.6 & 5.6 & 1.4 & Iris-virginica\\\\\n\t 136 & 7.7 & 3.0 & 6.1 & 2.3 & Iris-virginica\\\\\n\t 137 & 6.3 & 3.4 & 5.6 & 2.4 & Iris-virginica\\\\\n\t 138 & 6.4 & 3.1 & 5.5 & 1.8 & Iris-virginica\\\\\n\t 139 & 6.0 & 3.0 & 4.8 & 1.8 & Iris-virginica\\\\\n\t 140 & 6.9 & 3.1 & 5.4 & 2.1 & Iris-virginica\\\\\n\t 141 & 6.7 & 3.1 & 5.6 & 2.4 & Iris-virginica\\\\\n\t 142 & 6.9 & 3.1 & 5.1 & 2.3 & Iris-virginica\\\\\n\t 143 & 5.8 & 2.7 & 5.1 & 1.9 & Iris-virginica\\\\\n\t 144 & 6.8 & 3.2 & 5.9 & 2.3 & Iris-virginica\\\\\n\t 145 & 6.7 & 3.3 & 5.7 & 2.5 & Iris-virginica\\\\\n\t 146 & 6.7 & 3.0 & 5.2 & 2.3 & Iris-virginica\\\\\n\t 147 & 6.3 & 2.5 & 5.0 & 1.9 & Iris-virginica\\\\\n\t 148 & 6.5 & 3.0 & 5.2 & 2.0 & Iris-virginica\\\\\n\t 149 & 6.2 & 3.4 & 5.4 & 2.3 & Iris-virginica\\\\\n\t 150 & 5.9 & 3.0 & 5.1 & 1.8 & Iris-virginica\\\\\n\\end{tabular}\n",
            "text/markdown": "\nA data.frame: 150 × 6\n\n| Id &lt;int&gt; | SepalLengthCm &lt;dbl&gt; | SepalWidthCm &lt;dbl&gt; | PetalLengthCm &lt;dbl&gt; | PetalWidthCm &lt;dbl&gt; | Species &lt;chr&gt; |\n|---|---|---|---|---|---|\n|  1 | 5.1 | 3.5 | 1.4 | 0.2 | Iris-setosa |\n|  2 | 4.9 | 3.0 | 1.4 | 0.2 | Iris-setosa |\n|  3 | 4.7 | 3.2 | 1.3 | 0.2 | Iris-setosa |\n|  4 | 4.6 | 3.1 | 1.5 | 0.2 | Iris-setosa |\n|  5 | 5.0 | 3.6 | 1.4 | 0.2 | Iris-setosa |\n|  6 | 5.4 | 3.9 | 1.7 | 0.4 | Iris-setosa |\n|  7 | 4.6 | 3.4 | 1.4 | 0.3 | Iris-setosa |\n|  8 | 5.0 | 3.4 | 1.5 | 0.2 | Iris-setosa |\n|  9 | 4.4 | 2.9 | 1.4 | 0.2 | Iris-setosa |\n| 10 | 4.9 | 3.1 | 1.5 | 0.1 | Iris-setosa |\n| 11 | 5.4 | 3.7 | 1.5 | 0.2 | Iris-setosa |\n| 12 | 4.8 | 3.4 | 1.6 | 0.2 | Iris-setosa |\n| 13 | 4.8 | 3.0 | 1.4 | 0.1 | Iris-setosa |\n| 14 | 4.3 | 3.0 | 1.1 | 0.1 | Iris-setosa |\n| 15 | 5.8 | 4.0 | 1.2 | 0.2 | Iris-setosa |\n| 16 | 5.7 | 4.4 | 1.5 | 0.4 | Iris-setosa |\n| 17 | 5.4 | 3.9 | 1.3 | 0.4 | Iris-setosa |\n| 18 | 5.1 | 3.5 | 1.4 | 0.3 | Iris-setosa |\n| 19 | 5.7 | 3.8 | 1.7 | 0.3 | Iris-setosa |\n| 20 | 5.1 | 3.8 | 1.5 | 0.3 | Iris-setosa |\n| 21 | 5.4 | 3.4 | 1.7 | 0.2 | Iris-setosa |\n| 22 | 5.1 | 3.7 | 1.5 | 0.4 | Iris-setosa |\n| 23 | 4.6 | 3.6 | 1.0 | 0.2 | Iris-setosa |\n| 24 | 5.1 | 3.3 | 1.7 | 0.5 | Iris-setosa |\n| 25 | 4.8 | 3.4 | 1.9 | 0.2 | Iris-setosa |\n| 26 | 5.0 | 3.0 | 1.6 | 0.2 | Iris-setosa |\n| 27 | 5.0 | 3.4 | 1.6 | 0.4 | Iris-setosa |\n| 28 | 5.2 | 3.5 | 1.5 | 0.2 | Iris-setosa |\n| 29 | 5.2 | 3.4 | 1.4 | 0.2 | Iris-setosa |\n| 30 | 4.7 | 3.2 | 1.6 | 0.2 | Iris-setosa |\n| ⋮ | ⋮ | ⋮ | ⋮ | ⋮ | ⋮ |\n| 121 | 6.9 | 3.2 | 5.7 | 2.3 | Iris-virginica |\n| 122 | 5.6 | 2.8 | 4.9 | 2.0 | Iris-virginica |\n| 123 | 7.7 | 2.8 | 6.7 | 2.0 | Iris-virginica |\n| 124 | 6.3 | 2.7 | 4.9 | 1.8 | Iris-virginica |\n| 125 | 6.7 | 3.3 | 5.7 | 2.1 | Iris-virginica |\n| 126 | 7.2 | 3.2 | 6.0 | 1.8 | Iris-virginica |\n| 127 | 6.2 | 2.8 | 4.8 | 1.8 | Iris-virginica |\n| 128 | 6.1 | 3.0 | 4.9 | 1.8 | Iris-virginica |\n| 129 | 6.4 | 2.8 | 5.6 | 2.1 | Iris-virginica |\n| 130 | 7.2 | 3.0 | 5.8 | 1.6 | Iris-virginica |\n| 131 | 7.4 | 2.8 | 6.1 | 1.9 | Iris-virginica |\n| 132 | 7.9 | 3.8 | 6.4 | 2.0 | Iris-virginica |\n| 133 | 6.4 | 2.8 | 5.6 | 2.2 | Iris-virginica |\n| 134 | 6.3 | 2.8 | 5.1 | 1.5 | Iris-virginica |\n| 135 | 6.1 | 2.6 | 5.6 | 1.4 | Iris-virginica |\n| 136 | 7.7 | 3.0 | 6.1 | 2.3 | Iris-virginica |\n| 137 | 6.3 | 3.4 | 5.6 | 2.4 | Iris-virginica |\n| 138 | 6.4 | 3.1 | 5.5 | 1.8 | Iris-virginica |\n| 139 | 6.0 | 3.0 | 4.8 | 1.8 | Iris-virginica |\n| 140 | 6.9 | 3.1 | 5.4 | 2.1 | Iris-virginica |\n| 141 | 6.7 | 3.1 | 5.6 | 2.4 | Iris-virginica |\n| 142 | 6.9 | 3.1 | 5.1 | 2.3 | Iris-virginica |\n| 143 | 5.8 | 2.7 | 5.1 | 1.9 | Iris-virginica |\n| 144 | 6.8 | 3.2 | 5.9 | 2.3 | Iris-virginica |\n| 145 | 6.7 | 3.3 | 5.7 | 2.5 | Iris-virginica |\n| 146 | 6.7 | 3.0 | 5.2 | 2.3 | Iris-virginica |\n| 147 | 6.3 | 2.5 | 5.0 | 1.9 | Iris-virginica |\n| 148 | 6.5 | 3.0 | 5.2 | 2.0 | Iris-virginica |\n| 149 | 6.2 | 3.4 | 5.4 | 2.3 | Iris-virginica |\n| 150 | 5.9 | 3.0 | 5.1 | 1.8 | Iris-virginica |\n\n",
            "text/plain": [
              "    Id  SepalLengthCm SepalWidthCm PetalLengthCm PetalWidthCm Species       \n",
              "1    1  5.1           3.5          1.4           0.2          Iris-setosa   \n",
              "2    2  4.9           3.0          1.4           0.2          Iris-setosa   \n",
              "3    3  4.7           3.2          1.3           0.2          Iris-setosa   \n",
              "4    4  4.6           3.1          1.5           0.2          Iris-setosa   \n",
              "5    5  5.0           3.6          1.4           0.2          Iris-setosa   \n",
              "6    6  5.4           3.9          1.7           0.4          Iris-setosa   \n",
              "7    7  4.6           3.4          1.4           0.3          Iris-setosa   \n",
              "8    8  5.0           3.4          1.5           0.2          Iris-setosa   \n",
              "9    9  4.4           2.9          1.4           0.2          Iris-setosa   \n",
              "10  10  4.9           3.1          1.5           0.1          Iris-setosa   \n",
              "11  11  5.4           3.7          1.5           0.2          Iris-setosa   \n",
              "12  12  4.8           3.4          1.6           0.2          Iris-setosa   \n",
              "13  13  4.8           3.0          1.4           0.1          Iris-setosa   \n",
              "14  14  4.3           3.0          1.1           0.1          Iris-setosa   \n",
              "15  15  5.8           4.0          1.2           0.2          Iris-setosa   \n",
              "16  16  5.7           4.4          1.5           0.4          Iris-setosa   \n",
              "17  17  5.4           3.9          1.3           0.4          Iris-setosa   \n",
              "18  18  5.1           3.5          1.4           0.3          Iris-setosa   \n",
              "19  19  5.7           3.8          1.7           0.3          Iris-setosa   \n",
              "20  20  5.1           3.8          1.5           0.3          Iris-setosa   \n",
              "21  21  5.4           3.4          1.7           0.2          Iris-setosa   \n",
              "22  22  5.1           3.7          1.5           0.4          Iris-setosa   \n",
              "23  23  4.6           3.6          1.0           0.2          Iris-setosa   \n",
              "24  24  5.1           3.3          1.7           0.5          Iris-setosa   \n",
              "25  25  4.8           3.4          1.9           0.2          Iris-setosa   \n",
              "26  26  5.0           3.0          1.6           0.2          Iris-setosa   \n",
              "27  27  5.0           3.4          1.6           0.4          Iris-setosa   \n",
              "28  28  5.2           3.5          1.5           0.2          Iris-setosa   \n",
              "29  29  5.2           3.4          1.4           0.2          Iris-setosa   \n",
              "30  30  4.7           3.2          1.6           0.2          Iris-setosa   \n",
              "⋮   ⋮   ⋮             ⋮            ⋮             ⋮            ⋮             \n",
              "121 121 6.9           3.2          5.7           2.3          Iris-virginica\n",
              "122 122 5.6           2.8          4.9           2.0          Iris-virginica\n",
              "123 123 7.7           2.8          6.7           2.0          Iris-virginica\n",
              "124 124 6.3           2.7          4.9           1.8          Iris-virginica\n",
              "125 125 6.7           3.3          5.7           2.1          Iris-virginica\n",
              "126 126 7.2           3.2          6.0           1.8          Iris-virginica\n",
              "127 127 6.2           2.8          4.8           1.8          Iris-virginica\n",
              "128 128 6.1           3.0          4.9           1.8          Iris-virginica\n",
              "129 129 6.4           2.8          5.6           2.1          Iris-virginica\n",
              "130 130 7.2           3.0          5.8           1.6          Iris-virginica\n",
              "131 131 7.4           2.8          6.1           1.9          Iris-virginica\n",
              "132 132 7.9           3.8          6.4           2.0          Iris-virginica\n",
              "133 133 6.4           2.8          5.6           2.2          Iris-virginica\n",
              "134 134 6.3           2.8          5.1           1.5          Iris-virginica\n",
              "135 135 6.1           2.6          5.6           1.4          Iris-virginica\n",
              "136 136 7.7           3.0          6.1           2.3          Iris-virginica\n",
              "137 137 6.3           3.4          5.6           2.4          Iris-virginica\n",
              "138 138 6.4           3.1          5.5           1.8          Iris-virginica\n",
              "139 139 6.0           3.0          4.8           1.8          Iris-virginica\n",
              "140 140 6.9           3.1          5.4           2.1          Iris-virginica\n",
              "141 141 6.7           3.1          5.6           2.4          Iris-virginica\n",
              "142 142 6.9           3.1          5.1           2.3          Iris-virginica\n",
              "143 143 5.8           2.7          5.1           1.9          Iris-virginica\n",
              "144 144 6.8           3.2          5.9           2.3          Iris-virginica\n",
              "145 145 6.7           3.3          5.7           2.5          Iris-virginica\n",
              "146 146 6.7           3.0          5.2           2.3          Iris-virginica\n",
              "147 147 6.3           2.5          5.0           1.9          Iris-virginica\n",
              "148 148 6.5           3.0          5.2           2.0          Iris-virginica\n",
              "149 149 6.2           3.4          5.4           2.3          Iris-virginica\n",
              "150 150 5.9           3.0          5.1           1.8          Iris-virginica"
            ]
          },
          "metadata": {},
          "output_type": "display_data"
        }
      ],
      "source": [
        "structure(df)"
      ]
    },
    {
      "cell_type": "code",
      "execution_count": null,
      "metadata": {
        "colab": {
          "base_uri": "https://localhost:8080/",
          "height": 1000
        },
        "id": "3MdHcOefXuUg",
        "outputId": "2d668071-8b77-4fe7-ceda-09c502b010d0"
      },
      "outputs": [
        {
          "data": {
            "text/html": [
              "<table class=\"dataframe\">\n",
              "<caption>A data.frame: 30 × 6</caption>\n",
              "<thead>\n",
              "\t<tr><th scope=col>Id</th><th scope=col>SepalLengthCm</th><th scope=col>SepalWidthCm</th><th scope=col>PetalLengthCm</th><th scope=col>PetalWidthCm</th><th scope=col>Species</th></tr>\n",
              "\t<tr><th scope=col>&lt;int&gt;</th><th scope=col>&lt;dbl&gt;</th><th scope=col>&lt;dbl&gt;</th><th scope=col>&lt;dbl&gt;</th><th scope=col>&lt;dbl&gt;</th><th scope=col>&lt;chr&gt;</th></tr>\n",
              "</thead>\n",
              "<tbody>\n",
              "\t<tr><td> 23</td><td>4.6</td><td>3.6</td><td>1.0</td><td>0.2</td><td>Iris-setosa    </td></tr>\n",
              "\t<tr><td>130</td><td>7.2</td><td>3.0</td><td>5.8</td><td>1.6</td><td>Iris-virginica </td></tr>\n",
              "\t<tr><td> 18</td><td>5.1</td><td>3.5</td><td>1.4</td><td>0.3</td><td>Iris-setosa    </td></tr>\n",
              "\t<tr><td> 65</td><td>5.6</td><td>2.9</td><td>3.6</td><td>1.3</td><td>Iris-versicolor</td></tr>\n",
              "\t<tr><td> 26</td><td>5.0</td><td>3.0</td><td>1.6</td><td>0.2</td><td>Iris-setosa    </td></tr>\n",
              "\t<tr><td>114</td><td>5.7</td><td>2.5</td><td>5.0</td><td>2.0</td><td>Iris-virginica </td></tr>\n",
              "\t<tr><td> 55</td><td>6.5</td><td>2.8</td><td>4.6</td><td>1.5</td><td>Iris-versicolor</td></tr>\n",
              "\t<tr><td>133</td><td>6.4</td><td>2.8</td><td>5.6</td><td>2.2</td><td>Iris-virginica </td></tr>\n",
              "\t<tr><td> 21</td><td>5.4</td><td>3.4</td><td>1.7</td><td>0.2</td><td>Iris-setosa    </td></tr>\n",
              "\t<tr><td>139</td><td>6.0</td><td>3.0</td><td>4.8</td><td>1.8</td><td>Iris-virginica </td></tr>\n",
              "\t<tr><td> 37</td><td>5.5</td><td>3.5</td><td>1.3</td><td>0.2</td><td>Iris-setosa    </td></tr>\n",
              "\t<tr><td> 52</td><td>6.4</td><td>3.2</td><td>4.5</td><td>1.5</td><td>Iris-versicolor</td></tr>\n",
              "\t<tr><td>  8</td><td>5.0</td><td>3.4</td><td>1.5</td><td>0.2</td><td>Iris-setosa    </td></tr>\n",
              "\t<tr><td> 84</td><td>6.0</td><td>2.7</td><td>5.1</td><td>1.6</td><td>Iris-versicolor</td></tr>\n",
              "\t<tr><td> 28</td><td>5.2</td><td>3.5</td><td>1.5</td><td>0.2</td><td>Iris-setosa    </td></tr>\n",
              "\t<tr><td> 47</td><td>5.1</td><td>3.8</td><td>1.6</td><td>0.2</td><td>Iris-setosa    </td></tr>\n",
              "\t<tr><td> 63</td><td>6.0</td><td>2.2</td><td>4.0</td><td>1.0</td><td>Iris-versicolor</td></tr>\n",
              "\t<tr><td>118</td><td>7.7</td><td>3.8</td><td>6.7</td><td>2.2</td><td>Iris-virginica </td></tr>\n",
              "\t<tr><td>101</td><td>6.3</td><td>3.3</td><td>6.0</td><td>2.5</td><td>Iris-virginica </td></tr>\n",
              "\t<tr><td> 66</td><td>6.7</td><td>3.1</td><td>4.4</td><td>1.4</td><td>Iris-versicolor</td></tr>\n",
              "\t<tr><td> 97</td><td>5.7</td><td>2.9</td><td>4.2</td><td>1.3</td><td>Iris-versicolor</td></tr>\n",
              "\t<tr><td>148</td><td>6.5</td><td>3.0</td><td>5.2</td><td>2.0</td><td>Iris-virginica </td></tr>\n",
              "\t<tr><td> 71</td><td>5.9</td><td>3.2</td><td>4.8</td><td>1.8</td><td>Iris-versicolor</td></tr>\n",
              "\t<tr><td> 53</td><td>6.9</td><td>3.1</td><td>4.9</td><td>1.5</td><td>Iris-versicolor</td></tr>\n",
              "\t<tr><td> 86</td><td>6.0</td><td>3.4</td><td>4.5</td><td>1.6</td><td>Iris-versicolor</td></tr>\n",
              "\t<tr><td> 41</td><td>5.0</td><td>3.5</td><td>1.3</td><td>0.3</td><td>Iris-setosa    </td></tr>\n",
              "\t<tr><td>112</td><td>6.4</td><td>2.7</td><td>5.3</td><td>1.9</td><td>Iris-virginica </td></tr>\n",
              "\t<tr><td>131</td><td>7.4</td><td>2.8</td><td>6.1</td><td>1.9</td><td>Iris-virginica </td></tr>\n",
              "\t<tr><td> 40</td><td>5.1</td><td>3.4</td><td>1.5</td><td>0.2</td><td>Iris-setosa    </td></tr>\n",
              "\t<tr><td> 16</td><td>5.7</td><td>4.4</td><td>1.5</td><td>0.4</td><td>Iris-setosa    </td></tr>\n",
              "</tbody>\n",
              "</table>\n"
            ],
            "text/latex": "A data.frame: 30 × 6\n\\begin{tabular}{llllll}\n Id & SepalLengthCm & SepalWidthCm & PetalLengthCm & PetalWidthCm & Species\\\\\n <int> & <dbl> & <dbl> & <dbl> & <dbl> & <chr>\\\\\n\\hline\n\t  23 & 4.6 & 3.6 & 1.0 & 0.2 & Iris-setosa    \\\\\n\t 130 & 7.2 & 3.0 & 5.8 & 1.6 & Iris-virginica \\\\\n\t  18 & 5.1 & 3.5 & 1.4 & 0.3 & Iris-setosa    \\\\\n\t  65 & 5.6 & 2.9 & 3.6 & 1.3 & Iris-versicolor\\\\\n\t  26 & 5.0 & 3.0 & 1.6 & 0.2 & Iris-setosa    \\\\\n\t 114 & 5.7 & 2.5 & 5.0 & 2.0 & Iris-virginica \\\\\n\t  55 & 6.5 & 2.8 & 4.6 & 1.5 & Iris-versicolor\\\\\n\t 133 & 6.4 & 2.8 & 5.6 & 2.2 & Iris-virginica \\\\\n\t  21 & 5.4 & 3.4 & 1.7 & 0.2 & Iris-setosa    \\\\\n\t 139 & 6.0 & 3.0 & 4.8 & 1.8 & Iris-virginica \\\\\n\t  37 & 5.5 & 3.5 & 1.3 & 0.2 & Iris-setosa    \\\\\n\t  52 & 6.4 & 3.2 & 4.5 & 1.5 & Iris-versicolor\\\\\n\t   8 & 5.0 & 3.4 & 1.5 & 0.2 & Iris-setosa    \\\\\n\t  84 & 6.0 & 2.7 & 5.1 & 1.6 & Iris-versicolor\\\\\n\t  28 & 5.2 & 3.5 & 1.5 & 0.2 & Iris-setosa    \\\\\n\t  47 & 5.1 & 3.8 & 1.6 & 0.2 & Iris-setosa    \\\\\n\t  63 & 6.0 & 2.2 & 4.0 & 1.0 & Iris-versicolor\\\\\n\t 118 & 7.7 & 3.8 & 6.7 & 2.2 & Iris-virginica \\\\\n\t 101 & 6.3 & 3.3 & 6.0 & 2.5 & Iris-virginica \\\\\n\t  66 & 6.7 & 3.1 & 4.4 & 1.4 & Iris-versicolor\\\\\n\t  97 & 5.7 & 2.9 & 4.2 & 1.3 & Iris-versicolor\\\\\n\t 148 & 6.5 & 3.0 & 5.2 & 2.0 & Iris-virginica \\\\\n\t  71 & 5.9 & 3.2 & 4.8 & 1.8 & Iris-versicolor\\\\\n\t  53 & 6.9 & 3.1 & 4.9 & 1.5 & Iris-versicolor\\\\\n\t  86 & 6.0 & 3.4 & 4.5 & 1.6 & Iris-versicolor\\\\\n\t  41 & 5.0 & 3.5 & 1.3 & 0.3 & Iris-setosa    \\\\\n\t 112 & 6.4 & 2.7 & 5.3 & 1.9 & Iris-virginica \\\\\n\t 131 & 7.4 & 2.8 & 6.1 & 1.9 & Iris-virginica \\\\\n\t  40 & 5.1 & 3.4 & 1.5 & 0.2 & Iris-setosa    \\\\\n\t  16 & 5.7 & 4.4 & 1.5 & 0.4 & Iris-setosa    \\\\\n\\end{tabular}\n",
            "text/markdown": "\nA data.frame: 30 × 6\n\n| Id &lt;int&gt; | SepalLengthCm &lt;dbl&gt; | SepalWidthCm &lt;dbl&gt; | PetalLengthCm &lt;dbl&gt; | PetalWidthCm &lt;dbl&gt; | Species &lt;chr&gt; |\n|---|---|---|---|---|---|\n|  23 | 4.6 | 3.6 | 1.0 | 0.2 | Iris-setosa     |\n| 130 | 7.2 | 3.0 | 5.8 | 1.6 | Iris-virginica  |\n|  18 | 5.1 | 3.5 | 1.4 | 0.3 | Iris-setosa     |\n|  65 | 5.6 | 2.9 | 3.6 | 1.3 | Iris-versicolor |\n|  26 | 5.0 | 3.0 | 1.6 | 0.2 | Iris-setosa     |\n| 114 | 5.7 | 2.5 | 5.0 | 2.0 | Iris-virginica  |\n|  55 | 6.5 | 2.8 | 4.6 | 1.5 | Iris-versicolor |\n| 133 | 6.4 | 2.8 | 5.6 | 2.2 | Iris-virginica  |\n|  21 | 5.4 | 3.4 | 1.7 | 0.2 | Iris-setosa     |\n| 139 | 6.0 | 3.0 | 4.8 | 1.8 | Iris-virginica  |\n|  37 | 5.5 | 3.5 | 1.3 | 0.2 | Iris-setosa     |\n|  52 | 6.4 | 3.2 | 4.5 | 1.5 | Iris-versicolor |\n|   8 | 5.0 | 3.4 | 1.5 | 0.2 | Iris-setosa     |\n|  84 | 6.0 | 2.7 | 5.1 | 1.6 | Iris-versicolor |\n|  28 | 5.2 | 3.5 | 1.5 | 0.2 | Iris-setosa     |\n|  47 | 5.1 | 3.8 | 1.6 | 0.2 | Iris-setosa     |\n|  63 | 6.0 | 2.2 | 4.0 | 1.0 | Iris-versicolor |\n| 118 | 7.7 | 3.8 | 6.7 | 2.2 | Iris-virginica  |\n| 101 | 6.3 | 3.3 | 6.0 | 2.5 | Iris-virginica  |\n|  66 | 6.7 | 3.1 | 4.4 | 1.4 | Iris-versicolor |\n|  97 | 5.7 | 2.9 | 4.2 | 1.3 | Iris-versicolor |\n| 148 | 6.5 | 3.0 | 5.2 | 2.0 | Iris-virginica  |\n|  71 | 5.9 | 3.2 | 4.8 | 1.8 | Iris-versicolor |\n|  53 | 6.9 | 3.1 | 4.9 | 1.5 | Iris-versicolor |\n|  86 | 6.0 | 3.4 | 4.5 | 1.6 | Iris-versicolor |\n|  41 | 5.0 | 3.5 | 1.3 | 0.3 | Iris-setosa     |\n| 112 | 6.4 | 2.7 | 5.3 | 1.9 | Iris-virginica  |\n| 131 | 7.4 | 2.8 | 6.1 | 1.9 | Iris-virginica  |\n|  40 | 5.1 | 3.4 | 1.5 | 0.2 | Iris-setosa     |\n|  16 | 5.7 | 4.4 | 1.5 | 0.4 | Iris-setosa     |\n\n",
            "text/plain": [
              "   Id  SepalLengthCm SepalWidthCm PetalLengthCm PetalWidthCm Species        \n",
              "1   23 4.6           3.6          1.0           0.2          Iris-setosa    \n",
              "2  130 7.2           3.0          5.8           1.6          Iris-virginica \n",
              "3   18 5.1           3.5          1.4           0.3          Iris-setosa    \n",
              "4   65 5.6           2.9          3.6           1.3          Iris-versicolor\n",
              "5   26 5.0           3.0          1.6           0.2          Iris-setosa    \n",
              "6  114 5.7           2.5          5.0           2.0          Iris-virginica \n",
              "7   55 6.5           2.8          4.6           1.5          Iris-versicolor\n",
              "8  133 6.4           2.8          5.6           2.2          Iris-virginica \n",
              "9   21 5.4           3.4          1.7           0.2          Iris-setosa    \n",
              "10 139 6.0           3.0          4.8           1.8          Iris-virginica \n",
              "11  37 5.5           3.5          1.3           0.2          Iris-setosa    \n",
              "12  52 6.4           3.2          4.5           1.5          Iris-versicolor\n",
              "13   8 5.0           3.4          1.5           0.2          Iris-setosa    \n",
              "14  84 6.0           2.7          5.1           1.6          Iris-versicolor\n",
              "15  28 5.2           3.5          1.5           0.2          Iris-setosa    \n",
              "16  47 5.1           3.8          1.6           0.2          Iris-setosa    \n",
              "17  63 6.0           2.2          4.0           1.0          Iris-versicolor\n",
              "18 118 7.7           3.8          6.7           2.2          Iris-virginica \n",
              "19 101 6.3           3.3          6.0           2.5          Iris-virginica \n",
              "20  66 6.7           3.1          4.4           1.4          Iris-versicolor\n",
              "21  97 5.7           2.9          4.2           1.3          Iris-versicolor\n",
              "22 148 6.5           3.0          5.2           2.0          Iris-virginica \n",
              "23  71 5.9           3.2          4.8           1.8          Iris-versicolor\n",
              "24  53 6.9           3.1          4.9           1.5          Iris-versicolor\n",
              "25  86 6.0           3.4          4.5           1.6          Iris-versicolor\n",
              "26  41 5.0           3.5          1.3           0.3          Iris-setosa    \n",
              "27 112 6.4           2.7          5.3           1.9          Iris-virginica \n",
              "28 131 7.4           2.8          6.1           1.9          Iris-virginica \n",
              "29  40 5.1           3.4          1.5           0.2          Iris-setosa    \n",
              "30  16 5.7           4.4          1.5           0.4          Iris-setosa    "
            ]
          },
          "metadata": {},
          "output_type": "display_data"
        }
      ],
      "source": [
        "sample_frac(df,0.2)"
      ]
    },
    {
      "cell_type": "code",
      "execution_count": null,
      "metadata": {
        "colab": {
          "base_uri": "https://localhost:8080/",
          "height": 1000
        },
        "id": "t3UrBHILXuXh",
        "outputId": "b89d166a-4302-4a13-9ab7-0433297027c9"
      },
      "outputs": [
        {
          "data": {
            "text/html": [
              "<table class=\"dataframe\">\n",
              "<caption>A data.frame: 150 × 3</caption>\n",
              "<thead>\n",
              "\t<tr><th scope=col>SepalLengthCm</th><th scope=col>SepalWidthCm</th><th scope=col>PetalLengthCm</th></tr>\n",
              "\t<tr><th scope=col>&lt;dbl&gt;</th><th scope=col>&lt;dbl&gt;</th><th scope=col>&lt;dbl&gt;</th></tr>\n",
              "</thead>\n",
              "<tbody>\n",
              "\t<tr><td>5.1</td><td>3.5</td><td>1.4</td></tr>\n",
              "\t<tr><td>4.9</td><td>3.0</td><td>1.4</td></tr>\n",
              "\t<tr><td>4.7</td><td>3.2</td><td>1.3</td></tr>\n",
              "\t<tr><td>4.6</td><td>3.1</td><td>1.5</td></tr>\n",
              "\t<tr><td>5.0</td><td>3.6</td><td>1.4</td></tr>\n",
              "\t<tr><td>5.4</td><td>3.9</td><td>1.7</td></tr>\n",
              "\t<tr><td>4.6</td><td>3.4</td><td>1.4</td></tr>\n",
              "\t<tr><td>5.0</td><td>3.4</td><td>1.5</td></tr>\n",
              "\t<tr><td>4.4</td><td>2.9</td><td>1.4</td></tr>\n",
              "\t<tr><td>4.9</td><td>3.1</td><td>1.5</td></tr>\n",
              "\t<tr><td>5.4</td><td>3.7</td><td>1.5</td></tr>\n",
              "\t<tr><td>4.8</td><td>3.4</td><td>1.6</td></tr>\n",
              "\t<tr><td>4.8</td><td>3.0</td><td>1.4</td></tr>\n",
              "\t<tr><td>4.3</td><td>3.0</td><td>1.1</td></tr>\n",
              "\t<tr><td>5.8</td><td>4.0</td><td>1.2</td></tr>\n",
              "\t<tr><td>5.7</td><td>4.4</td><td>1.5</td></tr>\n",
              "\t<tr><td>5.4</td><td>3.9</td><td>1.3</td></tr>\n",
              "\t<tr><td>5.1</td><td>3.5</td><td>1.4</td></tr>\n",
              "\t<tr><td>5.7</td><td>3.8</td><td>1.7</td></tr>\n",
              "\t<tr><td>5.1</td><td>3.8</td><td>1.5</td></tr>\n",
              "\t<tr><td>5.4</td><td>3.4</td><td>1.7</td></tr>\n",
              "\t<tr><td>5.1</td><td>3.7</td><td>1.5</td></tr>\n",
              "\t<tr><td>4.6</td><td>3.6</td><td>1.0</td></tr>\n",
              "\t<tr><td>5.1</td><td>3.3</td><td>1.7</td></tr>\n",
              "\t<tr><td>4.8</td><td>3.4</td><td>1.9</td></tr>\n",
              "\t<tr><td>5.0</td><td>3.0</td><td>1.6</td></tr>\n",
              "\t<tr><td>5.0</td><td>3.4</td><td>1.6</td></tr>\n",
              "\t<tr><td>5.2</td><td>3.5</td><td>1.5</td></tr>\n",
              "\t<tr><td>5.2</td><td>3.4</td><td>1.4</td></tr>\n",
              "\t<tr><td>4.7</td><td>3.2</td><td>1.6</td></tr>\n",
              "\t<tr><td>⋮</td><td>⋮</td><td>⋮</td></tr>\n",
              "\t<tr><td>6.9</td><td>3.2</td><td>5.7</td></tr>\n",
              "\t<tr><td>5.6</td><td>2.8</td><td>4.9</td></tr>\n",
              "\t<tr><td>7.7</td><td>2.8</td><td>6.7</td></tr>\n",
              "\t<tr><td>6.3</td><td>2.7</td><td>4.9</td></tr>\n",
              "\t<tr><td>6.7</td><td>3.3</td><td>5.7</td></tr>\n",
              "\t<tr><td>7.2</td><td>3.2</td><td>6.0</td></tr>\n",
              "\t<tr><td>6.2</td><td>2.8</td><td>4.8</td></tr>\n",
              "\t<tr><td>6.1</td><td>3.0</td><td>4.9</td></tr>\n",
              "\t<tr><td>6.4</td><td>2.8</td><td>5.6</td></tr>\n",
              "\t<tr><td>7.2</td><td>3.0</td><td>5.8</td></tr>\n",
              "\t<tr><td>7.4</td><td>2.8</td><td>6.1</td></tr>\n",
              "\t<tr><td>7.9</td><td>3.8</td><td>6.4</td></tr>\n",
              "\t<tr><td>6.4</td><td>2.8</td><td>5.6</td></tr>\n",
              "\t<tr><td>6.3</td><td>2.8</td><td>5.1</td></tr>\n",
              "\t<tr><td>6.1</td><td>2.6</td><td>5.6</td></tr>\n",
              "\t<tr><td>7.7</td><td>3.0</td><td>6.1</td></tr>\n",
              "\t<tr><td>6.3</td><td>3.4</td><td>5.6</td></tr>\n",
              "\t<tr><td>6.4</td><td>3.1</td><td>5.5</td></tr>\n",
              "\t<tr><td>6.0</td><td>3.0</td><td>4.8</td></tr>\n",
              "\t<tr><td>6.9</td><td>3.1</td><td>5.4</td></tr>\n",
              "\t<tr><td>6.7</td><td>3.1</td><td>5.6</td></tr>\n",
              "\t<tr><td>6.9</td><td>3.1</td><td>5.1</td></tr>\n",
              "\t<tr><td>5.8</td><td>2.7</td><td>5.1</td></tr>\n",
              "\t<tr><td>6.8</td><td>3.2</td><td>5.9</td></tr>\n",
              "\t<tr><td>6.7</td><td>3.3</td><td>5.7</td></tr>\n",
              "\t<tr><td>6.7</td><td>3.0</td><td>5.2</td></tr>\n",
              "\t<tr><td>6.3</td><td>2.5</td><td>5.0</td></tr>\n",
              "\t<tr><td>6.5</td><td>3.0</td><td>5.2</td></tr>\n",
              "\t<tr><td>6.2</td><td>3.4</td><td>5.4</td></tr>\n",
              "\t<tr><td>5.9</td><td>3.0</td><td>5.1</td></tr>\n",
              "</tbody>\n",
              "</table>\n"
            ],
            "text/latex": "A data.frame: 150 × 3\n\\begin{tabular}{lll}\n SepalLengthCm & SepalWidthCm & PetalLengthCm\\\\\n <dbl> & <dbl> & <dbl>\\\\\n\\hline\n\t 5.1 & 3.5 & 1.4\\\\\n\t 4.9 & 3.0 & 1.4\\\\\n\t 4.7 & 3.2 & 1.3\\\\\n\t 4.6 & 3.1 & 1.5\\\\\n\t 5.0 & 3.6 & 1.4\\\\\n\t 5.4 & 3.9 & 1.7\\\\\n\t 4.6 & 3.4 & 1.4\\\\\n\t 5.0 & 3.4 & 1.5\\\\\n\t 4.4 & 2.9 & 1.4\\\\\n\t 4.9 & 3.1 & 1.5\\\\\n\t 5.4 & 3.7 & 1.5\\\\\n\t 4.8 & 3.4 & 1.6\\\\\n\t 4.8 & 3.0 & 1.4\\\\\n\t 4.3 & 3.0 & 1.1\\\\\n\t 5.8 & 4.0 & 1.2\\\\\n\t 5.7 & 4.4 & 1.5\\\\\n\t 5.4 & 3.9 & 1.3\\\\\n\t 5.1 & 3.5 & 1.4\\\\\n\t 5.7 & 3.8 & 1.7\\\\\n\t 5.1 & 3.8 & 1.5\\\\\n\t 5.4 & 3.4 & 1.7\\\\\n\t 5.1 & 3.7 & 1.5\\\\\n\t 4.6 & 3.6 & 1.0\\\\\n\t 5.1 & 3.3 & 1.7\\\\\n\t 4.8 & 3.4 & 1.9\\\\\n\t 5.0 & 3.0 & 1.6\\\\\n\t 5.0 & 3.4 & 1.6\\\\\n\t 5.2 & 3.5 & 1.5\\\\\n\t 5.2 & 3.4 & 1.4\\\\\n\t 4.7 & 3.2 & 1.6\\\\\n\t ⋮ & ⋮ & ⋮\\\\\n\t 6.9 & 3.2 & 5.7\\\\\n\t 5.6 & 2.8 & 4.9\\\\\n\t 7.7 & 2.8 & 6.7\\\\\n\t 6.3 & 2.7 & 4.9\\\\\n\t 6.7 & 3.3 & 5.7\\\\\n\t 7.2 & 3.2 & 6.0\\\\\n\t 6.2 & 2.8 & 4.8\\\\\n\t 6.1 & 3.0 & 4.9\\\\\n\t 6.4 & 2.8 & 5.6\\\\\n\t 7.2 & 3.0 & 5.8\\\\\n\t 7.4 & 2.8 & 6.1\\\\\n\t 7.9 & 3.8 & 6.4\\\\\n\t 6.4 & 2.8 & 5.6\\\\\n\t 6.3 & 2.8 & 5.1\\\\\n\t 6.1 & 2.6 & 5.6\\\\\n\t 7.7 & 3.0 & 6.1\\\\\n\t 6.3 & 3.4 & 5.6\\\\\n\t 6.4 & 3.1 & 5.5\\\\\n\t 6.0 & 3.0 & 4.8\\\\\n\t 6.9 & 3.1 & 5.4\\\\\n\t 6.7 & 3.1 & 5.6\\\\\n\t 6.9 & 3.1 & 5.1\\\\\n\t 5.8 & 2.7 & 5.1\\\\\n\t 6.8 & 3.2 & 5.9\\\\\n\t 6.7 & 3.3 & 5.7\\\\\n\t 6.7 & 3.0 & 5.2\\\\\n\t 6.3 & 2.5 & 5.0\\\\\n\t 6.5 & 3.0 & 5.2\\\\\n\t 6.2 & 3.4 & 5.4\\\\\n\t 5.9 & 3.0 & 5.1\\\\\n\\end{tabular}\n",
            "text/markdown": "\nA data.frame: 150 × 3\n\n| SepalLengthCm &lt;dbl&gt; | SepalWidthCm &lt;dbl&gt; | PetalLengthCm &lt;dbl&gt; |\n|---|---|---|\n| 5.1 | 3.5 | 1.4 |\n| 4.9 | 3.0 | 1.4 |\n| 4.7 | 3.2 | 1.3 |\n| 4.6 | 3.1 | 1.5 |\n| 5.0 | 3.6 | 1.4 |\n| 5.4 | 3.9 | 1.7 |\n| 4.6 | 3.4 | 1.4 |\n| 5.0 | 3.4 | 1.5 |\n| 4.4 | 2.9 | 1.4 |\n| 4.9 | 3.1 | 1.5 |\n| 5.4 | 3.7 | 1.5 |\n| 4.8 | 3.4 | 1.6 |\n| 4.8 | 3.0 | 1.4 |\n| 4.3 | 3.0 | 1.1 |\n| 5.8 | 4.0 | 1.2 |\n| 5.7 | 4.4 | 1.5 |\n| 5.4 | 3.9 | 1.3 |\n| 5.1 | 3.5 | 1.4 |\n| 5.7 | 3.8 | 1.7 |\n| 5.1 | 3.8 | 1.5 |\n| 5.4 | 3.4 | 1.7 |\n| 5.1 | 3.7 | 1.5 |\n| 4.6 | 3.6 | 1.0 |\n| 5.1 | 3.3 | 1.7 |\n| 4.8 | 3.4 | 1.9 |\n| 5.0 | 3.0 | 1.6 |\n| 5.0 | 3.4 | 1.6 |\n| 5.2 | 3.5 | 1.5 |\n| 5.2 | 3.4 | 1.4 |\n| 4.7 | 3.2 | 1.6 |\n| ⋮ | ⋮ | ⋮ |\n| 6.9 | 3.2 | 5.7 |\n| 5.6 | 2.8 | 4.9 |\n| 7.7 | 2.8 | 6.7 |\n| 6.3 | 2.7 | 4.9 |\n| 6.7 | 3.3 | 5.7 |\n| 7.2 | 3.2 | 6.0 |\n| 6.2 | 2.8 | 4.8 |\n| 6.1 | 3.0 | 4.9 |\n| 6.4 | 2.8 | 5.6 |\n| 7.2 | 3.0 | 5.8 |\n| 7.4 | 2.8 | 6.1 |\n| 7.9 | 3.8 | 6.4 |\n| 6.4 | 2.8 | 5.6 |\n| 6.3 | 2.8 | 5.1 |\n| 6.1 | 2.6 | 5.6 |\n| 7.7 | 3.0 | 6.1 |\n| 6.3 | 3.4 | 5.6 |\n| 6.4 | 3.1 | 5.5 |\n| 6.0 | 3.0 | 4.8 |\n| 6.9 | 3.1 | 5.4 |\n| 6.7 | 3.1 | 5.6 |\n| 6.9 | 3.1 | 5.1 |\n| 5.8 | 2.7 | 5.1 |\n| 6.8 | 3.2 | 5.9 |\n| 6.7 | 3.3 | 5.7 |\n| 6.7 | 3.0 | 5.2 |\n| 6.3 | 2.5 | 5.0 |\n| 6.5 | 3.0 | 5.2 |\n| 6.2 | 3.4 | 5.4 |\n| 5.9 | 3.0 | 5.1 |\n\n",
            "text/plain": [
              "    SepalLengthCm SepalWidthCm PetalLengthCm\n",
              "1   5.1           3.5          1.4          \n",
              "2   4.9           3.0          1.4          \n",
              "3   4.7           3.2          1.3          \n",
              "4   4.6           3.1          1.5          \n",
              "5   5.0           3.6          1.4          \n",
              "6   5.4           3.9          1.7          \n",
              "7   4.6           3.4          1.4          \n",
              "8   5.0           3.4          1.5          \n",
              "9   4.4           2.9          1.4          \n",
              "10  4.9           3.1          1.5          \n",
              "11  5.4           3.7          1.5          \n",
              "12  4.8           3.4          1.6          \n",
              "13  4.8           3.0          1.4          \n",
              "14  4.3           3.0          1.1          \n",
              "15  5.8           4.0          1.2          \n",
              "16  5.7           4.4          1.5          \n",
              "17  5.4           3.9          1.3          \n",
              "18  5.1           3.5          1.4          \n",
              "19  5.7           3.8          1.7          \n",
              "20  5.1           3.8          1.5          \n",
              "21  5.4           3.4          1.7          \n",
              "22  5.1           3.7          1.5          \n",
              "23  4.6           3.6          1.0          \n",
              "24  5.1           3.3          1.7          \n",
              "25  4.8           3.4          1.9          \n",
              "26  5.0           3.0          1.6          \n",
              "27  5.0           3.4          1.6          \n",
              "28  5.2           3.5          1.5          \n",
              "29  5.2           3.4          1.4          \n",
              "30  4.7           3.2          1.6          \n",
              "⋮   ⋮             ⋮            ⋮            \n",
              "121 6.9           3.2          5.7          \n",
              "122 5.6           2.8          4.9          \n",
              "123 7.7           2.8          6.7          \n",
              "124 6.3           2.7          4.9          \n",
              "125 6.7           3.3          5.7          \n",
              "126 7.2           3.2          6.0          \n",
              "127 6.2           2.8          4.8          \n",
              "128 6.1           3.0          4.9          \n",
              "129 6.4           2.8          5.6          \n",
              "130 7.2           3.0          5.8          \n",
              "131 7.4           2.8          6.1          \n",
              "132 7.9           3.8          6.4          \n",
              "133 6.4           2.8          5.6          \n",
              "134 6.3           2.8          5.1          \n",
              "135 6.1           2.6          5.6          \n",
              "136 7.7           3.0          6.1          \n",
              "137 6.3           3.4          5.6          \n",
              "138 6.4           3.1          5.5          \n",
              "139 6.0           3.0          4.8          \n",
              "140 6.9           3.1          5.4          \n",
              "141 6.7           3.1          5.6          \n",
              "142 6.9           3.1          5.1          \n",
              "143 5.8           2.7          5.1          \n",
              "144 6.8           3.2          5.9          \n",
              "145 6.7           3.3          5.7          \n",
              "146 6.7           3.0          5.2          \n",
              "147 6.3           2.5          5.0          \n",
              "148 6.5           3.0          5.2          \n",
              "149 6.2           3.4          5.4          \n",
              "150 5.9           3.0          5.1          "
            ]
          },
          "metadata": {},
          "output_type": "display_data"
        }
      ],
      "source": [
        "select(df,SepalLengthCm:PetalLengthCm)"
      ]
    },
    {
      "cell_type": "code",
      "execution_count": null,
      "metadata": {
        "id": "V4WEjx0tXuaL"
      },
      "outputs": [],
      "source": [
        "#Data Visualization"
      ]
    },
    {
      "cell_type": "code",
      "execution_count": 48,
      "metadata": {
        "id": "YNM53tzKXuc1"
      },
      "outputs": [],
      "source": [
        "data()"
      ]
    },
    {
      "cell_type": "code",
      "execution_count": 49,
      "metadata": {
        "id": "FjMEsvpsXugN"
      },
      "outputs": [],
      "source": [
        "data(iris)"
      ]
    },
    {
      "cell_type": "code",
      "execution_count": 50,
      "metadata": {
        "colab": {
          "base_uri": "https://localhost:8080/",
          "height": 1000
        },
        "id": "JuHEabkicn52",
        "outputId": "ece145ea-bc39-4ff8-c3f6-844f61bc01aa"
      },
      "outputs": [
        {
          "output_type": "display_data",
          "data": {
            "text/html": [
              "<table class=\"dataframe\">\n",
              "<caption>A data.frame: 150 × 5</caption>\n",
              "<thead>\n",
              "\t<tr><th scope=col>Sepal.Length</th><th scope=col>Sepal.Width</th><th scope=col>Petal.Length</th><th scope=col>Petal.Width</th><th scope=col>Species</th></tr>\n",
              "\t<tr><th scope=col>&lt;dbl&gt;</th><th scope=col>&lt;dbl&gt;</th><th scope=col>&lt;dbl&gt;</th><th scope=col>&lt;dbl&gt;</th><th scope=col>&lt;fct&gt;</th></tr>\n",
              "</thead>\n",
              "<tbody>\n",
              "\t<tr><td>5.1</td><td>3.5</td><td>1.4</td><td>0.2</td><td>setosa</td></tr>\n",
              "\t<tr><td>4.9</td><td>3.0</td><td>1.4</td><td>0.2</td><td>setosa</td></tr>\n",
              "\t<tr><td>4.7</td><td>3.2</td><td>1.3</td><td>0.2</td><td>setosa</td></tr>\n",
              "\t<tr><td>4.6</td><td>3.1</td><td>1.5</td><td>0.2</td><td>setosa</td></tr>\n",
              "\t<tr><td>5.0</td><td>3.6</td><td>1.4</td><td>0.2</td><td>setosa</td></tr>\n",
              "\t<tr><td>5.4</td><td>3.9</td><td>1.7</td><td>0.4</td><td>setosa</td></tr>\n",
              "\t<tr><td>4.6</td><td>3.4</td><td>1.4</td><td>0.3</td><td>setosa</td></tr>\n",
              "\t<tr><td>5.0</td><td>3.4</td><td>1.5</td><td>0.2</td><td>setosa</td></tr>\n",
              "\t<tr><td>4.4</td><td>2.9</td><td>1.4</td><td>0.2</td><td>setosa</td></tr>\n",
              "\t<tr><td>4.9</td><td>3.1</td><td>1.5</td><td>0.1</td><td>setosa</td></tr>\n",
              "\t<tr><td>5.4</td><td>3.7</td><td>1.5</td><td>0.2</td><td>setosa</td></tr>\n",
              "\t<tr><td>4.8</td><td>3.4</td><td>1.6</td><td>0.2</td><td>setosa</td></tr>\n",
              "\t<tr><td>4.8</td><td>3.0</td><td>1.4</td><td>0.1</td><td>setosa</td></tr>\n",
              "\t<tr><td>4.3</td><td>3.0</td><td>1.1</td><td>0.1</td><td>setosa</td></tr>\n",
              "\t<tr><td>5.8</td><td>4.0</td><td>1.2</td><td>0.2</td><td>setosa</td></tr>\n",
              "\t<tr><td>5.7</td><td>4.4</td><td>1.5</td><td>0.4</td><td>setosa</td></tr>\n",
              "\t<tr><td>5.4</td><td>3.9</td><td>1.3</td><td>0.4</td><td>setosa</td></tr>\n",
              "\t<tr><td>5.1</td><td>3.5</td><td>1.4</td><td>0.3</td><td>setosa</td></tr>\n",
              "\t<tr><td>5.7</td><td>3.8</td><td>1.7</td><td>0.3</td><td>setosa</td></tr>\n",
              "\t<tr><td>5.1</td><td>3.8</td><td>1.5</td><td>0.3</td><td>setosa</td></tr>\n",
              "\t<tr><td>5.4</td><td>3.4</td><td>1.7</td><td>0.2</td><td>setosa</td></tr>\n",
              "\t<tr><td>5.1</td><td>3.7</td><td>1.5</td><td>0.4</td><td>setosa</td></tr>\n",
              "\t<tr><td>4.6</td><td>3.6</td><td>1.0</td><td>0.2</td><td>setosa</td></tr>\n",
              "\t<tr><td>5.1</td><td>3.3</td><td>1.7</td><td>0.5</td><td>setosa</td></tr>\n",
              "\t<tr><td>4.8</td><td>3.4</td><td>1.9</td><td>0.2</td><td>setosa</td></tr>\n",
              "\t<tr><td>5.0</td><td>3.0</td><td>1.6</td><td>0.2</td><td>setosa</td></tr>\n",
              "\t<tr><td>5.0</td><td>3.4</td><td>1.6</td><td>0.4</td><td>setosa</td></tr>\n",
              "\t<tr><td>5.2</td><td>3.5</td><td>1.5</td><td>0.2</td><td>setosa</td></tr>\n",
              "\t<tr><td>5.2</td><td>3.4</td><td>1.4</td><td>0.2</td><td>setosa</td></tr>\n",
              "\t<tr><td>4.7</td><td>3.2</td><td>1.6</td><td>0.2</td><td>setosa</td></tr>\n",
              "\t<tr><td>⋮</td><td>⋮</td><td>⋮</td><td>⋮</td><td>⋮</td></tr>\n",
              "\t<tr><td>6.9</td><td>3.2</td><td>5.7</td><td>2.3</td><td>virginica</td></tr>\n",
              "\t<tr><td>5.6</td><td>2.8</td><td>4.9</td><td>2.0</td><td>virginica</td></tr>\n",
              "\t<tr><td>7.7</td><td>2.8</td><td>6.7</td><td>2.0</td><td>virginica</td></tr>\n",
              "\t<tr><td>6.3</td><td>2.7</td><td>4.9</td><td>1.8</td><td>virginica</td></tr>\n",
              "\t<tr><td>6.7</td><td>3.3</td><td>5.7</td><td>2.1</td><td>virginica</td></tr>\n",
              "\t<tr><td>7.2</td><td>3.2</td><td>6.0</td><td>1.8</td><td>virginica</td></tr>\n",
              "\t<tr><td>6.2</td><td>2.8</td><td>4.8</td><td>1.8</td><td>virginica</td></tr>\n",
              "\t<tr><td>6.1</td><td>3.0</td><td>4.9</td><td>1.8</td><td>virginica</td></tr>\n",
              "\t<tr><td>6.4</td><td>2.8</td><td>5.6</td><td>2.1</td><td>virginica</td></tr>\n",
              "\t<tr><td>7.2</td><td>3.0</td><td>5.8</td><td>1.6</td><td>virginica</td></tr>\n",
              "\t<tr><td>7.4</td><td>2.8</td><td>6.1</td><td>1.9</td><td>virginica</td></tr>\n",
              "\t<tr><td>7.9</td><td>3.8</td><td>6.4</td><td>2.0</td><td>virginica</td></tr>\n",
              "\t<tr><td>6.4</td><td>2.8</td><td>5.6</td><td>2.2</td><td>virginica</td></tr>\n",
              "\t<tr><td>6.3</td><td>2.8</td><td>5.1</td><td>1.5</td><td>virginica</td></tr>\n",
              "\t<tr><td>6.1</td><td>2.6</td><td>5.6</td><td>1.4</td><td>virginica</td></tr>\n",
              "\t<tr><td>7.7</td><td>3.0</td><td>6.1</td><td>2.3</td><td>virginica</td></tr>\n",
              "\t<tr><td>6.3</td><td>3.4</td><td>5.6</td><td>2.4</td><td>virginica</td></tr>\n",
              "\t<tr><td>6.4</td><td>3.1</td><td>5.5</td><td>1.8</td><td>virginica</td></tr>\n",
              "\t<tr><td>6.0</td><td>3.0</td><td>4.8</td><td>1.8</td><td>virginica</td></tr>\n",
              "\t<tr><td>6.9</td><td>3.1</td><td>5.4</td><td>2.1</td><td>virginica</td></tr>\n",
              "\t<tr><td>6.7</td><td>3.1</td><td>5.6</td><td>2.4</td><td>virginica</td></tr>\n",
              "\t<tr><td>6.9</td><td>3.1</td><td>5.1</td><td>2.3</td><td>virginica</td></tr>\n",
              "\t<tr><td>5.8</td><td>2.7</td><td>5.1</td><td>1.9</td><td>virginica</td></tr>\n",
              "\t<tr><td>6.8</td><td>3.2</td><td>5.9</td><td>2.3</td><td>virginica</td></tr>\n",
              "\t<tr><td>6.7</td><td>3.3</td><td>5.7</td><td>2.5</td><td>virginica</td></tr>\n",
              "\t<tr><td>6.7</td><td>3.0</td><td>5.2</td><td>2.3</td><td>virginica</td></tr>\n",
              "\t<tr><td>6.3</td><td>2.5</td><td>5.0</td><td>1.9</td><td>virginica</td></tr>\n",
              "\t<tr><td>6.5</td><td>3.0</td><td>5.2</td><td>2.0</td><td>virginica</td></tr>\n",
              "\t<tr><td>6.2</td><td>3.4</td><td>5.4</td><td>2.3</td><td>virginica</td></tr>\n",
              "\t<tr><td>5.9</td><td>3.0</td><td>5.1</td><td>1.8</td><td>virginica</td></tr>\n",
              "</tbody>\n",
              "</table>\n"
            ],
            "text/markdown": "\nA data.frame: 150 × 5\n\n| Sepal.Length &lt;dbl&gt; | Sepal.Width &lt;dbl&gt; | Petal.Length &lt;dbl&gt; | Petal.Width &lt;dbl&gt; | Species &lt;fct&gt; |\n|---|---|---|---|---|\n| 5.1 | 3.5 | 1.4 | 0.2 | setosa |\n| 4.9 | 3.0 | 1.4 | 0.2 | setosa |\n| 4.7 | 3.2 | 1.3 | 0.2 | setosa |\n| 4.6 | 3.1 | 1.5 | 0.2 | setosa |\n| 5.0 | 3.6 | 1.4 | 0.2 | setosa |\n| 5.4 | 3.9 | 1.7 | 0.4 | setosa |\n| 4.6 | 3.4 | 1.4 | 0.3 | setosa |\n| 5.0 | 3.4 | 1.5 | 0.2 | setosa |\n| 4.4 | 2.9 | 1.4 | 0.2 | setosa |\n| 4.9 | 3.1 | 1.5 | 0.1 | setosa |\n| 5.4 | 3.7 | 1.5 | 0.2 | setosa |\n| 4.8 | 3.4 | 1.6 | 0.2 | setosa |\n| 4.8 | 3.0 | 1.4 | 0.1 | setosa |\n| 4.3 | 3.0 | 1.1 | 0.1 | setosa |\n| 5.8 | 4.0 | 1.2 | 0.2 | setosa |\n| 5.7 | 4.4 | 1.5 | 0.4 | setosa |\n| 5.4 | 3.9 | 1.3 | 0.4 | setosa |\n| 5.1 | 3.5 | 1.4 | 0.3 | setosa |\n| 5.7 | 3.8 | 1.7 | 0.3 | setosa |\n| 5.1 | 3.8 | 1.5 | 0.3 | setosa |\n| 5.4 | 3.4 | 1.7 | 0.2 | setosa |\n| 5.1 | 3.7 | 1.5 | 0.4 | setosa |\n| 4.6 | 3.6 | 1.0 | 0.2 | setosa |\n| 5.1 | 3.3 | 1.7 | 0.5 | setosa |\n| 4.8 | 3.4 | 1.9 | 0.2 | setosa |\n| 5.0 | 3.0 | 1.6 | 0.2 | setosa |\n| 5.0 | 3.4 | 1.6 | 0.4 | setosa |\n| 5.2 | 3.5 | 1.5 | 0.2 | setosa |\n| 5.2 | 3.4 | 1.4 | 0.2 | setosa |\n| 4.7 | 3.2 | 1.6 | 0.2 | setosa |\n| ⋮ | ⋮ | ⋮ | ⋮ | ⋮ |\n| 6.9 | 3.2 | 5.7 | 2.3 | virginica |\n| 5.6 | 2.8 | 4.9 | 2.0 | virginica |\n| 7.7 | 2.8 | 6.7 | 2.0 | virginica |\n| 6.3 | 2.7 | 4.9 | 1.8 | virginica |\n| 6.7 | 3.3 | 5.7 | 2.1 | virginica |\n| 7.2 | 3.2 | 6.0 | 1.8 | virginica |\n| 6.2 | 2.8 | 4.8 | 1.8 | virginica |\n| 6.1 | 3.0 | 4.9 | 1.8 | virginica |\n| 6.4 | 2.8 | 5.6 | 2.1 | virginica |\n| 7.2 | 3.0 | 5.8 | 1.6 | virginica |\n| 7.4 | 2.8 | 6.1 | 1.9 | virginica |\n| 7.9 | 3.8 | 6.4 | 2.0 | virginica |\n| 6.4 | 2.8 | 5.6 | 2.2 | virginica |\n| 6.3 | 2.8 | 5.1 | 1.5 | virginica |\n| 6.1 | 2.6 | 5.6 | 1.4 | virginica |\n| 7.7 | 3.0 | 6.1 | 2.3 | virginica |\n| 6.3 | 3.4 | 5.6 | 2.4 | virginica |\n| 6.4 | 3.1 | 5.5 | 1.8 | virginica |\n| 6.0 | 3.0 | 4.8 | 1.8 | virginica |\n| 6.9 | 3.1 | 5.4 | 2.1 | virginica |\n| 6.7 | 3.1 | 5.6 | 2.4 | virginica |\n| 6.9 | 3.1 | 5.1 | 2.3 | virginica |\n| 5.8 | 2.7 | 5.1 | 1.9 | virginica |\n| 6.8 | 3.2 | 5.9 | 2.3 | virginica |\n| 6.7 | 3.3 | 5.7 | 2.5 | virginica |\n| 6.7 | 3.0 | 5.2 | 2.3 | virginica |\n| 6.3 | 2.5 | 5.0 | 1.9 | virginica |\n| 6.5 | 3.0 | 5.2 | 2.0 | virginica |\n| 6.2 | 3.4 | 5.4 | 2.3 | virginica |\n| 5.9 | 3.0 | 5.1 | 1.8 | virginica |\n\n",
            "text/latex": "A data.frame: 150 × 5\n\\begin{tabular}{lllll}\n Sepal.Length & Sepal.Width & Petal.Length & Petal.Width & Species\\\\\n <dbl> & <dbl> & <dbl> & <dbl> & <fct>\\\\\n\\hline\n\t 5.1 & 3.5 & 1.4 & 0.2 & setosa\\\\\n\t 4.9 & 3.0 & 1.4 & 0.2 & setosa\\\\\n\t 4.7 & 3.2 & 1.3 & 0.2 & setosa\\\\\n\t 4.6 & 3.1 & 1.5 & 0.2 & setosa\\\\\n\t 5.0 & 3.6 & 1.4 & 0.2 & setosa\\\\\n\t 5.4 & 3.9 & 1.7 & 0.4 & setosa\\\\\n\t 4.6 & 3.4 & 1.4 & 0.3 & setosa\\\\\n\t 5.0 & 3.4 & 1.5 & 0.2 & setosa\\\\\n\t 4.4 & 2.9 & 1.4 & 0.2 & setosa\\\\\n\t 4.9 & 3.1 & 1.5 & 0.1 & setosa\\\\\n\t 5.4 & 3.7 & 1.5 & 0.2 & setosa\\\\\n\t 4.8 & 3.4 & 1.6 & 0.2 & setosa\\\\\n\t 4.8 & 3.0 & 1.4 & 0.1 & setosa\\\\\n\t 4.3 & 3.0 & 1.1 & 0.1 & setosa\\\\\n\t 5.8 & 4.0 & 1.2 & 0.2 & setosa\\\\\n\t 5.7 & 4.4 & 1.5 & 0.4 & setosa\\\\\n\t 5.4 & 3.9 & 1.3 & 0.4 & setosa\\\\\n\t 5.1 & 3.5 & 1.4 & 0.3 & setosa\\\\\n\t 5.7 & 3.8 & 1.7 & 0.3 & setosa\\\\\n\t 5.1 & 3.8 & 1.5 & 0.3 & setosa\\\\\n\t 5.4 & 3.4 & 1.7 & 0.2 & setosa\\\\\n\t 5.1 & 3.7 & 1.5 & 0.4 & setosa\\\\\n\t 4.6 & 3.6 & 1.0 & 0.2 & setosa\\\\\n\t 5.1 & 3.3 & 1.7 & 0.5 & setosa\\\\\n\t 4.8 & 3.4 & 1.9 & 0.2 & setosa\\\\\n\t 5.0 & 3.0 & 1.6 & 0.2 & setosa\\\\\n\t 5.0 & 3.4 & 1.6 & 0.4 & setosa\\\\\n\t 5.2 & 3.5 & 1.5 & 0.2 & setosa\\\\\n\t 5.2 & 3.4 & 1.4 & 0.2 & setosa\\\\\n\t 4.7 & 3.2 & 1.6 & 0.2 & setosa\\\\\n\t ⋮ & ⋮ & ⋮ & ⋮ & ⋮\\\\\n\t 6.9 & 3.2 & 5.7 & 2.3 & virginica\\\\\n\t 5.6 & 2.8 & 4.9 & 2.0 & virginica\\\\\n\t 7.7 & 2.8 & 6.7 & 2.0 & virginica\\\\\n\t 6.3 & 2.7 & 4.9 & 1.8 & virginica\\\\\n\t 6.7 & 3.3 & 5.7 & 2.1 & virginica\\\\\n\t 7.2 & 3.2 & 6.0 & 1.8 & virginica\\\\\n\t 6.2 & 2.8 & 4.8 & 1.8 & virginica\\\\\n\t 6.1 & 3.0 & 4.9 & 1.8 & virginica\\\\\n\t 6.4 & 2.8 & 5.6 & 2.1 & virginica\\\\\n\t 7.2 & 3.0 & 5.8 & 1.6 & virginica\\\\\n\t 7.4 & 2.8 & 6.1 & 1.9 & virginica\\\\\n\t 7.9 & 3.8 & 6.4 & 2.0 & virginica\\\\\n\t 6.4 & 2.8 & 5.6 & 2.2 & virginica\\\\\n\t 6.3 & 2.8 & 5.1 & 1.5 & virginica\\\\\n\t 6.1 & 2.6 & 5.6 & 1.4 & virginica\\\\\n\t 7.7 & 3.0 & 6.1 & 2.3 & virginica\\\\\n\t 6.3 & 3.4 & 5.6 & 2.4 & virginica\\\\\n\t 6.4 & 3.1 & 5.5 & 1.8 & virginica\\\\\n\t 6.0 & 3.0 & 4.8 & 1.8 & virginica\\\\\n\t 6.9 & 3.1 & 5.4 & 2.1 & virginica\\\\\n\t 6.7 & 3.1 & 5.6 & 2.4 & virginica\\\\\n\t 6.9 & 3.1 & 5.1 & 2.3 & virginica\\\\\n\t 5.8 & 2.7 & 5.1 & 1.9 & virginica\\\\\n\t 6.8 & 3.2 & 5.9 & 2.3 & virginica\\\\\n\t 6.7 & 3.3 & 5.7 & 2.5 & virginica\\\\\n\t 6.7 & 3.0 & 5.2 & 2.3 & virginica\\\\\n\t 6.3 & 2.5 & 5.0 & 1.9 & virginica\\\\\n\t 6.5 & 3.0 & 5.2 & 2.0 & virginica\\\\\n\t 6.2 & 3.4 & 5.4 & 2.3 & virginica\\\\\n\t 5.9 & 3.0 & 5.1 & 1.8 & virginica\\\\\n\\end{tabular}\n",
            "text/plain": [
              "    Sepal.Length Sepal.Width Petal.Length Petal.Width Species  \n",
              "1   5.1          3.5         1.4          0.2         setosa   \n",
              "2   4.9          3.0         1.4          0.2         setosa   \n",
              "3   4.7          3.2         1.3          0.2         setosa   \n",
              "4   4.6          3.1         1.5          0.2         setosa   \n",
              "5   5.0          3.6         1.4          0.2         setosa   \n",
              "6   5.4          3.9         1.7          0.4         setosa   \n",
              "7   4.6          3.4         1.4          0.3         setosa   \n",
              "8   5.0          3.4         1.5          0.2         setosa   \n",
              "9   4.4          2.9         1.4          0.2         setosa   \n",
              "10  4.9          3.1         1.5          0.1         setosa   \n",
              "11  5.4          3.7         1.5          0.2         setosa   \n",
              "12  4.8          3.4         1.6          0.2         setosa   \n",
              "13  4.8          3.0         1.4          0.1         setosa   \n",
              "14  4.3          3.0         1.1          0.1         setosa   \n",
              "15  5.8          4.0         1.2          0.2         setosa   \n",
              "16  5.7          4.4         1.5          0.4         setosa   \n",
              "17  5.4          3.9         1.3          0.4         setosa   \n",
              "18  5.1          3.5         1.4          0.3         setosa   \n",
              "19  5.7          3.8         1.7          0.3         setosa   \n",
              "20  5.1          3.8         1.5          0.3         setosa   \n",
              "21  5.4          3.4         1.7          0.2         setosa   \n",
              "22  5.1          3.7         1.5          0.4         setosa   \n",
              "23  4.6          3.6         1.0          0.2         setosa   \n",
              "24  5.1          3.3         1.7          0.5         setosa   \n",
              "25  4.8          3.4         1.9          0.2         setosa   \n",
              "26  5.0          3.0         1.6          0.2         setosa   \n",
              "27  5.0          3.4         1.6          0.4         setosa   \n",
              "28  5.2          3.5         1.5          0.2         setosa   \n",
              "29  5.2          3.4         1.4          0.2         setosa   \n",
              "30  4.7          3.2         1.6          0.2         setosa   \n",
              "⋮   ⋮            ⋮           ⋮            ⋮           ⋮        \n",
              "121 6.9          3.2         5.7          2.3         virginica\n",
              "122 5.6          2.8         4.9          2.0         virginica\n",
              "123 7.7          2.8         6.7          2.0         virginica\n",
              "124 6.3          2.7         4.9          1.8         virginica\n",
              "125 6.7          3.3         5.7          2.1         virginica\n",
              "126 7.2          3.2         6.0          1.8         virginica\n",
              "127 6.2          2.8         4.8          1.8         virginica\n",
              "128 6.1          3.0         4.9          1.8         virginica\n",
              "129 6.4          2.8         5.6          2.1         virginica\n",
              "130 7.2          3.0         5.8          1.6         virginica\n",
              "131 7.4          2.8         6.1          1.9         virginica\n",
              "132 7.9          3.8         6.4          2.0         virginica\n",
              "133 6.4          2.8         5.6          2.2         virginica\n",
              "134 6.3          2.8         5.1          1.5         virginica\n",
              "135 6.1          2.6         5.6          1.4         virginica\n",
              "136 7.7          3.0         6.1          2.3         virginica\n",
              "137 6.3          3.4         5.6          2.4         virginica\n",
              "138 6.4          3.1         5.5          1.8         virginica\n",
              "139 6.0          3.0         4.8          1.8         virginica\n",
              "140 6.9          3.1         5.4          2.1         virginica\n",
              "141 6.7          3.1         5.6          2.4         virginica\n",
              "142 6.9          3.1         5.1          2.3         virginica\n",
              "143 5.8          2.7         5.1          1.9         virginica\n",
              "144 6.8          3.2         5.9          2.3         virginica\n",
              "145 6.7          3.3         5.7          2.5         virginica\n",
              "146 6.7          3.0         5.2          2.3         virginica\n",
              "147 6.3          2.5         5.0          1.9         virginica\n",
              "148 6.5          3.0         5.2          2.0         virginica\n",
              "149 6.2          3.4         5.4          2.3         virginica\n",
              "150 5.9          3.0         5.1          1.8         virginica"
            ]
          },
          "metadata": {}
        }
      ],
      "source": [
        "iris"
      ]
    },
    {
      "cell_type": "code",
      "execution_count": 51,
      "metadata": {
        "id": "a3u_vzt0cn80"
      },
      "outputs": [],
      "source": [
        "df<- data(iris)"
      ]
    },
    {
      "cell_type": "code",
      "execution_count": 52,
      "metadata": {
        "colab": {
          "base_uri": "https://localhost:8080/",
          "height": 34
        },
        "id": "Z-SxyFumcn_u",
        "outputId": "97aafb6b-d9bf-4b2c-d620-5ce8a136139a"
      },
      "outputs": [
        {
          "output_type": "display_data",
          "data": {
            "text/html": [
              "'iris'"
            ],
            "text/markdown": "'iris'",
            "text/latex": "'iris'",
            "text/plain": [
              "[1] \"iris\""
            ]
          },
          "metadata": {}
        }
      ],
      "source": [
        "head(df)"
      ]
    },
    {
      "cell_type": "code",
      "execution_count": 53,
      "metadata": {
        "colab": {
          "base_uri": "https://localhost:8080/",
          "height": 34
        },
        "id": "UMft5xeDcoCj",
        "outputId": "59c1f932-6a3c-471d-e82b-461940e333e8"
      },
      "outputs": [
        {
          "output_type": "display_data",
          "data": {
            "text/html": [
              "'iris'"
            ],
            "text/markdown": "'iris'",
            "text/latex": "'iris'",
            "text/plain": [
              "[1] \"iris\""
            ]
          },
          "metadata": {}
        }
      ],
      "source": [
        "df"
      ]
    },
    {
      "cell_type": "code",
      "execution_count": null,
      "metadata": {
        "colab": {
          "base_uri": "https://localhost:8080/",
          "height": 121
        },
        "id": "JT8H_BNFcoFb",
        "outputId": "fd01f429-bec7-4e55-8c9d-50e6361352da"
      },
      "outputs": [
        {
          "data": {
            "text/html": [
              "<style>\n",
              ".list-inline {list-style: none; margin:0; padding: 0}\n",
              ".list-inline>li {display: inline-block}\n",
              ".list-inline>li:not(:last-child)::after {content: \"\\00b7\"; padding: 0 .5ex}\n",
              "</style>\n",
              "<ol class=list-inline><li>5.1</li><li>4.9</li><li>4.7</li><li>4.6</li><li>5</li><li>5.4</li><li>4.6</li><li>5</li><li>4.4</li><li>4.9</li><li>5.4</li><li>4.8</li><li>4.8</li><li>4.3</li><li>5.8</li><li>5.7</li><li>5.4</li><li>5.1</li><li>5.7</li><li>5.1</li><li>5.4</li><li>5.1</li><li>4.6</li><li>5.1</li><li>4.8</li><li>5</li><li>5</li><li>5.2</li><li>5.2</li><li>4.7</li><li>4.8</li><li>5.4</li><li>5.2</li><li>5.5</li><li>4.9</li><li>5</li><li>5.5</li><li>4.9</li><li>4.4</li><li>5.1</li><li>5</li><li>4.5</li><li>4.4</li><li>5</li><li>5.1</li><li>4.8</li><li>5.1</li><li>4.6</li><li>5.3</li><li>5</li><li>7</li><li>6.4</li><li>6.9</li><li>5.5</li><li>6.5</li><li>5.7</li><li>6.3</li><li>4.9</li><li>6.6</li><li>5.2</li><li>5</li><li>5.9</li><li>6</li><li>6.1</li><li>5.6</li><li>6.7</li><li>5.6</li><li>5.8</li><li>6.2</li><li>5.6</li><li>5.9</li><li>6.1</li><li>6.3</li><li>6.1</li><li>6.4</li><li>6.6</li><li>6.8</li><li>6.7</li><li>6</li><li>5.7</li><li>5.5</li><li>5.5</li><li>5.8</li><li>6</li><li>5.4</li><li>6</li><li>6.7</li><li>6.3</li><li>5.6</li><li>5.5</li><li>5.5</li><li>6.1</li><li>5.8</li><li>5</li><li>5.6</li><li>5.7</li><li>5.7</li><li>6.2</li><li>5.1</li><li>5.7</li><li>6.3</li><li>5.8</li><li>7.1</li><li>6.3</li><li>6.5</li><li>7.6</li><li>4.9</li><li>7.3</li><li>6.7</li><li>7.2</li><li>6.5</li><li>6.4</li><li>6.8</li><li>5.7</li><li>5.8</li><li>6.4</li><li>6.5</li><li>7.7</li><li>7.7</li><li>6</li><li>6.9</li><li>5.6</li><li>7.7</li><li>6.3</li><li>6.7</li><li>7.2</li><li>6.2</li><li>6.1</li><li>6.4</li><li>7.2</li><li>7.4</li><li>7.9</li><li>6.4</li><li>6.3</li><li>6.1</li><li>7.7</li><li>6.3</li><li>6.4</li><li>6</li><li>6.9</li><li>6.7</li><li>6.9</li><li>5.8</li><li>6.8</li><li>6.7</li><li>6.7</li><li>6.3</li><li>6.5</li><li>6.2</li><li>5.9</li></ol>\n"
            ],
            "text/latex": "\\begin{enumerate*}\n\\item 5.1\n\\item 4.9\n\\item 4.7\n\\item 4.6\n\\item 5\n\\item 5.4\n\\item 4.6\n\\item 5\n\\item 4.4\n\\item 4.9\n\\item 5.4\n\\item 4.8\n\\item 4.8\n\\item 4.3\n\\item 5.8\n\\item 5.7\n\\item 5.4\n\\item 5.1\n\\item 5.7\n\\item 5.1\n\\item 5.4\n\\item 5.1\n\\item 4.6\n\\item 5.1\n\\item 4.8\n\\item 5\n\\item 5\n\\item 5.2\n\\item 5.2\n\\item 4.7\n\\item 4.8\n\\item 5.4\n\\item 5.2\n\\item 5.5\n\\item 4.9\n\\item 5\n\\item 5.5\n\\item 4.9\n\\item 4.4\n\\item 5.1\n\\item 5\n\\item 4.5\n\\item 4.4\n\\item 5\n\\item 5.1\n\\item 4.8\n\\item 5.1\n\\item 4.6\n\\item 5.3\n\\item 5\n\\item 7\n\\item 6.4\n\\item 6.9\n\\item 5.5\n\\item 6.5\n\\item 5.7\n\\item 6.3\n\\item 4.9\n\\item 6.6\n\\item 5.2\n\\item 5\n\\item 5.9\n\\item 6\n\\item 6.1\n\\item 5.6\n\\item 6.7\n\\item 5.6\n\\item 5.8\n\\item 6.2\n\\item 5.6\n\\item 5.9\n\\item 6.1\n\\item 6.3\n\\item 6.1\n\\item 6.4\n\\item 6.6\n\\item 6.8\n\\item 6.7\n\\item 6\n\\item 5.7\n\\item 5.5\n\\item 5.5\n\\item 5.8\n\\item 6\n\\item 5.4\n\\item 6\n\\item 6.7\n\\item 6.3\n\\item 5.6\n\\item 5.5\n\\item 5.5\n\\item 6.1\n\\item 5.8\n\\item 5\n\\item 5.6\n\\item 5.7\n\\item 5.7\n\\item 6.2\n\\item 5.1\n\\item 5.7\n\\item 6.3\n\\item 5.8\n\\item 7.1\n\\item 6.3\n\\item 6.5\n\\item 7.6\n\\item 4.9\n\\item 7.3\n\\item 6.7\n\\item 7.2\n\\item 6.5\n\\item 6.4\n\\item 6.8\n\\item 5.7\n\\item 5.8\n\\item 6.4\n\\item 6.5\n\\item 7.7\n\\item 7.7\n\\item 6\n\\item 6.9\n\\item 5.6\n\\item 7.7\n\\item 6.3\n\\item 6.7\n\\item 7.2\n\\item 6.2\n\\item 6.1\n\\item 6.4\n\\item 7.2\n\\item 7.4\n\\item 7.9\n\\item 6.4\n\\item 6.3\n\\item 6.1\n\\item 7.7\n\\item 6.3\n\\item 6.4\n\\item 6\n\\item 6.9\n\\item 6.7\n\\item 6.9\n\\item 5.8\n\\item 6.8\n\\item 6.7\n\\item 6.7\n\\item 6.3\n\\item 6.5\n\\item 6.2\n\\item 5.9\n\\end{enumerate*}\n",
            "text/markdown": "1. 5.1\n2. 4.9\n3. 4.7\n4. 4.6\n5. 5\n6. 5.4\n7. 4.6\n8. 5\n9. 4.4\n10. 4.9\n11. 5.4\n12. 4.8\n13. 4.8\n14. 4.3\n15. 5.8\n16. 5.7\n17. 5.4\n18. 5.1\n19. 5.7\n20. 5.1\n21. 5.4\n22. 5.1\n23. 4.6\n24. 5.1\n25. 4.8\n26. 5\n27. 5\n28. 5.2\n29. 5.2\n30. 4.7\n31. 4.8\n32. 5.4\n33. 5.2\n34. 5.5\n35. 4.9\n36. 5\n37. 5.5\n38. 4.9\n39. 4.4\n40. 5.1\n41. 5\n42. 4.5\n43. 4.4\n44. 5\n45. 5.1\n46. 4.8\n47. 5.1\n48. 4.6\n49. 5.3\n50. 5\n51. 7\n52. 6.4\n53. 6.9\n54. 5.5\n55. 6.5\n56. 5.7\n57. 6.3\n58. 4.9\n59. 6.6\n60. 5.2\n61. 5\n62. 5.9\n63. 6\n64. 6.1\n65. 5.6\n66. 6.7\n67. 5.6\n68. 5.8\n69. 6.2\n70. 5.6\n71. 5.9\n72. 6.1\n73. 6.3\n74. 6.1\n75. 6.4\n76. 6.6\n77. 6.8\n78. 6.7\n79. 6\n80. 5.7\n81. 5.5\n82. 5.5\n83. 5.8\n84. 6\n85. 5.4\n86. 6\n87. 6.7\n88. 6.3\n89. 5.6\n90. 5.5\n91. 5.5\n92. 6.1\n93. 5.8\n94. 5\n95. 5.6\n96. 5.7\n97. 5.7\n98. 6.2\n99. 5.1\n100. 5.7\n101. 6.3\n102. 5.8\n103. 7.1\n104. 6.3\n105. 6.5\n106. 7.6\n107. 4.9\n108. 7.3\n109. 6.7\n110. 7.2\n111. 6.5\n112. 6.4\n113. 6.8\n114. 5.7\n115. 5.8\n116. 6.4\n117. 6.5\n118. 7.7\n119. 7.7\n120. 6\n121. 6.9\n122. 5.6\n123. 7.7\n124. 6.3\n125. 6.7\n126. 7.2\n127. 6.2\n128. 6.1\n129. 6.4\n130. 7.2\n131. 7.4\n132. 7.9\n133. 6.4\n134. 6.3\n135. 6.1\n136. 7.7\n137. 6.3\n138. 6.4\n139. 6\n140. 6.9\n141. 6.7\n142. 6.9\n143. 5.8\n144. 6.8\n145. 6.7\n146. 6.7\n147. 6.3\n148. 6.5\n149. 6.2\n150. 5.9\n\n\n",
            "text/plain": [
              "  [1] 5.1 4.9 4.7 4.6 5.0 5.4 4.6 5.0 4.4 4.9 5.4 4.8 4.8 4.3 5.8 5.7 5.4 5.1\n",
              " [19] 5.7 5.1 5.4 5.1 4.6 5.1 4.8 5.0 5.0 5.2 5.2 4.7 4.8 5.4 5.2 5.5 4.9 5.0\n",
              " [37] 5.5 4.9 4.4 5.1 5.0 4.5 4.4 5.0 5.1 4.8 5.1 4.6 5.3 5.0 7.0 6.4 6.9 5.5\n",
              " [55] 6.5 5.7 6.3 4.9 6.6 5.2 5.0 5.9 6.0 6.1 5.6 6.7 5.6 5.8 6.2 5.6 5.9 6.1\n",
              " [73] 6.3 6.1 6.4 6.6 6.8 6.7 6.0 5.7 5.5 5.5 5.8 6.0 5.4 6.0 6.7 6.3 5.6 5.5\n",
              " [91] 5.5 6.1 5.8 5.0 5.6 5.7 5.7 6.2 5.1 5.7 6.3 5.8 7.1 6.3 6.5 7.6 4.9 7.3\n",
              "[109] 6.7 7.2 6.5 6.4 6.8 5.7 5.8 6.4 6.5 7.7 7.7 6.0 6.9 5.6 7.7 6.3 6.7 7.2\n",
              "[127] 6.2 6.1 6.4 7.2 7.4 7.9 6.4 6.3 6.1 7.7 6.3 6.4 6.0 6.9 6.7 6.9 5.8 6.8\n",
              "[145] 6.7 6.7 6.3 6.5 6.2 5.9"
            ]
          },
          "metadata": {},
          "output_type": "display_data"
        }
      ],
      "source": [
        "iris$Sepal.Length"
      ]
    },
    {
      "cell_type": "code",
      "execution_count": null,
      "metadata": {
        "colab": {
          "base_uri": "https://localhost:8080/",
          "height": 437
        },
        "id": "1MzXlHcIcoIh",
        "outputId": "cf3809cd-86d1-4904-f61e-e61e59d34de7"
      },
      "outputs": [
        {
          "data": {
            "image/png": "[encoded data removed]",
            "text/plain": [
              "Plot with title “iris Sepal.Length concentration bar plot”"
            ]
          },
          "metadata": {
            "image/png": {
              "height": 420,
              "width": 420
            }
          },
          "output_type": "display_data"
        }
      ],
      "source": [
        "barplot(iris$Sepal.Length,main=\"iris Sepal.Length concentration bar plot\",xlab=\"sepal lenght\",ylab=\"count\",col=\"green\",border = \"blue\")"
      ]
    },
    {
      "cell_type": "code",
      "execution_count": null,
      "metadata": {
        "colab": {
          "base_uri": "https://localhost:8080/",
          "height": 437
        },
        "id": "46ANnwvCcoLc",
        "outputId": "37fd4f71-b33a-454f-8cc5-4c906e3644ed"
      },
      "outputs": [
        {
          "data": {
            "image/png": "[encoded data removed]",
            "text/plain": [
              "Plot with title “iris Sepal.Length concentration bar plot”"
            ]
          },
          "metadata": {
            "image/png": {
              "height": 420,
              "width": 420
            }
          },
          "output_type": "display_data"
        }
      ],
      "source": [
        "barplot(iris$Sepal.Length,main=\"iris Sepal.Length concentration bar plot\",horiz=TRUE,xlab=\"sepal lenght\",ylab=\"count\",col=\"green\",border = \"blue\")"
      ]
    },
    {
      "cell_type": "code",
      "execution_count": null,
      "metadata": {
        "colab": {
          "base_uri": "https://localhost:8080/",
          "height": 34
        },
        "id": "POwY1xaHcoNv",
        "outputId": "c63aa29b-40b5-4d5b-c208-4501c6c4c6d2"
      },
      "outputs": [
        {
          "data": {
            "text/html": [
              "<strong>png:</strong> 2"
            ],
            "text/latex": "\\textbf{png:} 2",
            "text/markdown": "**png:** 2",
            "text/plain": [
              "png \n",
              "  2 "
            ]
          },
          "metadata": {},
          "output_type": "display_data"
        }
      ],
      "source": [
        "# Create the input vectors.\n",
        "colors = c(\"green\",\"orange\",\"brown\")\n",
        "months <- c(\"Mar\",\"Apr\",\"May\",\"Jun\",\"Jul\")\n",
        "regions <- c(\"East\",\"West\",\"North\")\n",
        "\n",
        "# Create the matrix of the values.\n",
        "Values <- matrix(c(2,9,3,11,9,4,8,7,3,12,5,2,8,10,11), nrow = 3, ncol = 5, byrow = TRUE)\n",
        "\n",
        "# Give the chart file a name\n",
        "png(file = \"graph_image.png\")\n",
        "\n",
        "# Create the bar chart\n",
        "barplot(Values, main = \"total revenue\", names.arg = months, xlab = \"month\", ylab = \"revenue\", col = colors)\n",
        "\n",
        "# Add the legend to the chart\n",
        "legend(\"topleft\", regions, cex = 1.3, fill = colors)\n",
        "\n",
        "# Save the file\n",
        "dev.off()"
      ]
    },
    {
      "cell_type": "code",
      "execution_count": null,
      "metadata": {
        "colab": {
          "base_uri": "https://localhost:8080/",
          "height": 104
        },
        "id": "mXQVy9qYcoRL",
        "outputId": "ceb08e25-6591-49b3-e50b-245a69eca6e2"
      },
      "outputs": [
        {
          "data": {
            "text/html": [
              "<style>\n",
              ".list-inline {list-style: none; margin:0; padding: 0}\n",
              ".list-inline>li {display: inline-block}\n",
              ".list-inline>li:not(:last-child)::after {content: \"\\00b7\"; padding: 0 .5ex}\n",
              "</style>\n",
              "<ol class=list-inline><li>3.5</li><li>3</li><li>3.2</li><li>3.1</li><li>3.6</li><li>3.9</li><li>3.4</li><li>3.4</li><li>2.9</li><li>3.1</li><li>3.7</li><li>3.4</li><li>3</li><li>3</li><li>4</li><li>4.4</li><li>3.9</li><li>3.5</li><li>3.8</li><li>3.8</li><li>3.4</li><li>3.7</li><li>3.6</li><li>3.3</li><li>3.4</li><li>3</li><li>3.4</li><li>3.5</li><li>3.4</li><li>3.2</li><li>3.1</li><li>3.4</li><li>4.1</li><li>4.2</li><li>3.1</li><li>3.2</li><li>3.5</li><li>3.6</li><li>3</li><li>3.4</li><li>3.5</li><li>2.3</li><li>3.2</li><li>3.5</li><li>3.8</li><li>3</li><li>3.8</li><li>3.2</li><li>3.7</li><li>3.3</li><li>3.2</li><li>3.2</li><li>3.1</li><li>2.3</li><li>2.8</li><li>2.8</li><li>3.3</li><li>2.4</li><li>2.9</li><li>2.7</li><li>2</li><li>3</li><li>2.2</li><li>2.9</li><li>2.9</li><li>3.1</li><li>3</li><li>2.7</li><li>2.2</li><li>2.5</li><li>3.2</li><li>2.8</li><li>2.5</li><li>2.8</li><li>2.9</li><li>3</li><li>2.8</li><li>3</li><li>2.9</li><li>2.6</li><li>2.4</li><li>2.4</li><li>2.7</li><li>2.7</li><li>3</li><li>3.4</li><li>3.1</li><li>2.3</li><li>3</li><li>2.5</li><li>2.6</li><li>3</li><li>2.6</li><li>2.3</li><li>2.7</li><li>3</li><li>2.9</li><li>2.9</li><li>2.5</li><li>2.8</li><li>3.3</li><li>2.7</li><li>3</li><li>2.9</li><li>3</li><li>3</li><li>2.5</li><li>2.9</li><li>2.5</li><li>3.6</li><li>3.2</li><li>2.7</li><li>3</li><li>2.5</li><li>2.8</li><li>3.2</li><li>3</li><li>3.8</li><li>2.6</li><li>2.2</li><li>3.2</li><li>2.8</li><li>2.8</li><li>2.7</li><li>3.3</li><li>3.2</li><li>2.8</li><li>3</li><li>2.8</li><li>3</li><li>2.8</li><li>3.8</li><li>2.8</li><li>2.8</li><li>2.6</li><li>3</li><li>3.4</li><li>3.1</li><li>3</li><li>3.1</li><li>3.1</li><li>3.1</li><li>2.7</li><li>3.2</li><li>3.3</li><li>3</li><li>2.5</li><li>3</li><li>3.4</li><li>3</li></ol>\n"
            ],
            "text/latex": "\\begin{enumerate*}\n\\item 3.5\n\\item 3\n\\item 3.2\n\\item 3.1\n\\item 3.6\n\\item 3.9\n\\item 3.4\n\\item 3.4\n\\item 2.9\n\\item 3.1\n\\item 3.7\n\\item 3.4\n\\item 3\n\\item 3\n\\item 4\n\\item 4.4\n\\item 3.9\n\\item 3.5\n\\item 3.8\n\\item 3.8\n\\item 3.4\n\\item 3.7\n\\item 3.6\n\\item 3.3\n\\item 3.4\n\\item 3\n\\item 3.4\n\\item 3.5\n\\item 3.4\n\\item 3.2\n\\item 3.1\n\\item 3.4\n\\item 4.1\n\\item 4.2\n\\item 3.1\n\\item 3.2\n\\item 3.5\n\\item 3.6\n\\item 3\n\\item 3.4\n\\item 3.5\n\\item 2.3\n\\item 3.2\n\\item 3.5\n\\item 3.8\n\\item 3\n\\item 3.8\n\\item 3.2\n\\item 3.7\n\\item 3.3\n\\item 3.2\n\\item 3.2\n\\item 3.1\n\\item 2.3\n\\item 2.8\n\\item 2.8\n\\item 3.3\n\\item 2.4\n\\item 2.9\n\\item 2.7\n\\item 2\n\\item 3\n\\item 2.2\n\\item 2.9\n\\item 2.9\n\\item 3.1\n\\item 3\n\\item 2.7\n\\item 2.2\n\\item 2.5\n\\item 3.2\n\\item 2.8\n\\item 2.5\n\\item 2.8\n\\item 2.9\n\\item 3\n\\item 2.8\n\\item 3\n\\item 2.9\n\\item 2.6\n\\item 2.4\n\\item 2.4\n\\item 2.7\n\\item 2.7\n\\item 3\n\\item 3.4\n\\item 3.1\n\\item 2.3\n\\item 3\n\\item 2.5\n\\item 2.6\n\\item 3\n\\item 2.6\n\\item 2.3\n\\item 2.7\n\\item 3\n\\item 2.9\n\\item 2.9\n\\item 2.5\n\\item 2.8\n\\item 3.3\n\\item 2.7\n\\item 3\n\\item 2.9\n\\item 3\n\\item 3\n\\item 2.5\n\\item 2.9\n\\item 2.5\n\\item 3.6\n\\item 3.2\n\\item 2.7\n\\item 3\n\\item 2.5\n\\item 2.8\n\\item 3.2\n\\item 3\n\\item 3.8\n\\item 2.6\n\\item 2.2\n\\item 3.2\n\\item 2.8\n\\item 2.8\n\\item 2.7\n\\item 3.3\n\\item 3.2\n\\item 2.8\n\\item 3\n\\item 2.8\n\\item 3\n\\item 2.8\n\\item 3.8\n\\item 2.8\n\\item 2.8\n\\item 2.6\n\\item 3\n\\item 3.4\n\\item 3.1\n\\item 3\n\\item 3.1\n\\item 3.1\n\\item 3.1\n\\item 2.7\n\\item 3.2\n\\item 3.3\n\\item 3\n\\item 2.5\n\\item 3\n\\item 3.4\n\\item 3\n\\end{enumerate*}\n",
            "text/markdown": "1. 3.5\n2. 3\n3. 3.2\n4. 3.1\n5. 3.6\n6. 3.9\n7. 3.4\n8. 3.4\n9. 2.9\n10. 3.1\n11. 3.7\n12. 3.4\n13. 3\n14. 3\n15. 4\n16. 4.4\n17. 3.9\n18. 3.5\n19. 3.8\n20. 3.8\n21. 3.4\n22. 3.7\n23. 3.6\n24. 3.3\n25. 3.4\n26. 3\n27. 3.4\n28. 3.5\n29. 3.4\n30. 3.2\n31. 3.1\n32. 3.4\n33. 4.1\n34. 4.2\n35. 3.1\n36. 3.2\n37. 3.5\n38. 3.6\n39. 3\n40. 3.4\n41. 3.5\n42. 2.3\n43. 3.2\n44. 3.5\n45. 3.8\n46. 3\n47. 3.8\n48. 3.2\n49. 3.7\n50. 3.3\n51. 3.2\n52. 3.2\n53. 3.1\n54. 2.3\n55. 2.8\n56. 2.8\n57. 3.3\n58. 2.4\n59. 2.9\n60. 2.7\n61. 2\n62. 3\n63. 2.2\n64. 2.9\n65. 2.9\n66. 3.1\n67. 3\n68. 2.7\n69. 2.2\n70. 2.5\n71. 3.2\n72. 2.8\n73. 2.5\n74. 2.8\n75. 2.9\n76. 3\n77. 2.8\n78. 3\n79. 2.9\n80. 2.6\n81. 2.4\n82. 2.4\n83. 2.7\n84. 2.7\n85. 3\n86. 3.4\n87. 3.1\n88. 2.3\n89. 3\n90. 2.5\n91. 2.6\n92. 3\n93. 2.6\n94. 2.3\n95. 2.7\n96. 3\n97. 2.9\n98. 2.9\n99. 2.5\n100. 2.8\n101. 3.3\n102. 2.7\n103. 3\n104. 2.9\n105. 3\n106. 3\n107. 2.5\n108. 2.9\n109. 2.5\n110. 3.6\n111. 3.2\n112. 2.7\n113. 3\n114. 2.5\n115. 2.8\n116. 3.2\n117. 3\n118. 3.8\n119. 2.6\n120. 2.2\n121. 3.2\n122. 2.8\n123. 2.8\n124. 2.7\n125. 3.3\n126. 3.2\n127. 2.8\n128. 3\n129. 2.8\n130. 3\n131. 2.8\n132. 3.8\n133. 2.8\n134. 2.8\n135. 2.6\n136. 3\n137. 3.4\n138. 3.1\n139. 3\n140. 3.1\n141. 3.1\n142. 3.1\n143. 2.7\n144. 3.2\n145. 3.3\n146. 3\n147. 2.5\n148. 3\n149. 3.4\n150. 3\n\n\n",
            "text/plain": [
              "  [1] 3.5 3.0 3.2 3.1 3.6 3.9 3.4 3.4 2.9 3.1 3.7 3.4 3.0 3.0 4.0 4.4 3.9 3.5\n",
              " [19] 3.8 3.8 3.4 3.7 3.6 3.3 3.4 3.0 3.4 3.5 3.4 3.2 3.1 3.4 4.1 4.2 3.1 3.2\n",
              " [37] 3.5 3.6 3.0 3.4 3.5 2.3 3.2 3.5 3.8 3.0 3.8 3.2 3.7 3.3 3.2 3.2 3.1 2.3\n",
              " [55] 2.8 2.8 3.3 2.4 2.9 2.7 2.0 3.0 2.2 2.9 2.9 3.1 3.0 2.7 2.2 2.5 3.2 2.8\n",
              " [73] 2.5 2.8 2.9 3.0 2.8 3.0 2.9 2.6 2.4 2.4 2.7 2.7 3.0 3.4 3.1 2.3 3.0 2.5\n",
              " [91] 2.6 3.0 2.6 2.3 2.7 3.0 2.9 2.9 2.5 2.8 3.3 2.7 3.0 2.9 3.0 3.0 2.5 2.9\n",
              "[109] 2.5 3.6 3.2 2.7 3.0 2.5 2.8 3.2 3.0 3.8 2.6 2.2 3.2 2.8 2.8 2.7 3.3 3.2\n",
              "[127] 2.8 3.0 2.8 3.0 2.8 3.8 2.8 2.8 2.6 3.0 3.4 3.1 3.0 3.1 3.1 3.1 2.7 3.2\n",
              "[145] 3.3 3.0 2.5 3.0 3.4 3.0"
            ]
          },
          "metadata": {},
          "output_type": "display_data"
        }
      ],
      "source": [
        "iris$Sepal.Width"
      ]
    },
    {
      "cell_type": "code",
      "source": [
        "boxplot(iris[, 1:4], col = iris$Species, main = \"Boxplot of Iris Variables by Species\")"
      ],
      "metadata": {
        "colab": {
          "base_uri": "https://localhost:8080/",
          "height": 437
        },
        "id": "yu2TupKKQX8Q",
        "outputId": "d9378b57-c283-469e-f332-ba963f06fb3c"
      },
      "execution_count": 55,
      "outputs": [
        {
          "output_type": "display_data",
          "data": {
            "text/plain": [
              "Plot with title “Boxplot of Iris Variables by Species”"
            ],
            "image/png": "[encoded data removed]"
          },
          "metadata": {
            "image/png": {
              "width": 420,
              "height": 420
            }
          }
        }
      ]
    },
    {
      "cell_type": "code",
      "execution_count": null,
      "metadata": {
        "colab": {
          "base_uri": "https://localhost:8080/",
          "height": 437
        },
        "id": "5CyFbi57ddpM",
        "outputId": "132aca16-7147-4774-d297-8516ba6c4d5b"
      },
      "outputs": [
        {
          "data": {
            "image/png": "[encoded data removed]",
            "text/plain": [
              "Plot with title “iris Sepal.Width”"
            ]
          },
          "metadata": {
            "image/png": {
              "height": 420,
              "width": 420
            }
          },
          "output_type": "display_data"
        }
      ],
      "source": [
        "hist(iris$Sepal.Width,main=\"iris Sepal.Width\",xlim=c(0,5),ylim=c(0,50),xlab=\"Sepal.Width\",freq=TRUE,col=\"yellow\",border=\"green\")"
      ]
    },
    {
      "cell_type": "code",
      "execution_count": null,
      "metadata": {
        "colab": {
          "base_uri": "https://localhost:8080/",
          "height": 437
        },
        "id": "LU1eNiM7ddst",
        "outputId": "243769e4-7f5a-4d58-b3d0-24c28c0a7427"
      },
      "outputs": [
        {
          "data": {
            "image/png": "[encoded data removed]",
            "text/plain": [
              "Plot with title “Avg Petal lenght”"
            ]
          },
          "metadata": {
            "image/png": {
              "height": 420,
              "width": 420
            }
          },
          "output_type": "display_data"
        }
      ],
      "source": [
        "boxplot(iris$Petal.Length,\n",
        "       main=\"Avg Petal lenght\",\n",
        "       xlab=\"lenght\",\n",
        "       ylab=\"Petal Lenght\",\n",
        "       col=\"orange\", border=\"green\",\n",
        "       horizontal=TRUE,notch=FALSE)"
      ]
    },
    {
      "cell_type": "code",
      "execution_count": null,
      "metadata": {
        "colab": {
          "base_uri": "https://localhost:8080/",
          "height": 437
        },
        "id": "65f9Omkiddvg",
        "outputId": "57850557-4ba5-4989-e687-e539466b0c30"
      },
      "outputs": [
        {
          "data": {
            "image/png": "[encoded data removed]",
            "text/plain": [
              "Plot with title “Scatterplot Example”"
            ]
          },
          "metadata": {
            "image/png": {
              "height": 420,
              "width": 420
            }
          },
          "output_type": "display_data"
        }
      ],
      "source": [
        "plot(iris$Petal.Length, iris$Petal.Width,\n",
        "     main =\"Scatterplot Example\",\n",
        "    xlab =\"Iris Petal Lenght\",\n",
        "    ylab =\"Iris Petal Width \", pch =23)"
      ]
    },
    {
      "cell_type": "code",
      "execution_count": 1,
      "metadata": {
        "id": "HNMvleRmddyY",
        "colab": {
          "base_uri": "https://localhost:8080/"
        },
        "outputId": "6a1e8a4c-efba-425e-dccf-f5cebe2cdad7"
      },
      "outputs": [
        {
          "output_type": "stream",
          "name": "stderr",
          "text": [
            "Installing package into ‘/usr/local/lib/R/site-library’\n",
            "(as ‘lib’ is unspecified)\n",
            "\n",
            "also installing the dependencies ‘textshaping’, ‘s2’, ‘covr’, ‘Hmisc’, ‘maptools’, ‘multcomp’, ‘profvis’, ‘quantreg’, ‘ragg’, ‘rgeos’, ‘sf’\n",
            "\n",
            "\n",
            "Warning message in install.packages(\"ggplot2\", dependencies = TRUE):\n",
            "“installation of package ‘textshaping’ had non-zero exit status”\n",
            "Warning message in install.packages(\"ggplot2\", dependencies = TRUE):\n",
            "“installation of package ‘s2’ had non-zero exit status”\n",
            "Warning message in install.packages(\"ggplot2\", dependencies = TRUE):\n",
            "“installation of package ‘ragg’ had non-zero exit status”\n",
            "Warning message in install.packages(\"ggplot2\", dependencies = TRUE):\n",
            "“installation of package ‘sf’ had non-zero exit status”\n"
          ]
        }
      ],
      "source": [
        "install.packages(\"ggplot2\", dependencies = TRUE)\n",
        "library(ggplot2)"
      ]
    },
    {
      "cell_type": "code",
      "execution_count": 2,
      "metadata": {
        "id": "NzKA7Yzadd4X",
        "colab": {
          "base_uri": "https://localhost:8080/",
          "height": 437
        },
        "outputId": "85a6fccc-2076-4e04-f873-f268f7508c74"
      },
      "outputs": [
        {
          "output_type": "display_data",
          "data": {
            "text/plain": [
              "plot without title"
            ],
            "image/png": "[encoded data removed]"
          },
          "metadata": {
            "image/png": {
              "width": 420,
              "height": 420
            }
          }
        }
      ],
      "source": [
        "ggplot(iris, aes(x = Sepal.Length, y = Sepal.Width, color = Species)) + geom_point()\n",
        "#This will create a scatter plot of sepal length Vs sepal width, where each point \n",
        "# is colored by the species of the iris."
      ]
    },
    {
      "cell_type": "code",
      "execution_count": 3,
      "metadata": {
        "id": "frwIdql_dd7N",
        "colab": {
          "base_uri": "https://localhost:8080/",
          "height": 437
        },
        "outputId": "baad323f-06ac-477e-d8dd-41654fca904f"
      },
      "outputs": [
        {
          "output_type": "display_data",
          "data": {
            "text/plain": [
              "plot without title"
            ],
            "image/png": "[encoded data removed]"
          },
          "metadata": {
            "image/png": {
              "width": 420,
              "height": 420
            }
          }
        }
      ],
      "source": [
        "ggplot(iris, aes(x = Petal.Length, fill = Species)) + geom_density(alpha = 0.5) + labs(title = \"Density Plot of Petal Length by Species\")\n",
        "#This will create a scatter plot of sepal length Vs sepal width, where each point is colored by \n",
        "#the species of the iris."
      ]
    },
    {
      "cell_type": "code",
      "execution_count": 4,
      "metadata": {
        "id": "km0LhDbddd-N",
        "colab": {
          "base_uri": "https://localhost:8080/",
          "height": 437
        },
        "outputId": "3cd27d8c-e561-4a98-db98-0179861bc361"
      },
      "outputs": [
        {
          "output_type": "display_data",
          "data": {
            "text/plain": [
              "plot without title"
            ],
            "image/png": "[encoded data removed]"
          },
          "metadata": {
            "image/png": {
              "width": 420,
              "height": 420
            }
          }
        }
      ],
      "source": [
        "ggplot(iris, aes(x = Species, y = Petal.Width, fill = Species))+geom_boxplot()+labs(title = \"Box Plot of Petal Width\", x = \"Species\", y = \"Petal Width\")+scale_fill_manual(values = c(\"#FF6666\", \"#33FFCC\", \"#FFCC33\"))\n",
        "#This will create a box plot of petal width, where each box represents the distribution of petal \n",
        "#width for each species of iris."
      ]
    },
    {
      "cell_type": "code",
      "execution_count": 5,
      "metadata": {
        "id": "DG9ig6w0deBA",
        "colab": {
          "base_uri": "https://localhost:8080/",
          "height": 437
        },
        "outputId": "3ae5028e-c0b3-44df-e5ac-077ca8da5c65"
      },
      "outputs": [
        {
          "output_type": "display_data",
          "data": {
            "text/plain": [
              "plot without title"
            ],
            "image/png": "[encoded data removed]"
          },
          "metadata": {
            "image/png": {
              "width": 420,
              "height": 420
            }
          }
        }
      ],
      "source": [
        "#Scatterplot of Sepal.Length vs. Sepal.Width, colored by Species\n",
        "ggplot(iris, aes(x = Sepal.Length, y = Sepal.Width, color = Species))+geom_point()+labs(title = \"Sepal.Length vs. Sepal.Width\", x = \"Sepal.Length\", y = \"Sepal.Width\")"
      ]
    },
    {
      "cell_type": "code",
      "execution_count": null,
      "metadata": {
        "id": "poToIfEadeEF"
      },
      "outputs": [],
      "source": []
    },
    {
      "cell_type": "code",
      "execution_count": null,
      "metadata": {
        "id": "HwCy2XTwdeHP"
      },
      "outputs": [],
      "source": []
    },
    {
      "cell_type": "code",
      "execution_count": null,
      "metadata": {
        "id": "sCiB5YRudeKT"
      },
      "outputs": [],
      "source": []
    },
    {
      "cell_type": "code",
      "execution_count": null,
      "metadata": {
        "id": "5nvWUKb1deM-"
      },
      "outputs": [],
      "source": []
    },
    {
      "cell_type": "code",
      "execution_count": null,
      "metadata": {
        "id": "qILORBHLdeQM"
      },
      "outputs": [],
      "source": []
    }
  ],
  "metadata": {
    "colab": {
      "provenance": [],
      "authorship_tag": "ABX9TyMxVilq2aU3Bqe5l1hUZDcK",
      "include_colab_link": true
    },
    "kernelspec": {
      "display_name": "R",
      "name": "ir"
    },
    "language_info": {
      "name": "R"
    }
  },
  "nbformat": 4,
  "nbformat_minor": 0
}